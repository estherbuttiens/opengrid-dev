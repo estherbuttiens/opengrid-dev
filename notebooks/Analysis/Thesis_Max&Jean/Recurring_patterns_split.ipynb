{
 "cells": [
  {
   "cell_type": "code",
   "execution_count": 0,
   "metadata": {
    "collapsed": false
   },
   "outputs": [],
   "source": [
    "import os\n",
    "import inspect\n",
    "import sys\n",
    "import pandas as pd\n",
    "import charts\n",
    "import numpy as np\n",
    "import pylab as pl\n",
    "from scipy import spatial\n",
    "from scipy.spatial import distance\n",
    "from scipy.signal import argrelextrema\n",
    "from sklearn.cluster import MeanShift\n",
    "import time\n",
    "import math\n",
    "from opengrid.library import houseprint\n",
    "\n",
    "import matplotlib.pyplot as plt\n",
    "%matplotlib inline\n",
    "plt.rcParams['figure.figsize'] = 16,8"
   ]
  },
  {
   "cell_type": "code",
   "execution_count": 0,
   "metadata": {
    "collapsed": false
   },
   "outputs": [],
   "source": [
    "hp = houseprint.Houseprint()"
   ]
  },
  {
   "cell_type": "markdown",
   "metadata": {},
   "source": [
    "<h1>Search a specific pattern in the sensordata</h1>"
   ]
  },
  {
   "cell_type": "markdown",
   "metadata": {},
   "source": [
    "<h3>functions needed for the pattern recognition</h3>"
   ]
  },
  {
   "cell_type": "code",
   "execution_count": 0,
   "metadata": {
    "collapsed": true
   },
   "outputs": [],
   "source": [
    "def manhattanDistance(s1,s2):\n",
    "    \"\"\"\n",
    "        Calculate the manhattan similarity between the original array (s1) and it's possible match (s2)\n",
    "        \n",
    "        PARAMETERS\n",
    "        ----------\n",
    "            s1: numpy array\n",
    "            s2: numpy array\n",
    "            \n",
    "        RETURNS\n",
    "        -------\n",
    "            float\n",
    "    \"\"\"\n",
    "    \n",
    "    dist = distance.cityblock(s1,s2)\n",
    "    \n",
    "    return dist"
   ]
  },
  {
   "cell_type": "code",
   "execution_count": 0,
   "metadata": {
    "collapsed": false
   },
   "outputs": [],
   "source": [
    "def loop_through_list(sensor_data, lookup_pattern):\n",
    "    \"\"\"\n",
    "        This function slides the desired pattern over the total data stream and detects the pieces that have an\n",
    "        acceptable similarity value (manhattanDistance)\n",
    "        \n",
    "        PARAMETERS\n",
    "        ----------\n",
    "            sensor_data: pandas dataframe\n",
    "            lookup_pattern: pandas dataframe\n",
    "            \n",
    "        RETURNS\n",
    "        -------\n",
    "            numpy array\n",
    "    \"\"\"\n",
    "    \n",
    "    start=time.time()\n",
    "    #Create list where values on which the different methods will act will be saved temporarily\n",
    "    #This list will be cleared every time\n",
    "    values_list=[]\n",
    "    #Create list with results of the methods\n",
    "    result_list=[]\n",
    "    compare_to_array=np.array(lookup_pattern)\n",
    "    i=0 #Loops through list arrayToCompare.size times\n",
    "    j=0 #Amount of values considered, and calculated.\n",
    "    array_with_values=np.array(sensor_data)\n",
    "    #start and stop timestamp\n",
    "    starting_time_stamp=sensor_data.index[0]\n",
    "    stop_time_stamp=sensor_data.index[lookup_pattern.size-1]\n",
    "    \n",
    "    #Threshold\n",
    "    threshold_value=lookup_pattern.size/10\n",
    "    \n",
    "    #LOOPING THROUGH LIST\n",
    "    while i < lookup_pattern.size+j: #i is dependent on j, i updates as j updates.\n",
    "        #Save x amount of values where x is the size of the array to compare.\n",
    "        values_list.append(([array_with_values[i][0]]))\n",
    "        i=i+1\n",
    "        \n",
    "        if(i==(lookup_pattern.size+j)) and (i<(sensor_data.size)):\n",
    "            \n",
    "            #j = the minute at this moment. i = starting from the current minute, adding the size of the array to compare.\n",
    "            #Stops running when the limit of values to be considered is reached, being the size the original array.\n",
    "            if(j==0) or (manhattanDistance(compare_to_array,values_list)!=result_list[len(result_list)-1][0]):\n",
    "                #Create list with unique values. Save them in \"resultList\". Euclidean score, startTimestamp, stopTimestamp\n",
    "                result_list.append([manhattanDistance(compare_to_array,values_list), starting_time_stamp,stop_time_stamp]) \n",
    "            \n",
    "            j=j+1\n",
    "            starting_time_stamp=sensor_data.index[j] #startingTimeStamp: current minute considered\n",
    "            stop_time_stamp=sensor_data.index[i] #stopTimeStamp: current minute considered + size of array to compare.\n",
    "            i=j\n",
    "            values_list=[]\n",
    "    \n",
    "    return result_list"
   ]
  },
  {
   "cell_type": "code",
   "execution_count": 0,
   "metadata": {
    "collapsed": true
   },
   "outputs": [],
   "source": [
    "def local_minima_ts_correction(result_list):\n",
    "    \"\"\"\n",
    "        Checks if the selected 'best' matches overlap. In this case the match with the best similarity is kept\n",
    "        \n",
    "        PARAMETERS\n",
    "        ----------\n",
    "            result_list: numpy array\n",
    "            \n",
    "        RETURNS\n",
    "        -------\n",
    "            pandas dataframe\n",
    "    \"\"\"\n",
    "    \n",
    "    start=time.time()\n",
    "    loop_index=0 #Loops through the resultslist, as long as its size\n",
    "    current_saves=0 #Current amount of variables saved\n",
    "    some_list=[]\n",
    "    df_result=pd.DataFrame(some_list)\n",
    "    ts=(result_list[0][2]-result_list[0][1])/10\n",
    "    threshold_value=(ts / np.timedelta64(1, 'm')).astype(int)\n",
    "    \n",
    "    #SAVING ONLY RELEVANT VALUES       \n",
    "    while loop_index < len(result_list):\n",
    "        \n",
    "        if(loop_index==0):\n",
    "            [value,start_time_stamp,stop_time_stamp] = [result_list[loop_index][0], result_list[loop_index][1], result_list[loop_index][2]]\n",
    "            df_result=df_result.append(pd.DataFrame([[value, start_time_stamp,stop_time_stamp]], index=[current_saves], columns=['Manhattan','startTimeStamp','stopTimeStamp']))\n",
    "            current_saves=current_saves+1\n",
    "            \n",
    "        if(result_list[loop_index-1][0] < result_list[loop_index-2][0]) and (result_list[loop_index-1][0] < result_list[loop_index][0]) and result_list[loop_index-1][0] < df_result.max()['Manhattan']:\n",
    "            #print \"Value\", resultList[loopIndex-1][0],\",Index:\",loopIndex-1,\"has a lower value than value left and right to it.(\",resultList[loopIndex-2][0],\",\",resultList[loopIndex][0],\") nIt will now replace\", dfResult['Euclidean'].max(),\"in the dataset.\"\n",
    "            [value,start_time_stamp,stop_time_stamp] = [result_list[loop_index-1][0], result_list[loop_index-1][1], result_list[loop_index-1][2]]\n",
    "            list_with_values=[]\n",
    "            i=0\n",
    "            max_value=0\n",
    "            \n",
    "            #!!!Timestamps are important. If timestamp is within the range of another timestamp already present,\n",
    "            #they will overwrite eachother instead of adding a new unique value\n",
    "            while i < df_result.index.size:\n",
    "                if(start_time_stamp >= df_result['startTimeStamp'][i]) and (start_time_stamp <= df_result['stopTimeStamp'][i]-pd.Timedelta(minutes=threshold_value)):\n",
    "                    \n",
    "                    #INSIDE BOUNDARIES\n",
    "                    if(df_result.loc[i][0] > max_value) and (df_result.loc[i][0]!=0): #Store the maximum value, of the range between start and stoptimestamp.\n",
    "                        max_value=df_result.loc[i][0]\n",
    "                        ts=df_result.loc[i][1]\n",
    "                    \n",
    "                    elif(df_result.loc[i][0]==0): #PERFECT MATCH\n",
    "                        max_value=1 #Not 0 because otherwise we assume it is outside of the boundaries\n",
    "                i=i+1\n",
    "                \n",
    "            if(max_value==0): \n",
    "                #OUTSIDE BOUNDARIES\n",
    "                    df_result=df_result.append(pd.DataFrame([[value, start_time_stamp,stop_time_stamp]], index=[current_saves], columns=['Manhattan','startTimeStamp','stopTimeStamp']))\n",
    "                    current_saves=current_saves+1\n",
    "                #INSIDE BOUNDARIES - \n",
    "                \n",
    "            elif(value < max_value): #Check if the current value is smaller than the Maximum value encountered. Replace if it is.\n",
    "                    df_result.loc[df_result['Manhattan']== max_value] = [value, start_time_stamp, stop_time_stamp]\n",
    "        \n",
    "        loop_index=loop_index+1\n",
    "    \n",
    "    df_result=df_result.sort_values(['Manhattan'])\n",
    "    \n",
    "    return df_result"
   ]
  },
  {
   "cell_type": "code",
   "execution_count": 0,
   "metadata": {
    "collapsed": true
   },
   "outputs": [],
   "source": [
    "def calculate_threshold_value(df_result, nr_of_best_values, factor):\n",
    "    \"\"\"\n",
    "        Determine a broad threshold to filter out all manhattan local minima that are nothing like the desired frame\n",
    "        \n",
    "        PARAMETERS\n",
    "        ----------\n",
    "            df_result: pandas dataframe\n",
    "            nr_of_best_values: int\n",
    "            factor: float\n",
    "            \n",
    "        RETURNS\n",
    "        -------\n",
    "            pandas dataframe\n",
    "    \"\"\"\n",
    "    \n",
    "    list_of_best_values=[]\n",
    "    i = 0\n",
    "    \n",
    "    for i in range(0, nr_of_best_values):\n",
    "        list_of_best_values.append(df_result.iloc[i])\n",
    "        \n",
    "    list_of_best_values=pd.DataFrame(list_of_best_values)\n",
    "    mean=list_of_best_values.mean()\n",
    "    threshold=mean*factor\n",
    "    \n",
    "    return df_result.loc[df_result['Manhattan']<=threshold[0]]"
   ]
  },
  {
   "cell_type": "code",
   "execution_count": 0,
   "metadata": {
    "collapsed": true
   },
   "outputs": [],
   "source": [
    "def determine_split_nr(lookup_pattern):\n",
    "    \"\"\"\n",
    "        Find the number of peaks and determin the split number based on this result\n",
    "        \n",
    "        PARAMETERS\n",
    "        ----------\n",
    "            lookup_pattern: pandas dataframe\n",
    "            \n",
    "        RETURNS\n",
    "        -------\n",
    "            int\n",
    "    \"\"\"\n",
    "    \n",
    "    cb = lookup_pattern.rolling(window=20).mean()['212ce724e124fbde0fb649396375d099'].as_matrix()\n",
    "    ind = argrelextrema(cb, np.greater)\n",
    "    \n",
    "    return len(ind) + 1"
   ]
  },
  {
   "cell_type": "code",
   "execution_count": 0,
   "metadata": {
    "collapsed": true
   },
   "outputs": [],
   "source": [
    "def split(original, event_list, parts):\n",
    "    \"\"\"\n",
    "        Split the resulting matches in an amount of parts and store their means\n",
    "        \n",
    "        PARAMETERS\n",
    "        ----------\n",
    "            original: pandas dataframe\n",
    "            event_list: pandas dataframe\n",
    "            parts: int\n",
    "            \n",
    "        RETURNS\n",
    "        -------\n",
    "            pandas dataframe\n",
    "    \"\"\"\n",
    "    \n",
    "    cols = []\n",
    "    for i in range(0, parts):\n",
    "        cols.extend(['part_' + str(i)])    \n",
    "    parts_df = pd.DataFrame(columns=cols, index=event_list.index)\n",
    "    \n",
    "    for i in range(0, event_list['Manhattan'].size):\n",
    "        part_length = (event_list['stopTimeStamp'].iloc[i] - event_list['startTimeStamp'].iloc[i])/parts\n",
    "        \n",
    "        prev_end_time = event_list['startTimeStamp'].iloc[i]\n",
    "        for j in range(0, parts):\n",
    "            part_median = original.ix[prev_end_time: prev_end_time + part_length].mean().iloc[0]\n",
    "            prev_end_time = prev_end_time + part_length\n",
    "            index = event_list.index[i]\n",
    "            \n",
    "            parts_df.set_value(index, 'part_' + str(j), part_median)\n",
    "            \n",
    "    split_list = pd.concat([event_list, parts_df],axis=1)\n",
    "    \n",
    "    return split_list.sort_values('Manhattan')"
   ]
  },
  {
   "cell_type": "code",
   "execution_count": 0,
   "metadata": {
    "collapsed": true
   },
   "outputs": [],
   "source": [
    "def cluster(matches, parts):\n",
    "    \"\"\"\n",
    "        Cluster best matches to label them as beeing a true match or not\n",
    "        \n",
    "        PARAMETERS\n",
    "        ----------\n",
    "            matches: pandas dataframe\n",
    "            parts: int\n",
    "            \n",
    "        RETURNS\n",
    "        -------\n",
    "            pandas dataframe\n",
    "    \"\"\"\n",
    "    \n",
    "    cluster_data = [(matches['Manhattan']/matches['Manhattan'].max()).as_matrix()]\n",
    "    for i in range(0, parts):\n",
    "        cluster_data.extend([(matches['part_' + str(i)]/matches['part_' + str(i)].max()).as_matrix()])\n",
    "        \n",
    "    df_result = pd.DataFrame(data=cluster_data).transpose()\n",
    "    result=df_result.as_matrix()\n",
    "    \n",
    "    ms = MeanShift()\n",
    "    ms.fit(result)\n",
    "    labels = ms.labels_\n",
    "    cluster_centers = ms.cluster_centers_\n",
    "    n_cluster = len(np.unique(labels))\n",
    "    colors = 10*['g.', 'r.', 'c.', 'b.', 'k.', 'y.', 'm.']\n",
    "    \n",
    "    try:\n",
    "        del split_matches['Type']\n",
    "    except Exception as e:\n",
    "        print 'No column named Type'\n",
    "    \n",
    "    \n",
    "    matches.insert(loc=0, column='Type', value=labels)\n",
    "    \n",
    "    return matches"
   ]
  },
  {
   "cell_type": "code",
   "execution_count": 0,
   "metadata": {
    "collapsed": true
   },
   "outputs": [],
   "source": [
    "def find_matches(data, search_pattern):\n",
    "    \"\"\"\n",
    "        Run the total pattern recognition algorithm\n",
    "        \n",
    "        PARAMETERS\n",
    "        ----------\n",
    "            data: pandas dataframe\n",
    "            search_pattern: pandas dataframe\n",
    "            \n",
    "        RETURNS\n",
    "        -------\n",
    "            pandas dataframe\n",
    "    \"\"\"\n",
    "    \n",
    "    all_minima = loop_through_list(data, search_pattern)\n",
    "    selected_minima = local_minima_ts_correction(all_minima)\n",
    "    \n",
    "    best_matches = calculate_threshold_value(selected_minima, 20, 2)\n",
    "    \n",
    "    split_number = determine_split_nr(search_pattern)\n",
    "    split_matches = split(data, best_matches, split_number)\n",
    "    \n",
    "    split_matches = cluster(split_matches, split_number)\n",
    "    \n",
    "    return split_matches"
   ]
  },
  {
   "cell_type": "code",
   "execution_count": 0,
   "metadata": {
    "collapsed": true
   },
   "outputs": [],
   "source": [
    "def plot_matches(split_matches, match):\n",
    "    \"\"\"\n",
    "        Function to either plot all matches or plot all non matches\n",
    "        \n",
    "        PARAMETERS\n",
    "        ----------\n",
    "            split_matches: pandas dataframe\n",
    "            match: bool\n",
    "    \"\"\"\n",
    "    \n",
    "    if match:\n",
    "        for i in range(0, split_matches.index.size):\n",
    "            if split_matches['Type'].iloc[i] == split_matches['Type'].iloc[0] or split_matches['Type'].iloc[i] == split_matches['Type'].iloc[1]:\n",
    "                plt.plot(data.ix[pd.Timestamp(split_matches['startTimeStamp'].iloc[i]) - pd.Timedelta(minutes=2):pd.Timestamp(split_matches['stopTimeStamp'].iloc[i]) + pd.Timedelta(minutes=2)])     \n",
    "    \n",
    "    else:\n",
    "        for i in range(0, split_matches.index.size):\n",
    "            if split_matches['Type'].iloc[i] != split_matches['Type'].iloc[0] and split_matches['Type'].iloc[i] != split_matches['Type'].iloc[1]:\n",
    "                plt.plot(data.ix[pd.Timestamp(split_matches['startTimeStamp'].iloc[i]) - pd.Timedelta(minutes=2):pd.Timestamp(split_matches['stopTimeStamp'].iloc[i]) + pd.Timedelta(minutes=2)])     \n",
    "    "
   ]
  },
  {
   "cell_type": "markdown",
   "metadata": {},
   "source": [
    "<h3>Implementation</h3>"
   ]
  },
  {
   "cell_type": "markdown",
   "metadata": {},
   "source": [
    "<p>Choose a sensor and select a period worth of data. Then choose the pattern you want to find</p>"
   ]
  },
  {
   "cell_type": "code",
   "execution_count": 0,
   "metadata": {
    "collapsed": false
   },
   "outputs": [],
   "source": [
    "#Sensor\n",
    "gas = hp.find_sensor('212ce724e124fbde0fb649396375d099')\n",
    "\n",
    "#Data\n",
    "head = pd.Timestamp('20151110')\n",
    "tail = pd.Timestamp('20151128')\n",
    "data = gas.get_data(head=head, tail=tail, diff=True, resample='min', unit='kW')\n",
    "data=pd.DataFrame(data)\n",
    "data = data.dropna()\n",
    "\n",
    "#Plot the data\n",
    "#charts.plot(data, stock=True, show='inline')\n",
    "\n",
    "#Select the search pattern\n",
    "search_pattern=data.ix[pd.Timestamp('2015-11-13 16:29:00+00:00'):pd.Timestamp('2015-11-13 17:14:00+00:00')]"
   ]
  },
  {
   "cell_type": "code",
   "execution_count": 0,
   "metadata": {
    "collapsed": false
   },
   "outputs": [],
   "source": [
    "split_matches = find_matches(data, search_pattern)"
   ]
  },
  {
   "cell_type": "code",
   "execution_count": 0,
   "metadata": {
    "collapsed": false
   },
   "outputs": [],
   "source": [
    "plot_matches(split_matches, True)"
   ]
  },
  {
   "cell_type": "code",
   "execution_count": 0,
   "metadata": {
    "collapsed": true
   },
   "outputs": [],
   "source": []
  }
 ],
 "metadata": {
  "kernelspec": {
   "display_name": "Python 2",
   "language": "python",
   "name": "python2"
  },
  "language_info": {
   "codemirror_mode": {
    "name": "ipython",
    "version": 2
   },
   "file_extension": ".py",
   "mimetype": "text/x-python",
   "name": "python",
   "nbconvert_exporter": "python",
   "pygments_lexer": "ipython2",
   "version": "2.7.6"
  },
  "widgets": {
   "state": {
    "0574b9575534415b8560f271bdd27800": {
     "views": [
      {
       "cell_index": 119
      },
      {
       "cell_index": 120
      }
     ]
    },
    "06bc4cb791a543c08bc0a17a1232a71a": {
     "views": []
    },
    "087672cbc4a6407389c95737022dd442": {
     "views": []
    },
    "0c71116dca044f4e94957b7abf4ecfb4": {
     "views": []
    },
    "0c843aaf97bb4b41b36779d91193374f": {
     "views": []
    },
    "0f57f5bd51af43169133ab5c4beb37df": {
     "views": []
    },
    "0fcf72c31f1c4b5db5f34d448ab37c58": {
     "views": []
    },
    "130b9075f87946a3bb5ba0d6d10cca05": {
     "views": []
    },
    "15d34035d0654c838a95fe7fd4e6570d": {
     "views": []
    },
    "16495acd00f74939a3d3c0e096b72b7b": {
     "views": []
    },
    "179bdc84c7c64f7a8e789c37e14fe38d": {
     "views": []
    },
    "180a4be23ff44a19bf1a829d4fcb9ed3": {
     "views": []
    },
    "195c6d4f8b8d4db49abf604918db401d": {
     "views": []
    },
    "1bc670957b1a4abc825c7eb8ea6403dc": {
     "views": []
    },
    "1f64bc6850a44b6b9e508de1083982bc": {
     "views": []
    },
    "2a1657ef344741a4b42f900e2e354ff8": {
     "views": []
    },
    "2b1f07464ff54197942d6b3d738b4d3c": {
     "views": []
    },
    "2b60c2ba3d844c48b48a3ded0e31cbfc": {
     "views": []
    },
    "2cd79732f7934fcf9c5db5d5df87e1c9": {
     "views": []
    },
    "2e108923bf414cf98009df1a9398e51e": {
     "views": []
    },
    "3279cc5fb93445a89c6407a782615d1e": {
     "views": []
    },
    "33786d67c7114830b0ba61385e45433b": {
     "views": [
      {
       "cell_index": 117
      },
      {
       "cell_index": 117
      },
      {
       "cell_index": 117
      },
      {
       "cell_index": 117
      }
     ]
    },
    "3436f4947ffa47d1b4b980e3dacd61e1": {
     "views": []
    },
    "3c5042b145e24717bcd0ae01f0b6904f": {
     "views": []
    },
    "3cce551b13ff47ec8970575a7f0a6112": {
     "views": []
    },
    "3f091103ff3f4a30aebaa3bfb9363c21": {
     "views": []
    },
    "40926a5c6e8d49b58b0265562cb8db4d": {
     "views": []
    },
    "4213ccec857c402097cd80d37503bc15": {
     "views": []
    },
    "436a051835b443739ba8c878951c36f8": {
     "views": []
    },
    "44514474fc574e6d8f9cb77394f45855": {
     "views": []
    },
    "44c5f166f3ff497b83c6f0f915e5d49f": {
     "views": [
      {
       "cell_index": 120
      }
     ]
    },
    "458c9a3582194aa9a081fad80d2f8f9c": {
     "views": [
      {
       "cell_index": 119
      }
     ]
    },
    "4d7ab805ad09482b9d228e7c307be901": {
     "views": []
    },
    "4ff48795169f4b0b9948113f340c4723": {
     "views": []
    },
    "50f9e9b4a7a44c3fb70c72028d82a1a2": {
     "views": []
    },
    "51c870341b234a1fbff181e30061e61b": {
     "views": []
    },
    "59333e54dcb647f8a363185435cf75d0": {
     "views": []
    },
    "5a21a47e0e164dca85f576e55e93208d": {
     "views": [
      {
       "cell_index": 118
      }
     ]
    },
    "5b2cf71fd70043d083869487d5b74b91": {
     "views": []
    },
    "5ba2e179acab445eacb8a4e13cd917ee": {
     "views": []
    },
    "60490642088645ada8a70c6c84d6db0e": {
     "views": []
    },
    "62a5d4d271d14f0daabd51d47ef22b86": {
     "views": []
    },
    "632a4e0b370341a599e8146a4cddf174": {
     "views": []
    },
    "63a93f6227b44dd6a51ea0d3bafad274": {
     "views": []
    },
    "68506b50d0374825a79e9f1f66ab6037": {
     "views": []
    },
    "690cb06eed7440cfb7c90b6945f8f35a": {
     "views": []
    },
    "6e2e0813d0ce4887b5a6a099b1a3c18a": {
     "views": []
    },
    "73fcd25fa7df4b3281e555937163255c": {
     "views": []
    },
    "793b0a2261914c14ace4bb38edf4425e": {
     "views": []
    },
    "79b9f2deedd140ef9abfbef5f93599a8": {
     "views": []
    },
    "7a98ebab1acd49d495485a1ae30144eb": {
     "views": []
    },
    "7b622ed6f8594d2bafc7f5a0934f142f": {
     "views": [
      {
       "cell_index": 119
      }
     ]
    },
    "7e9a8ec32610439f8290185080d7676a": {
     "views": []
    },
    "806e5e50e8e140b6b73f4e2cb4425431": {
     "views": []
    },
    "81d4002626cb48eab35f4b3448510897": {
     "views": []
    },
    "836e6827780a4d3aa61cfb5e6fd75826": {
     "views": []
    },
    "866018f4b1fa4567ae72a5e5166fde5c": {
     "views": []
    },
    "9067377993fb41eabcff4cde2b3eb17d": {
     "views": []
    },
    "92059a99510946c5863c741703fe0268": {
     "views": []
    },
    "931ddc8f0dea49ebb9aedc0189830766": {
     "views": [
      {
       "cell_index": 119
      },
      {
       "cell_index": 119
      },
      {
       "cell_index": 119
      },
      {
       "cell_index": 119
      },
      {
       "cell_index": 119
      }
     ]
    },
    "93d3a0d31c184c4098bc47dda773698c": {
     "views": []
    },
    "946138fe79644dd08ba740d5ab0064cc": {
     "views": []
    },
    "9719d3ad220146c6b38bb5c3447e4453": {
     "views": []
    },
    "9ca6fd4877dd4f24a22e0f2887c08c15": {
     "views": [
      {
       "cell_index": 119
      }
     ]
    },
    "9cfb8ee9ff96423ebbc0c8071e04b786": {
     "views": []
    },
    "9fbf2c8f8e804358a6d024ddae351f3e": {
     "views": []
    },
    "a1e001c286344251a5b35f827d6a5cc6": {
     "views": []
    },
    "a264c861d90345e28c5e8043bd4a5d68": {
     "views": []
    },
    "a465f830386c45a49cf48a1ae2a6fdfc": {
     "views": []
    },
    "ab49656313094204881979f01a16063d": {
     "views": []
    },
    "abc76627514e4bb59a8664fa71dcc737": {
     "views": [
      {
       "cell_index": 120
      }
     ]
    },
    "b2d27ac678694771b921ccb7f8bf05b8": {
     "views": []
    },
    "b5009452af834adfb09ccb29b4bdd10b": {
     "views": []
    },
    "b586973a6d5742388174f2ada66d223c": {
     "views": [
      {
       "cell_index": 119
      }
     ]
    },
    "b5a3a1b4f9314ae19966d721d1f3eabf": {
     "views": []
    },
    "b5f14f5afff344199cf6cca8ebad9062": {
     "views": []
    },
    "b8c21528a1494e319616c6c7085341ed": {
     "views": [
      {
       "cell_index": 118
      }
     ]
    },
    "bab8423aef664832948416955b0809d0": {
     "views": []
    },
    "bd9aab031766413ebe39a95636aa4de6": {
     "views": []
    },
    "be73e08c24114254b55ff01e6f51db0a": {
     "views": []
    },
    "bf667597cc3b4579b1089926db112db6": {
     "views": []
    },
    "c06c12a331684eb9ac888c663b8b8c2a": {
     "views": []
    },
    "c7e6200084034b04a7838b374e424ab8": {
     "views": []
    },
    "c89ca7741add4143ac60cbd5cdb87ec4": {
     "views": [
      {
       "cell_index": 120
      }
     ]
    },
    "c8a1ab8a27d246578e053c3732f99b9d": {
     "views": [
      {
       "cell_index": 119
      }
     ]
    },
    "c8c7a4d6104e40dbbbbe42125a3b4c1a": {
     "views": []
    },
    "c8fb3be6542f45668906b97bf272a87d": {
     "views": [
      {
       "cell_index": 116
      },
      {
       "cell_index": 116
      },
      {
       "cell_index": 116
      },
      {
       "cell_index": 116
      },
      {
       "cell_index": 116
      },
      {
       "cell_index": 117
      }
     ]
    },
    "ca0f8ec00aad4fc2907fd1ddc1910f43": {
     "views": []
    },
    "caff885ab0284bb0a1ba130f50b05ae9": {
     "views": []
    },
    "cb412733aec748a6ba6cb99fd02878e0": {
     "views": []
    },
    "cb8c50f88328413e94fbdaac9df03b68": {
     "views": []
    },
    "cbec7bf7c48740bb89cfce6a77acb12c": {
     "views": []
    },
    "cdcaf1f243c647a9b3bc633a0f7db023": {
     "views": [
      {
       "cell_index": 119
      }
     ]
    },
    "cde22a802ccb447e918d8317c5293209": {
     "views": []
    },
    "d32ec40b30fd4712af45f0771014c59c": {
     "views": []
    },
    "d51a696b18a2431195b6a6a7525d466d": {
     "views": []
    },
    "d755ceb13d204439a81727a6fa77f047": {
     "views": []
    },
    "d846bdba94ef4446bc5d146af76f5591": {
     "views": []
    },
    "d89903b7ea1a4db894ffd4a551f65fb7": {
     "views": [
      {
       "cell_index": 119
      }
     ]
    },
    "d8f3ad12e45a43eea62ee8bf36715cb0": {
     "views": []
    },
    "dbec56be65af4ab499174c1be85a956e": {
     "views": []
    },
    "dd11574c6501439aa036bedcda41e29d": {
     "views": [
      {
       "cell_index": 118
      }
     ]
    },
    "dd8d1011327846e2bc3f4d9658286b0f": {
     "views": []
    },
    "dd95d717e3e140e09dd2dbc250e605ff": {
     "views": [
      {
       "cell_index": 108
      }
     ]
    },
    "e269da1037f044eaa70f026394e45484": {
     "views": []
    },
    "e34af9d0237c4ad0ae31ec1eb9a2d260": {
     "views": []
    },
    "e4897ad450a94d5f8a802dda77a91195": {
     "views": [
      {
       "cell_index": 120
      }
     ]
    },
    "e5a1095ea73d4ba0887098f30784c44b": {
     "views": []
    },
    "e60e31004f5e40aab68a8544a2b997d4": {
     "views": [
      {
       "cell_index": 119
      }
     ]
    },
    "e8e63c776c124bf4bbd054738cebaf66": {
     "views": []
    },
    "ecea294231d5434380ed0c088a7e23de": {
     "views": [
      {
       "cell_index": 109
      }
     ]
    },
    "eeec20f3643d4c56a8502adc5f1ab0cf": {
     "views": [
      {
       "cell_index": 120
      }
     ]
    },
    "f07396735d0b408a81bd7b76e8c6993a": {
     "views": []
    },
    "f17566f7d35646be8d09a53869d8f5c0": {
     "views": []
    },
    "f1ea1f00e62e48b18e80f483140320cf": {
     "views": []
    },
    "f447ff9cc162492d8a03c168b88bbadd": {
     "views": []
    },
    "f4e7ecba1ed743bfa4bba2d31c356126": {
     "views": []
    },
    "f6ce4b157e9e494ba429c19af753f233": {
     "views": []
    },
    "f73e66efb7764296929ffd188fec093e": {
     "views": []
    },
    "fba944dace8d425bbc1bdae187771501": {
     "views": []
    },
    "fc6eec6e6b0c47349fa14c5254707e59": {
     "views": []
    },
    "fd21887fc414485a83f574ff1162b29c": {
     "views": []
    },
    "fe0059185ca74ac885a3ddf4f38f6bb6": {
     "views": []
    },
    "fee411e2392b45c8b4529c0d2c8720c6": {
     "views": []
    }
   },
   "version": "1.1.2"
  }
 },
 "nbformat": 4,
 "nbformat_minor": 0
}