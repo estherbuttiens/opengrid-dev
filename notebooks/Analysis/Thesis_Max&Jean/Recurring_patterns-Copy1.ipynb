{
 "cells": [
  {
   "cell_type": "code",
   "execution_count": 0,
   "metadata": {
    "collapsed": false
   },
   "outputs": [],
   "source": [
    "import os\n",
    "import inspect\n",
    "import sys\n",
    "import pandas as pd\n",
    "import charts\n",
    "import numpy as np\n",
    "import pylab as pl\n",
    "from scipy import spatial\n",
    "from scipy.spatial import distance\n",
    "\n",
    "\n",
    "from opengrid.library import houseprint"
   ]
  },
  {
   "cell_type": "code",
   "execution_count": 0,
   "metadata": {
    "collapsed": false
   },
   "outputs": [],
   "source": [
    "hp = houseprint.Houseprint()"
   ]
  },
  {
   "cell_type": "code",
   "execution_count": 0,
   "metadata": {
    "collapsed": true
   },
   "outputs": [],
   "source": [
    "import matplotlib.pyplot as plt\n",
    "%matplotlib inline\n",
    "plt.rcParams['figure.figsize'] = 16,8"
   ]
  },
  {
   "cell_type": "code",
   "execution_count": 0,
   "metadata": {
    "collapsed": false
   },
   "outputs": [],
   "source": [
    "gas = hp.find_sensor('212ce724e124fbde0fb649396375d099')"
   ]
  },
  {
   "cell_type": "code",
   "execution_count": 0,
   "metadata": {
    "collapsed": false
   },
   "outputs": [],
   "source": [
    "head = pd.Timestamp('20151110')\n",
    "tail = pd.Timestamp('20151118')\n",
    "originalGraph = gas.get_data(head=head, tail=tail, diff=True, resample='min', unit='kW')\n",
    "charts.plot(originalGraph, stock=True, show='inline')"
   ]
  },
  {
   "cell_type": "code",
   "execution_count": 0,
   "metadata": {
    "collapsed": true
   },
   "outputs": [],
   "source": [
    "def euclideanDistance(s1,s2):\n",
    "    #Verwacht een numpy array\n",
    "    dist = np.linalg.norm(s1-s2)\n",
    "    return dist"
   ]
  },
  {
   "cell_type": "code",
   "execution_count": 0,
   "metadata": {
    "collapsed": true
   },
   "outputs": [],
   "source": [
    "def cosineSimilarity(s1,s2):\n",
    "    similarity = 1 - spatial.distance.cosine(s1, s2)\n",
    "    return similarity"
   ]
  },
  {
   "cell_type": "code",
   "execution_count": 0,
   "metadata": {
    "collapsed": true
   },
   "outputs": [],
   "source": [
    "def mahalanobisDistance(s1,s2):\n",
    "    similarity = 1 - distance.mahalanobis(s1,s2)\n",
    "    return similarity"
   ]
  },
  {
   "cell_type": "code",
   "execution_count": 0,
   "metadata": {
    "collapsed": true
   },
   "outputs": [],
   "source": [
    "def manhattanDistance(s1,s2):\n",
    "    difference=diffArrays(s1,s2)\n",
    "    absDifference=abs(difference)\n",
    "    sumOfValues=np.sum(absDifference)\n",
    "    maxValues=np.maximum(s1,s2)\n",
    "    maxValues=np.max(maxValues)\n",
    "    manhattan=sumOfValues/maxValues\n",
    "    return manhattan"
   ]
  },
  {
   "cell_type": "code",
   "execution_count": 0,
   "metadata": {
    "collapsed": true
   },
   "outputs": [],
   "source": [
    "def hammingDistance(s1, s2):\n",
    "    \"\"\"Return the Hamming distance between equal-length sequences\"\"\"\n",
    "    if len(s1) != len(s2):\n",
    "        raise ValueError(\"Undefined for sequences of unequal length\")\n",
    "    return sum(el1 != el2 for el1, el2 in zip(s1, s2))"
   ]
  },
  {
   "cell_type": "code",
   "execution_count": 0,
   "metadata": {
    "collapsed": true
   },
   "outputs": [],
   "source": [
    "def paa_transform(timeSeries, n_pieces):\n",
    "    splitted = np.array_split(timeSeries, n_pieces) ## along columns as we want\n",
    "    return np.asarray(map(lambda xs: xs.mean(axis = 0), splitted))"
   ]
  },
  {
   "cell_type": "code",
   "execution_count": 0,
   "metadata": {
    "collapsed": true
   },
   "outputs": [],
   "source": [
    "def znormalization(ts):\n",
    "    #Pakt mean, std van kolom.\n",
    "    meanCalc = ts.mean(axis = 0)\n",
    "    stdCalc = ts.std(axis = 0)\n",
    "    return (ts - meanCalc) / stdCalc"
   ]
  },
  {
   "cell_type": "code",
   "execution_count": 0,
   "metadata": {
    "collapsed": true
   },
   "outputs": [],
   "source": [
    "def sax_transform(ts, n_pieces, alphabet):\n",
    "    \"\"\"\n",
    "    ts: columns of which are time serieses represented by np.array\n",
    "    n_pieces: number of segments in paa transformation\n",
    "    alphabet: the letters to be translated to, e.g. \"abcd\", \"ab\"\n",
    "    return np.array of ts's sax transformation\n",
    "    Steps:\n",
    "    1. znormalize\n",
    "    2. paa\n",
    "    3. find norm distribution breakpoints by scipy.stats\n",
    "    4. convert paa transformation into strings\n",
    "    \"\"\"\n",
    "    from scipy.stats import norm\n",
    "    alphabet_sz = len(alphabet)\n",
    "    thrholds = norm.ppf(np.linspace(1./alphabet_sz, \n",
    "                                    1-1./alphabet_sz, \n",
    "                                    alphabet_sz-1))\n",
    "    def translate(ts_values):\n",
    "        return np.asarray([(alphabet[0] if ts_value < thrholds[0]\n",
    "                else (alphabet[-1] if ts_value > thrholds[-1]\n",
    "                      else alphabet[np.where(thrholds <= ts_value)[0][-1]+1]))\n",
    "                           for ts_value in ts_values])\n",
    "    paa_ts = paa_transform(znormalization(ts), n_pieces)\n",
    "    return np.apply_along_axis(translate, 0, paa_ts)"
   ]
  },
  {
   "cell_type": "code",
   "execution_count": 0,
   "metadata": {
    "collapsed": true
   },
   "outputs": [],
   "source": [
    "def makeArray(array1):\n",
    "    arrayValues=[]    \n",
    "    for i in range(0, array1.size-1):\n",
    "        if(i<array1.size):\n",
    "             arrayValues.append(ord(array1.iloc[i])-97)\n",
    "    df=pd.DataFrame(arrayValues)\n",
    "    return df"
   ]
  },
  {
   "cell_type": "code",
   "execution_count": 0,
   "metadata": {
    "collapsed": true
   },
   "outputs": [],
   "source": [
    "def makeDiffArray(array): #Excepts a letter array\n",
    "    arrayValues=[]    \n",
    "    for i in range(0, array.size-1):\n",
    "        if(i<array.size):\n",
    "             arrayValues.append(ord(array.iloc[i+1])-ord(array.iloc[i]))\n",
    "    df=pd.DataFrame(arrayValues)\n",
    "    return df          \n"
   ]
  },
  {
   "cell_type": "code",
   "execution_count": 0,
   "metadata": {
    "collapsed": true
   },
   "outputs": [],
   "source": [
    "def differenceNumbers(array): #Expects array of numbers @\n",
    "    arrayValues=[]\n",
    "    for i in range(0, array.index.size):\n",
    "        arrayValues.append(np.diff(array.iloc[i], axis=-1))\n",
    "    df=pd.DataFrame(arrayValues)\n",
    "    return df"
   ]
  },
  {
   "cell_type": "code",
   "execution_count": 0,
   "metadata": {
    "collapsed": true
   },
   "outputs": [],
   "source": [
    "def diffArrays(array1,array2):\n",
    "    array=[]\n",
    "    if array1.index.size==array2.index.size:\n",
    "        for i in range(0,array1.index.size):\n",
    "            array.append(array2.iloc[i]-array1.iloc[i])\n",
    "    df=pd.DataFrame(array)\n",
    "    return df"
   ]
  },
  {
   "cell_type": "code",
   "execution_count": 0,
   "metadata": {
    "collapsed": true
   },
   "outputs": [],
   "source": [
    "zScores=znormalization(originalGraph)"
   ]
  },
  {
   "cell_type": "code",
   "execution_count": 0,
   "metadata": {
    "collapsed": false
   },
   "outputs": [],
   "source": [
    "paaTransform = paa_transform(zScores,1386)\n",
    "paaTransfo = np.repeat(paaTransform,8, axis = 0)\n",
    "pl.figure()\n",
    "pl.plot(zScores, '-+')\n",
    "pl.plot(paaTransfo)\n",
    "pl.legend(loc = \"upper left\")"
   ]
  },
  {
   "cell_type": "code",
   "execution_count": 0,
   "metadata": {
    "collapsed": false
   },
   "outputs": [],
   "source": [
    "originalGraphDf=pd.DataFrame(originalGraph)\n",
    "paaTransfoDf=pd.DataFrame(paaTransfo)\n",
    "paaTransfoDf=paaTransfoDf.iloc[:paaTransfoDf.size-15]\n",
    "paaTransfoDf.index=originalGraphDf.index\n",
    "graph = pd.concat([paaTransfoDf,zScores],axis=1).dropna()\n",
    "charts.plot(graph,stock=True,show='inline')\n"
   ]
  },
  {
   "cell_type": "code",
   "execution_count": 0,
   "metadata": {
    "collapsed": false
   },
   "outputs": [],
   "source": [
    "saxTransformation=sax_transform(originalGraph, 1386, \"abcdefghijklmn\")"
   ]
  },
  {
   "cell_type": "code",
   "execution_count": 0,
   "metadata": {
    "collapsed": false
   },
   "outputs": [],
   "source": [
    "'''\n",
    "Werkwijze:\n",
    "Dataframes gebruiken!\n",
    "-sax transfo\n",
    "-letters->nummers (makeArray())\n",
    "-np.repeat (plateau's)\n",
    "-plot(paa_transform+repeater,^)\n",
    "'''\n",
    "\n",
    "letters=pd.DataFrame(saxTransformation)\n",
    "letters.columns=['col1']\n",
    "lettersToNumSax=makeArray(letters.col1) #Expects a pandaframe\n",
    "\n",
    "repeatedValues=np.repeat(lettersToNumSax.as_matrix(),8) #expects an array\n",
    "\n",
    "dfRepeatedValues=pd.DataFrame(repeatedValues)\n",
    "\n",
    "dfRepeatedValues=dfRepeatedValues.iloc[:dfRepeatedValues.size-7]\n",
    "paaTransfoDf.index=dfRepeatedValues.index\n",
    "\n",
    "concatinatePaaAndSax=pd.concat([znormalization(dfRepeatedValues),paaTransfoDf],axis=1)\n",
    "concatinatePaaAndSax.columns=['col1','col2']\n",
    "\n",
    "charts.plot(concatinatePaaAndSax,stock=True,show='inline')\n"
   ]
  },
  {
   "cell_type": "code",
   "execution_count": 0,
   "metadata": {
    "collapsed": false
   },
   "outputs": [],
   "source": [
    "dfRepeatedValues.index=zScores.index\n",
    "saxVsOriginalGraph=pd.concat([(dfRepeatedValues), znormalization(originalGraph)],axis=1).dropna()\n",
    "charts.plot(saxVsOriginalGraph, stock=True, show='inline')\n"
   ]
  },
  {
   "cell_type": "code",
   "execution_count": 0,
   "metadata": {
    "collapsed": false
   },
   "outputs": [],
   "source": [
    "dfRepeatedValues.ix[pd.Timestamp('2015-11-13 16:25:00+00:00'):pd.Timestamp('2015-11-13 17:16:00+00:00')]"
   ]
  }
 ],
 "metadata": {
  "kernelspec": {
   "display_name": "Python 2",
   "language": "python",
   "name": "python2"
  },
  "language_info": {
   "codemirror_mode": {
    "name": "ipython",
    "version": 2
   },
   "file_extension": ".py",
   "mimetype": "text/x-python",
   "name": "python",
   "nbconvert_exporter": "python",
   "pygments_lexer": "ipython2",
   "version": "2.7.6"
  }
 },
 "nbformat": 4,
 "nbformat_minor": 0
}
