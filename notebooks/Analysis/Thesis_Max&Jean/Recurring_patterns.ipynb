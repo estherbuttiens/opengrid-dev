{
 "cells": [
  {
   "cell_type": "code",
   "execution_count": null,
   "metadata": {
    "collapsed": false,
    "scrolled": true
   },
   "outputs": [],
   "source": [
    "%%bash\n",
    "pip install tsfresh\n",
    "pip install ipywidgets\n",
    "jupyter nbextension enable --py --sys-prefix widgetsnbextension"
   ]
  },
  {
   "cell_type": "code",
   "execution_count": null,
   "metadata": {
    "collapsed": false
   },
   "outputs": [],
   "source": [
    "%%bash\n",
    "jupyter nbextension enable --py --sys-prefix widgetsnbextension"
   ]
  },
  {
   "cell_type": "code",
   "execution_count": 1,
   "metadata": {
    "collapsed": false
   },
   "outputs": [
    {
     "name": "stdout",
     "output_type": "stream",
     "text": [
      "Server running in the folder /usr/local/opengrid/notebooks/Analysis/Thesis_Max&Jean at 127.0.0.1:44698\n"
     ]
    },
    {
     "ename": "ImportError",
     "evalue": "No module named sklearn.cluster",
     "output_type": "error",
     "traceback": [
      "\u001b[1;31m\u001b[0m",
      "\u001b[1;31mImportError\u001b[0mTraceback (most recent call last)",
      "\u001b[1;32m<ipython-input-1-6b3e384b7fc8>\u001b[0m in \u001b[0;36m<module>\u001b[1;34m()\u001b[0m\n\u001b[0;32m      8\u001b[0m \u001b[1;32mfrom\u001b[0m \u001b[0mscipy\u001b[0m \u001b[1;32mimport\u001b[0m \u001b[0mspatial\u001b[0m\u001b[1;33m\u001b[0m\u001b[0m\n\u001b[0;32m      9\u001b[0m \u001b[1;32mfrom\u001b[0m \u001b[0mscipy\u001b[0m\u001b[1;33m.\u001b[0m\u001b[0mspatial\u001b[0m \u001b[1;32mimport\u001b[0m \u001b[0mdistance\u001b[0m\u001b[1;33m\u001b[0m\u001b[0m\n\u001b[1;32m---> 10\u001b[1;33m \u001b[1;32mfrom\u001b[0m \u001b[0msklearn\u001b[0m\u001b[1;33m.\u001b[0m\u001b[0mcluster\u001b[0m \u001b[1;32mimport\u001b[0m \u001b[0mMeanShift\u001b[0m\u001b[1;33m\u001b[0m\u001b[0m\n\u001b[0m\u001b[0;32m     11\u001b[0m \u001b[1;32mimport\u001b[0m \u001b[0mtime\u001b[0m\u001b[1;33m\u001b[0m\u001b[0m\n\u001b[0;32m     12\u001b[0m \u001b[1;32mimport\u001b[0m \u001b[0mmath\u001b[0m\u001b[1;33m\u001b[0m\u001b[0m\n",
      "\u001b[1;31mImportError\u001b[0m: No module named sklearn.cluster"
     ]
    }
   ],
   "source": [
    "import os\n",
    "import inspect\n",
    "import sys\n",
    "import pandas as pd\n",
    "import charts\n",
    "import numpy as np\n",
    "import pylab as pl\n",
    "from scipy import spatial\n",
    "from scipy.spatial import distance\n",
    "from sklearn.cluster import MeanShift\n",
    "import time\n",
    "import math\n",
    "from opengrid.library import houseprint"
   ]
  },
  {
   "cell_type": "code",
   "execution_count": 2,
   "metadata": {
    "collapsed": false
   },
   "outputs": [
    {
     "ename": "NameError",
     "evalue": "name 'houseprint' is not defined",
     "output_type": "error",
     "traceback": [
      "\u001b[1;31m\u001b[0m",
      "\u001b[1;31mNameError\u001b[0mTraceback (most recent call last)",
      "\u001b[1;32m<ipython-input-2-9b74475edf2e>\u001b[0m in \u001b[0;36m<module>\u001b[1;34m()\u001b[0m\n\u001b[1;32m----> 1\u001b[1;33m \u001b[0mhp\u001b[0m \u001b[1;33m=\u001b[0m \u001b[0mhouseprint\u001b[0m\u001b[1;33m.\u001b[0m\u001b[0mHouseprint\u001b[0m\u001b[1;33m(\u001b[0m\u001b[1;33m)\u001b[0m\u001b[1;33m\u001b[0m\u001b[0m\n\u001b[0m",
      "\u001b[1;31mNameError\u001b[0m: name 'houseprint' is not defined"
     ]
    }
   ],
   "source": [
    "hp = houseprint.Houseprint()"
   ]
  },
  {
   "cell_type": "code",
   "execution_count": null,
   "metadata": {
    "collapsed": true
   },
   "outputs": [],
   "source": [
    "import matplotlib.pyplot as plt\n",
    "%matplotlib inline\n",
    "plt.rcParams['figure.figsize'] = 16,8"
   ]
  },
  {
   "cell_type": "code",
   "execution_count": 4,
   "metadata": {
    "collapsed": false
   },
   "outputs": [
    {
     "ename": "NameError",
     "evalue": "name 'hp' is not defined",
     "output_type": "error",
     "traceback": [
      "\u001b[1;31m\u001b[0m",
      "\u001b[1;31mNameError\u001b[0mTraceback (most recent call last)",
      "\u001b[1;32m<ipython-input-4-a5cf1760adce>\u001b[0m in \u001b[0;36m<module>\u001b[1;34m()\u001b[0m\n\u001b[1;32m----> 1\u001b[1;33m \u001b[0mgas\u001b[0m \u001b[1;33m=\u001b[0m \u001b[0mhp\u001b[0m\u001b[1;33m.\u001b[0m\u001b[0mfind_sensor\u001b[0m\u001b[1;33m(\u001b[0m\u001b[1;34m'212ce724e124fbde0fb649396375d099'\u001b[0m\u001b[1;33m)\u001b[0m\u001b[1;33m\u001b[0m\u001b[0m\n\u001b[0m\u001b[0;32m      2\u001b[0m \u001b[1;31m#gas = hp.find_sensor('a6028457292f1866b468b63adcc82ee3') 2\u001b[0m\u001b[1;33m\u001b[0m\u001b[1;33m\u001b[0m\u001b[0m\n\u001b[0;32m      3\u001b[0m \u001b[1;31m#gas = hp.find_sensor('a6028457292f1866b468b63adcc82ee3')\u001b[0m\u001b[1;33m\u001b[0m\u001b[1;33m\u001b[0m\u001b[0m\n\u001b[0;32m      4\u001b[0m \u001b[1;32mprint\u001b[0m \u001b[0mgas\u001b[0m\u001b[1;33m\u001b[0m\u001b[0m\n",
      "\u001b[1;31mNameError\u001b[0m: name 'hp' is not defined"
     ]
    }
   ],
   "source": [
    "gas = hp.find_sensor('212ce724e124fbde0fb649396375d099')\n",
    "#gas = hp.find_sensor('a6028457292f1866b468b63adcc82ee3') 2\n",
    "#gas = hp.find_sensor('a6028457292f1866b468b63adcc82ee3')\n",
    "print gas"
   ]
  },
  {
   "cell_type": "code",
   "execution_count": 3,
   "metadata": {
    "collapsed": false
   },
   "outputs": [
    {
     "ename": "NameError",
     "evalue": "name 'gas' is not defined",
     "output_type": "error",
     "traceback": [
      "\u001b[1;31m\u001b[0m",
      "\u001b[1;31mNameError\u001b[0mTraceback (most recent call last)",
      "\u001b[1;32m<ipython-input-3-54ebd5ab05dc>\u001b[0m in \u001b[0;36m<module>\u001b[1;34m()\u001b[0m\n\u001b[0;32m      1\u001b[0m \u001b[0mhead\u001b[0m \u001b[1;33m=\u001b[0m \u001b[0mpd\u001b[0m\u001b[1;33m.\u001b[0m\u001b[0mTimestamp\u001b[0m\u001b[1;33m(\u001b[0m\u001b[1;34m'20151110'\u001b[0m\u001b[1;33m)\u001b[0m\u001b[1;33m\u001b[0m\u001b[0m\n\u001b[0;32m      2\u001b[0m \u001b[0mtail\u001b[0m \u001b[1;33m=\u001b[0m \u001b[0mpd\u001b[0m\u001b[1;33m.\u001b[0m\u001b[0mTimestamp\u001b[0m\u001b[1;33m(\u001b[0m\u001b[1;34m'20151118'\u001b[0m\u001b[1;33m)\u001b[0m\u001b[1;33m\u001b[0m\u001b[0m\n\u001b[1;32m----> 3\u001b[1;33m \u001b[0moriginalGraph\u001b[0m \u001b[1;33m=\u001b[0m \u001b[0mgas\u001b[0m\u001b[1;33m.\u001b[0m\u001b[0mget_data\u001b[0m\u001b[1;33m(\u001b[0m\u001b[0mhead\u001b[0m\u001b[1;33m=\u001b[0m\u001b[0mhead\u001b[0m\u001b[1;33m,\u001b[0m \u001b[0mtail\u001b[0m\u001b[1;33m=\u001b[0m\u001b[0mtail\u001b[0m\u001b[1;33m,\u001b[0m \u001b[0mdiff\u001b[0m\u001b[1;33m=\u001b[0m\u001b[0mTrue\u001b[0m\u001b[1;33m,\u001b[0m \u001b[0mresample\u001b[0m\u001b[1;33m=\u001b[0m\u001b[1;34m'min'\u001b[0m\u001b[1;33m,\u001b[0m \u001b[0munit\u001b[0m\u001b[1;33m=\u001b[0m\u001b[1;34m'kW'\u001b[0m\u001b[1;33m)\u001b[0m\u001b[1;33m\u001b[0m\u001b[0m\n\u001b[0m\u001b[0;32m      4\u001b[0m \u001b[0moriginalGraphDf\u001b[0m\u001b[1;33m=\u001b[0m\u001b[0mpd\u001b[0m\u001b[1;33m.\u001b[0m\u001b[0mDataFrame\u001b[0m\u001b[1;33m(\u001b[0m\u001b[0moriginalGraph\u001b[0m\u001b[1;33m)\u001b[0m\u001b[1;33m\u001b[0m\u001b[0m\n\u001b[0;32m      5\u001b[0m \u001b[0moriginalGraphDfDropNa\u001b[0m \u001b[1;33m=\u001b[0m \u001b[0moriginalGraphDf\u001b[0m\u001b[1;33m.\u001b[0m\u001b[0mdropna\u001b[0m\u001b[1;33m(\u001b[0m\u001b[1;33m)\u001b[0m\u001b[1;33m\u001b[0m\u001b[0m\n",
      "\u001b[1;31mNameError\u001b[0m: name 'gas' is not defined"
     ]
    }
   ],
   "source": [
    "head = pd.Timestamp('20151110')\n",
    "tail = pd.Timestamp('20151118')\n",
    "originalGraph = gas.get_data(head=head, tail=tail, diff=True, resample='min', unit='kW')\n",
    "originalGraphDf=pd.DataFrame(originalGraph)\n",
    "originalGraphDfDropNa = originalGraphDf.dropna()\n",
    "charts.plot(originalGraph, stock=True, show='inline')"
   ]
  },
  {
   "cell_type": "code",
   "execution_count": null,
   "metadata": {
    "collapsed": false
   },
   "outputs": [],
   "source": [
    "dfCompare=dfRepeatedValues.ix[pd.Timestamp('2015-11-13 16:25:00+00:00'):pd.Timestamp('2015-11-13 17:16:00+00:00')]\n",
    "#dfCompare2=dfRepeatedValues.ix[pd.Timestamp('2015-11-14 15:25:00+00:00'):pd.Timestamp('2015-11-14 16:45:00+00:00')]\n",
    "dfCompareOriginal=originalGraphDf.ix[pd.Timestamp('2015-11-13 16:25:00+00:00'):pd.Timestamp('2015-11-13 17:16:00+00:00')]\n",
    "dfCompareOriginal2=originalGraphDf.ix[pd.Timestamp('2015-11-14 15:25:00+00:00'):pd.Timestamp('2015-11-14 16:45:00+00:00')]\n",
    "dfCompareOriginal3=originalGraphDf.ix[pd.Timestamp('2015-11-23 08:20:00+00:00'):pd.Timestamp('2015-11-23 13:45:00+00:00')]\n",
    "dfCompareOriginal4=originalGraphDf.ix[pd.Timestamp('2015-11-18 04:47:00+00:00'):pd.Timestamp('2015-11-18 05:29:00+00:00')]\n",
    "dfCompareOriginal5=originalGraphDf.ix[pd.Timestamp('2015-11-17 21:03:00+00:00'):pd.Timestamp('2015-11-17 21:05:00+00:00')]\n",
    "dfCompareOriginal6=originalGraphDf.ix[pd.Timestamp('2015-11-11 20:20:00+00:00'):pd.Timestamp('2015-11-11 20:37:00+00:00')]\n",
    "dfCompareOriginal7=originalGraphDf.ix[pd.Timestamp('2015-11-17 18:21:00+00:00'):pd.Timestamp('2015-11-17 18:34:00+00:00')]"
   ]
  },
  {
   "cell_type": "markdown",
   "metadata": {},
   "source": [
    "<h3> Different compare methods </h3>"
   ]
  },
  {
   "cell_type": "code",
   "execution_count": null,
   "metadata": {
    "collapsed": true
   },
   "outputs": [],
   "source": [
    "def diffArrays(array1,array2):\n",
    "    array=[]\n",
    "    if array1.index.size==array2.index.size:\n",
    "        for i in range(0,array1.index.size):\n",
    "            array.append(array2.iloc[i]-array1.iloc[i])\n",
    "    df=pd.DataFrame(array)\n",
    "    return df"
   ]
  },
  {
   "cell_type": "markdown",
   "metadata": {},
   "source": [
    "<h4> Manhattan Distance: the method we will use </h4>"
   ]
  },
  {
   "cell_type": "code",
   "execution_count": null,
   "metadata": {
    "collapsed": true
   },
   "outputs": [],
   "source": [
    "def manhattanDistance2(s1,s2):\n",
    "    dist = distance.cityblock(s1,s2)\n",
    "    return dist"
   ]
  },
  {
   "cell_type": "code",
   "execution_count": null,
   "metadata": {
    "collapsed": true
   },
   "outputs": [],
   "source": [
    "def euclideanDistance(s1,s2):\n",
    "    #Verwacht een numpy array\n",
    "    dist = np.linalg.norm(s1-s2)\n",
    "    return dist"
   ]
  },
  {
   "cell_type": "code",
   "execution_count": null,
   "metadata": {
    "collapsed": true
   },
   "outputs": [],
   "source": [
    "def cosineSimilarity(s1,s2):\n",
    "    similarity = 1 - spatial.distance.cosine(s1, s2)\n",
    "    return similarity"
   ]
  },
  {
   "cell_type": "code",
   "execution_count": null,
   "metadata": {
    "collapsed": true
   },
   "outputs": [],
   "source": [
    "def mahalanobisDistance(s1,s2):\n",
    "    similarity = 1 - distance.mahalanobis(s1,s2)\n",
    "    return similarity"
   ]
  },
  {
   "cell_type": "code",
   "execution_count": null,
   "metadata": {
    "collapsed": false
   },
   "outputs": [],
   "source": [
    "def chebychev(s1,s2):\n",
    "    dist =  distance.chebyshev(s1,s2)\n",
    "    return dist"
   ]
  },
  {
   "cell_type": "code",
   "execution_count": null,
   "metadata": {
    "collapsed": true
   },
   "outputs": [],
   "source": [
    "def manhattanDistance(s1,s2):\n",
    "    difference=diffArrays(s1,s2)\n",
    "    absDifference=abs(difference)\n",
    "    sumOfValues=np.sum(absDifference)\n",
    "    maxValues=np.maximum(s1,s2)\n",
    "    maxValues=np.max(maxValues)\n",
    "    manhattan=sumOfValues/maxValues\n",
    "    return manhattan"
   ]
  },
  {
   "cell_type": "code",
   "execution_count": null,
   "metadata": {
    "collapsed": true
   },
   "outputs": [],
   "source": [
    "def hammingDistance(s1, s2):\n",
    "    \"\"\"Return the Hamming distance between equal-length sequences\"\"\"\n",
    "    if len(s1) != len(s2):\n",
    "        raise ValueError(\"Undefined for sequences of unequal length\")\n",
    "    return sum(el1 != el2 for el1, el2 in zip(s1, s2))"
   ]
  },
  {
   "cell_type": "code",
   "execution_count": null,
   "metadata": {
    "collapsed": true
   },
   "outputs": [],
   "source": [
    "def paa_transform(timeSeries, n_pieces):\n",
    "    splitted = np.array_split(timeSeries, n_pieces) ## along columns as we want\n",
    "    return np.asarray(map(lambda xs: xs.mean(axis = 0), splitted))"
   ]
  },
  {
   "cell_type": "code",
   "execution_count": null,
   "metadata": {
    "collapsed": true
   },
   "outputs": [],
   "source": [
    "def znormalization(ts):\n",
    "    #Pakt mean, std van kolom.\n",
    "    meanCalc = ts.mean(axis = 0)\n",
    "    stdCalc = ts.std(axis = 0)\n",
    "    return (ts - meanCalc) / stdCalc"
   ]
  },
  {
   "cell_type": "code",
   "execution_count": null,
   "metadata": {
    "collapsed": true
   },
   "outputs": [],
   "source": [
    "def sax_transform(ts, n_pieces, alphabet):\n",
    "    \"\"\"\n",
    "    ts: columns of which are time serieses represented by np.array\n",
    "    n_pieces: number of segments in paa transformation\n",
    "    alphabet: the letters to be translated to, e.g. \"abcd\", \"ab\"\n",
    "    return np.array of ts's sax transformation\n",
    "    Steps:\n",
    "    1. znormalize\n",
    "    2. paa\n",
    "    3. find norm distribution breakpoints by scipy.stats\n",
    "    4. convert paa transformation into strings\n",
    "    \"\"\"\n",
    "    from scipy.stats import norm\n",
    "    alphabet_sz = len(alphabet)\n",
    "    thrholds = norm.ppf(np.linspace(1./alphabet_sz, \n",
    "                                    1-1./alphabet_sz, \n",
    "                                    alphabet_sz-1))\n",
    "    def translate(ts_values):\n",
    "        return np.asarray([(alphabet[0] if ts_value < thrholds[0]\n",
    "                else (alphabet[-1] if ts_value > thrholds[-1]\n",
    "                      else alphabet[np.where(thrholds <= ts_value)[0][-1]+1]))\n",
    "                           for ts_value in ts_values])\n",
    "    paa_ts = paa_transform(znormalization(ts), n_pieces)\n",
    "    return np.apply_along_axis(translate, 0, paa_ts)"
   ]
  },
  {
   "cell_type": "code",
   "execution_count": null,
   "metadata": {
    "collapsed": true
   },
   "outputs": [],
   "source": [
    "def makeArray(array1):\n",
    "    arrayValues=[]    \n",
    "    for i in range(0, array1.size-1):\n",
    "        if(i<array1.size):\n",
    "             arrayValues.append(ord(array1.iloc[i])-97)\n",
    "    df=pd.DataFrame(arrayValues)\n",
    "    return df"
   ]
  },
  {
   "cell_type": "code",
   "execution_count": null,
   "metadata": {
    "collapsed": true
   },
   "outputs": [],
   "source": [
    "\n",
    "def makeDiffArray(array): #Excepts a letter array\n",
    "    arrayValues=[]    \n",
    "    for i in range(0, array.size-1):\n",
    "        if(i<array.size):\n",
    "             arrayValues.append(ord(array.iloc[i+1])-ord(array.iloc[i]))\n",
    "    df=pd.DataFrame(arrayValues)\n",
    "    return df          \n"
   ]
  },
  {
   "cell_type": "code",
   "execution_count": null,
   "metadata": {
    "collapsed": true
   },
   "outputs": [],
   "source": [
    "def differenceNumbers(array): #Expects array of numbers @\n",
    "    arrayValues=[]\n",
    "    for i in range(0, array.index.size):\n",
    "        arrayValues.append(np.diff(array.iloc[i], axis=-1))\n",
    "    df=pd.DataFrame(arrayValues)\n",
    "    return df"
   ]
  },
  {
   "cell_type": "code",
   "execution_count": null,
   "metadata": {
    "collapsed": true
   },
   "outputs": [],
   "source": [
    "def diffArrays(array1,array2):\n",
    "    array=[]\n",
    "    if array1.index.size==array2.index.size:\n",
    "        for i in range(0,array1.index.size):\n",
    "            array.append(array2.iloc[i]-array1.iloc[i])\n",
    "    df=pd.DataFrame(array)\n",
    "    return df"
   ]
  },
  {
   "cell_type": "code",
   "execution_count": null,
   "metadata": {
    "collapsed": true
   },
   "outputs": [],
   "source": [
    "zScores=znormalization(originalGraph)"
   ]
  },
  {
   "cell_type": "markdown",
   "metadata": {},
   "source": [
    "<h3> Visualisation of the different graphs (PAA, SAX, original graph, zscores) </h3>"
   ]
  },
  {
   "cell_type": "code",
   "execution_count": null,
   "metadata": {
    "collapsed": false,
    "scrolled": true
   },
   "outputs": [],
   "source": [
    "paaTransform = paa_transform(zScores,1850)\n",
    "paaTransfo = np.repeat(paaTransform,6, axis = 0)\n",
    "pl.figure()\n",
    "pl.plot(zScores, '-+')\n",
    "pl.plot(paaTransfo)\n",
    "pl.legend(loc = \"upper left\")"
   ]
  },
  {
   "cell_type": "code",
   "execution_count": null,
   "metadata": {
    "collapsed": false
   },
   "outputs": [],
   "source": [
    "originalGraphDf=pd.DataFrame(originalGraph)\n",
    "paaTransfoDf=pd.DataFrame(paaTransfo)\n",
    "paaTransfoDf=paaTransfoDf.iloc[:paaTransfoDf.size-27]\n",
    "paaTransfoDf.index=originalGraphDf.index\n",
    "graph = pd.concat([paaTransfoDf,zScores],axis=1).dropna()\n",
    "charts.plot(graph,stock=True,show='inline')\n"
   ]
  },
  {
   "cell_type": "markdown",
   "metadata": {},
   "source": [
    "<h3> Change numbers to letters </h3>"
   ]
  },
  {
   "cell_type": "code",
   "execution_count": null,
   "metadata": {
    "collapsed": false
   },
   "outputs": [],
   "source": [
    "saxTransformation=sax_transform(originalGraph, 1850, \"abcdefghijklmn\")"
   ]
  },
  {
   "cell_type": "code",
   "execution_count": null,
   "metadata": {
    "collapsed": false
   },
   "outputs": [],
   "source": [
    "'''\n",
    "Werkwijze:\n",
    "Dataframes gebruiken!\n",
    "-sax transfo\n",
    "-lettersq->nummers (makeArray())\n",
    "-np.repeat (plateau's)\n",
    "-plot(paa_transform+repeater,^)\n",
    "'''\n",
    "\n",
    "letters=pd.DataFrame(saxTransformation)\n",
    "letters.columns=['col1']\n",
    "lettersToNumSax=makeArray(letters.col1) #Expects a pandaframe\n",
    "\n",
    "repeatedValues=np.repeat(lettersToNumSax.as_matrix(),6) #expects an array\n",
    "\n",
    "dfRepeatedValues=pd.DataFrame(repeatedValues)\n",
    "\n",
    "dfRepeatedValues=dfRepeatedValues.iloc[:dfRepeatedValues.size-21]\n",
    "paaTransfoDf.index=dfRepeatedValues.index\n",
    "\n",
    "concatinatePaaAndSax=pd.concat([znormalization(dfRepeatedValues),paaTransfoDf],axis=1)\n",
    "concatinatePaaAndSax.columns=['col1','col2']\n",
    "\n",
    "charts.plot(znormalization(dfRepeatedValues),stock=True,show='inline')\n"
   ]
  },
  {
   "cell_type": "code",
   "execution_count": null,
   "metadata": {
    "collapsed": false
   },
   "outputs": [],
   "source": [
    "'''\n",
    "Werkwijze:\n",
    "Dataframes gebruiken!\n",
    "-sax transfo\n",
    "-lettersq->nummers (makeArray())\n",
    "-np.repeat (plateau's)\n",
    "-plot(paa_transform+repeater,^)\n",
    "'''\n",
    "\n",
    "letters=pd.DataFrame(saxTransformation)\n",
    "letters.columns=['col1']\n",
    "lettersToNumSax=makeArray(letters.col1) #Expects a pandaframe\n",
    "\n",
    "repeatedValues=np.repeat(lettersToNumSax.as_matrix(),6) #expects an array\n",
    "\n",
    "dfRepeatedValues=pd.DataFrame(repeatedValues)\n",
    "\n",
    "dfRepeatedValues=dfRepeatedValues.iloc[:dfRepeatedValues.size-21]\n",
    "paaTransfoDf.index=dfRepeatedValues.index\n",
    "\n",
    "concatinatePaaAndSax=pd.concat([znormalization(dfRepeatedValues),paaTransfoDf],axis=1)\n",
    "concatinatePaaAndSax.columns=['col1','col2']\n",
    "\n",
    "charts.plot(concatinatePaaAndSax,stock=True,show='inline')\n"
   ]
  },
  {
   "cell_type": "code",
   "execution_count": null,
   "metadata": {
    "collapsed": true
   },
   "outputs": [],
   "source": []
  },
  {
   "cell_type": "code",
   "execution_count": null,
   "metadata": {
    "collapsed": true
   },
   "outputs": [],
   "source": []
  },
  {
   "cell_type": "code",
   "execution_count": null,
   "metadata": {
    "collapsed": false,
    "scrolled": true
   },
   "outputs": [],
   "source": [
    "# dfRepeatedValues.index=zScores.index\n",
    "# saxVsOriginalGraph=pd.concat([(dfRepeatedValues), znormalization(originalGraph)],axis=1).dropna()\n",
    "# charts.plot(saxVsOriginalGraph, stock=True, show='inline')"
   ]
  },
  {
   "cell_type": "code",
   "execution_count": null,
   "metadata": {
    "collapsed": false
   },
   "outputs": [],
   "source": [
    "# saxVsOriginalGraph2=pd.concat([(dfRepeatedValues), (originalGraph)],axis=1).dropna()\n",
    "# charts.plot(saxVsOriginalGraph2, stock=True, show='inline')"
   ]
  },
  {
   "cell_type": "markdown",
   "metadata": {},
   "source": [
    "# Storing comparing arrays used in the methods below"
   ]
  },
  {
   "cell_type": "code",
   "execution_count": null,
   "metadata": {
    "collapsed": false,
    "scrolled": true
   },
   "outputs": [],
   "source": [
    "# dfCompare=dfRepeatedValues.ix[pd.Timestamp('2015-11-13 16:25:00+00:00'):pd.Timestamp('2015-11-13 17:16:00+00:00')]\n",
    "# dfCompare2=dfRepeatedValues.ix[pd.Timestamp('2015-11-14 15:25:00+00:00'):pd.Timestamp('2015-11-14 16:45:00+00:00')]\n",
    "dfCompareOriginal=originalGraphDf.ix[pd.Timestamp('2015-11-13 16:25:00+00:00'):pd.Timestamp('2015-11-13 17:16:00+00:00')]\n",
    "dfCompareOriginal2=originalGraphDf.ix[pd.Timestamp('2015-11-14 15:25:00+00:00'):pd.Timestamp('2015-11-14 16:45:00+00:00')]"
   ]
  },
  {
   "cell_type": "markdown",
   "metadata": {},
   "source": [
    "# New method with timestamp correction and automatic graph creation"
   ]
  },
  {
   "cell_type": "code",
   "execution_count": null,
   "metadata": {
    "collapsed": false
   },
   "outputs": [],
   "source": [
    " def calculate_lowest_values(dfWithValues, arrayToCompare, amountOfSaves, amountOfValues):\n",
    "    start=time.time()\n",
    "    #Create list where values on which the different methods will act will be saved temporarily\n",
    "    #This list will be cleared every time\n",
    "    valuesList=[]\n",
    "\n",
    "    #Create list with results of the methods\n",
    "    resultList=[]\n",
    "    dfResult=pd.DataFrame(resultList)\n",
    "    compareToArray=np.array(arrayToCompare)\n",
    "    i=0 #Loops through list arrayToCompare.size times\n",
    "    j=0 #Amount of values considered, and calculated.\n",
    "    loopIndex=0 #Loops through the resultslist, as long as its size\n",
    "    currentSaves=0 #Current amount of variables saved\n",
    "    arrayWithValues=np.array(dfWithValues)\n",
    "    startingTimeStamp=dfWithValues.index[0]#Todo with speed\n",
    "    stopTimeStamp=dfWithValues.index[arrayToCompare.size-1]\n",
    "    \n",
    "    \n",
    "    #LOOPING THROUGH LIST\n",
    "    while i < arrayToCompare.size+j: #i is dependent on j, i updates as j updates.\n",
    "        valuesList.append(([arrayWithValues[i][0]]))\n",
    "        i=i+1\n",
    "        if(i==(arrayToCompare.size+j)) and(j<amountOfValues) and (i<=(dfWithValues.size-arrayToCompare.size)): #amountOfValuesToBeConsidered.\n",
    "            #j = the minute at this moment. i = starting from the current minute, adding the size of the array to compare.\n",
    "            #Stops running when the limit of values to be considered is reached, being the size the original array.\n",
    "            valuesToArray=np.array(valuesList)\n",
    "            if(j==0) or (manhattanDistance2(compareToArray,valuesToArray)!=resultList[len(resultList)-1][0]):\n",
    "                #Create list with values. Save them in \"resultList\". Euclidean score, startTimestamp, stopTimestamp\n",
    "                resultList.append([manhattanDistance2(compareToArray,valuesToArray), startingTimeStamp,stopTimeStamp]) \n",
    "            j=j+1\n",
    "            startingTimeStamp=dfWithValues.index[j] #startingTimeStamp: current minute considered\n",
    "            stopTimeStamp=dfWithValues.index[i] #stopTimeStamp: current minute considered + size of array to compare.\n",
    "            i=j\n",
    "            valuesList=[]\n",
    "    \n",
    "    \n",
    "    #SAVING ONLY RELEVANT VALUES       \n",
    "    #print \"All\",amountOfValues,\"are stored in an array.\\nNow looping through the list to find the lowest values.\\nThis is done by checking if the value before and after a certain value is higher than that value.\"\n",
    "    while loopIndex < len(resultList):\n",
    "        if(currentSaves<amountOfSaves): #First save x amount of variables into the array\n",
    "            [value,startTimeStamp,stopTimeStamp] = [resultList[loopIndex][0], resultList[loopIndex][1], resultList[loopIndex][2]]\n",
    "            dfResult=dfResult.append(pd.DataFrame([[value, startTimeStamp,stopTimeStamp]], index=[currentSaves], columns=['Manhattan','startTimeStamp','stopTimeStamp']))\n",
    "            currentSaves=currentSaves+1\n",
    "            #print \"index:\",loopIndex\n",
    "        #Only adding values if value is lower than the 2 neighbours\n",
    "        elif(resultList[loopIndex-1][0] < resultList[loopIndex-2][0]) and (resultList[loopIndex-1][0] < resultList[loopIndex][0]) and resultList[loopIndex-1][0] < dfResult.max()['Manhattan']:\n",
    "            #print \"Value\", resultList[loopIndex-1][0],\",Index:\",loopIndex-1,\"has a lower value than value left and right to it.(\",resultList[loopIndex-2][0],\",\",resultList[loopIndex][0],\") nIt will now replace\", dfResult['Euclidean'].max(),\"in the dataset.\"\n",
    "            [value,startTimeStamp,stopTimeStamp] = [resultList[loopIndex-1][0], resultList[loopIndex-1][1], resultList[loopIndex-1][2]]\n",
    "            thresholdValue=arrayToCompare.size/10\n",
    "            listWithValues=[]\n",
    "            maxValue=0\n",
    "            i=0 \n",
    "            \n",
    "            \n",
    "            #!!!Timestamps are important. If timestamp is within the range of another timestamp already present,\n",
    "            #they will overwrite eachother instead of adding a new unique value\n",
    "            while i < dfResult.index.size:\n",
    "                if(startTimeStamp >= dfResult['startTimeStamp'][i]) and (startTimeStamp <= dfResult['stopTimeStamp'][i]-pd.Timedelta(minutes=thresholdValue)):\n",
    "                    if(dfResult.loc[i][0] > maxValue) and (dfResult.loc[i][0]!=0): #Store the maximum value, of the range between start and stoptimestamp.\n",
    "                        maxValue=dfResult.loc[i][0]\n",
    "                        ts=dfResult.loc[i][1]\n",
    "                    elif(dfResult.loc[i][0]==0):\n",
    "                         #print \"THE PERFECT MATCH IS FOUND WITH TIMESTAMP:\", ts,\" AND VALUE: \", dfResult.loc[i][0]\n",
    "                        maxValue=1\n",
    "                i=i+1\n",
    "            if(maxValue==0): #Means that start and stop timestamp are outside of the boundaries\n",
    "                dfResult.loc[dfResult['Manhattan'].idxmax()]=[value,startTimeStamp, stopTimeStamp]\n",
    "            elif(value < maxValue): #Check if the current value is smaller than the Maximum value encountered\n",
    "                    dfResult.loc[dfResult['Manhattan']== maxValue] = [value, startTimeStamp, stopTimeStamp]\n",
    "        loopIndex=loopIndex+1\n",
    "    dfResult=dfResult.sort_values(['Manhattan'])\n",
    "    return dfResult\n",
    "#     return charts.plot(listWithGraphs, stock=True, show='inline')\n",
    "        "
   ]
  },
  {
   "cell_type": "code",
   "execution_count": null,
   "metadata": {
    "collapsed": true
   },
   "outputs": [],
   "source": [
    "def create_graph_from(df):\n",
    "    listWithGraphs=[]\n",
    "    listWithGraphs=pd.DataFrame(listWithGraphs)\n",
    "    for i in range (0, df.index.size):\n",
    "        listWithGraphs=listWithGraphs.append(originalGraphDfDropNa.ix[pd.Timestamp(df['startTimeStamp'][i]):pd.Timestamp(df['stopTimeStamp'][i])])\n",
    "    return charts.plot(listWithGraphs, stock=True, show='inline')"
   ]
  },
  {
   "cell_type": "markdown",
   "metadata": {},
   "source": [
    "<h2> Calculating threshold value </h2>"
   ]
  },
  {
   "cell_type": "code",
   "execution_count": null,
   "metadata": {
    "collapsed": false,
    "scrolled": true
   },
   "outputs": [],
   "source": [
    "best_values_df=calculate_lowest_values(originalGraphDfDropNa, dfCompareOriginal, 10, originalGraphDfDropNa.size)"
   ]
  },
  {
   "cell_type": "code",
   "execution_count": null,
   "metadata": {
    "collapsed": false
   },
   "outputs": [],
   "source": [
    "best_values_df"
   ]
  },
  {
   "cell_type": "code",
   "execution_count": null,
   "metadata": {
    "collapsed": false
   },
   "outputs": [],
   "source": [
    "# create_graph_from(best_values_df)"
   ]
  },
  {
   "cell_type": "code",
   "execution_count": null,
   "metadata": {
    "collapsed": false
   },
   "outputs": [],
   "source": [
    "df100 = [1]\n",
    "df100=pd.DataFrame(df100,index=[0])\n",
    "for i in range (1,100):\n",
    "    df100=df100.append(pd.DataFrame([i], index=[i]))\n",
    "best_values_df.index=df100.index"
   ]
  },
  {
   "cell_type": "markdown",
   "metadata": {},
   "source": [
    "<h2> Clustering </h2>"
   ]
  },
  {
   "cell_type": "markdown",
   "metadata": {},
   "source": [
    "<h3> Storing mean/max/median </h3>"
   ]
  },
  {
   "cell_type": "code",
   "execution_count": null,
   "metadata": {
    "collapsed": true
   },
   "outputs": [],
   "source": [
    "maxValues=[]\n",
    "dfMaxValues=pd.DataFrame(maxValues)\n",
    "meanValues=[]\n",
    "medianValues=[]\n",
    "for i in range (0,100):\n",
    "        maxValues.append(originalGraphDfDropNa.ix[pd.Timestamp(best_values_df['startTimeStamp'].iloc[i]):pd.Timestamp(best_values_df['stopTimeStamp'].iloc[i])].max())\n",
    "        meanValues.append(originalGraphDfDropNa.ix[pd.Timestamp(best_values_df['startTimeStamp'].iloc[i]):pd.Timestamp(best_values_df['stopTimeStamp'].iloc[i])].mean())\n",
    "        medianValues.append(originalGraphDfDropNa.ix[pd.Timestamp(best_values_df['startTimeStamp'].iloc[i]):pd.Timestamp(best_values_df['stopTimeStamp'].iloc[i])].median())"
   ]
  },
  {
   "cell_type": "markdown",
   "metadata": {},
   "source": [
    "<h3> Normalizing the results and storing in df </h3>"
   ]
  },
  {
   "cell_type": "code",
   "execution_count": null,
   "metadata": {
    "collapsed": true
   },
   "outputs": [],
   "source": [
    "max_values=pd.DataFrame(maxValues)\n",
    "mean_values=pd.DataFrame(meanValues)\n",
    "median_values=pd.DataFrame(medianValues)\n",
    "norm_max_values= max_values/max_values.max()\n",
    "norm_mean_values=mean_values/mean_values.max()\n",
    "norm_median_values=median_values/median_values.max()\n",
    "norm_manhattan=best_values_df['Manhattan']/best_values_df['Manhattan'].max()"
   ]
  },
  {
   "cell_type": "code",
   "execution_count": null,
   "metadata": {
    "collapsed": false
   },
   "outputs": [],
   "source": [
    "best_values_df_concat = pd.concat([bestValuesDf,max_values, mean_values, median_values,norm_manhattan*2,norm_max_values,norm_mean_values,norm_median_values],axis=1)\n",
    "best_values_df_concat.columns=['Manhattan','startTimeStamp','stopTimeStamp','Max', 'Mean', 'Median', 'normManhattan','normMax', 'normMean','normMedian']"
   ]
  },
  {
   "cell_type": "markdown",
   "metadata": {},
   "source": [
    "<h3> Clustering operation </h3>"
   ]
  },
  {
   "cell_type": "code",
   "execution_count": null,
   "metadata": {
    "collapsed": false
   },
   "outputs": [],
   "source": [
    "df_result = pd.DataFrame(data=[best_values_df_concat['normManhattan'].as_matrix(),best_values_df_concat['normManhattan'].as_matrix()]).transpose()\n",
    "result=df_result.as_matrix()"
   ]
  },
  {
   "cell_type": "code",
   "execution_count": null,
   "metadata": {
    "collapsed": false
   },
   "outputs": [],
   "source": [
    "ms = MeanShift()\n",
    "ms.fit(result)\n",
    "labels = ms.labels_\n",
    "cluster_centers = ms.cluster_centers_\n",
    "n_cluster = len(np.unique(labels))\n",
    "colors = 10*['g.', 'r.', 'c.', 'b.', 'k.', 'y.', 'm.']"
   ]
  },
  {
   "cell_type": "code",
   "execution_count": null,
   "metadata": {
    "collapsed": false,
    "scrolled": true
   },
   "outputs": [],
   "source": [
    "for i in range(len(result)):\n",
    "    plt.plot(result[i][0], result[i][1], colors[labels[i]], markersize = 10)\n",
    "\n",
    "plt.scatter(cluster_centers[:,0],cluster_centers[:,1], marker = \"x\", s = 150, linewidths = 5, zorder = 10)\n",
    "plt.xlabel('score')\n",
    "plt.ylabel('maximale hoogte')\n",
    "plt.show()"
   ]
  },
  {
   "cell_type": "markdown",
   "metadata": {},
   "source": [
    "<h3>Printing graph according to type </h3>"
   ]
  },
  {
   "cell_type": "code",
   "execution_count": null,
   "metadata": {
    "collapsed": false
   },
   "outputs": [],
   "source": [
    "del best_values_df_concat['Type']\n",
    "best_values_df_concat.insert(loc=10, column='Type', value=labels)"
   ]
  },
  {
   "cell_type": "code",
   "execution_count": null,
   "metadata": {
    "collapsed": false
   },
   "outputs": [],
   "source": [
    "print labels\n",
    "for i in range (0,100):\n",
    "    if best_values_df_concat['Type'].iloc[i] == 0:\n",
    "        plt.plot(originalGraphDfDropNa.ix[pd.Timestamp(best_values_df_concat['startTimeStamp'].iloc[i]):pd.Timestamp(best_values_df_concat['stopTimeStamp'].iloc[i])])     "
   ]
  },
  {
   "cell_type": "code",
   "execution_count": null,
   "metadata": {
    "collapsed": false
   },
   "outputs": [],
   "source": [
    "# labels=pd.DataFrame(labels)\n",
    "# concat= pd.concat([best_values_df_concat,labels],axis=1)\n",
    "# concat.columns=['Manhattan','startTimeStamp','stopTimeStamp','Max', 'Mean', 'Median', 'normManhattan','normMax', 'normMean','normMedian', 'Type']"
   ]
  },
  {
   "cell_type": "markdown",
   "metadata": {},
   "source": [
    "<h3>Adding height/mean/median to dataframe</h3>"
   ]
  },
  {
   "cell_type": "markdown",
   "metadata": {},
   "source": [
    "<h4> Clusters and labels for height </h4>"
   ]
  },
  {
   "cell_type": "code",
   "execution_count": null,
   "metadata": {
    "collapsed": false
   },
   "outputs": [],
   "source": [
    "df_result_height = pd.DataFrame(data=[best_values_df_concat['normManhattan'].as_matrix(),best_values_df_concat['normMedian'].as_matrix(),best_values_df_concat['normMean'].as_matrix()]).transpose()\n",
    "result_height=df_result_height.as_matrix()"
   ]
  },
  {
   "cell_type": "code",
   "execution_count": null,
   "metadata": {
    "collapsed": true
   },
   "outputs": [],
   "source": [
    "ms = MeanShift()\n",
    "ms.fit(result_height)\n",
    "labels_height = ms.labels_\n",
    "cluster_centers_height = ms.cluster_centers_\n",
    "n_cluster_height = len(np.unique(labels_height))\n",
    "colors = 10*['g.', 'r.', 'c.', 'b.', 'k.', 'y.', 'm.']"
   ]
  },
  {
   "cell_type": "code",
   "execution_count": null,
   "metadata": {
    "collapsed": false,
    "scrolled": false
   },
   "outputs": [],
   "source": [
    "# labels_height=pd.DataFrame(labels_height)\n",
    "# df=(labels-labels_height)\n",
    "# # with pd.option_context('display.max_rows', None, 'display.max_columns', 3):\n",
    "# #     print df"
   ]
  },
  {
   "cell_type": "code",
   "execution_count": null,
   "metadata": {
    "collapsed": false,
    "scrolled": true
   },
   "outputs": [],
   "source": [
    "for i in range(len(result_height)):\n",
    "    plt.plot(result_height[i][0], result_height[i][1], colors[labels_height[i]], markersize = 10)\n",
    "\n",
    "plt.scatter(cluster_centers_height[:,0],cluster_centers_height[:,1], marker = \"x\", s = 150, linewidths = 5, zorder = 10)\n",
    "print labels_height\n",
    "plt.xlabel('score')\n",
    "plt.ylabel('height')\n",
    "plt.show()"
   ]
  },
  {
   "cell_type": "code",
   "execution_count": null,
   "metadata": {
    "collapsed": false
   },
   "outputs": [],
   "source": [
    "labels_height=pd.DataFrame(labels_height)\n",
    "concat_height= pd.concat([bestValuesDfConcat,labels_height],axis=1)\n",
    "concat_height.columns=['Manhattan','startTimeStamp','stopTimeStamp','Max', 'Mean', 'Median', 'normManhattan','normMax', 'normMean','normMedian', 'Type']"
   ]
  },
  {
   "cell_type": "markdown",
   "metadata": {},
   "source": [
    "<h3> Printing different cluster labels </h3>"
   ]
  },
  {
   "cell_type": "code",
   "execution_count": null,
   "metadata": {
    "collapsed": false,
    "scrolled": false
   },
   "outputs": [],
   "source": [
    "for i in range (0,100):\n",
    "    if concat_height['Type'].iloc[i] == 1:\n",
    "        plt.plot(originalGraphDfDropNa.ix[pd.Timestamp(concat_height['startTimeStamp'].iloc[i]):pd.Timestamp(concat_height['stopTimeStamp'].iloc[i])])"
   ]
  },
  {
   "cell_type": "markdown",
   "metadata": {},
   "source": [
    "<h4> Clusters and labels for median </h4>"
   ]
  },
  {
   "cell_type": "markdown",
   "metadata": {},
   "source": [
    "<h4>Comparison with dataframe which looks nothing like the original dataframe</h4>"
   ]
  },
  {
   "cell_type": "code",
   "execution_count": null,
   "metadata": {
    "collapsed": false
   },
   "outputs": [],
   "source": [
    "charts.plot(originalGraph, stock=True, show='inline')"
   ]
  },
  {
   "cell_type": "code",
   "execution_count": null,
   "metadata": {
    "collapsed": false
   },
   "outputs": [],
   "source": [
    "dfCompareOriginal10=originalGraphDf.ix[pd.Timestamp('2015-11-14 09:00:00+00:00'):pd.Timestamp('2015-11-14 09:51:00+00:00')]"
   ]
  },
  {
   "cell_type": "code",
   "execution_count": null,
   "metadata": {
    "collapsed": false
   },
   "outputs": [],
   "source": [
    "dfCompareOriginal10.size"
   ]
  },
  {
   "cell_type": "code",
   "execution_count": null,
   "metadata": {
    "collapsed": false
   },
   "outputs": [],
   "source": [
    "print \"Manhattan:\", manhattanDistance2(dfCompareOriginal,dfCompareOriginal10)\n",
    "npdfCompareOriginal=np.array(dfCompareOriginal)\n",
    "npdfCompareOriginal10=np.array(dfCompareOriginal10)\n",
    "print \"Euclidean:\", euclideanDistance(npdfCompareOriginal,npdfCompareOriginal10)"
   ]
  },
  {
   "cell_type": "markdown",
   "metadata": {},
   "source": [
    "#### PAA values"
   ]
  },
  {
   "cell_type": "code",
   "execution_count": null,
   "metadata": {
    "collapsed": true
   },
   "outputs": [],
   "source": [
    "#use paa values"
   ]
  },
  {
   "cell_type": "markdown",
   "metadata": {},
   "source": [
    "#### Other compare, original values"
   ]
  },
  {
   "cell_type": "code",
   "execution_count": null,
   "metadata": {
    "collapsed": true
   },
   "outputs": [],
   "source": [
    "#testing other compare method"
   ]
  },
  {
   "cell_type": "markdown",
   "metadata": {},
   "source": [
    "# Method on PAA values"
   ]
  },
  {
   "cell_type": "code",
   "execution_count": null,
   "metadata": {
    "collapsed": false,
    "scrolled": true
   },
   "outputs": [],
   "source": [
    "originalGraphDf"
   ]
  },
  {
   "cell_type": "code",
   "execution_count": null,
   "metadata": {
    "collapsed": false
   },
   "outputs": [],
   "source": [
    "calculateWeightsNewGraph(dfRepeatedValues, dfCompare, 10, 11000)"
   ]
  },
  {
   "cell_type": "markdown",
   "metadata": {},
   "source": [
    "# Testing Graph Method"
   ]
  },
  {
   "cell_type": "code",
   "execution_count": null,
   "metadata": {
    "collapsed": true
   },
   "outputs": [],
   "source": [
    "dfWithValues=calculateWeightsNew(dfRepeatedValues, dfCompare, 20, 11000)"
   ]
  },
  {
   "cell_type": "code",
   "execution_count": null,
   "metadata": {
    "collapsed": false,
    "scrolled": true
   },
   "outputs": [],
   "source": [
    "concatinate=pd.concat([dfListWithStoredValues,dfListWithStoredValuesPAA],axis=1)\n",
    "concatinate.columns=['col1','col2']\n",
    "charts.plot(concatinate, stock=True, show='inline')"
   ]
  },
  {
   "cell_type": "code",
   "execution_count": null,
   "metadata": {
    "collapsed": true
   },
   "outputs": [],
   "source": [
    "#Check if timestamp is within boundaries of a value already present in the list.\n",
    "            #If it is, and if the value is lower than the value present, it will interchange the value.\n",
    "            \n",
    "            #One problem that may occur: it will replace the value that was present with a new Timestamp, a timestamp\n",
    "            #which is later than the previous timestamp. If a new value comes in, and it is within the boundaries of this second\n",
    "            #timestamp, but not within the boundaries of the first one replaced, it will still replace the second one\n",
    "            #resulting in the third timestamp replacing the second one without the first one being present anymore while they\n",
    "            #were actually two different stamps.\n",
    "            \n",
    "            #How to solve? Store the stopTimeStamp of the replaced value, and only if the value after being replaced, is lower than this stopTimeStamp,\n",
    "            #Then the third timestamp can replace the second one, otherwise it will add it as a new entry and clear the stopTimeStamp"
   ]
  },
  {
   "cell_type": "code",
   "execution_count": null,
   "metadata": {
    "collapsed": true
   },
   "outputs": [],
   "source": [
    " def savingBestValues(dfWithValues, arrayToCompare, amountOfSaves, amountOfValues):\n",
    "    start=time.time()\n",
    "    #Create list where values on which the different methods will act will be saved temporarily\n",
    "    #This list will be cleared every time\n",
    "    valuesList=[]\n",
    "\n",
    "    #Create list with results of the methods\n",
    "    resultList=[]\n",
    "    dfResult=pd.DataFrame(resultList)\n",
    "\n",
    "    compareToArray=np.array(arrayToCompare)\n",
    "    i=0 #Loops through list arrayToCompare.size times\n",
    "    j=0 #Amount of values considered, and calculated.\n",
    "    loopIndex=0 #Loops through the resultslist, as long as its size\n",
    "    currentSaves=0 \n",
    "    arrayWithValues=np.array(dfWithValues)\n",
    "    startingTimeStamp=dfWithValues.index[0]#Todo with speed\n",
    "    stopTimeStamp=dfWithValues.index[arrayToCompare.size-1]\n",
    "    while i < arrayToCompare.size+j: #i is dependent on j, i updates as j updates.\n",
    "        valuesList.append(([arrayWithValues[i][0]]))\n",
    "        #print \"Value now:\", arrayWithValues[i]\n",
    "        i=i+1\n",
    "        valuesToArray=np.array(valuesList)\n",
    "        #print \"i:\",i\n",
    "        if(i==(arrayToCompare.size+j)) and(j<amountOfValues) and (i<=(dfWithValues.size-arrayToCompare.size)): #amountOfValuesToBeConsidered.\n",
    "            #print \"i:\",i, \"compare\", arrayToCompare.size+j\n",
    "            if(j==0) or (manhattanDistance2(compareToArray,valuesToArray)!=resultList[len(resultList)-1][0]):\n",
    "                resultList.append([manhattanDistance2(compareToArray,valuesToArray), startingTimeStamp,stopTimeStamp]) #Create list with values\n",
    "            j=j+1\n",
    "            i=j\n",
    "            startingTimeStamp=dfWithValues.index[j]\n",
    "            stopTimeStamp=dfWithValues.index[arrayToCompare.size+j-1]\n",
    "            valuesList=[]\n",
    "    #print \"All\",amountOfValues,\"are stored in an array.\\nNow looping through the list to find the lowest values.\\nThis is done by checking if the value before and after a certain value is higher than that value.\"\n",
    "    while loopIndex < len(resultList):\n",
    "        if(currentSaves<amountOfSaves):\n",
    "            #print \"currentsaves\", currentSaves, [value,timeStamp]\n",
    "            [value,startTimeStamp,stopTimeStamp] = [resultList[loopIndex-1][0], resultList[loopIndex-1][1], resultList[loopIndex-1][2]]\n",
    "            dfResult=dfResult.append(pd.DataFrame([[value, startTimeStamp,stopTimeStamp]], index=[currentSaves], columns=['Manhattan','startTimeStamp','stopTimeStamp']))\n",
    "            currentSaves=currentSaves+1\n",
    "            #print \"index:\",loopIndex\n",
    "        elif(resultList[loopIndex-1][0] < resultList[loopIndex-2][0]) and (resultList[loopIndex-1][0] < resultList[loopIndex][0]) and resultList[loopIndex-1][0] < dfResult.max()['Manhattan']:\n",
    "            #If the value in the dataset is smaller than its 2 neighbours AND the value is smaller than the maximum value present in the dataframe at this moment.\n",
    "            #print \"Value\", resultList[loopIndex-1][0],\",Index:\",loopIndex-1,\"has a lower value than value left and right to it.(\",resultList[loopIndex-2][0],\",\",resultList[loopIndex][0],\") nIt will now replace\", dfResult['Euclidean'].max(),\"in the dataset.\"\n",
    "            [value,startTimeStamp,stopTimeStamp] = [resultList[loopIndex-1][0], resultList[loopIndex-1][1], resultList[loopIndex-1][2]]\n",
    "            dfResult.loc[dfResult['Manhattan'].idxmax()]=[value,startTimeStamp, stopTimeStamp]\n",
    "        loopIndex=loopIndex+1\n",
    "    dfResult=dfResult.sort_values(['startTimeStamp'])\n",
    "    print(time.time()-start)\n",
    "    return dfResult\n",
    "                    "
   ]
  },
  {
   "cell_type": "code",
   "execution_count": null,
   "metadata": {
    "collapsed": true
   },
   "outputs": [],
   "source": [
    " def calculateWeightsNew(dfWithValues, arrayToCompare, amountOfSaves, amountOfValues):\n",
    "    start=time.time()\n",
    "    #Create list where values on which the different methods will act will be saved temporarily\n",
    "    #This list will be cleared every time\n",
    "    valuesList=[]\n",
    "\n",
    "    #Create list with results of the methods\n",
    "    resultList=[]\n",
    "    dfResult=pd.DataFrame(resultList)\n",
    "\n",
    "    compareToArray=np.array(arrayToCompare)\n",
    "    i=0 #Loops through list arrayToCompare.size times\n",
    "    j=0 #Amount of values considered, and calculated.\n",
    "    loopIndex=0 #Loops through the resultslist, as long as its size\n",
    "    currentSaves=0 \n",
    "    arrayWithValues=np.array(dfWithValues)\n",
    "    startingTimeStamp=dfWithValues.index[0]#Todo with speed\n",
    "    stopTimeStamp=dfWithValues.index[arrayToCompare.size-1]\n",
    "    while i < arrayToCompare.size+j: #i is dependent on j, i updates as j updates.\n",
    "        valuesList.append(([arrayWithValues[i][0]]))\n",
    "        #print \"Value now:\", arrayWithValues[i]\n",
    "        i=i+1\n",
    "        valuesToArray=np.array(valuesList)\n",
    "        #print \"i:\",i\n",
    "        if(i==(arrayToCompare.size+j)) and(j<amountOfValues) and (i<=(dfWithValues.size-arrayToCompare.size)): #amountOfValuesToBeConsidered.\n",
    "            #print \"i:\",i, \"compare\", arrayToCompare.size+j\n",
    "            if(j==0) or (manhattanDistance2(compareToArray,valuesToArray)!=resultList[len(resultList)-1][0]):\n",
    "                resultList.append([manhattanDistance2(compareToArray,valuesToArray), startingTimeStamp,stopTimeStamp]) #Create list with values\n",
    "            j=j+1\n",
    "            i=j\n",
    "            startingTimeStamp=dfWithValues.index[j]\n",
    "            stopTimeStamp=dfWithValues.index[arrayToCompare.size+j-1]\n",
    "            valuesList=[]\n",
    "    #print \"All\",amountOfValues,\"are stored in an array.\\nNow looping through the list to find the lowest values.\\nThis is done by checking if the value before and after a certain value is higher than that value.\"\n",
    "    while loopIndex < len(resultList):\n",
    "        if(currentSaves<amountOfSaves):\n",
    "            #print \"currentsaves\", currentSaves, [value,timeStamp]\n",
    "            [value,startTimeStamp,stopTimeStamp] = [resultList[loopIndex-1][0], resultList[loopIndex-1][1], resultList[loopIndex-1][2]]\n",
    "            dfResult=dfResult.append(pd.DataFrame([[value, startTimeStamp,stopTimeStamp]], index=[currentSaves], columns=['Manhattan','startTimeStamp','stopTimeStamp']))\n",
    "            currentSaves=currentSaves+1\n",
    "            #print \"index:\",loopIndex\n",
    "        elif(resultList[loopIndex-1][0] < resultList[loopIndex-2][0]) and (resultList[loopIndex-1][0] < resultList[loopIndex][0]) and resultList[loopIndex-1][0] < dfResult.max()['Manhattan']:\n",
    "            #If the value in the dataset is smaller than its 2 neighbours AND the value is smaller than the maximum value present in the dataframe at this moment.\n",
    "            #print \"Value\", resultList[loopIndex-1][0],\",Index:\",loopIndex-1,\"has a lower value than value left and right to it.(\",resultList[loopIndex-2][0],\",\",resultList[loopIndex][0],\") nIt will now replace\", dfResult['Euclidean'].max(),\"in the dataset.\"\n",
    "            [value,startTimeStamp,stopTimeStamp] = [resultList[loopIndex-1][0], resultList[loopIndex-1][1], resultList[loopIndex-1][2]]\n",
    "            dfResult.loc[dfResult['Manhattan'].idxmax()]=[value,startTimeStamp, stopTimeStamp]\n",
    "        loopIndex=loopIndex+1\n",
    "    dfResult=dfResult.sort_values(['startTimeStamp'])\n",
    "    print(time.time()-start)\n",
    "    return dfResult\n",
    "                    "
   ]
  },
  {
   "cell_type": "code",
   "execution_count": null,
   "metadata": {
    "collapsed": false
   },
   "outputs": [],
   "source": [
    " def create_list_view(df_with_values, array_to_compare, amount_of_saves, amount_of_values):\n",
    "    start=time.time()\n",
    "    #Create list where values on which the different methods will act will be saved temporarily\n",
    "    #This list will be cleared every time\n",
    "    values_list=[]\n",
    "    #Create list with results of the methods\n",
    "    result_list=[]\n",
    "    df_result=pd.DataFrame(result_list)\n",
    "    compare_to_array=np.array(array_to_compare)\n",
    "    i=0 #Loops through list arrayToCompare.size times\n",
    "    j=0 #Amount of values considered, and calculated.\n",
    "    loop_index=0 #Loops through the resultslist, as long as its size\n",
    "    current_saves=0 #Current amount of variables saved\n",
    "    array_with_values=np.array(df_with_values)\n",
    "    starting_time_stamp=df_with_values.index[0]#Todo with speed\n",
    "    stop_time_stamp=df_with_values.index[array_to_compare.size-1]\n",
    "    \n",
    "    #Threshold\n",
    "    threshold_value=array_to_compare.size/10\n",
    "    #LOOPING THROUGH LIST\n",
    "    while i < array_to_compare.size+j: #i is dependent on j, i updates as j updates.\n",
    "        values_list.append(([array_with_values[i][0]]))\n",
    "        i=i+1\n",
    "        if(i==(array_to_compare.size+j)) and(j<amount_of_values) and (i<=(df_with_values.size-array_to_compare.size)): #amountOfValuesToBeConsidered.\n",
    "            #j = the minute at this moment. i = starting from the current minute, adding the size of the array to compare.\n",
    "            #Stops running when the limit of values to be considered is reached, being the size the original array.\n",
    "            values_to_array=np.array(values_list)\n",
    "            if(j==0) or (manhattanDistance2(compare_to_array,values_to_array)!=result_list[len(result_list)-1][0]):\n",
    "                #Create list with values. Save them in \"resultList\". Euclidean score, startTimestamp, stopTimestamp\n",
    "                result_list.append([manhattanDistance2(compare_to_array,values_to_array), starting_time_stamp,stop_time_stamp]) \n",
    "            j=j+1\n",
    "            starting_time_stamp=df_with_values.index[j] #startingTimeStamp: current minute considered\n",
    "            stop_time_stamp=df_with_values.index[i] #stopTimeStamp: current minute considered + size of array to compare.\n",
    "            i=j\n",
    "            values_list=[]\n",
    "    \n",
    "    print \"finished looping: \", time.time()-start\n",
    "    print result_list\n",
    "    #SAVING ONLY RELEVANT VALUES       \n",
    "    #print \"All\",amountOfValues,\"are stored in an array.\\nNow looping through the list to find the lowest values.\\nThis is done by checking if the value before and after a certain value is higher than that value.\"\n",
    "    while loop_index < len(result_list):\n",
    "        if(loop_index==0):\n",
    "            [value,start_time_stamp,stop_time_stamp] = [result_list[loop_index][0], result_list[loop_index][1], result_list[loop_index][2]]\n",
    "            df_result=df_result.append(pd.DataFrame([[value, start_time_stamp,stop_time_stamp]], index=[current_saves], columns=['Manhattan','startTimeStamp','stopTimeStamp']))\n",
    "            current_saves=current_saves+1\n",
    "        if(result_list[loop_index-1][0] < result_list[loop_index-2][0]) and (result_list[loop_index-1][0] < result_list[loop_index][0]) and result_list[loop_index-1][0] < df_result.max()['Manhattan']:\n",
    "            #print \"Value\", resultList[loopIndex-1][0],\",Index:\",loopIndex-1,\"has a lower value than value left and right to it.(\",resultList[loopIndex-2][0],\",\",resultList[loopIndex][0],\") nIt will now replace\", dfResult['Euclidean'].max(),\"in the dataset.\"\n",
    "            [value,start_time_stamp,stop_time_stamp] = [result_list[loop_index-1][0], result_list[loop_index-1][1], result_list[loop_index-1][2]]\n",
    "            list_with_values=[]\n",
    "            max_value=0\n",
    "            i=0\n",
    "            #!!!Timestamps are important. If timestamp is within the range of another timestamp already present,\n",
    "            #they will overwrite eachother instead of adding a new unique value\n",
    "            while i < df_result.index.size:\n",
    "                if(start_time_stamp >= df_result['startTimeStamp'][i]) and (start_time_stamp <= df_result['stopTimeStamp'][i]-pd.Timedelta(minutes=threshold_value)):\n",
    "                    #INSIDE BOUNDARIES\n",
    "                    if(df_result.loc[i][0] > max_value) and (df_result.loc[i][0]!=0): #Store the maximum value, of the range between start and stoptimestamp.\n",
    "                        max_value=df_result.loc[i][0]\n",
    "                        ts=df_result.loc[i][1]\n",
    "                    elif(df_result.loc[i][0]==0): #PERFECT MATCH\n",
    "                        max_value=1 #Not 0 because otherwise we assume it is outside of the boundaries\n",
    "                i=i+1\n",
    "            if(max_value==0): \n",
    "                #OUTSIDE BOUNDARIES\n",
    "                    df_result=df_result.append(pd.DataFrame([[value, start_time_stamp,stop_time_stamp]], index=[current_saves], columns=['Manhattan','startTimeStamp','stopTimeStamp']))\n",
    "                    current_saves=current_saves+1\n",
    "                #INSIDE BOUNDARIES - \n",
    "            elif(value < max_value): #Check if the current value is smaller than the Maximum value encountered. Replace if it is.\n",
    "                    df_result.loc[df_result['Manhattan']== max_value] = [value, start_time_stamp, stop_time_stamp]\n",
    "        loop_index=loop_index+1\n",
    "    df_result=df_result.sort_values(['Manhattan'])\n",
    "    print \"finished saving relevant values: \",time.time()-start\n",
    "    return df_result\n",
    "#     return charts.plot(listWithGraphs, stock=True, show='inline')\n",
    "        "
   ]
  },
  {
   "cell_type": "code",
   "execution_count": null,
   "metadata": {
    "collapsed": false,
    "scrolled": true
   },
   "outputs": [],
   "source": [
    "best_values_df_list"
   ]
  },
  {
   "cell_type": "code",
   "execution_count": null,
   "metadata": {
    "collapsed": false,
    "scrolled": true
   },
   "outputs": [],
   "source": [
    "def calculate_threshold_value():\n",
    "    best_values_df_list=create_list_view(originalGraphDfDropNa, dfCompareOriginal, 10, originalGraphDfDropNa.size)"
   ]
  },
  {
   "cell_type": "markdown",
   "metadata": {
    "collapsed": true
   },
   "source": [
    "<h3> Making methods more clear </h3>"
   ]
  },
  {
   "cell_type": "code",
   "execution_count": null,
   "metadata": {
    "collapsed": true
   },
   "outputs": [],
   "source": [
    "array_with_values=np.array(originalGraphDfDropNa)"
   ]
  },
  {
   "cell_type": "code",
   "execution_count": null,
   "metadata": {
    "collapsed": false
   },
   "outputs": [],
   "source": [
    "array_with_values[0]"
   ]
  },
  {
   "cell_type": "code",
   "execution_count": null,
   "metadata": {
    "collapsed": true
   },
   "outputs": [],
   "source": [
    " def create_list_view(df_with_values, array_to_compare, amount_of_saves, amount_of_values):\n",
    "    start=time.time()\n",
    "    #Create list where values on which the different methods will act will be saved temporarily\n",
    "    #This list will be cleared every time\n",
    "    values_list=[]\n",
    "    #Create list with results of the methods\n",
    "    result_list=[]\n",
    "    df_result=pd.DataFrame(result_list)\n",
    "    compare_to_array=np.array(array_to_compare)\n",
    "    i=0 #Loops through list arrayToCompare.size times\n",
    "    j=0 #Amount of values considered, and calculated.\n",
    "    loop_index=0 #Loops through the resultslist, as long as its size\n",
    "    current_saves=0 #Current amount of variables saved\n",
    "    array_with_values=np.array(df_with_values)\n",
    "    starting_time_stamp=df_with_values.index[0]#Todo with speed\n",
    "    stop_time_stamp=df_with_values.index[array_to_compare.size-1]\n",
    "    \n",
    "    #Threshold\n",
    "    threshold_value=array_to_compare.size/10\n",
    "    #LOOPING THROUGH LIST\n",
    "    while i < array_to_compare.size+j: #i is dependent on j, i updates as j updates.\n",
    "        values_list.append(([array_with_values[i][0]]))\n",
    "        i=i+1\n",
    "        if(i==(array_to_compare.size+j)) and (i<(df_with_values.size)): #amountOfValuesToBeConsidered.\n",
    "            #j = the minute at this moment. i = starting from the current minute, adding the size of the array to compare.\n",
    "            #Stops running when the limit of values to be considered is reached, being the size the original array.\n",
    "            values_to_array=np.array(values_list)\n",
    "            if(j==0) or (manhattanDistance2(compare_to_array,values_to_array)!=result_list[len(result_list)-1][0]):\n",
    "                #Create list with values. Save them in \"resultList\". Euclidean score, startTimestamp, stopTimestamp\n",
    "                result_list.append([manhattanDistance2(compare_to_array,values_to_array), starting_time_stamp,stop_time_stamp]) \n",
    "            j=j+1\n",
    "            starting_time_stamp=df_with_values.index[j] #startingTimeStamp: current minute considered\n",
    "            stop_time_stamp=df_with_values.index[i] #stopTimeStamp: current minute considered + size of array to compare.\n",
    "            i=j\n",
    "            values_list=[]\n",
    "    \n",
    "    print \"finished looping: \", time.time()-start\n",
    "    print result_list\n",
    "    #SAVING ONLY RELEVANT VALUES       \n",
    "    #print \"All\",amountOfValues,\"are stored in an array.\\nNow looping through the list to find the lowest values.\\nThis is done by checking if the value before and after a certain value is higher than that value.\"\n",
    "    while loop_index < len(result_list):\n",
    "        if(loop_index==0):\n",
    "            [value,start_time_stamp,stop_time_stamp] = [result_list[loop_index][0], result_list[loop_index][1], result_list[loop_index][2]]\n",
    "            df_result=df_result.append(pd.DataFrame([[value, start_time_stamp,stop_time_stamp]], index=[current_saves], columns=['Manhattan','startTimeStamp','stopTimeStamp']))\n",
    "            current_saves=current_saves+1\n",
    "        if(result_list[loop_index-1][0] < result_list[loop_index-2][0]) and (result_list[loop_index-1][0] < result_list[loop_index][0]) and result_list[loop_index-1][0] < df_result.max()['Manhattan']:\n",
    "            #print \"Value\", resultList[loopIndex-1][0],\",Index:\",loopIndex-1,\"has a lower value than value left and right to it.(\",resultList[loopIndex-2][0],\",\",resultList[loopIndex][0],\") nIt will now replace\", dfResult['Euclidean'].max(),\"in the dataset.\"\n",
    "            [value,start_time_stamp,stop_time_stamp] = [result_list[loop_index-1][0], result_list[loop_index-1][1], result_list[loop_index-1][2]]\n",
    "            list_with_values=[]\n",
    "            max_value=0\n",
    "            i=0\n",
    "            #!!!Timestamps are important. If timestamp is within the range of another timestamp already present,\n",
    "            #they will overwrite eachother instead of adding a new unique value\n",
    "            while i < df_result.index.size:\n",
    "                if(start_time_stamp >= df_result['startTimeStamp'][i]) and (start_time_stamp <= df_result['stopTimeStamp'][i]-pd.Timedelta(minutes=threshold_value)):\n",
    "                    #INSIDE BOUNDARIES\n",
    "                    if(df_result.loc[i][0] > max_value) and (df_result.loc[i][0]!=0): #Store the maximum value, of the range between start and stoptimestamp.\n",
    "                        max_value=df_result.loc[i][0]\n",
    "                        ts=df_result.loc[i][1]\n",
    "                    elif(df_result.loc[i][0]==0): #PERFECT MATCH\n",
    "                        max_value=1 #Not 0 because otherwise we assume it is outside of the boundaries\n",
    "                i=i+1\n",
    "            if(max_value==0): \n",
    "                #OUTSIDE BOUNDARIES\n",
    "                    df_result=df_result.append(pd.DataFrame([[value, start_time_stamp,stop_time_stamp]], index=[current_saves], columns=['Manhattan','startTimeStamp','stopTimeStamp']))\n",
    "                    current_saves=current_saves+1\n",
    "                #INSIDE BOUNDARIES - \n",
    "            elif(value < max_value): #Check if the current value is smaller than the Maximum value encountered. Replace if it is.\n",
    "                    df_result.loc[df_result['Manhattan']== max_value] = [value, start_time_stamp, stop_time_stamp]\n",
    "        loop_index=loop_index+1\n",
    "    df_result=df_result.sort_values(['Manhattan'])\n",
    "    print \"finished saving relevant values: \",time.time()-start\n",
    "    return df_result\n",
    "#     return charts.plot(listWithGraphs, stock=True, show='inline')\n",
    "        "
   ]
  },
  {
   "cell_type": "code",
   "execution_count": null,
   "metadata": {
    "collapsed": true
   },
   "outputs": [],
   "source": [
    " def looping_through_list(df_with_values, array_to_compare):\n",
    "    start=time.time()\n",
    "    #Create list where values on which the different methods will act will be saved temporarily\n",
    "    #This list will be cleared every time\n",
    "    values_list=[]\n",
    "    #Create list with results of the methods\n",
    "    result_list=[]\n",
    "    compare_to_array=np.array(array_to_compare)\n",
    "    i=0 #Loops through list arrayToCompare.size times\n",
    "    j=0 #Amount of values considered, and calculated.\n",
    "    array_with_values=np.array(df_with_values)\n",
    "    #start and stop timestamp\n",
    "    starting_time_stamp=df_with_values.index[0]\n",
    "    stop_time_stamp=df_with_values.index[array_to_compare.size-1]\n",
    "    \n",
    "    #Threshold\n",
    "    threshold_value=array_to_compare.size/10\n",
    "    #LOOPING THROUGH LIST\n",
    "    while i < array_to_compare.size+j: #i is dependent on j, i updates as j updates.\n",
    "        #Save x amount of values where x is the size of the array to compare.\n",
    "        values_list.append(([array_with_values[i][0]]))\n",
    "        i=i+1\n",
    "        if(i==(array_to_compare.size+j)) and (i<(df_with_values.size)):\n",
    "            #j = the minute at this moment. i = starting from the current minute, adding the size of the array to compare.\n",
    "            #Stops running when the limit of values to be considered is reached, being the size the original array.\n",
    "            if(j==0) or (manhattanDistance2(compare_to_array,values_list)!=result_list[len(result_list)-1][0]):\n",
    "                #Create list with unique values. Save them in \"resultList\". Euclidean score, startTimestamp, stopTimestamp\n",
    "                result_list.append([manhattanDistance2(compare_to_array,values_list), starting_time_stamp,stop_time_stamp]) \n",
    "            j=j+1\n",
    "            starting_time_stamp=df_with_values.index[j] #startingTimeStamp: current minute considered\n",
    "            stop_time_stamp=df_with_values.index[i] #stopTimeStamp: current minute considered + size of array to compare.\n",
    "            i=j\n",
    "            values_list=[]\n",
    "    print time.time()-start\n",
    "    return result_list"
   ]
  },
  {
   "cell_type": "code",
   "execution_count": null,
   "metadata": {
    "collapsed": false
   },
   "outputs": [],
   "source": [
    " def local_minima_ts_correction(result_list):\n",
    "    start=time.time()\n",
    "    loop_index=0 #Loops throu\"gh the resultslist, as long as its size\n",
    "    current_saves=0 #Current amount of variables saved\n",
    "    some_list=[]\n",
    "    df_result=pd.DataFrame(some_list)\n",
    "    ts=(list_view[0][2]-list_view[0][1])/10\n",
    "    threshold_value=(ts / np.timedelta64(1, 'm')).astype(int)\n",
    "    #SAVING ONLY RELEVANT VALUES       \n",
    "    while loop_index < len(result_list):\n",
    "        if(loop_index==0):\n",
    "            [value,start_time_stamp,stop_time_stamp] = [result_list[loop_index][0], result_list[loop_index][1], result_list[loop_index][2]]\n",
    "            df_result=df_result.append(pd.DataFrame([[value, start_time_stamp,stop_time_stamp]], index=[current_saves], columns=['Manhattan','startTimeStamp','stopTimeStamp']))\n",
    "            current_saves=current_saves+1\n",
    "        if(result_list[loop_index-1][0] < result_list[loop_index-2][0]) and (result_list[loop_index-1][0] < result_list[loop_index][0]) and result_list[loop_index-1][0] < df_result.max()['Manhattan']:\n",
    "            #print \"Value\", resultList[loopIndex-1][0],\",Index:\",loopIndex-1,\"has a lower value than value left and right to it.(\",resultList[loopIndex-2][0],\",\",resultList[loopIndex][0],\") nIt will now replace\", dfResult['Euclidean'].max(),\"in the dataset.\"\n",
    "            [value,start_time_stamp,stop_time_stamp] = [result_list[loop_index-1][0], result_list[loop_index-1][1], result_list[loop_index-1][2]]\n",
    "            list_with_values=[]\n",
    "            i=0\n",
    "            max_value=0\n",
    "            #!!!Timestamps are important. If timestamp is within the range of another timestamp already present,\n",
    "            #they will overwrite eachother instead of adding a new unique value\n",
    "            while i < df_result.index.size:\n",
    "                if(start_time_stamp >= df_result['startTimeStamp'][i]) and (start_time_stamp <= df_result['stopTimeStamp'][i]-pd.Timedelta(minutes=threshold_value)):\n",
    "                    #INSIDE BOUNDARIES\n",
    "                    if(df_result.loc[i][0] > max_value) and (df_result.loc[i][0]!=0): #Store the maximum value, of the range between start and stoptimestamp.\n",
    "                        max_value=df_result.loc[i][0]\n",
    "                        print max_value\n",
    "                        ts=df_result.loc[i][1]\n",
    "                    elif(df_result.loc[i][0]==0): #PERFECT MATCH\n",
    "                        max_value=1 #Not 0 because otherwise we assume it is outside of the boundaries\n",
    "                i=i+1\n",
    "            if(max_value==0): \n",
    "                #OUTSIDE BOUNDARIES\n",
    "                    df_result=df_result.append(pd.DataFrame([[value, start_time_stamp,stop_time_stamp]], index=[current_saves], columns=['Manhattan','startTimeStamp','stopTimeStamp']))\n",
    "                    current_saves=current_saves+1\n",
    "                #INSIDE BOUNDARIES - \n",
    "            elif(value < max_value): #Check if the current value is smaller than the Maximum value encountered. Replace if it is.\n",
    "                    df_result.loc[df_result['Manhattan']== max_value] = [value, start_time_stamp, stop_time_stamp]\n",
    "        loop_index=loop_index+1\n",
    "    df_result=df_result.sort_values(['Manhattan'])\n",
    "    print time.time()-start\n",
    "    return df_result\n",
    "        "
   ]
  },
  {
   "cell_type": "code",
   "execution_count": null,
   "metadata": {
    "collapsed": false
   },
   "outputs": [],
   "source": [
    "def calculate_threshold_value(df_result, nr_of_best_values, factor):\n",
    "    list_of_best_values=[]\n",
    "    i = 0\n",
    "    for i in range(0, nr_of_best_values):\n",
    "        list_of_best_values.append(df_result.iloc[i])\n",
    "    list_of_best_values=pd.DataFrame(list_of_best_values)\n",
    "    mean=list_of_best_values.mean()\n",
    "    threshold=mean*factor\n",
    "    print threshold\n",
    "    return df_result.loc[df_result['Manhattan']<=threshold[0]]\n",
    "    "
   ]
  },
  {
   "cell_type": "code",
   "execution_count": null,
   "metadata": {
    "collapsed": false,
    "scrolled": true
   },
   "outputs": [],
   "source": [
    "def create_graph_from(df):\n",
    "    listWithGraphs=[]\n",
    "    listWithGraphs=pd.DataFrame(listWithGraphs)\n",
    "    for i in range (0, df.index.size):\n",
    "        listWithGraphs=listWithGraphs.append(originalGraphDfDropNa.ix[pd.Timestamp(df['startTimeStamp'][i]):pd.Timestamp(df['stopTimeStamp'][i])])\n",
    "    return charts.plot(listWithGraphs, stock=True, show='inline')"
   ]
  },
  {
   "cell_type": "code",
   "execution_count": null,
   "metadata": {
    "collapsed": false,
    "scrolled": true
   },
   "outputs": [],
   "source": [
    "originalGraphDfDropNa"
   ]
  },
  {
   "cell_type": "code",
   "execution_count": null,
   "metadata": {
    "collapsed": false,
    "scrolled": true
   },
   "outputs": [],
   "source": [
    "list_view=looping_through_list(originalGraphDfDropNa, dfCompareOriginal)\n",
    "df_result = local_minima_ts_correction(list_view)"
   ]
  },
  {
   "cell_type": "code",
   "execution_count": null,
   "metadata": {
    "collapsed": false
   },
   "outputs": [],
   "source": [
    "list_view_sax=looping_through_list(dfRepeatedValues, dfCompare)\n",
    "df_result_sax = local_minima_ts_correction(list_view_sax)"
   ]
  },
  {
   "cell_type": "code",
   "execution_count": null,
   "metadata": {
    "collapsed": false,
    "scrolled": true
   },
   "outputs": [],
   "source": [
    "df_result_sax=df_result_sax.sort_values(['startTimeStamp'])"
   ]
  },
  {
   "cell_type": "code",
   "execution_count": null,
   "metadata": {
    "collapsed": false,
    "scrolled": true
   },
   "outputs": [],
   "source": [
    "df_result=df_result.sort_values(['startTimeStamp'])"
   ]
  },
  {
   "cell_type": "code",
   "execution_count": null,
   "metadata": {
    "collapsed": false,
    "scrolled": true
   },
   "outputs": [],
   "source": [
    "df_threshold=calculate_threshold_value(df_result, 20,1.5)"
   ]
  },
  {
   "cell_type": "code",
   "execution_count": null,
   "metadata": {
    "collapsed": false
   },
   "outputs": [],
   "source": [
    "df_threshold"
   ]
  },
  {
   "cell_type": "code",
   "execution_count": null,
   "metadata": {
    "collapsed": false,
    "scrolled": true
   },
   "outputs": [],
   "source": [
    "create_graph_from(df_threshold)"
   ]
  },
  {
   "cell_type": "code",
   "execution_count": null,
   "metadata": {
    "collapsed": false
   },
   "outputs": [],
   "source": [
    "create_graph_from(thdf_reshdf)"
   ]
  },
  {
   "cell_type": "code",
   "execution_count": null,
   "metadata": {
    "collapsed": false
   },
   "outputs": [],
   "source": [
    "# test=[]\n",
    "# for i in range(0,10):\n",
    "#     test.append(list_view[i][0])\n",
    "#     test\n",
    "# test=pd.DataFrame(test)\n",
    "# test.mean()[0]"
   ]
  },
  {
   "cell_type": "code",
   "execution_count": null,
   "metadata": {
    "collapsed": false
   },
   "outputs": [],
   "source": [
    "# test.mean()[0]"
   ]
  },
  {
   "cell_type": "code",
   "execution_count": null,
   "metadata": {
    "collapsed": false
   },
   "outputs": [],
   "source": [
    "# list_of_values=[]\n",
    "# i = 0\n",
    "# for i in range(0, 10):\n",
    "#     list_of_values.append(df_result.iloc[i])\n",
    "# list_of_values=pd.DataFrame(list_of_values)\n",
    "# mean=list_of_values.mean()\n"
   ]
  },
  {
   "cell_type": "markdown",
   "metadata": {},
   "source": [
    "<h3> Widgets </h3>"
   ]
  },
  {
   "cell_type": "code",
   "execution_count": null,
   "metadata": {
    "collapsed": true
   },
   "outputs": [],
   "source": [
    "from ipywidgets import widgets\n",
    "from IPython.display import display"
   ]
  },
  {
   "cell_type": "code",
   "execution_count": null,
   "metadata": {
    "collapsed": false
   },
   "outputs": [],
   "source": [
    "text = widgets.Text()\n",
    "display(text)\n",
    "\n",
    "def handle_submit(sender):\n",
    "    print(sender.value)\n",
    "\n",
    "text.on_submit(handle_submit)"
   ]
  },
  {
   "cell_type": "code",
   "execution_count": null,
   "metadata": {
    "collapsed": false
   },
   "outputs": [],
   "source": [
    "button = widgets.Button(description=\"Click Me!\")\n",
    "display(button)\n",
    "\n",
    "def on_button_clicked(b):\n",
    "    print(\"Button Clicked.\")\n",
    "    \n",
    "button.on_click(on_button_clicked)"
   ]
  },
  {
   "cell_type": "markdown",
   "metadata": {},
   "source": [
    "<h3> Getting most recent value </h3>"
   ]
  },
  {
   "cell_type": "code",
   "execution_count": null,
   "metadata": {
    "collapsed": false
   },
   "outputs": [],
   "source": [
    "list_of_val=calculate_threshold_value(df_result, 20,1.5)\n",
    "list_of_val_sorted=list_of_val.sort_values(['startTimeStamp'])"
   ]
  },
  {
   "cell_type": "code",
   "execution_count": null,
   "metadata": {
    "collapsed": false
   },
   "outputs": [],
   "source": [
    "ts=list_of_val_sorted.iloc[len(list_of_val)-1][1]\n",
    "ts2=list_of_val_sorted.iloc[len(list_of_val)-2][1]"
   ]
  },
  {
   "cell_type": "markdown",
   "metadata": {},
   "source": [
    "<h4> Dropdown menu </h4>"
   ]
  },
  {
   "cell_type": "code",
   "execution_count": null,
   "metadata": {
    "collapsed": false
   },
   "outputs": [],
   "source": [
    "dropdown=widgets.Dropdown(\n",
    "    options={'Coffee machine': 1, 'Washing machine': 2, 'Water Heater': 3, 'Heating System': 4, 'Dryer': 5, 'Oven': 6, 'Microwave': 7, 'Other':8},\n",
    "    value=1,\n",
    "    description='Apparaat:',\n",
    "    )"
   ]
  },
  {
   "cell_type": "markdown",
   "metadata": {},
   "source": [
    "<h4> Button </h4>"
   ]
  },
  {
   "cell_type": "code",
   "execution_count": null,
   "metadata": {
    "collapsed": true
   },
   "outputs": [],
   "source": [
    "button = widgets.Button(description=\"Verify\")"
   ]
  },
  {
   "cell_type": "markdown",
   "metadata": {},
   "source": [
    "<h4>Text</h4>"
   ]
  },
  {
   "cell_type": "code",
   "execution_count": null,
   "metadata": {
    "collapsed": true
   },
   "outputs": [],
   "source": [
    "from IPython.display import clear_output"
   ]
  },
  {
   "cell_type": "code",
   "execution_count": null,
   "metadata": {
    "collapsed": true
   },
   "outputs": [],
   "source": [
    "text_other = widgets.Text()"
   ]
  },
  {
   "cell_type": "code",
   "execution_count": null,
   "metadata": {
    "collapsed": true
   },
   "outputs": [],
   "source": [
    "# def handle_submit(sender):\n",
    "#     if(sender.value == 8):\n",
    "#         display(text_other) \n",
    "#     print sender.value"
   ]
  },
  {
   "cell_type": "code",
   "execution_count": null,
   "metadata": {
    "collapsed": false
   },
   "outputs": [],
   "source": [
    "# def on_button_clicked(b):\n",
    "#     handle_submit(dropdown)"
   ]
  },
  {
   "cell_type": "code",
   "execution_count": null,
   "metadata": {
    "collapsed": false
   },
   "outputs": [],
   "source": [
    "# def submit_message():\n",
    "#     print \"Today you had an increase in electricity consumption at\", ts, \"just like\" ,ts2, \" would you like to label this device?\"\n",
    "#     display(dropdown)\n",
    "#     display(button)\n",
    "#     button.on_click(on_button_clicked)"
   ]
  },
  {
   "cell_type": "code",
   "execution_count": null,
   "metadata": {
    "collapsed": false
   },
   "outputs": [],
   "source": [
    "stored_key_values=[]\n",
    "def handle_submit_key(sender,val):\n",
    "    if(val==0):\n",
    "        stored_key_values.append(sender.value)\n",
    "    print(sender.value)"
   ]
  },
  {
   "cell_type": "markdown",
   "metadata": {
    "collapsed": false
   },
   "source": [
    "# dropdown=widgets.Dropdown(\n",
    "    options={'Coffee machine': 1, 'Washing machine': 2, 'Water Heater': 3, 'Heating System': 4, 'Dryer': 5, 'Oven': 6, 'Microwave': 7, 'Other':8},\n",
    "    value=1,\n",
    "    description='Apparaat:',\n",
    "    )\n",
    "textfield_machine=widgets.Text(\n",
    "    description=\"Naam?\")\n",
    "textfield_frequency=widgets.Text(\n",
    "    description=\"Hoeveel keer per week?\")\n",
    "def text_field(value):\n",
    "    if(value==8):\n",
    "        display(textfield_machine)\n",
    "        display(textfield_frequency)\n",
    "        textfield_machine.on_submit(handle_submit_key,1)\n",
    "        textfield_frequency.on_submit(handle_submit_key,2)\n",
    "    key_value=handle_submit_key(dropdown,0)\n",
    "print(\"Today you had an increase in electricity consumption at\", ts, \"just like\" ,ts2, \" would you like to label this device?\")\n",
    "i=widgets.interactive(text_field, value=dropdown)\n",
    "display(i)"
   ]
  },
  {
   "cell_type": "code",
   "execution_count": null,
   "metadata": {
    "collapsed": true
   },
   "outputs": [],
   "source": [
    "text =widgets.BoundedIntText(\n",
    "    value=7,\n",
    "    min=0,\n",
    "    max=10,\n",
    "    step=1,\n",
    "    description='Text:',\n",
    "    disabled=True\n",
    ")"
   ]
  },
  {
   "cell_type": "code",
   "execution_count": null,
   "metadata": {
    "collapsed": false
   },
   "outputs": [],
   "source": [
    "def sth():\n",
    "    display(text)"
   ]
  },
  {
   "cell_type": "code",
   "execution_count": null,
   "metadata": {
    "collapsed": true
   },
   "outputs": [],
   "source": [
    "stored_key_values=[]\n",
    "def handle_submit_key(sender,val):\n",
    "    if(val==0):\n",
    "        stored_key_values.append(sender.value)\n",
    "    print(sender.value)"
   ]
  },
  {
   "cell_type": "code",
   "execution_count": null,
   "metadata": {
    "collapsed": false
   },
   "outputs": [],
   "source": [
    "text = widgets.Text()\n",
    "display(text)\n",
    "\n",
    "def handle_submit(sender):\n",
    "    print(sender.value)\n"
   ]
  },
  {
   "cell_type": "code",
   "execution_count": null,
   "metadata": {
    "collapsed": true
   },
   "outputs": [],
   "source": [
    "dropdown=widgets.Dropdown(\n",
    "    options={'Coffee machine': 1, 'Washing machine': 2, 'Water Heater': 3, 'Heating System': 4, 'Dryer': 5, 'Oven': 6, 'Microwave': 7, 'Other':8},\n",
    "    value=1,\n",
    "    description='Apparaat:',\n",
    "    )"
   ]
  },
  {
   "cell_type": "code",
   "execution_count": null,
   "metadata": {
    "collapsed": false
   },
   "outputs": [],
   "source": [
    "def on_button_clicked(value):\n",
    "    print value"
   ]
  },
  {
   "cell_type": "code",
   "execution_count": null,
   "metadata": {
    "collapsed": false
   },
   "outputs": [],
   "source": [
    "text_new=widgets.Text()\n",
    "button = widgets.Button(description=\"Verify\")\n",
    "display(button)\n",
    "def text_field(value):\n",
    "    if(value==8):\n",
    "        display(text_new)\n",
    "        text_new.on_submit(handle_submit)\n",
    "    else:\n",
    "        button.on_click(on_button_clicked(value))\n",
    "print(\"Today at\", ts,\"you had an increase in electricity consumption, just like at \", ts2,\"would you like to name this device?\") #This just be above the dropdown menu and be stuck\n",
    "i=widgets.interactive(text_field, value=dropdown)\n",
    "display(i)\n",
    "#button.on_click(on_button_clicked)"
   ]
  },
  {
   "cell_type": "code",
   "execution_count": null,
   "metadata": {
    "collapsed": false
   },
   "outputs": [],
   "source": [
    "stored_key_values"
   ]
  },
  {
   "cell_type": "code",
   "execution_count": null,
   "metadata": {
    "collapsed": true
   },
   "outputs": [],
   "source": []
  }
 ],
 "metadata": {
  "kernelspec": {
   "display_name": "Python 2",
   "language": "python",
   "name": "python2"
  },
  "language_info": {
   "codemirror_mode": {
    "name": "ipython",
    "version": 2
   },
   "file_extension": ".py",
   "mimetype": "text/x-python",
   "name": "python",
   "nbconvert_exporter": "python",
   "pygments_lexer": "ipython2",
   "version": "2.7.6"
  },
  "widgets": {
   "state": {},
   "version": "1.1.2"
  }
 },
 "nbformat": 4,
 "nbformat_minor": 0
}
