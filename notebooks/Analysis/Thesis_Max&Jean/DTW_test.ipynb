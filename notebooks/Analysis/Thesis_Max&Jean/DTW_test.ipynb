{
 "cells": [
  {
   "cell_type": "code",
   "execution_count": 1,
   "metadata": {
    "collapsed": false
   },
   "outputs": [
    {
     "name": "stdout",
     "output_type": "stream",
     "text": [
      "Collecting seaborn\n",
      "  Downloading seaborn-0.7.1.tar.gz (158kB)\n",
      "Building wheels for collected packages: seaborn\n",
      "  Running setup.py bdist_wheel for seaborn: started\n",
      "  Running setup.py bdist_wheel for seaborn: finished with status 'done'\n",
      "  Stored in directory: /root/.cache/pip/wheels/cb/c8/67/83d615c0ef9b529558525aa521025b183de8c5b156799b091e\n",
      "Successfully built seaborn\n",
      "Installing collected packages: seaborn\n",
      "Successfully installed seaborn-0.7.1\n",
      "Collecting mlpy\n",
      "  Downloading mlpy-0.1.0.zip (4.5MB)\n",
      "Requirement already satisfied (use --upgrade to upgrade): numpy>=1.6.2 in /usr/lib/python2.7/dist-packages (from mlpy)\n",
      "Requirement already satisfied (use --upgrade to upgrade): scipy>=0.11 in /usr/lib/python2.7/dist-packages (from mlpy)\n",
      "Requirement already satisfied (use --upgrade to upgrade): matplotlib in /usr/lib/pymodules/python2.7 (from mlpy)\n",
      "Collecting scikit-learn (from mlpy)\n",
      "  Downloading scikit_learn-0.18.1-cp27-cp27mu-manylinux1_x86_64.whl (11.6MB)\n",
      "Requirement already satisfied (use --upgrade to upgrade): six>=1.9.0 in /usr/local/lib/python2.7/dist-packages (from mlpy)\n",
      "Requirement already satisfied (use --upgrade to upgrade): python-dateutil in /usr/lib/python2.7/dist-packages (from matplotlib->mlpy)\n",
      "Requirement already satisfied (use --upgrade to upgrade): tornado in /usr/local/lib/python2.7/dist-packages (from matplotlib->mlpy)\n",
      "Requirement already satisfied (use --upgrade to upgrade): pyparsing>=1.5.6 in /usr/lib/python2.7/dist-packages (from matplotlib->mlpy)\n",
      "Requirement already satisfied (use --upgrade to upgrade): nose in /usr/lib/python2.7/dist-packages (from matplotlib->mlpy)\n",
      "Requirement already satisfied (use --upgrade to upgrade): backports.ssl_match_hostname in /usr/local/lib/python2.7/dist-packages (from tornado->matplotlib->mlpy)\n",
      "Requirement already satisfied (use --upgrade to upgrade): singledispatch in /usr/local/lib/python2.7/dist-packages (from tornado->matplotlib->mlpy)\n",
      "Requirement already satisfied (use --upgrade to upgrade): certifi in /usr/local/lib/python2.7/dist-packages (from tornado->matplotlib->mlpy)\n",
      "Requirement already satisfied (use --upgrade to upgrade): backports_abc>=0.4 in /usr/local/lib/python2.7/dist-packages (from tornado->matplotlib->mlpy)\n",
      "Building wheels for collected packages: mlpy\n",
      "  Running setup.py bdist_wheel for mlpy: started\n",
      "  Running setup.py bdist_wheel for mlpy: finished with status 'done'\n",
      "  Stored in directory: /root/.cache/pip/wheels/70/85/c2/68d906f0b0dd73fa710cc99090752eab96637f7bed1f61e52e\n",
      "Successfully built mlpy\n",
      "Installing collected packages: scikit-learn, mlpy\n",
      "Successfully installed mlpy-0.1.0 scikit-learn-0.18.1\n"
     ]
    },
    {
     "name": "stderr",
     "output_type": "stream",
     "text": [
      "/usr/local/lib/python2.7/dist-packages/pip/_vendor/requests/packages/urllib3/util/ssl_.py:318: SNIMissingWarning: An HTTPS request has been made, but the SNI (Subject Name Indication) extension to TLS is not available on this platform. This may cause the server to present an incorrect TLS certificate, which can cause validation failures. You can upgrade to a newer version of Python to solve this. For more information, see https://urllib3.readthedocs.org/en/latest/security.html#snimissingwarning.\n",
      "  SNIMissingWarning\n",
      "/usr/local/lib/python2.7/dist-packages/pip/_vendor/requests/packages/urllib3/util/ssl_.py:122: InsecurePlatformWarning: A true SSLContext object is not available. This prevents urllib3 from configuring SSL appropriately and may cause certain SSL connections to fail. You can upgrade to a newer version of Python to solve this. For more information, see https://urllib3.readthedocs.org/en/latest/security.html#insecureplatformwarning.\n",
      "  InsecurePlatformWarning\n",
      "/usr/local/lib/python2.7/dist-packages/pip/_vendor/requests/packages/urllib3/util/ssl_.py:122: InsecurePlatformWarning: A true SSLContext object is not available. This prevents urllib3 from configuring SSL appropriately and may cause certain SSL connections to fail. You can upgrade to a newer version of Python to solve this. For more information, see https://urllib3.readthedocs.org/en/latest/security.html#insecureplatformwarning.\n",
      "  InsecurePlatformWarning\n",
      "You are using pip version 8.1.2, however version 9.0.1 is available.\n",
      "You should consider upgrading via the 'pip install --upgrade pip' command.\n",
      "/usr/local/lib/python2.7/dist-packages/pip/_vendor/requests/packages/urllib3/util/ssl_.py:318: SNIMissingWarning: An HTTPS request has been made, but the SNI (Subject Name Indication) extension to TLS is not available on this platform. This may cause the server to present an incorrect TLS certificate, which can cause validation failures. You can upgrade to a newer version of Python to solve this. For more information, see https://urllib3.readthedocs.org/en/latest/security.html#snimissingwarning.\n",
      "  SNIMissingWarning\n",
      "/usr/local/lib/python2.7/dist-packages/pip/_vendor/requests/packages/urllib3/util/ssl_.py:122: InsecurePlatformWarning: A true SSLContext object is not available. This prevents urllib3 from configuring SSL appropriately and may cause certain SSL connections to fail. You can upgrade to a newer version of Python to solve this. For more information, see https://urllib3.readthedocs.org/en/latest/security.html#insecureplatformwarning.\n",
      "  InsecurePlatformWarning\n",
      "You are using pip version 8.1.2, however version 9.0.1 is available.\n",
      "You should consider upgrading via the 'pip install --upgrade pip' command.\n"
     ]
    }
   ],
   "source": [
    "%%bash\n",
    "pip install seaborn\n",
    "pip install mlpy"
   ]
  },
  {
   "cell_type": "code",
   "execution_count": 2,
   "metadata": {
    "collapsed": false
   },
   "outputs": [
    {
     "name": "stdout",
     "output_type": "stream",
     "text": [
<<<<<<< HEAD
      "Server running in the folder /usr/local/opengrid/notebooks/Analysis/Thesis_Max&Jean at 127.0.0.1:55542\n"
=======
      "Server running in the folder /usr/local/opengrid/notebooks/Analysis/Thesis_Max&Jean at 127.0.0.1:60273\n"
>>>>>>> b1d371346587927d107aebdb2084344567faf5aa
     ]
    }
   ],
   "source": [
    "import numpy as np\n",
    "\n",
    "import os\n",
    "import inspect\n",
    "import sys\n",
    "import pandas as pd\n",
    "import charts\n",
    "import time\n",
    "\n",
    "from opengrid.library import houseprint\n",
    "\n",
    "from scipy.signal import butter, lfilter, freqz\n",
    "\n",
    "import seaborn as sns\n",
    "\n",
    "import matplotlib.pyplot as plt\n",
    "%matplotlib inline\n",
    "plt.rcParams['figure.figsize'] = 16,8"
   ]
  },
  {
   "cell_type": "markdown",
   "metadata": {},
   "source": [
    "<h3>Create two signals to compare to each other</h3>"
   ]
  },
  {
   "cell_type": "code",
   "execution_count": 3,
   "metadata": {
    "collapsed": false
   },
   "outputs": [
    {
     "name": "stdout",
     "output_type": "stream",
     "text": [
      "Opening connection to Houseprint sheet\n",
      "Opening spreadsheets\n",
      "Parsing spreadsheets\n",
      "30 Sites created\n",
      "30 Devices created\n",
      "87 sensors created\n",
      "Houseprint parsing complete\n"
     ]
    }
   ],
   "source": [
    "hp = houseprint.Houseprint()"
   ]
  },
  {
   "cell_type": "code",
<<<<<<< HEAD
   "execution_count": null,
   "metadata": {
    "collapsed": true
   },
   "outputs": [],
   "source": []
  },
  {
   "cell_type": "code",
=======
>>>>>>> b1d371346587927d107aebdb2084344567faf5aa
   "execution_count": 4,
   "metadata": {
    "collapsed": false
   },
   "outputs": [
    {
     "name": "stdout",
     "output_type": "stream",
     "text": [
      "Using tmpo database from /data/.tmpo/tmpo.sqlite3\n"
     ]
    },
    {
     "data": {
      "text/html": [
       "<style>body{-moz-osx-font-smoothing:grayscale;-webkit-font-smoothing:antialiased;color:#555;font-family:sans-serif}\n",
       "small{font-weight:400;display:block;font-size:14px}\n",
       "code{background-color:#d3d3d3;border-radius:3px;font-family:monospace;padding:0 .5em}\n",
       ".icon.-facebook:before,.icon.-linkedin:before,.icon.-pinterest:before,.icon.-twitter:before{-moz-osx-font-smoothing:grayscale;-webkit-font-smoothing:antialiased;font-family:Post-Creator-Icons;font-style:normal;font-variant:normal;font-weight:400;line-height:1;speak:none;text-transform:none}\n",
       "@font-face{font-family:Post-Creator-Icons;src:url(fonts/Post-Creator-Icons.eot);src:url(fonts/Post-Creator-Icons.eot?#iefix) format('embedded-opentype'),url(fonts/Post-Creator-Icons.woff) format('woff'),url(fonts/Post-Creator-Icons.ttf) format('truetype'),url(fonts/Post-Creator-Icons.svg#Post-Creator-Icons) format('svg');font-weight:400;font-style:normal}\n",
       ".icon.-facebook:before{content:\"\\e001\"}\n",
       ".icon.-linkedin:before{content:\"\\e002\"}\n",
       ".icon.-pinterest:before{content:\"\\e003\"}\n",
       ".icon.-twitter:before{content:\"\\e004\"}\n",
       ".social-icons h4{display:inline-block;margin:20px 10px 0 0}\n",
       ".social-icons .icon{display:inline-block;margin:0 5px}\n",
       "body.modal-open{overflow:hidden}\n",
       ".jsoneditor table,.jsoneditor td,.jsoneditor td.tree,.jsoneditor tr{border:none;margin:0}</style>\n",
       "<link rel=\"stylesheet\" href=\"https://cdnjs.cloudflare.com/ajax/libs/selectize.js/0.12.1/css/selectize.default.min.css\"/>\n",
       "<link rel=\"stylesheet\" href=\"https://cdnjs.cloudflare.com/ajax/libs/jsoneditor/4.2.0/jsoneditor.min.css\"/>\n",
       "\n",
       "<div class=\"container-fluid\">\n",
       "    <div class=\"row\">\n",
       "        <div class=\"col-sm-10\">\n",
       "            <input type=\"text\" id=\"variable-selector\">\n",
       "        </div>\n",
       "        <div class=\"col-sm-2\">\n",
       "            <button class=\"btn btn-default pull-right\" type=\"submit\" id=\"settings-button\">Settings</button>\n",
       "        </div>\n",
       "    </div>\n",
       "\n",
       "    <div class=\"row\">\n",
       "        <div class=\"collapse col-xs-12\" id=\"settings-collapse\">\n",
       "            <div class=\"panel panel-default\" style=\"margin-top: 20px\">\n",
       "                <div class=\"panel-heading\"><h3 class=\"panel-title\">Adjust chart settings</h3></div>\n",
       "                <div class=\"panel-body\">\n",
       "                    <div class=\"row\">\n",
       "                        <div id=\"jsoneditor\" class=\"col-md-12\" style=\"height: 350px\"></div>\n",
       "                    </div>\n",
       "                    <div class=\"row\" style=\"margin-top: 10px\">\n",
       "                        <div class=\"col-sm-4\">\n",
       "                            <button type=\"button\" class=\"btn btn-primary\" id=\"save-settings\">\n",
       "                                Apply changes\n",
       "                            </button>\n",
       "                        </div>\n",
       "                        <div class=\"col-sm-8 text-right \">\n",
       "                            <form class=\"form-inline\">\n",
       "                                <div class=\"form-group\">\n",
       "                                    <div class=\"input-group\">\n",
       "                                        <input type=\"text\" class=\"form-control\" id=\"options-input\"\n",
       "                                               placeholder=\"settings\" style=\"text-align: right\">\n",
       "                                        <div class=\"input-group-addon\"><strong>.json</strong></div>\n",
       "                                    </div>\n",
       "                                </div>\n",
       "                                <button type=\"submit\" class=\"btn btn-primary\" id=\"options-button\">Save</button>\n",
       "                            </form>\n",
       "\n",
       "                        </div>\n",
       "                    </div>\n",
       "                </div>\n",
       "            </div>\n",
       "        </div>\n",
       "    </div>\n",
       "\n",
       "    <div class=\"row\">\n",
       "        <div id=\"chart-container\" style=\"min-width: 310px;\"></div>\n",
       "    </div>\n",
       "</div>\n",
       "\n",
       "\n",
       "<script src=\"https://cdnjs.cloudflare.com/ajax/libs/jquery/2.1.4/jquery.min.js\"></script>\n",
       "<script src=\"https://cdnjs.cloudflare.com/ajax/libs/require.js/2.1.18/require.min.js\"></script>\n",
       "\n",
       "\n",
       "\n",
       "\n",
       "\n",
       "\n",
       "<script>(function e(t,n,r){function s(o,u){if(!n[o]){if(!t[o]){var a=typeof require==\"function\"&&require;if(!u&&a)return a(o,!0);if(i)return i(o,!0);var f=new Error(\"Cannot find module '\"+o+\"'\");throw f.code=\"MODULE_NOT_FOUND\",f}var l=n[o]={exports:{}};t[o][0].call(l.exports,function(e){var n=t[o][1][e];return s(n?n:e)},l,l.exports,e,t,n,r)}return n[o].exports}var i=typeof require==\"function\"&&require;for(var o=0;o<r.length;o++)s(r[o]);return s})({1:[function(require,module,exports){\n",
       "//findIndex polyfill\n",
       "if (!Array.prototype.findIndex) {\n",
       "    Array.prototype.findIndex = function(predicate) {\n",
       "        if (this == null) {\n",
       "            throw new TypeError('Array.prototype.findIndex called on null or undefined');\n",
       "        }\n",
       "        if (typeof predicate !== 'function') {\n",
       "            throw new TypeError('predicate must be a function');\n",
       "        }\n",
       "        var list = Object(this);\n",
       "        var length = list.length >>> 0;\n",
       "        var thisArg = arguments[1];\n",
       "        var value;\n",
       "\n",
       "        for (var i = 0; i < length; i++) {\n",
       "            value = list[i];\n",
       "            if (predicate.call(thisArg, value, i, list)) {\n",
       "                return i;\n",
       "            }\n",
       "        }\n",
       "        return -1;\n",
       "    };\n",
       "}\n",
       "\n",
       "if (!Array.prototype.filter) {\n",
       "    Array.prototype.filter = function(fun/*, thisArg*/) {\n",
       "        'use strict';\n",
       "\n",
       "        if (this === void 0 || this === null) {\n",
       "            throw new TypeError();\n",
       "        }\n",
       "\n",
       "        var t = Object(this);\n",
       "        var len = t.length >>> 0;\n",
       "        if (typeof fun !== 'function') {\n",
       "            throw new TypeError();\n",
       "        }\n",
       "\n",
       "        var res = [];\n",
       "        var thisArg = arguments.length >= 2 ? arguments[1] : void 0;\n",
       "        for (var i = 0; i < len; i++) {\n",
       "            if (i in t) {\n",
       "                var val = t[i];\n",
       "\n",
       "                // NOTE: Technically this should Object.defineProperty at\n",
       "                //       the next index, as push can be affected by\n",
       "                //       properties on Object.prototype and Array.prototype.\n",
       "                //       But that method's new, and collisions should be\n",
       "                //       rare, so use the more-compatible alternative.\n",
       "                if (fun.call(thisArg, val, i, t)) {\n",
       "                    res.push(val);\n",
       "                }\n",
       "            }\n",
       "        }\n",
       "\n",
       "        return res;\n",
       "    };\n",
       "}\n",
       "\n",
       "function guid() {\n",
       "    function s4() {\n",
       "        return Math.floor((1 + Math.random()) * 0x10000)\n",
       "            .toString(16)\n",
       "            .substring(1);\n",
       "    }\n",
       "    return s4() + s4() + '-' + s4() + '-' + s4() + '-' +\n",
       "        s4() + '-' + s4() + s4() + s4();\n",
       "}\n",
       "\n",
       "Array.prototype.equals = function (array) {\n",
       "    // if the other array is a false value, return\n",
       "    if (!array)\n",
       "        return false;\n",
       "\n",
       "    // compare lengths - can save a lot of time\n",
       "    if (this.length != array.length)\n",
       "        return false;\n",
       "\n",
       "    for (var i = 0, l = this.length; i < l; i++) {\n",
       "        // Check if we have nested arrays\n",
       "        if (this[i] instanceof Array && array[i] instanceof Array) {\n",
       "            // recurse into the nested arrays\n",
       "            if (!this[i].equals(array[i]))\n",
       "                return false;\n",
       "        }\n",
       "        else if (this[i] != array[i]) {\n",
       "            // Warning - two different object instances will never be equal: {x:20} != {x:20}\n",
       "            return false;\n",
       "        }\n",
       "    }\n",
       "    return true;\n",
       "};\n",
       "\n",
       "},{}]},{},[1]);\n",
       "</script>\n",
       "<script>(function e(t,n,r){function s(o,u){if(!n[o]){if(!t[o]){var a=typeof require==\"function\"&&require;if(!u&&a)return a(o,!0);if(i)return i(o,!0);var f=new Error(\"Cannot find module '\"+o+\"'\");throw f.code=\"MODULE_NOT_FOUND\",f}var l=n[o]={exports:{}};t[o][0].call(l.exports,function(e){var n=t[o][1][e];return s(n?n:e)},l,l.exports,e,t,n,r)}return n[o].exports}var i=typeof require==\"function\"&&require;for(var o=0;o<r.length;o++)s(r[o]);return s})({1:[function(require,module,exports){\n",
       "\n",
       "\n",
       "requirejs.config({\n",
       "    \"paths\": {\n",
       "        \"highstock\": \"https://cdnjs.cloudflare.com/ajax/libs/highstock/2.1.5/highstock\",\n",
       "        \"export\": \"https://cdnjs.cloudflare.com/ajax/libs/highstock/2.1.5/modules/exporting\",\n",
       "        \"more\": \"https://cdnjs.cloudflare.com/ajax/libs/highstock/2.1.7/highcharts-more\",\n",
       "        \"jsoneditor\": \"https://cdnjs.cloudflare.com/ajax/libs/jsoneditor/4.2.0/jsoneditor.min\",\n",
       "        \"selectize\": \"https://cdnjs.cloudflare.com/ajax/libs/selectize.js/0.12.1/js/standalone/selectize.min\",\n",
       "        \"jquery\": \"https://cdnjs.cloudflare.com/ajax/libs/jquery/2.1.4/jquery.min\"\n",
       "    },\n",
       "    \"shim\": {\n",
       "        \"export\": [\"highstock\"],\n",
       "        \"more\": [\"highstock\"]\n",
       "    }\n",
       "});\n",
       "\n",
       "//Define jquery here to use the pre-loaded version\n",
       "define('jquery', [], function() {\n",
       "    return jQuery;\n",
       "});\n",
       "\n",
       "},{}]},{},[1]);\n",
       "</script>\n",
       "<script>(function e(t,n,r){function s(o,u){if(!n[o]){if(!t[o]){var a=typeof require==\"function\"&&require;if(!u&&a)return a(o,!0);if(i)return i(o,!0);var f=new Error(\"Cannot find module '\"+o+\"'\");throw f.code=\"MODULE_NOT_FOUND\",f}var l=n[o]={exports:{}};t[o][0].call(l.exports,function(e){var n=t[o][1][e];return s(n?n:e)},l,l.exports,e,t,n,r)}return n[o].exports}var i=typeof require==\"function\"&&require;for(var o=0;o<r.length;o++)s(r[o]);return s})({1:[function(require,module,exports){\n",
       "//Count the number of charts on the page\n",
       "if (window.counter == undefined) {\n",
       "    window.counter = 0;\n",
       "} else {\n",
       "    window.counter++;\n",
       "}\n",
       "\n",
       "requirejs([\n",
       "    'jquery',\n",
       "    'selectize',\n",
       "    'jsoneditor',\n",
       "    'highstock',\n",
       "    'export',\n",
       "    'more'\n",
       "], function ($, selectize, JSONEditor) {\n",
       "\n",
       "    function guid() {\n",
       "        function s4() {\n",
       "            return Math.floor((1 + Math.random()) * 0x10000)\n",
       "                .toString(16)\n",
       "                .substring(1);\n",
       "        }\n",
       "\n",
       "        return s4() + s4() + '-' + s4() + '-' + s4() + '-' +\n",
       "            s4() + '-' + s4() + s4() + s4();\n",
       "    }\n",
       "\n",
       "    var id = guid();\n",
       "    plot(id);\n",
       "\n",
       "    function plot(id) {\n",
       "        var series = [\n",
       "            {data: [1, 2, 4, 9], name: \"temperature 1\", display: true, color: '#2b908f'},\n",
       "            {data: [9, 4, 2, 1], name: \"temperature 2\", display: true},\n",
       "            {data: [0, 3, 5, 6], name: \"temperature 3\", display: false}\n",
       "        ];\n",
       "        var series = [{\"data\": [[1447514700000.0, 0.0], [1447514760000.0, 0.0], [1447514820000.0, 7.3443895554053595], [1447514880000.0, 3.302752293564845], [1447514940000.0, 3.456666963582393], [1447515000000.0, 3.441978733241558], [1447515060000.0, 2.8571428571362047], [1447515120000.0, 2.8571428571362047], [1447515180000.0, 7.536670142516959], [1447515240000.0, 2.6277372262731657], [1447515300000.0, 2.7124799715180417], [1447515360000.0, 2.9268292682943864], [1447515420000.0, 2.943902439018711], [1447515480000.0, 3.0], [1447515540000.0, 5.660000000009313], [1447515600000.0, 5.030243902432266], [1447515660000.0, 2.9268292682943864], [1447515720000.0, 2.9268292682943864], [1447515780000.0, 2.9268292682943864], [1447515840000.0, 2.9973355195659677], [1447515900000.0, 3.0252100840327327], [1447515960000.0, 7.729799612163333], [1447516020000.0, 3.0769230769132263], [1447516080000.0, 3.086206896562362], [1447516140000.0, 3.1034482758608646], [1447516200000.0, 7.57957559680799], [1447516260000.0, 3.3635125936008987], [1447516320000.0, 3.185840707970783], [1447516380000.0, 3.185840707970783], [1447516440000.0, 3.211171551514417], [1447516500000.0, 3.302752293564845], [1447516560000.0, 7.520112914621131], [1447516620000.0, 3.713874910137383], [1447516680000.0, 3.3531681385589764], [1447516740000.0, 3.302752293564845], [1447516800000.0, 3.3488859764125665], [1447516860000.0, 3.4285714285739233], [1447516920000.0, 7.942857142863795], [1447516980000.0, 3.428571428556461], [1447517040000.0, 3.4008010681020093], [1447517100000.0, 3.3644859813095533], [1447517160000.0, 3.3243590842816046], [1447517220000.0, 3.3027522935823073], [1447517280000.0, 7.88974442986655], [1447517340000.0, 3.2142857142956927], [1447517400000.0, 3.1832706766901535], [1447517460000.0, 3.157894736848539], [1447517520000.0, 3.1760596180683933], [1447517580000.0, 3.1858407079533206], [1447517640000.0, 7.854473942978075], [1447517700000.0, 3.333333333337214], [1447517760000.0, 3.43790849672514], [1447517820000.0, 3.529411764704855], [1447517880000.0, 3.6185383244301192], [1447517940000.0, 5.508158508158521], [1447518000000.0, 6.274038461531745], [1447518060000.0, 3.7559210526233073], [1447518120000.0, 3.7894736842252312], [1447518180000.0, 8.093718166375766], [1447518240000.0, 3.87096774194506], [1447518300000.0, 3.8247877758869433], [1447518360000.0, 3.7894736842077688], [1447518420000.0, 11.41450924607925], [1447518480000.0, 8.344300822564401], [1447518540000.0, 7.7511563367268534], [1447518600000.0, 7.553191489371238], [1447518660000.0, 7.367346938769333], [1447518720000.0, 7.346938775503077], [1447518780000.0, 7.346938775520538], [1447518840000.0, 7.346938775503077], [1447518900000.0, 7.346938775520538], [1447518960000.0, 7.32489795917063], [1447519020000.0, 7.246530612255446], [1447519080000.0, 7.346938775503077], [1447519140000.0, 7.246530612255446], [1447519200000.0, 7.199999999999999], [1447519260000.0, 7.199999999999999], [1447519320000.0, 7.199999999999999], [1447519380000.0, 8.249230769224232], [1447519440000.0, 8.630769230774604], [1447519500000.0, 0.0], [1447519920000.0, 0.0], [1447519980000.0, 0.0], [1447520040000.0, 0.0], [1447520100000.0, 0.0], [1447520160000.0, 0.0], [1447520220000.0, 0.0], [1447520280000.0, 0.0], [1447520340000.0, 0.0], [1447520400000.0, 0.0], [1447520460000.0, 0.0], [1447520520000.0, 0.0], [1447520580000.0, 0.0], [1447520640000.0, 0.0], [1447520700000.0, 0.0], [1447520760000.0, 0.0], [1447520820000.0, 0.0], [1447520880000.0, 0.0], [1447520940000.0, 0.0], [1447521000000.0, 0.0], [1447521060000.0, 0.0], [1447521120000.0, 0.0], [1447521180000.0, 0.0], [1447521240000.0, 0.0], [1447521300000.0, 0.0], [1447521360000.0, 0.0], [1447521420000.0, 0.0], [1447521480000.0, 0.0], [1447521540000.0, 0.0], [1447521600000.0, 0.0], [1447521660000.0, 0.0], [1447521720000.0, 0.0], [1447521780000.0, 0.0], [1447521840000.0, 0.0], [1447521900000.0, 0.0], [1447521960000.0, 0.0], [1447522020000.0, 0.0], [1447522080000.0, 0.0], [1447522140000.0, 0.0], [1447522200000.0, 0.0], [1447522260000.0, 0.0], [1447522320000.0, 0.0], [1447522380000.0, 0.0], [1447522440000.0, 0.0], [1447522500000.0, 0.0], [1447522560000.0, 0.0], [1447522620000.0, 0.0], [1447522680000.0, 0.0], [1447522740000.0, 0.0], [1447522800000.0, 0.0], [1447522860000.0, 0.0], [1447522920000.0, 0.0], [1447522980000.0, 0.0], [1447523040000.0, 0.0], [1447523100000.0, 0.0], [1447523160000.0, 0.0], [1447523220000.0, 0.0], [1447523280000.0, 0.0], [1447523340000.0, 0.0], [1447523400000.0, 0.0], [1447523460000.0, 0.0], [1447523520000.0, 0.0], [1447523580000.0, 0.0], [1447523640000.0, 0.0], [1447523700000.0, 0.0], [1447523760000.0, 0.0], [1447523820000.0, 0.0], [1447523880000.0, 0.0], [1447523940000.0, 0.0], [1447524000000.0, 0.0], [1447524060000.0, 0.0], [1447524120000.0, 0.0], [1447524180000.0, 0.0], [1447524240000.0, 0.0], [1447524300000.0, 0.0], [1447524360000.0, 0.0], [1447524420000.0, 0.0], [1447524480000.0, 0.0], [1447524540000.0, 0.0], [1447524600000.0, 0.0], [1447524660000.0, 0.0], [1447524720000.0, 0.0], [1447524780000.0, 0.0], [1447524840000.0, 0.0], [1447524900000.0, 0.0], [1447524960000.0, 0.0], [1447525020000.0, 0.0], [1447525080000.0, 0.0], [1447525140000.0, 0.0], [1447525200000.0, 0.0], [1447525260000.0, 0.0], [1447525320000.0, 0.0], [1447525380000.0, 0.0], [1447525440000.0, 0.0]], \"display\": true, \"name\": \"ts_1\"}, {\"data\": [[1447514700000.0, 0.0], [1447514760000.0, 0.0], [1447514820000.0, 0.0], [1447514880000.0, 0.0], [1447514940000.0, 0.0], [1447515000000.0, 0.0], [1447515060000.0, 0.0], [1447515120000.0, 0.0], [1447515180000.0, 0.0], [1447515240000.0, 0.0], [1447515300000.0, 0.0], [1447515360000.0, 0.0], [1447515420000.0, 0.0], [1447515480000.0, 0.0], [1447515540000.0, 0.0], [1447515600000.0, 0.0], [1447515660000.0, 0.0], [1447515720000.0, 0.0], [1447515780000.0, 0.0], [1447515840000.0, 0.0], [1447515900000.0, 0.0], [1447515960000.0, 0.0], [1447516020000.0, 0.0], [1447516080000.0, 0.0], [1447516140000.0, 0.0], [1447516200000.0, 0.0], [1447516260000.0, 0.0], [1447516320000.0, 0.0], [1447516380000.0, 0.0], [1447516440000.0, 0.0], [1447516500000.0, 0.0], [1447516560000.0, 0.0], [1447516620000.0, 0.0], [1447516680000.0, 0.0], [1447516740000.0, 0.0], [1447516800000.0, 0.0], [1447516860000.0, 0.0], [1447516920000.0, 0.0], [1447516980000.0, 0.0], [1447517040000.0, 0.0], [1447517100000.0, 0.0], [1447517160000.0, 0.0], [1447517220000.0, 0.0], [1447517280000.0, 0.0], [1447517340000.0, 0.0], [1447517400000.0, 0.0], [1447517460000.0, 0.0], [1447517520000.0, 0.0], [1447517580000.0, 0.0], [1447517640000.0, 0.0], [1447517700000.0, 0.0], [1447517760000.0, 0.0], [1447517820000.0, 0.0], [1447517880000.0, 0.0], [1447517940000.0, 0.0], [1447518000000.0, 0.0], [1447518060000.0, 0.0], [1447518120000.0, 0.0], [1447518180000.0, 0.0], [1447518240000.0, 0.0], [1447518300000.0, 0.0], [1447518360000.0, 0.0], [1447518420000.0, 0.0], [1447518480000.0, 0.0], [1447518540000.0, 0.0], [1447518600000.0, 0.0], [1447518660000.0, 0.0], [1447518720000.0, 0.0], [1447518780000.0, 0.0], [1447518840000.0, 0.0], [1447518900000.0, 0.0], [1447518960000.0, 0.0], [1447519020000.0, 0.0], [1447519080000.0, 0.0], [1447519140000.0, 0.0], [1447519200000.0, 0.0], [1447519260000.0, 0.0], [1447519320000.0, 0.0], [1447519380000.0, 0.0], [1447519440000.0, 0.0], [1447519500000.0, 0.0], [1447519920000.0, 0.0], [1447519980000.0, 0.0], [1447520040000.0, 3.3027522935823073], [1447520100000.0, 5.411432604084257], [1447520160000.0, 5.990769230778096], [1447520220000.0, 3.5733333333337214], [1447520280000.0, 3.333333333337214], [1447520340000.0, 3.0680272108758797], [1447520400000.0, 2.4489795918460002], [1447520460000.0, 2.448979591828538], [1447520520000.0, 7.548449300980428], [1447520580000.0, 2.834645669296151], [1447520640000.0, 2.923382403276628], [1447520700000.0, 3.130434782610973], [1447520760000.0, 3.070930650376249], [1447520820000.0, 2.975206611579051], [1447520880000.0, 6.96122059757472], [1447520940000.0, 3.6110769230872393], [1447521000000.0, 2.879999999993015], [1447521060000.0, 2.940196721308166], [1447521120000.0, 2.9508196721377318], [1447521180000.0, 3.0754663651809095], [1447521240000.0, 3.1034482758608646], [1447521300000.0, 3.151542649726616], [1447521360000.0, 3.1578947368310764], [1447521420000.0, 7.774370709381764], [1447521480000.0, 3.130434782610973], [1447521540000.0, 3.1133433283364864], [1447521600000.0, 3.1034482758608646], [1447521660000.0, 3.1034482758608646], [1447521720000.0, 3.103448275878327], [1447521780000.0, 7.758620689652162], [1447521840000.0, 3.1034482758608646], [1447521900000.0, 3.1142428785504306], [1447521960000.0, 3.130434782610973], [1447522020000.0, 3.1045707915269305], [1447522080000.0, 3.076923076930689], [1447522140000.0, 7.743589743581833], [1447522200000.0, 3.076923076930689], [1447522260000.0, 3.080901856755372], [1447522320000.0, 3.1034482758608646], [1447522380000.0, 3.097701149439672], [1447522440000.0, 3.0769230769132263], [1447522500000.0, 6.096410256408853], [1447522560000.0, 4.797931034490466], [1447522620000.0, 3.1034482758608646], [1447522680000.0, 3.178974671952892], [1447522740000.0, 3.185840707970783], [1447522800000.0, 3.1858407079533206], [1447522860000.0, 4.784887678694212], [1447522920000.0, 6.226648351654876], [1447522980000.0, 3.21428571427823], [1447523040000.0, 3.2894823066832033], [1447523100000.0, 3.3091654048359485], [1447523160000.0, 3.495145631069317], [1447523220000.0, 6.772964899172075], [1447523280000.0, 4.827505827503046], [1447523340000.0, 3.6450216450321022], [1447523400000.0, 3.6734693877515383], [1447523460000.0, 8.037808807723922], [1447523520000.0, 3.7894736842252312], [1447523580000.0, 3.7894736842077688], [1447523640000.0, 3.7894736842077688], [1447523700000.0, 10.986234817811054], [1447523760000.0, 7.869375907117501], [1447523820000.0, 6.763102725357748], [1447523880000.0, 6.62626262626145], [1447523940000.0, 6.496753246762091], [1447524000000.0, 6.543650793645065], [1447524060000.0, 6.895424836606253], [1447524120000.0, 6.959276018093806], [1447524180000.0, 7.038461538468255], [1447524240000.0, 6.923076923080953], [1447524300000.0, 6.9615384615375655], [1447524360000.0, 6.999999999994179], [1447524420000.0, 6.999999999994179], [1447524480000.0, 6.9615384615375655], [1447524540000.0, 6.923076923080953], [1447524600000.0, 7.038461538468255], [1447524660000.0, 6.959276018093806], [1447524720000.0, 7.05882352940971], [1447524780000.0, 6.981900452496483], [1447524840000.0, 7.018099547509337], [1447524900000.0, 1.5654460459656547], [1447524960000.0, 0.5960264900699258], [1447525020000.0, 0.5960264900699258], [1447525080000.0, 0.5960264900524634], [1447525140000.0, 0.5960264900699258], [1447525200000.0, 0.5960264900699258], [1447525260000.0, 0.5960264900699258], [1447525320000.0, 0.5960264900699258], [1447525380000.0, 0.5960264900524634], [1447525440000.0, 0.5960264900699258]], \"display\": true, \"name\": \"ts_2\"}]\n",
       "        var options = {};\n",
       "        var options = {\"width\": \"auto\", \"scale\": 2, \"type\": \"line\", \"chart\": {\"type\": \"line\"}, \"height\": 400}\n",
       "        var useHighStock = false;\n",
       "        var useHighStock = true\n",
       "        var save = 'app/chart.svg';\n",
       "        var save = false\n",
       "        var url = 'http://127.0.0.1:65079';\n",
<<<<<<< HEAD
       "        var url = \"http://127.0.0.1:55542/\"\n",
=======
       "        var url = \"http://127.0.0.1:60273/\"\n",
>>>>>>> b1d371346587927d107aebdb2084344567faf5aa
       "        var settingsFile = 'settings';\n",
       "        var settingsFile = \"settings\"\n",
       "        var scale = options.scale;\n",
       "\n",
       "        //Create different containers for the charts\n",
       "        var chartContainer = document.getElementById(\"chart-container\");\n",
       "        chartContainer.id = \"chart-container\" + id;\n",
       "        chartContainer.style.height = options.height.toString() + 'px';\n",
       "\n",
       "        if (options.width != 'auto') {\n",
       "            chartContainer.style.width = options.width.toString() + 'px';\n",
       "        }\n",
       "\n",
       "        var selector = $(\"#variable-selector\");\n",
       "        selector.attr('id', \"variable-selector\" + id);\n",
       "\n",
       "        var settings = $(\"#settings-collapse\");\n",
       "        settings.attr('id', \"settings-collapse\" + id);\n",
       "\n",
       "        var button = $(\"#settings-button\");\n",
       "        button.attr('id', \"settings-button\" + id);\n",
       "\n",
       "        var saveButton = $(\"#save-settings\");\n",
       "        saveButton.attr('id', \"save-settings\" + id);\n",
       "\n",
       "        var optionsInput = $(\"#options-input\");\n",
       "        optionsInput.attr('id', \"options-input\" + id);\n",
       "        optionsInput.val(settingsFile);\n",
       "\n",
       "        var optionsButton = $(\"#options-button\");\n",
       "        optionsButton.attr('id', \"options-button\" + id);\n",
       "\n",
       "        // create the editor\n",
       "        var editorContainer = document.getElementById(\"jsoneditor\");\n",
       "        editorContainer.id = \"jsoneditor\" + id;\n",
       "        var editor = new JSONEditor(editorContainer);\n",
       "\n",
       "        button.on('click', showSettings);\n",
       "        saveButton.on('click', applyOptions);\n",
       "        optionsButton.on('click', saveOptions);\n",
       "\n",
       "        function applyOptions() {\n",
       "            var newOptions = editor.get();\n",
       "            setOptions(newOptions);\n",
       "            settings.collapse('hide');\n",
       "        }\n",
       "\n",
       "        function saveOptions(event) {\n",
       "            event.preventDefault();\n",
       "\n",
       "            applyOptions();\n",
       "\n",
       "            var options = chart.options;\n",
       "            delete options.exporting;\n",
       "\n",
       "            var name = optionsInput.val() ? optionsInput.val() + '.json' : 'settings.json';\n",
       "\n",
       "            options['settingsFile'] = name;\n",
       "\n",
       "            $.ajax({\n",
       "                type: \"POST\",\n",
       "                url: url,\n",
       "                data: JSON.stringify({\n",
       "                    options: options,\n",
       "                    name: name\n",
       "                })\n",
       "            });\n",
       "        }\n",
       "\n",
       "        function showSettings() {\n",
       "            settings.collapse('toggle');\n",
       "        }\n",
       "\n",
       "        //Choose a chart type\n",
       "        var ChartType = useHighStock ? Highcharts.StockChart : Highcharts.Chart;\n",
       "\n",
       "        //Default highchart colors\n",
       "        var colors = ['#7cb5ec', '#434348', '#90ed7d', '#f7a35c', '#8085e9',\n",
       "            '#f15c80', '#e4d354', '#2b908f', '#f45b5b', '#91e8e1'];\n",
       "\n",
       "        series.map(function (serie, index) {\n",
       "            if (!serie.color) {\n",
       "                serie['color'] = colors[index % 10];\n",
       "            }\n",
       "\n",
       "            return serie;\n",
       "        });\n",
       "\n",
       "        //Get all the keys\n",
       "        var keys = [];\n",
       "        var initialKeys = [];\n",
       "        $.each(series, function (index, serie) {\n",
       "            keys.push({\n",
       "                display: serie.display,\n",
       "                value: serie.name,\n",
       "                text: serie.name\n",
       "            });\n",
       "\n",
       "            if (serie.display) {\n",
       "                initialKeys.push(serie.name)\n",
       "            }\n",
       "        });\n",
       "\n",
       "        selector.selectize({\n",
       "            plugins: ['remove_button', 'restore_on_backspace'],\n",
       "            delimiter: ',',\n",
       "            options: keys,\n",
       "            items: initialKeys,\n",
       "            onItemAdd: function (key) {\n",
       "                console.log('series added');\n",
       "                addSeries(key);\n",
       "                newChart(chart.options, renderedSeries);\n",
       "            },\n",
       "            onItemRemove: function (key) {\n",
       "                console.log('series removed');\n",
       "                deleteSeries(key);\n",
       "                newChart(chart.options, renderedSeries);\n",
       "            }\n",
       "        });\n",
       "\n",
       "        //Set initial chart options\n",
       "        var chartOptions;\n",
       "        if (typeof options.chart === \"undefined\") {\n",
       "            chartOptions = {renderTo: chartContainer.id};\n",
       "        } else {\n",
       "            chartOptions = $.extend(options[\"chart\"], {renderTo: chartContainer.id});\n",
       "        }\n",
       "\n",
       "        //Initial rendered series\n",
       "        var renderedSeries = [];\n",
       "        options = $.extend(options, {chart: chartOptions}, {series: renderedSeries});\n",
       "        var chart = new ChartType(options);\n",
       "\n",
       "        $.each(initialKeys, function (index, key) {\n",
       "            addSeries(key);\n",
       "        });\n",
       "\n",
       "        newChart(chart.options, renderedSeries);\n",
       "        editor.set(chart.options);\n",
       "\n",
       "        if (save) {\n",
       "            saveSVG(url, save)\n",
       "        }\n",
       "\n",
       "        function setOptions(options) {\n",
       "            //Prevent export from breaking\n",
       "            delete options.exporting;\n",
       "            options['exporting'] = {scale: options.scale};\n",
       "\n",
       "            chartContainer.style.height = options.height.toString() + 'px';\n",
       "\n",
       "            if (options.width != 'auto') {\n",
       "                chartContainer.style.width = options.width.toString() + 'px';\n",
       "            }\n",
       "\n",
       "            newChart(options, renderedSeries);\n",
       "\n",
       "        }\n",
       "\n",
       "        function findSeries(series, key) {\n",
       "            return series.findIndex(function (obj) {\n",
       "                return obj.name == key;\n",
       "            })\n",
       "        }\n",
       "\n",
       "        function newChart(options, series) {\n",
       "            //Disable animation\n",
       "            var newOptions = $.extend(options, {series: series});\n",
       "            newOptions.plotOptions['series'] = {animation: false};\n",
       "\n",
       "            //Get zoom\n",
       "            var xExtremes = chart.xAxis[0].getExtremes();\n",
       "\n",
       "            //Re-plot the chart\n",
       "            chart.destroy();\n",
       "            chart = new ChartType(newOptions);\n",
       "\n",
       "            //Reset the zoom\n",
       "            chart.xAxis[0].setExtremes(xExtremes.min, xExtremes.max, false, false);\n",
       "\n",
       "            //Re-draw chart\n",
       "            chart.redraw();\n",
       "        }\n",
       "\n",
       "        function addSeries(key) {\n",
       "            var index = findSeries(series, key);\n",
       "            var newSeries = series[index];\n",
       "            renderedSeries.push(newSeries)\n",
       "        }\n",
       "\n",
       "        function deleteSeries(key) {\n",
       "            var index = findSeries(renderedSeries, key);\n",
       "            renderedSeries.splice(index, 1)\n",
       "        }\n",
       "\n",
       "        function saveSVG(url, name) {\n",
       "            $.ajax({\n",
       "                type: \"POST\",\n",
       "                url: url,\n",
       "                data: JSON.stringify({\n",
       "                    svg: chart.getSVG(),\n",
       "                    name: name\n",
       "                })\n",
       "            });\n",
       "        }\n",
       "\n",
       "        console.log('loaded!', Date());\n",
       "    }\n",
       "\n",
       "});\n",
       "\n",
       "},{}]},{},[1]);\n",
       "</script>\n",
       "\n"
      ],
      "text/plain": [
       "<IPython.core.display.HTML object>"
      ]
     },
     "execution_count": 4,
     "metadata": {},
     "output_type": "execute_result"
    }
   ],
   "source": [
    "gas = hp.find_sensor('212ce724e124fbde0fb649396375d099')\n",
    "\n",
    "#Timeseries 1\n",
    "head = pd.Timestamp('2015-11-14 15:22:00')\n",
    "tail = pd.Timestamp('2015-11-14 16:49:00')\n",
    "ts_1 = gas.get_data(head=head, tail=tail, diff=True, resample='min', unit='kW')\n",
    "ts_1 = ts_1.append(pd.DataFrame(data=[0], index=[ts_1.index[ts_1.size-1] + 1]))\n",
    "\n",
    "#Timeseries 2\n",
    "head = pd.Timestamp('2015-11-14 16:49:00')\n",
    "tail = pd.Timestamp('2015-11-14 18:26:00')\n",
    "ts_2 = gas.get_data(head=head, tail=tail, diff=True, resample='min', unit='kW')\n",
    "#ts_2 = ts_2.append(pd.DataFrame(data=[0], index=[ts_2.index[ts_2.size-1] + 1]))\n",
    "\n",
    "#concatinate them\n",
    "samples = pd.concat([ts_1, ts_2], axis=1).fillna(0)\n",
    "samples.columns = ['ts_1', 'ts_2']\n",
    "\n",
    "charts.plot(samples, stock=True, show='inline')\n"
   ]
  },
  {
   "cell_type": "markdown",
   "metadata": {},
   "source": [
    "Convert time samples to np arrays"
   ]
  },
  {
   "cell_type": "code",
   "execution_count": 5,
   "metadata": {
    "collapsed": false
   },
   "outputs": [],
   "source": [
    "ts_1 = ts_1.fillna(0).as_matrix()\n",
    "ts_2 = ts_2.fillna(0).as_matrix()"
   ]
  },
  {
   "cell_type": "code",
   "execution_count": 6,
   "metadata": {
    "collapsed": false
   },
   "outputs": [
    {
     "name": "stderr",
     "output_type": "stream",
     "text": [
      "/usr/lib/pymodules/python2.7/matplotlib/font_manager.py:1236: UserWarning: findfont: Font family ['sans-serif'] not found. Falling back to Bitstream Vera Sans\n",
      "  (prop.get_family(), self.defaultFamily[fontext]))\n",
      "/usr/lib/pymodules/python2.7/matplotlib/font_manager.py:1246: UserWarning: findfont: Could not match :family=Bitstream Vera Sans:style=normal:variant=normal:weight=normal:stretch=normal:size=10.0. Returning /usr/share/matplotlib/mpl-data/fonts/ttf/cmb10.ttf\n",
      "  UserWarning)\n"
     ]
    },
    {
     "data": {
      "image/png": "iVBORw0KGgoAAAANSUhEUgAAA6IAAAHiCAYAAADyP3HCAAAABHNCSVQICAgIfAhkiAAAAAlwSFlz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\nAAAAAAAAAAAAAAAAAAAAAADgfrkGoRm8Rwi2uOAAAAAASUVORK5CYII=\n",
      "text/plain": [
<<<<<<< HEAD
       "<matplotlib.figure.Figure at 0x7ff44edc8b50>"
=======
       "<matplotlib.figure.Figure at 0x7fa3fafa2e90>"
>>>>>>> b1d371346587927d107aebdb2084344567faf5aa
      ]
     },
     "metadata": {},
     "output_type": "display_data"
    }
   ],
   "source": [
    "plt.plot(ts_1,'r', label='ts_1')\n",
    "plt.plot(ts_2, 'g', label='ts_2')\n",
    "plt.legend();"
   ]
  },
  {
   "cell_type": "markdown",
   "metadata": {},
   "source": [
    "In this initial step, we will find out the distance between all pair of points in the two signals. Lesser distances implies that these points may be candidates to be matched together."
   ]
  },
  {
   "cell_type": "code",
   "execution_count": 7,
   "metadata": {
    "collapsed": true
   },
   "outputs": [],
   "source": [
    "distances = np.zeros((len(ts_1), len(ts_2)))"
   ]
  },
  {
   "cell_type": "markdown",
   "metadata": {},
   "source": [
    "We will use euclidean distance between the pairs of points."
   ]
  },
  {
   "cell_type": "code",
   "execution_count": 8,
   "metadata": {
    "collapsed": false
   },
   "outputs": [],
   "source": [
    "for i in range(len(ts_1)):\n",
    "    for j in range(len(ts_2)):\n",
    "        distances[i,j] = (ts_2[j]-ts_1[i])**2  "
   ]
  },
  {
   "cell_type": "markdown",
   "metadata": {},
   "source": [
    "<h3>Visualizing the distance matrix</h3>\n",
    "\n",
    "We will write a small function to visualize the distance matrix we just created."
   ]
  },
  {
   "cell_type": "code",
   "execution_count": 9,
   "metadata": {
    "collapsed": true
   },
   "outputs": [],
   "source": [
    "def distance_cost_plot(distances):\n",
    "    im = plt.imshow(distances, interpolation='nearest', cmap='Reds') \n",
    "    plt.gca().invert_yaxis()\n",
    "    plt.xlabel(\"ts_2\")\n",
    "    plt.ylabel(\"ts_1\")\n",
    "    plt.grid()\n",
    "    plt.colorbar();"
   ]
  },
  {
   "cell_type": "code",
   "execution_count": 10,
   "metadata": {
    "collapsed": false
   },
   "outputs": [
    {
     "name": "stderr",
     "output_type": "stream",
     "text": [
      "/usr/lib/pymodules/python2.7/matplotlib/font_manager.py:1246: UserWarning: findfont: Could not match :family=Bitstream Vera Sans:style=normal:variant=normal:weight=normal:stretch=normal:size=11.0. Returning /usr/share/matplotlib/mpl-data/fonts/ttf/cmb10.ttf\n",
      "  UserWarning)\n"
     ]
    },
    {
     "data": {
      "image/png": "iVBORw0KGgoAAAANSUhEUgAAAoYAAAHvCAYAAADJmR52AAAABHNCSVQICAgIfAhkiAAAAAlwSFlz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\nAAAAAAAAYPv/AZt6pHd8mBtAAAAAAElFTkSuQmCC\n",
      "text/plain": [
<<<<<<< HEAD
       "<matplotlib.figure.Figure at 0x7ff44e9b9950>"
=======
       "<matplotlib.figure.Figure at 0x7fa3fab994d0>"
>>>>>>> b1d371346587927d107aebdb2084344567faf5aa
      ]
     },
     "metadata": {},
     "output_type": "display_data"
    }
   ],
   "source": [
    "distance_cost_plot(distances)"
   ]
  },
  {
   "cell_type": "markdown",
   "metadata": {},
   "source": [
    "Warping path\n",
    "\n",
    "In order to create a mapping between the two signals, we need to create a path in the above plot. The path should start at (0,0) and want to reach (M,N) where (M, N) are the lengths of the two signals. Our aim is to find the path of minimum distance. To do this, we thus build a matrix similar to the distances matrix. This matrix would contain the minimum distances to reach a specific point when starting from (0,0). We impose some restrictions on the paths which we would explore:\n",
    "\n",
    "The path must start at (0,0) and end at (M,N)\n",
    "We cannot go back in time, so the path only flows forwards, which means that from a point (i, j), we can only right (i+1, j) or upwards (i, j+1) or diagonal (i+1, j+1).\n",
    "These restrictions would prevent the combinatorial explosion and convert the problem to a Dynamic Programming problem which can be solved in O(MN) time."
   ]
  },
  {
   "cell_type": "code",
   "execution_count": 11,
   "metadata": {
    "collapsed": true
   },
   "outputs": [],
   "source": [
    "accumulated_cost = np.zeros((len(ts_1), len(ts_2)))"
   ]
  },
  {
   "cell_type": "code",
   "execution_count": 12,
   "metadata": {
    "collapsed": true
   },
   "outputs": [],
   "source": [
    "accumulated_cost[0,0] = distances[0,0]"
   ]
  },
  {
   "cell_type": "code",
<<<<<<< HEAD
   "execution_count": 17,
=======
   "execution_count": 13,
>>>>>>> b1d371346587927d107aebdb2084344567faf5aa
   "metadata": {
    "collapsed": false
   },
   "outputs": [],
   "source": [
    "for i in range(1, len(ts_1)):\n",
    "    for j in range(1, len(ts_2)):\n",
    "        accumulated_cost[i, j] = min(accumulated_cost[i-1, j-1], accumulated_cost[i-1, j], accumulated_cost[i, j-1]) + distances[i, j]"
   ]
  },
  {
   "cell_type": "code",
<<<<<<< HEAD
   "execution_count": 18,
=======
   "execution_count": 14,
>>>>>>> b1d371346587927d107aebdb2084344567faf5aa
   "metadata": {
    "collapsed": false
   },
   "outputs": [
    {
     "data": {
      "image/png": "iVBORw0KGgoAAAANSUhEUgAAAoYAAAHvCAYAAADJmR52AAAABHNCSVQICAgIfAhkiAAAAAlwSFlz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\nSUVORK5CYII=\n",
      "text/plain": [
<<<<<<< HEAD
       "<matplotlib.figure.Figure at 0x7ff44f26a450>"
=======
       "<matplotlib.figure.Figure at 0x7fa3fb2a6750>"
>>>>>>> b1d371346587927d107aebdb2084344567faf5aa
      ]
     },
     "metadata": {},
     "output_type": "display_data"
    }
   ],
   "source": [
    "distance_cost_plot(accumulated_cost)"
   ]
  },
  {
   "cell_type": "markdown",
   "metadata": {},
   "source": [
    "Backtracking and finding the optimal warp path¶\n",
    "\n",
    "Backtracking procedure is fairly simple and involves trying to move back from the last point (M, N) and finding which place we would reached there from (by minimizing the cost) and do this in a repetitive fashion."
   ]
  },
  {
   "cell_type": "code",
<<<<<<< HEAD
   "execution_count": 19,
=======
   "execution_count": 15,
>>>>>>> b1d371346587927d107aebdb2084344567faf5aa
   "metadata": {
    "collapsed": true
   },
   "outputs": [],
   "source": [
    "path = [[len(ts_2)-1, len(ts_1)-1]]\n",
    "i = len(ts_1)-1\n",
    "j = len(ts_2)-1\n",
    "while i>0 and j>0:\n",
    "    if i==0:\n",
    "        j = j - 1\n",
    "    elif j==0:\n",
    "        i = i - 1\n",
    "    else:\n",
    "        if accumulated_cost[i-1, j] == min(accumulated_cost[i-1, j-1], accumulated_cost[i-1, j], accumulated_cost[i, j-1]):\n",
    "            i = i - 1\n",
    "        elif accumulated_cost[i, j-1] == min(accumulated_cost[i-1, j-1], accumulated_cost[i-1, j], accumulated_cost[i, j-1]):\n",
    "            j = j-1\n",
    "        else:\n",
    "            i = i - 1\n",
    "            j= j- 1\n",
    "    path.append([j, i])\n",
    "path.append([0,0])"
   ]
  },
  {
   "cell_type": "code",
<<<<<<< HEAD
   "execution_count": 20,
=======
   "execution_count": 16,
>>>>>>> b1d371346587927d107aebdb2084344567faf5aa
   "metadata": {
    "collapsed": true
   },
   "outputs": [],
   "source": [
    "path_ts_2 = [point[0] for point in path]\n",
    "path_ts_1 = [point[1] for point in path]"
   ]
  },
  {
   "cell_type": "code",
<<<<<<< HEAD
   "execution_count": 21,
=======
   "execution_count": 17,
>>>>>>> b1d371346587927d107aebdb2084344567faf5aa
   "metadata": {
    "collapsed": false
   },
   "outputs": [
    {
     "data": {
      "image/png": "iVBORw0KGgoAAAANSUhEUgAAAp0AAAHsCAYAAACQQxbHAAAABHNCSVQICAgIfAhkiAAAAAlwSFlz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\ngg==\n",
      "text/plain": [
<<<<<<< HEAD
       "<matplotlib.figure.Figure at 0x7ff44f0e9ad0>"
=======
       "<matplotlib.figure.Figure at 0x7fa3fb1c89d0>"
>>>>>>> b1d371346587927d107aebdb2084344567faf5aa
      ]
     },
     "metadata": {},
     "output_type": "display_data"
    }
   ],
   "source": [
    "distance_cost_plot(accumulated_cost)\n",
    "plt.plot(path_ts_2, path_ts_1);"
   ]
  },
  {
   "cell_type": "markdown",
   "metadata": {},
   "source": [
    "The above plot shows the optimum warping path which minimizes the sum of distance (DTW distance) along the path. Let us wrap up the function by also incorporating the DTW distance between the two signals as well."
   ]
  },
  {
   "cell_type": "code",
<<<<<<< HEAD
   "execution_count": 22,
=======
   "execution_count": 18,
>>>>>>> b1d371346587927d107aebdb2084344567faf5aa
   "metadata": {
    "collapsed": true
   },
   "outputs": [],
   "source": [
    "def path_cost(ts_2, ts_1, accumulated_cost, distances):\n",
    "    path = [[len(ts_2)-1, len(ts_1)-1]]\n",
    "    cost = 0\n",
    "    i = len(ts_1)-1\n",
    "    j = len(ts_2)-1\n",
    "    while i>0 and j>0:\n",
    "        if i==0:\n",
    "            j = j - 1\n",
    "        elif j==0:\n",
    "            i = i - 1\n",
    "        else:\n",
    "            if accumulated_cost[i-1, j] == min(accumulated_cost[i-1, j-1], accumulated_cost[i-1, j], accumulated_cost[i, j-1]):\n",
    "                i = i - 1\n",
    "            elif accumulated_cost[i, j-1] == min(accumulated_cost[i-1, j-1], accumulated_cost[i-1, j], accumulated_cost[i, j-1]):\n",
    "                j = j-1\n",
    "            else:\n",
    "                i = i - 1\n",
    "                j= j- 1\n",
    "        path.append([j, i])\n",
    "    path.append([0,0])\n",
    "    for [y, x] in path:\n",
    "        cost = cost +distances[x, y]\n",
    "    return path, cost"
   ]
  },
  {
   "cell_type": "code",
<<<<<<< HEAD
   "execution_count": 23,
=======
   "execution_count": 19,
>>>>>>> b1d371346587927d107aebdb2084344567faf5aa
   "metadata": {
    "collapsed": false
   },
   "outputs": [
    {
     "name": "stdout",
     "output_type": "stream",
     "text": [
      "[[92, 80], [91, 80], [90, 80], [89, 80], [88, 80], [87, 80], [86, 80], [85, 80], [84, 80], [83, 80], [82, 79], [82, 78], [81, 77], [80, 77], [79, 77], [78, 77], [77, 77], [76, 77], [75, 77], [74, 76], [73, 75], [72, 74], [71, 73], [71, 72], [70, 71], [69, 70], [68, 69], [67, 68], [66, 67], [65, 66], [64, 65], [64, 64], [64, 63], [63, 62], [62, 61], [61, 61], [60, 61], [60, 60], [60, 59], [59, 58], [58, 57], [57, 57], [56, 57], [55, 57], [54, 56], [53, 56], [52, 56], [51, 56], [50, 55], [49, 54], [48, 53], [47, 52], [46, 51], [45, 50], [44, 50], [43, 49], [42, 48], [41, 47], [40, 46], [39, 45], [38, 44], [37, 43], [36, 42], [35, 41], [34, 40], [33, 39], [32, 38], [31, 37], [30, 36], [29, 35], [28, 34], [27, 33], [26, 32], [25, 31], [24, 30], [23, 29], [22, 28], [21, 28], [20, 28], [19, 28], [18, 27], [17, 26], [16, 25], [15, 24], [14, 23], [13, 23], [12, 22], [11, 22], [10, 21], [9, 20], [8, 19], [7, 18], [6, 17], [5, 16], [4, 15], [3, 14], [2, 13], [2, 12], [2, 11], [2, 10], [1, 9], [0, 9], [0, 0]]\n",
      "49.2175508372\n"
     ]
    }
   ],
   "source": [
    "path, cost = path_cost(ts_2, ts_1, accumulated_cost, distances)\n",
    "print path\n",
    "print cost"
   ]
  },
  {
   "cell_type": "code",
   "execution_count": null,
   "metadata": {
    "collapsed": true
   },
   "outputs": [],
   "source": []
  },
  {
   "cell_type": "code",
   "execution_count": null,
   "metadata": {
    "collapsed": true
   },
   "outputs": [],
   "source": []
  },
  {
   "cell_type": "code",
   "execution_count": null,
   "metadata": {
    "collapsed": true
   },
   "outputs": [],
   "source": []
  }
 ],
 "metadata": {
  "kernelspec": {
   "display_name": "Python 2",
   "language": "python",
   "name": "python2"
  },
  "language_info": {
   "codemirror_mode": {
    "name": "ipython",
    "version": 2
   },
   "file_extension": ".py",
   "mimetype": "text/x-python",
   "name": "python",
   "nbconvert_exporter": "python",
   "pygments_lexer": "ipython2",
   "version": "2.7.6"
  }
 },
 "nbformat": 4,
 "nbformat_minor": 0
}
