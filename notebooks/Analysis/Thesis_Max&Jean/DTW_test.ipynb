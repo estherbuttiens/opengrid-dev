{
 "cells": [
  {
   "cell_type": "code",
   "execution_count": 1,
   "metadata": {
    "collapsed": false
   },
   "outputs": [
    {
     "name": "stdout",
     "output_type": "stream",
     "text": [
      "Collecting seaborn\n",
      "  Downloading seaborn-0.7.1.tar.gz (158kB)\n",
      "Building wheels for collected packages: seaborn\n",
      "  Running setup.py bdist_wheel for seaborn: started\n",
      "  Running setup.py bdist_wheel for seaborn: finished with status 'done'\n",
      "  Stored in directory: /root/.cache/pip/wheels/cb/c8/67/83d615c0ef9b529558525aa521025b183de8c5b156799b091e\n",
      "Successfully built seaborn\n",
      "Installing collected packages: seaborn\n",
      "Successfully installed seaborn-0.7.1\n",
      "Collecting mlpy\n",
      "  Downloading mlpy-0.1.0.zip (4.5MB)\n",
      "Requirement already satisfied (use --upgrade to upgrade): numpy>=1.6.2 in /usr/lib/python2.7/dist-packages (from mlpy)\n",
      "Requirement already satisfied (use --upgrade to upgrade): scipy>=0.11 in /usr/lib/python2.7/dist-packages (from mlpy)\n",
      "Requirement already satisfied (use --upgrade to upgrade): matplotlib in /usr/lib/pymodules/python2.7 (from mlpy)\n",
      "Collecting scikit-learn (from mlpy)\n",
      "  Downloading scikit_learn-0.18.1-cp27-cp27mu-manylinux1_x86_64.whl (11.6MB)\n",
      "Requirement already satisfied (use --upgrade to upgrade): six>=1.9.0 in /usr/local/lib/python2.7/dist-packages (from mlpy)\n",
      "Requirement already satisfied (use --upgrade to upgrade): python-dateutil in /usr/lib/python2.7/dist-packages (from matplotlib->mlpy)\n",
      "Requirement already satisfied (use --upgrade to upgrade): tornado in /usr/local/lib/python2.7/dist-packages (from matplotlib->mlpy)\n",
      "Requirement already satisfied (use --upgrade to upgrade): pyparsing>=1.5.6 in /usr/lib/python2.7/dist-packages (from matplotlib->mlpy)\n",
      "Requirement already satisfied (use --upgrade to upgrade): nose in /usr/lib/python2.7/dist-packages (from matplotlib->mlpy)\n",
      "Requirement already satisfied (use --upgrade to upgrade): backports.ssl_match_hostname in /usr/local/lib/python2.7/dist-packages (from tornado->matplotlib->mlpy)\n",
      "Requirement already satisfied (use --upgrade to upgrade): singledispatch in /usr/local/lib/python2.7/dist-packages (from tornado->matplotlib->mlpy)\n",
      "Requirement already satisfied (use --upgrade to upgrade): certifi in /usr/local/lib/python2.7/dist-packages (from tornado->matplotlib->mlpy)\n",
      "Requirement already satisfied (use --upgrade to upgrade): backports_abc>=0.4 in /usr/local/lib/python2.7/dist-packages (from tornado->matplotlib->mlpy)\n",
      "Building wheels for collected packages: mlpy\n",
      "  Running setup.py bdist_wheel for mlpy: started\n",
      "  Running setup.py bdist_wheel for mlpy: finished with status 'done'\n",
      "  Stored in directory: /root/.cache/pip/wheels/70/85/c2/68d906f0b0dd73fa710cc99090752eab96637f7bed1f61e52e\n",
      "Successfully built mlpy\n",
      "Installing collected packages: scikit-learn, mlpy\n",
      "Successfully installed mlpy-0.1.0 scikit-learn-0.18.1\n"
     ]
    },
    {
     "name": "stderr",
     "output_type": "stream",
     "text": [
      "/usr/local/lib/python2.7/dist-packages/pip/_vendor/requests/packages/urllib3/util/ssl_.py:318: SNIMissingWarning: An HTTPS request has been made, but the SNI (Subject Name Indication) extension to TLS is not available on this platform. This may cause the server to present an incorrect TLS certificate, which can cause validation failures. You can upgrade to a newer version of Python to solve this. For more information, see https://urllib3.readthedocs.org/en/latest/security.html#snimissingwarning.\n",
      "  SNIMissingWarning\n",
      "/usr/local/lib/python2.7/dist-packages/pip/_vendor/requests/packages/urllib3/util/ssl_.py:122: InsecurePlatformWarning: A true SSLContext object is not available. This prevents urllib3 from configuring SSL appropriately and may cause certain SSL connections to fail. You can upgrade to a newer version of Python to solve this. For more information, see https://urllib3.readthedocs.org/en/latest/security.html#insecureplatformwarning.\n",
      "  InsecurePlatformWarning\n",
      "/usr/local/lib/python2.7/dist-packages/pip/_vendor/requests/packages/urllib3/util/ssl_.py:122: InsecurePlatformWarning: A true SSLContext object is not available. This prevents urllib3 from configuring SSL appropriately and may cause certain SSL connections to fail. You can upgrade to a newer version of Python to solve this. For more information, see https://urllib3.readthedocs.org/en/latest/security.html#insecureplatformwarning.\n",
      "  InsecurePlatformWarning\n",
      "You are using pip version 8.1.2, however version 9.0.1 is available.\n",
      "You should consider upgrading via the 'pip install --upgrade pip' command.\n",
      "/usr/local/lib/python2.7/dist-packages/pip/_vendor/requests/packages/urllib3/util/ssl_.py:318: SNIMissingWarning: An HTTPS request has been made, but the SNI (Subject Name Indication) extension to TLS is not available on this platform. This may cause the server to present an incorrect TLS certificate, which can cause validation failures. You can upgrade to a newer version of Python to solve this. For more information, see https://urllib3.readthedocs.org/en/latest/security.html#snimissingwarning.\n",
      "  SNIMissingWarning\n",
      "/usr/local/lib/python2.7/dist-packages/pip/_vendor/requests/packages/urllib3/util/ssl_.py:122: InsecurePlatformWarning: A true SSLContext object is not available. This prevents urllib3 from configuring SSL appropriately and may cause certain SSL connections to fail. You can upgrade to a newer version of Python to solve this. For more information, see https://urllib3.readthedocs.org/en/latest/security.html#insecureplatformwarning.\n",
      "  InsecurePlatformWarning\n",
      "You are using pip version 8.1.2, however version 9.0.1 is available.\n",
      "You should consider upgrading via the 'pip install --upgrade pip' command.\n"
     ]
    }
   ],
   "source": [
    "%%bash\n",
    "pip install seaborn\n",
    "pip install mlpy"
   ]
  },
  {
   "cell_type": "code",
   "execution_count": 2,
   "metadata": {
    "collapsed": false
   },
   "outputs": [
    {
     "name": "stdout",
     "output_type": "stream",
     "text": [
      "Server running in the folder /usr/local/opengrid/notebooks/Analysis/Thesis_Max&Jean at 127.0.0.1:55542\n"
     ]
    }
   ],
   "source": [
    "import numpy as np\n",
    "\n",
    "import os\n",
    "import inspect\n",
    "import sys\n",
    "import pandas as pd\n",
    "import charts\n",
    "import time\n",
    "\n",
    "from opengrid.library import houseprint\n",
    "\n",
    "from scipy.signal import butter, lfilter, freqz\n",
    "\n",
    "import seaborn as sns\n",
    "\n",
    "import matplotlib.pyplot as plt\n",
    "%matplotlib inline\n",
    "plt.rcParams['figure.figsize'] = 16,8"
   ]
  },
  {
   "cell_type": "markdown",
   "metadata": {},
   "source": [
    "<h3>Create two signals to compare to each other</h3>"
   ]
  },
  {
   "cell_type": "code",
   "execution_count": 3,
   "metadata": {
    "collapsed": false
   },
   "outputs": [
    {
     "name": "stdout",
     "output_type": "stream",
     "text": [
      "Opening connection to Houseprint sheet\n",
      "Opening spreadsheets\n",
      "Parsing spreadsheets\n",
      "30 Sites created\n",
      "30 Devices created\n",
      "87 sensors created\n",
      "Houseprint parsing complete\n"
     ]
    }
   ],
   "source": [
    "hp = houseprint.Houseprint()"
   ]
  },
  {
   "cell_type": "code",
   "execution_count": null,
   "metadata": {
    "collapsed": true
   },
   "outputs": [],
   "source": []
  },
  {
   "cell_type": "code",
   "execution_count": 4,
   "metadata": {
    "collapsed": false
   },
   "outputs": [
    {
     "name": "stdout",
     "output_type": "stream",
     "text": [
      "Using tmpo database from /data/.tmpo/tmpo.sqlite3\n"
     ]
    },
    {
     "data": {
      "text/html": [
       "<style>body{-moz-osx-font-smoothing:grayscale;-webkit-font-smoothing:antialiased;color:#555;font-family:sans-serif}\n",
       "small{font-weight:400;display:block;font-size:14px}\n",
       "code{background-color:#d3d3d3;border-radius:3px;font-family:monospace;padding:0 .5em}\n",
       ".icon.-facebook:before,.icon.-linkedin:before,.icon.-pinterest:before,.icon.-twitter:before{-moz-osx-font-smoothing:grayscale;-webkit-font-smoothing:antialiased;font-family:Post-Creator-Icons;font-style:normal;font-variant:normal;font-weight:400;line-height:1;speak:none;text-transform:none}\n",
       "@font-face{font-family:Post-Creator-Icons;src:url(fonts/Post-Creator-Icons.eot);src:url(fonts/Post-Creator-Icons.eot?#iefix) format('embedded-opentype'),url(fonts/Post-Creator-Icons.woff) format('woff'),url(fonts/Post-Creator-Icons.ttf) format('truetype'),url(fonts/Post-Creator-Icons.svg#Post-Creator-Icons) format('svg');font-weight:400;font-style:normal}\n",
       ".icon.-facebook:before{content:\"\\e001\"}\n",
       ".icon.-linkedin:before{content:\"\\e002\"}\n",
       ".icon.-pinterest:before{content:\"\\e003\"}\n",
       ".icon.-twitter:before{content:\"\\e004\"}\n",
       ".social-icons h4{display:inline-block;margin:20px 10px 0 0}\n",
       ".social-icons .icon{display:inline-block;margin:0 5px}\n",
       "body.modal-open{overflow:hidden}\n",
       ".jsoneditor table,.jsoneditor td,.jsoneditor td.tree,.jsoneditor tr{border:none;margin:0}</style>\n",
       "<link rel=\"stylesheet\" href=\"https://cdnjs.cloudflare.com/ajax/libs/selectize.js/0.12.1/css/selectize.default.min.css\"/>\n",
       "<link rel=\"stylesheet\" href=\"https://cdnjs.cloudflare.com/ajax/libs/jsoneditor/4.2.0/jsoneditor.min.css\"/>\n",
       "\n",
       "<div class=\"container-fluid\">\n",
       "    <div class=\"row\">\n",
       "        <div class=\"col-sm-10\">\n",
       "            <input type=\"text\" id=\"variable-selector\">\n",
       "        </div>\n",
       "        <div class=\"col-sm-2\">\n",
       "            <button class=\"btn btn-default pull-right\" type=\"submit\" id=\"settings-button\">Settings</button>\n",
       "        </div>\n",
       "    </div>\n",
       "\n",
       "    <div class=\"row\">\n",
       "        <div class=\"collapse col-xs-12\" id=\"settings-collapse\">\n",
       "            <div class=\"panel panel-default\" style=\"margin-top: 20px\">\n",
       "                <div class=\"panel-heading\"><h3 class=\"panel-title\">Adjust chart settings</h3></div>\n",
       "                <div class=\"panel-body\">\n",
       "                    <div class=\"row\">\n",
       "                        <div id=\"jsoneditor\" class=\"col-md-12\" style=\"height: 350px\"></div>\n",
       "                    </div>\n",
       "                    <div class=\"row\" style=\"margin-top: 10px\">\n",
       "                        <div class=\"col-sm-4\">\n",
       "                            <button type=\"button\" class=\"btn btn-primary\" id=\"save-settings\">\n",
       "                                Apply changes\n",
       "                            </button>\n",
       "                        </div>\n",
       "                        <div class=\"col-sm-8 text-right \">\n",
       "                            <form class=\"form-inline\">\n",
       "                                <div class=\"form-group\">\n",
       "                                    <div class=\"input-group\">\n",
       "                                        <input type=\"text\" class=\"form-control\" id=\"options-input\"\n",
       "                                               placeholder=\"settings\" style=\"text-align: right\">\n",
       "                                        <div class=\"input-group-addon\"><strong>.json</strong></div>\n",
       "                                    </div>\n",
       "                                </div>\n",
       "                                <button type=\"submit\" class=\"btn btn-primary\" id=\"options-button\">Save</button>\n",
       "                            </form>\n",
       "\n",
       "                        </div>\n",
       "                    </div>\n",
       "                </div>\n",
       "            </div>\n",
       "        </div>\n",
       "    </div>\n",
       "\n",
       "    <div class=\"row\">\n",
       "        <div id=\"chart-container\" style=\"min-width: 310px;\"></div>\n",
       "    </div>\n",
       "</div>\n",
       "\n",
       "\n",
       "<script src=\"https://cdnjs.cloudflare.com/ajax/libs/jquery/2.1.4/jquery.min.js\"></script>\n",
       "<script src=\"https://cdnjs.cloudflare.com/ajax/libs/require.js/2.1.18/require.min.js\"></script>\n",
       "\n",
       "\n",
       "\n",
       "\n",
       "\n",
       "\n",
       "<script>(function e(t,n,r){function s(o,u){if(!n[o]){if(!t[o]){var a=typeof require==\"function\"&&require;if(!u&&a)return a(o,!0);if(i)return i(o,!0);var f=new Error(\"Cannot find module '\"+o+\"'\");throw f.code=\"MODULE_NOT_FOUND\",f}var l=n[o]={exports:{}};t[o][0].call(l.exports,function(e){var n=t[o][1][e];return s(n?n:e)},l,l.exports,e,t,n,r)}return n[o].exports}var i=typeof require==\"function\"&&require;for(var o=0;o<r.length;o++)s(r[o]);return s})({1:[function(require,module,exports){\n",
       "//findIndex polyfill\n",
       "if (!Array.prototype.findIndex) {\n",
       "    Array.prototype.findIndex = function(predicate) {\n",
       "        if (this == null) {\n",
       "            throw new TypeError('Array.prototype.findIndex called on null or undefined');\n",
       "        }\n",
       "        if (typeof predicate !== 'function') {\n",
       "            throw new TypeError('predicate must be a function');\n",
       "        }\n",
       "        var list = Object(this);\n",
       "        var length = list.length >>> 0;\n",
       "        var thisArg = arguments[1];\n",
       "        var value;\n",
       "\n",
       "        for (var i = 0; i < length; i++) {\n",
       "            value = list[i];\n",
       "            if (predicate.call(thisArg, value, i, list)) {\n",
       "                return i;\n",
       "            }\n",
       "        }\n",
       "        return -1;\n",
       "    };\n",
       "}\n",
       "\n",
       "if (!Array.prototype.filter) {\n",
       "    Array.prototype.filter = function(fun/*, thisArg*/) {\n",
       "        'use strict';\n",
       "\n",
       "        if (this === void 0 || this === null) {\n",
       "            throw new TypeError();\n",
       "        }\n",
       "\n",
       "        var t = Object(this);\n",
       "        var len = t.length >>> 0;\n",
       "        if (typeof fun !== 'function') {\n",
       "            throw new TypeError();\n",
       "        }\n",
       "\n",
       "        var res = [];\n",
       "        var thisArg = arguments.length >= 2 ? arguments[1] : void 0;\n",
       "        for (var i = 0; i < len; i++) {\n",
       "            if (i in t) {\n",
       "                var val = t[i];\n",
       "\n",
       "                // NOTE: Technically this should Object.defineProperty at\n",
       "                //       the next index, as push can be affected by\n",
       "                //       properties on Object.prototype and Array.prototype.\n",
       "                //       But that method's new, and collisions should be\n",
       "                //       rare, so use the more-compatible alternative.\n",
       "                if (fun.call(thisArg, val, i, t)) {\n",
       "                    res.push(val);\n",
       "                }\n",
       "            }\n",
       "        }\n",
       "\n",
       "        return res;\n",
       "    };\n",
       "}\n",
       "\n",
       "function guid() {\n",
       "    function s4() {\n",
       "        return Math.floor((1 + Math.random()) * 0x10000)\n",
       "            .toString(16)\n",
       "            .substring(1);\n",
       "    }\n",
       "    return s4() + s4() + '-' + s4() + '-' + s4() + '-' +\n",
       "        s4() + '-' + s4() + s4() + s4();\n",
       "}\n",
       "\n",
       "Array.prototype.equals = function (array) {\n",
       "    // if the other array is a false value, return\n",
       "    if (!array)\n",
       "        return false;\n",
       "\n",
       "    // compare lengths - can save a lot of time\n",
       "    if (this.length != array.length)\n",
       "        return false;\n",
       "\n",
       "    for (var i = 0, l = this.length; i < l; i++) {\n",
       "        // Check if we have nested arrays\n",
       "        if (this[i] instanceof Array && array[i] instanceof Array) {\n",
       "            // recurse into the nested arrays\n",
       "            if (!this[i].equals(array[i]))\n",
       "                return false;\n",
       "        }\n",
       "        else if (this[i] != array[i]) {\n",
       "            // Warning - two different object instances will never be equal: {x:20} != {x:20}\n",
       "            return false;\n",
       "        }\n",
       "    }\n",
       "    return true;\n",
       "};\n",
       "\n",
       "},{}]},{},[1]);\n",
       "</script>\n",
       "<script>(function e(t,n,r){function s(o,u){if(!n[o]){if(!t[o]){var a=typeof require==\"function\"&&require;if(!u&&a)return a(o,!0);if(i)return i(o,!0);var f=new Error(\"Cannot find module '\"+o+\"'\");throw f.code=\"MODULE_NOT_FOUND\",f}var l=n[o]={exports:{}};t[o][0].call(l.exports,function(e){var n=t[o][1][e];return s(n?n:e)},l,l.exports,e,t,n,r)}return n[o].exports}var i=typeof require==\"function\"&&require;for(var o=0;o<r.length;o++)s(r[o]);return s})({1:[function(require,module,exports){\n",
       "\n",
       "\n",
       "requirejs.config({\n",
       "    \"paths\": {\n",
       "        \"highstock\": \"https://cdnjs.cloudflare.com/ajax/libs/highstock/2.1.5/highstock\",\n",
       "        \"export\": \"https://cdnjs.cloudflare.com/ajax/libs/highstock/2.1.5/modules/exporting\",\n",
       "        \"more\": \"https://cdnjs.cloudflare.com/ajax/libs/highstock/2.1.7/highcharts-more\",\n",
       "        \"jsoneditor\": \"https://cdnjs.cloudflare.com/ajax/libs/jsoneditor/4.2.0/jsoneditor.min\",\n",
       "        \"selectize\": \"https://cdnjs.cloudflare.com/ajax/libs/selectize.js/0.12.1/js/standalone/selectize.min\",\n",
       "        \"jquery\": \"https://cdnjs.cloudflare.com/ajax/libs/jquery/2.1.4/jquery.min\"\n",
       "    },\n",
       "    \"shim\": {\n",
       "        \"export\": [\"highstock\"],\n",
       "        \"more\": [\"highstock\"]\n",
       "    }\n",
       "});\n",
       "\n",
       "//Define jquery here to use the pre-loaded version\n",
       "define('jquery', [], function() {\n",
       "    return jQuery;\n",
       "});\n",
       "\n",
       "},{}]},{},[1]);\n",
       "</script>\n",
       "<script>(function e(t,n,r){function s(o,u){if(!n[o]){if(!t[o]){var a=typeof require==\"function\"&&require;if(!u&&a)return a(o,!0);if(i)return i(o,!0);var f=new Error(\"Cannot find module '\"+o+\"'\");throw f.code=\"MODULE_NOT_FOUND\",f}var l=n[o]={exports:{}};t[o][0].call(l.exports,function(e){var n=t[o][1][e];return s(n?n:e)},l,l.exports,e,t,n,r)}return n[o].exports}var i=typeof require==\"function\"&&require;for(var o=0;o<r.length;o++)s(r[o]);return s})({1:[function(require,module,exports){\n",
       "//Count the number of charts on the page\n",
       "if (window.counter == undefined) {\n",
       "    window.counter = 0;\n",
       "} else {\n",
       "    window.counter++;\n",
       "}\n",
       "\n",
       "requirejs([\n",
       "    'jquery',\n",
       "    'selectize',\n",
       "    'jsoneditor',\n",
       "    'highstock',\n",
       "    'export',\n",
       "    'more'\n",
       "], function ($, selectize, JSONEditor) {\n",
       "\n",
       "    function guid() {\n",
       "        function s4() {\n",
       "            return Math.floor((1 + Math.random()) * 0x10000)\n",
       "                .toString(16)\n",
       "                .substring(1);\n",
       "        }\n",
       "\n",
       "        return s4() + s4() + '-' + s4() + '-' + s4() + '-' +\n",
       "            s4() + '-' + s4() + s4() + s4();\n",
       "    }\n",
       "\n",
       "    var id = guid();\n",
       "    plot(id);\n",
       "\n",
       "    function plot(id) {\n",
       "        var series = [\n",
       "            {data: [1, 2, 4, 9], name: \"temperature 1\", display: true, color: '#2b908f'},\n",
       "            {data: [9, 4, 2, 1], name: \"temperature 2\", display: true},\n",
       "            {data: [0, 3, 5, 6], name: \"temperature 3\", display: false}\n",
       "        ];\n",
       "        var series = [{\"data\": [[1447514700000.0, 0.0], [1447514760000.0, 0.0], [1447514820000.0, 7.3443895554053595], [1447514880000.0, 3.302752293564845], [1447514940000.0, 3.456666963582393], [1447515000000.0, 3.441978733241558], [1447515060000.0, 2.8571428571362047], [1447515120000.0, 2.8571428571362047], [1447515180000.0, 7.536670142516959], [1447515240000.0, 2.6277372262731657], [1447515300000.0, 2.7124799715180417], [1447515360000.0, 2.9268292682943864], [1447515420000.0, 2.943902439018711], [1447515480000.0, 3.0], [1447515540000.0, 5.660000000009313], [1447515600000.0, 5.030243902432266], [1447515660000.0, 2.9268292682943864], [1447515720000.0, 2.9268292682943864], [1447515780000.0, 2.9268292682943864], [1447515840000.0, 2.9973355195659677], [1447515900000.0, 3.0252100840327327], [1447515960000.0, 7.729799612163333], [1447516020000.0, 3.0769230769132263], [1447516080000.0, 3.086206896562362], [1447516140000.0, 3.1034482758608646], [1447516200000.0, 7.57957559680799], [1447516260000.0, 3.3635125936008987], [1447516320000.0, 3.185840707970783], [1447516380000.0, 3.185840707970783], [1447516440000.0, 3.211171551514417], [1447516500000.0, 3.302752293564845], [1447516560000.0, 7.520112914621131], [1447516620000.0, 3.713874910137383], [1447516680000.0, 3.3531681385589764], [1447516740000.0, 3.302752293564845], [1447516800000.0, 3.3488859764125665], [1447516860000.0, 3.4285714285739233], [1447516920000.0, 7.942857142863795], [1447516980000.0, 3.428571428556461], [1447517040000.0, 3.4008010681020093], [1447517100000.0, 3.3644859813095533], [1447517160000.0, 3.3243590842816046], [1447517220000.0, 3.3027522935823073], [1447517280000.0, 7.88974442986655], [1447517340000.0, 3.2142857142956927], [1447517400000.0, 3.1832706766901535], [1447517460000.0, 3.157894736848539], [1447517520000.0, 3.1760596180683933], [1447517580000.0, 3.1858407079533206], [1447517640000.0, 7.854473942978075], [1447517700000.0, 3.333333333337214], [1447517760000.0, 3.43790849672514], [1447517820000.0, 3.529411764704855], [1447517880000.0, 3.6185383244301192], [1447517940000.0, 5.508158508158521], [1447518000000.0, 6.274038461531745], [1447518060000.0, 3.7559210526233073], [1447518120000.0, 3.7894736842252312], [1447518180000.0, 8.093718166375766], [1447518240000.0, 3.87096774194506], [1447518300000.0, 3.8247877758869433], [1447518360000.0, 3.7894736842077688], [1447518420000.0, 11.41450924607925], [1447518480000.0, 8.344300822564401], [1447518540000.0, 7.7511563367268534], [1447518600000.0, 7.553191489371238], [1447518660000.0, 7.367346938769333], [1447518720000.0, 7.346938775503077], [1447518780000.0, 7.346938775520538], [1447518840000.0, 7.346938775503077], [1447518900000.0, 7.346938775520538], [1447518960000.0, 7.32489795917063], [1447519020000.0, 7.246530612255446], [1447519080000.0, 7.346938775503077], [1447519140000.0, 7.246530612255446], [1447519200000.0, 7.199999999999999], [1447519260000.0, 7.199999999999999], [1447519320000.0, 7.199999999999999], [1447519380000.0, 8.249230769224232], [1447519440000.0, 8.630769230774604], [1447519500000.0, 0.0], [1447519920000.0, 0.0], [1447519980000.0, 0.0], [1447520040000.0, 0.0], [1447520100000.0, 0.0], [1447520160000.0, 0.0], [1447520220000.0, 0.0], [1447520280000.0, 0.0], [1447520340000.0, 0.0], [1447520400000.0, 0.0], [1447520460000.0, 0.0], [1447520520000.0, 0.0], [1447520580000.0, 0.0], [1447520640000.0, 0.0], [1447520700000.0, 0.0], [1447520760000.0, 0.0], [1447520820000.0, 0.0], [1447520880000.0, 0.0], [1447520940000.0, 0.0], [1447521000000.0, 0.0], [1447521060000.0, 0.0], [1447521120000.0, 0.0], [1447521180000.0, 0.0], [1447521240000.0, 0.0], [1447521300000.0, 0.0], [1447521360000.0, 0.0], [1447521420000.0, 0.0], [1447521480000.0, 0.0], [1447521540000.0, 0.0], [1447521600000.0, 0.0], [1447521660000.0, 0.0], [1447521720000.0, 0.0], [1447521780000.0, 0.0], [1447521840000.0, 0.0], [1447521900000.0, 0.0], [1447521960000.0, 0.0], [1447522020000.0, 0.0], [1447522080000.0, 0.0], [1447522140000.0, 0.0], [1447522200000.0, 0.0], [1447522260000.0, 0.0], [1447522320000.0, 0.0], [1447522380000.0, 0.0], [1447522440000.0, 0.0], [1447522500000.0, 0.0], [1447522560000.0, 0.0], [1447522620000.0, 0.0], [1447522680000.0, 0.0], [1447522740000.0, 0.0], [1447522800000.0, 0.0], [1447522860000.0, 0.0], [1447522920000.0, 0.0], [1447522980000.0, 0.0], [1447523040000.0, 0.0], [1447523100000.0, 0.0], [1447523160000.0, 0.0], [1447523220000.0, 0.0], [1447523280000.0, 0.0], [1447523340000.0, 0.0], [1447523400000.0, 0.0], [1447523460000.0, 0.0], [1447523520000.0, 0.0], [1447523580000.0, 0.0], [1447523640000.0, 0.0], [1447523700000.0, 0.0], [1447523760000.0, 0.0], [1447523820000.0, 0.0], [1447523880000.0, 0.0], [1447523940000.0, 0.0], [1447524000000.0, 0.0], [1447524060000.0, 0.0], [1447524120000.0, 0.0], [1447524180000.0, 0.0], [1447524240000.0, 0.0], [1447524300000.0, 0.0], [1447524360000.0, 0.0], [1447524420000.0, 0.0], [1447524480000.0, 0.0], [1447524540000.0, 0.0], [1447524600000.0, 0.0], [1447524660000.0, 0.0], [1447524720000.0, 0.0], [1447524780000.0, 0.0], [1447524840000.0, 0.0], [1447524900000.0, 0.0], [1447524960000.0, 0.0], [1447525020000.0, 0.0], [1447525080000.0, 0.0], [1447525140000.0, 0.0], [1447525200000.0, 0.0], [1447525260000.0, 0.0], [1447525320000.0, 0.0], [1447525380000.0, 0.0], [1447525440000.0, 0.0], [1447525500000.0, 0.0]], \"display\": true, \"name\": \"ts_1\"}, {\"data\": [[1447514700000.0, 0.0], [1447514760000.0, 0.0], [1447514820000.0, 0.0], [1447514880000.0, 0.0], [1447514940000.0, 0.0], [1447515000000.0, 0.0], [1447515060000.0, 0.0], [1447515120000.0, 0.0], [1447515180000.0, 0.0], [1447515240000.0, 0.0], [1447515300000.0, 0.0], [1447515360000.0, 0.0], [1447515420000.0, 0.0], [1447515480000.0, 0.0], [1447515540000.0, 0.0], [1447515600000.0, 0.0], [1447515660000.0, 0.0], [1447515720000.0, 0.0], [1447515780000.0, 0.0], [1447515840000.0, 0.0], [1447515900000.0, 0.0], [1447515960000.0, 0.0], [1447516020000.0, 0.0], [1447516080000.0, 0.0], [1447516140000.0, 0.0], [1447516200000.0, 0.0], [1447516260000.0, 0.0], [1447516320000.0, 0.0], [1447516380000.0, 0.0], [1447516440000.0, 0.0], [1447516500000.0, 0.0], [1447516560000.0, 0.0], [1447516620000.0, 0.0], [1447516680000.0, 0.0], [1447516740000.0, 0.0], [1447516800000.0, 0.0], [1447516860000.0, 0.0], [1447516920000.0, 0.0], [1447516980000.0, 0.0], [1447517040000.0, 0.0], [1447517100000.0, 0.0], [1447517160000.0, 0.0], [1447517220000.0, 0.0], [1447517280000.0, 0.0], [1447517340000.0, 0.0], [1447517400000.0, 0.0], [1447517460000.0, 0.0], [1447517520000.0, 0.0], [1447517580000.0, 0.0], [1447517640000.0, 0.0], [1447517700000.0, 0.0], [1447517760000.0, 0.0], [1447517820000.0, 0.0], [1447517880000.0, 0.0], [1447517940000.0, 0.0], [1447518000000.0, 0.0], [1447518060000.0, 0.0], [1447518120000.0, 0.0], [1447518180000.0, 0.0], [1447518240000.0, 0.0], [1447518300000.0, 0.0], [1447518360000.0, 0.0], [1447518420000.0, 0.0], [1447518480000.0, 0.0], [1447518540000.0, 0.0], [1447518600000.0, 0.0], [1447518660000.0, 0.0], [1447518720000.0, 0.0], [1447518780000.0, 0.0], [1447518840000.0, 0.0], [1447518900000.0, 0.0], [1447518960000.0, 0.0], [1447519020000.0, 0.0], [1447519080000.0, 0.0], [1447519140000.0, 0.0], [1447519200000.0, 0.0], [1447519260000.0, 0.0], [1447519320000.0, 0.0], [1447519380000.0, 0.0], [1447519440000.0, 0.0], [1447519500000.0, 0.0], [1447519920000.0, 0.0], [1447519980000.0, 0.0], [1447520040000.0, 3.3027522935823073], [1447520100000.0, 5.411432604084257], [1447520160000.0, 5.990769230778096], [1447520220000.0, 3.5733333333337214], [1447520280000.0, 3.333333333337214], [1447520340000.0, 3.0680272108758797], [1447520400000.0, 2.4489795918460002], [1447520460000.0, 2.448979591828538], [1447520520000.0, 7.548449300980428], [1447520580000.0, 2.834645669296151], [1447520640000.0, 2.923382403276628], [1447520700000.0, 3.130434782610973], [1447520760000.0, 3.070930650376249], [1447520820000.0, 2.975206611579051], [1447520880000.0, 6.96122059757472], [1447520940000.0, 3.6110769230872393], [1447521000000.0, 2.879999999993015], [1447521060000.0, 2.940196721308166], [1447521120000.0, 2.9508196721377318], [1447521180000.0, 3.0754663651809095], [1447521240000.0, 3.1034482758608646], [1447521300000.0, 3.151542649726616], [1447521360000.0, 3.1578947368310764], [1447521420000.0, 7.774370709381764], [1447521480000.0, 3.130434782610973], [1447521540000.0, 3.1133433283364864], [1447521600000.0, 3.1034482758608646], [1447521660000.0, 3.1034482758608646], [1447521720000.0, 3.103448275878327], [1447521780000.0, 7.758620689652162], [1447521840000.0, 3.1034482758608646], [1447521900000.0, 3.1142428785504306], [1447521960000.0, 3.130434782610973], [1447522020000.0, 3.1045707915269305], [1447522080000.0, 3.076923076930689], [1447522140000.0, 7.743589743581833], [1447522200000.0, 3.076923076930689], [1447522260000.0, 3.080901856755372], [1447522320000.0, 3.1034482758608646], [1447522380000.0, 3.097701149439672], [1447522440000.0, 3.0769230769132263], [1447522500000.0, 6.096410256408853], [1447522560000.0, 4.797931034490466], [1447522620000.0, 3.1034482758608646], [1447522680000.0, 3.178974671952892], [1447522740000.0, 3.185840707970783], [1447522800000.0, 3.1858407079533206], [1447522860000.0, 4.784887678694212], [1447522920000.0, 6.226648351654876], [1447522980000.0, 3.21428571427823], [1447523040000.0, 3.2894823066832033], [1447523100000.0, 3.3091654048359485], [1447523160000.0, 3.495145631069317], [1447523220000.0, 6.772964899172075], [1447523280000.0, 4.827505827503046], [1447523340000.0, 3.6450216450321022], [1447523400000.0, 3.6734693877515383], [1447523460000.0, 8.037808807723922], [1447523520000.0, 3.7894736842252312], [1447523580000.0, 3.7894736842077688], [1447523640000.0, 3.7894736842077688], [1447523700000.0, 10.986234817811054], [1447523760000.0, 7.869375907117501], [1447523820000.0, 6.763102725357748], [1447523880000.0, 6.62626262626145], [1447523940000.0, 6.496753246762091], [1447524000000.0, 6.543650793645065], [1447524060000.0, 6.895424836606253], [1447524120000.0, 6.959276018093806], [1447524180000.0, 7.038461538468255], [1447524240000.0, 6.923076923080953], [1447524300000.0, 6.9615384615375655], [1447524360000.0, 6.999999999994179], [1447524420000.0, 6.999999999994179], [1447524480000.0, 6.9615384615375655], [1447524540000.0, 6.923076923080953], [1447524600000.0, 7.038461538468255], [1447524660000.0, 6.959276018093806], [1447524720000.0, 7.05882352940971], [1447524780000.0, 6.981900452496483], [1447524840000.0, 7.018099547509337], [1447524900000.0, 1.5654460459656547], [1447524960000.0, 0.5960264900699258], [1447525020000.0, 0.5960264900699258], [1447525080000.0, 0.5960264900524634], [1447525140000.0, 0.5960264900699258], [1447525200000.0, 0.5960264900699258], [1447525260000.0, 0.5960264900699258], [1447525320000.0, 0.5960264900699258], [1447525380000.0, 0.5960264900524634], [1447525440000.0, 0.5960264900699258], [1447525500000.0, 0.0]], \"display\": true, \"name\": \"ts_2\"}]\n",
       "        var options = {};\n",
       "        var options = {\"width\": \"auto\", \"scale\": 2, \"type\": \"line\", \"chart\": {\"type\": \"line\"}, \"height\": 400}\n",
       "        var useHighStock = false;\n",
       "        var useHighStock = true\n",
       "        var save = 'app/chart.svg';\n",
       "        var save = false\n",
       "        var url = 'http://127.0.0.1:65079';\n",
       "        var url = \"http://127.0.0.1:55542/\"\n",
       "        var settingsFile = 'settings';\n",
       "        var settingsFile = \"settings\"\n",
       "        var scale = options.scale;\n",
       "\n",
       "        //Create different containers for the charts\n",
       "        var chartContainer = document.getElementById(\"chart-container\");\n",
       "        chartContainer.id = \"chart-container\" + id;\n",
       "        chartContainer.style.height = options.height.toString() + 'px';\n",
       "\n",
       "        if (options.width != 'auto') {\n",
       "            chartContainer.style.width = options.width.toString() + 'px';\n",
       "        }\n",
       "\n",
       "        var selector = $(\"#variable-selector\");\n",
       "        selector.attr('id', \"variable-selector\" + id);\n",
       "\n",
       "        var settings = $(\"#settings-collapse\");\n",
       "        settings.attr('id', \"settings-collapse\" + id);\n",
       "\n",
       "        var button = $(\"#settings-button\");\n",
       "        button.attr('id', \"settings-button\" + id);\n",
       "\n",
       "        var saveButton = $(\"#save-settings\");\n",
       "        saveButton.attr('id', \"save-settings\" + id);\n",
       "\n",
       "        var optionsInput = $(\"#options-input\");\n",
       "        optionsInput.attr('id', \"options-input\" + id);\n",
       "        optionsInput.val(settingsFile);\n",
       "\n",
       "        var optionsButton = $(\"#options-button\");\n",
       "        optionsButton.attr('id', \"options-button\" + id);\n",
       "\n",
       "        // create the editor\n",
       "        var editorContainer = document.getElementById(\"jsoneditor\");\n",
       "        editorContainer.id = \"jsoneditor\" + id;\n",
       "        var editor = new JSONEditor(editorContainer);\n",
       "\n",
       "        button.on('click', showSettings);\n",
       "        saveButton.on('click', applyOptions);\n",
       "        optionsButton.on('click', saveOptions);\n",
       "\n",
       "        function applyOptions() {\n",
       "            var newOptions = editor.get();\n",
       "            setOptions(newOptions);\n",
       "            settings.collapse('hide');\n",
       "        }\n",
       "\n",
       "        function saveOptions(event) {\n",
       "            event.preventDefault();\n",
       "\n",
       "            applyOptions();\n",
       "\n",
       "            var options = chart.options;\n",
       "            delete options.exporting;\n",
       "\n",
       "            var name = optionsInput.val() ? optionsInput.val() + '.json' : 'settings.json';\n",
       "\n",
       "            options['settingsFile'] = name;\n",
       "\n",
       "            $.ajax({\n",
       "                type: \"POST\",\n",
       "                url: url,\n",
       "                data: JSON.stringify({\n",
       "                    options: options,\n",
       "                    name: name\n",
       "                })\n",
       "            });\n",
       "        }\n",
       "\n",
       "        function showSettings() {\n",
       "            settings.collapse('toggle');\n",
       "        }\n",
       "\n",
       "        //Choose a chart type\n",
       "        var ChartType = useHighStock ? Highcharts.StockChart : Highcharts.Chart;\n",
       "\n",
       "        //Default highchart colors\n",
       "        var colors = ['#7cb5ec', '#434348', '#90ed7d', '#f7a35c', '#8085e9',\n",
       "            '#f15c80', '#e4d354', '#2b908f', '#f45b5b', '#91e8e1'];\n",
       "\n",
       "        series.map(function (serie, index) {\n",
       "            if (!serie.color) {\n",
       "                serie['color'] = colors[index % 10];\n",
       "            }\n",
       "\n",
       "            return serie;\n",
       "        });\n",
       "\n",
       "        //Get all the keys\n",
       "        var keys = [];\n",
       "        var initialKeys = [];\n",
       "        $.each(series, function (index, serie) {\n",
       "            keys.push({\n",
       "                display: serie.display,\n",
       "                value: serie.name,\n",
       "                text: serie.name\n",
       "            });\n",
       "\n",
       "            if (serie.display) {\n",
       "                initialKeys.push(serie.name)\n",
       "            }\n",
       "        });\n",
       "\n",
       "        selector.selectize({\n",
       "            plugins: ['remove_button', 'restore_on_backspace'],\n",
       "            delimiter: ',',\n",
       "            options: keys,\n",
       "            items: initialKeys,\n",
       "            onItemAdd: function (key) {\n",
       "                console.log('series added');\n",
       "                addSeries(key);\n",
       "                newChart(chart.options, renderedSeries);\n",
       "            },\n",
       "            onItemRemove: function (key) {\n",
       "                console.log('series removed');\n",
       "                deleteSeries(key);\n",
       "                newChart(chart.options, renderedSeries);\n",
       "            }\n",
       "        });\n",
       "\n",
       "        //Set initial chart options\n",
       "        var chartOptions;\n",
       "        if (typeof options.chart === \"undefined\") {\n",
       "            chartOptions = {renderTo: chartContainer.id};\n",
       "        } else {\n",
       "            chartOptions = $.extend(options[\"chart\"], {renderTo: chartContainer.id});\n",
       "        }\n",
       "\n",
       "        //Initial rendered series\n",
       "        var renderedSeries = [];\n",
       "        options = $.extend(options, {chart: chartOptions}, {series: renderedSeries});\n",
       "        var chart = new ChartType(options);\n",
       "\n",
       "        $.each(initialKeys, function (index, key) {\n",
       "            addSeries(key);\n",
       "        });\n",
       "\n",
       "        newChart(chart.options, renderedSeries);\n",
       "        editor.set(chart.options);\n",
       "\n",
       "        if (save) {\n",
       "            saveSVG(url, save)\n",
       "        }\n",
       "\n",
       "        function setOptions(options) {\n",
       "            //Prevent export from breaking\n",
       "            delete options.exporting;\n",
       "            options['exporting'] = {scale: options.scale};\n",
       "\n",
       "            chartContainer.style.height = options.height.toString() + 'px';\n",
       "\n",
       "            if (options.width != 'auto') {\n",
       "                chartContainer.style.width = options.width.toString() + 'px';\n",
       "            }\n",
       "\n",
       "            newChart(options, renderedSeries);\n",
       "\n",
       "        }\n",
       "\n",
       "        function findSeries(series, key) {\n",
       "            return series.findIndex(function (obj) {\n",
       "                return obj.name == key;\n",
       "            })\n",
       "        }\n",
       "\n",
       "        function newChart(options, series) {\n",
       "            //Disable animation\n",
       "            var newOptions = $.extend(options, {series: series});\n",
       "            newOptions.plotOptions['series'] = {animation: false};\n",
       "\n",
       "            //Get zoom\n",
       "            var xExtremes = chart.xAxis[0].getExtremes();\n",
       "\n",
       "            //Re-plot the chart\n",
       "            chart.destroy();\n",
       "            chart = new ChartType(newOptions);\n",
       "\n",
       "            //Reset the zoom\n",
       "            chart.xAxis[0].setExtremes(xExtremes.min, xExtremes.max, false, false);\n",
       "\n",
       "            //Re-draw chart\n",
       "            chart.redraw();\n",
       "        }\n",
       "\n",
       "        function addSeries(key) {\n",
       "            var index = findSeries(series, key);\n",
       "            var newSeries = series[index];\n",
       "            renderedSeries.push(newSeries)\n",
       "        }\n",
       "\n",
       "        function deleteSeries(key) {\n",
       "            var index = findSeries(renderedSeries, key);\n",
       "            renderedSeries.splice(index, 1)\n",
       "        }\n",
       "\n",
       "        function saveSVG(url, name) {\n",
       "            $.ajax({\n",
       "                type: \"POST\",\n",
       "                url: url,\n",
       "                data: JSON.stringify({\n",
       "                    svg: chart.getSVG(),\n",
       "                    name: name\n",
       "                })\n",
       "            });\n",
       "        }\n",
       "\n",
       "        console.log('loaded!', Date());\n",
       "    }\n",
       "\n",
       "});\n",
       "\n",
       "},{}]},{},[1]);\n",
       "</script>\n",
       "\n"
      ],
      "text/plain": [
       "<IPython.core.display.HTML object>"
      ]
     },
     "execution_count": 4,
     "metadata": {},
     "output_type": "execute_result"
    }
   ],
   "source": [
    "gas = hp.find_sensor('212ce724e124fbde0fb649396375d099')\n",
    "\n",
    "#Timeseries 1\n",
    "head = pd.Timestamp('2015-11-14 15:22:00')\n",
    "tail = pd.Timestamp('2015-11-14 16:49:00')\n",
    "ts_1 = gas.get_data(head=head, tail=tail, diff=True, resample='min', unit='kW')\n",
    "ts_1 = ts_1.append(pd.DataFrame(data=[0], index=[ts_1.index[ts_1.size-1] + 1]))\n",
    "\n",
    "#Timeseries 2\n",
    "head = pd.Timestamp('2015-11-14 16:49:00')\n",
    "tail = pd.Timestamp('2015-11-14 18:26:00')\n",
    "ts_2 = gas.get_data(head=head, tail=tail, diff=True, resample='min', unit='kW')\n",
    "ts_2 = ts_2.append(pd.DataFrame(data=[0], index=[ts_2.index[ts_2.size-1] + 1]))\n",
    "\n",
    "#concatinate them\n",
    "samples = pd.concat([ts_1, ts_2], axis=1).fillna(0)\n",
    "samples.columns = ['ts_1', 'ts_2']\n",
    "\n",
    "charts.plot(samples, stock=True, show='inline')"
   ]
  },
  {
   "cell_type": "markdown",
   "metadata": {},
   "source": [
    "Convert time samples to np arrays"
   ]
  },
  {
   "cell_type": "code",
   "execution_count": 5,
   "metadata": {
    "collapsed": false
   },
   "outputs": [],
   "source": [
    "ts_1 = ts_1.fillna(0).as_matrix()\n",
    "ts_2 = ts_2.fillna(0).as_matrix()"
   ]
  },
  {
   "cell_type": "code",
   "execution_count": 6,
   "metadata": {
    "collapsed": false
   },
   "outputs": [
    {
     "name": "stderr",
     "output_type": "stream",
     "text": [
      "/usr/lib/pymodules/python2.7/matplotlib/font_manager.py:1236: UserWarning: findfont: Font family ['sans-serif'] not found. Falling back to Bitstream Vera Sans\n",
      "  (prop.get_family(), self.defaultFamily[fontext]))\n",
      "/usr/lib/pymodules/python2.7/matplotlib/font_manager.py:1246: UserWarning: findfont: Could not match :family=Bitstream Vera Sans:style=normal:variant=normal:weight=normal:stretch=normal:size=10.0. Returning /usr/share/matplotlib/mpl-data/fonts/ttf/cmb10.ttf\n",
      "  UserWarning)\n"
     ]
    },
    {
     "data": {
      "image/png": "[encoded data removed]",
      "text/plain": [
       "<matplotlib.figure.Figure at 0x7ff44edc8b50>"
      ]
     },
     "metadata": {},
     "output_type": "display_data"
    }
   ],
   "source": [
    "plt.plot(ts_1,'r', label='ts_1')\n",
    "plt.plot(ts_2, 'g', label='ts_2')\n",
    "plt.legend();"
   ]
  },
  {
   "cell_type": "markdown",
   "metadata": {},
   "source": [
    "In this initial step, we will find out the distance between all pair of points in the two signals. Lesser distances implies that these points may be candidates to be matched together."
   ]
  },
  {
   "cell_type": "code",
   "execution_count": 7,
   "metadata": {
    "collapsed": true
   },
   "outputs": [],
   "source": [
    "distances = np.zeros((len(ts_1), len(ts_2)))"
   ]
  },
  {
   "cell_type": "markdown",
   "metadata": {},
   "source": [
    "We will use euclidean distance between the pairs of points."
   ]
  },
  {
   "cell_type": "code",
   "execution_count": 8,
   "metadata": {
    "collapsed": false
   },
   "outputs": [],
   "source": [
    "for i in range(len(ts_1)):\n",
    "    for j in range(len(ts_2)):\n",
    "        distances[i,j] = (ts_2[j]-ts_1[i])**2  "
   ]
  },
  {
   "cell_type": "markdown",
   "metadata": {},
   "source": [
    "<h3>Visualizing the distance matrix</h3>\n",
    "\n",
    "We will write a small function to visualize the distance matrix we just created."
   ]
  },
  {
   "cell_type": "code",
   "execution_count": 9,
   "metadata": {
    "collapsed": true
   },
   "outputs": [],
   "source": [
    "def distance_cost_plot(distances):\n",
    "    im = plt.imshow(distances, interpolation='nearest', cmap='Reds') \n",
    "    plt.gca().invert_yaxis()\n",
    "    plt.xlabel(\"ts_2\")\n",
    "    plt.ylabel(\"ts_1\")\n",
    "    plt.grid()\n",
    "    plt.colorbar();"
   ]
  },
  {
   "cell_type": "code",
   "execution_count": 10,
   "metadata": {
    "collapsed": false
   },
   "outputs": [
    {
     "name": "stderr",
     "output_type": "stream",
     "text": [
      "/usr/lib/pymodules/python2.7/matplotlib/font_manager.py:1246: UserWarning: findfont: Could not match :family=Bitstream Vera Sans:style=normal:variant=normal:weight=normal:stretch=normal:size=11.0. Returning /usr/share/matplotlib/mpl-data/fonts/ttf/cmb10.ttf\n",
      "  UserWarning)\n"
     ]
    },
    {
     "data": {
      "image/png": "[encoded data removed]",
      "text/plain": [
       "<matplotlib.figure.Figure at 0x7ff44e9b9950>"
      ]
     },
     "metadata": {},
     "output_type": "display_data"
    }
   ],
   "source": [
    "distance_cost_plot(distances)"
   ]
  },
  {
   "cell_type": "markdown",
   "metadata": {},
   "source": [
    "Warping path\n",
    "\n",
    "In order to create a mapping between the two signals, we need to create a path in the above plot. The path should start at (0,0) and want to reach (M,N) where (M, N) are the lengths of the two signals. Our aim is to find the path of minimum distance. To do this, we thus build a matrix similar to the distances matrix. This matrix would contain the minimum distances to reach a specific point when starting from (0,0). We impose some restrictions on the paths which we would explore:\n",
    "\n",
    "The path must start at (0,0) and end at (M,N)\n",
    "We cannot go back in time, so the path only flows forwards, which means that from a point (i, j), we can only right (i+1, j) or upwards (i, j+1) or diagonal (i+1, j+1).\n",
    "These restrictions would prevent the combinatorial explosion and convert the problem to a Dynamic Programming problem which can be solved in O(MN) time."
   ]
  },
  {
   "cell_type": "code",
   "execution_count": 11,
   "metadata": {
    "collapsed": true
   },
   "outputs": [],
   "source": [
    "accumulated_cost = np.zeros((len(ts_1), len(ts_2)))"
   ]
  },
  {
   "cell_type": "code",
   "execution_count": 12,
   "metadata": {
    "collapsed": true
   },
   "outputs": [],
   "source": [
    "accumulated_cost[0,0] = distances[0,0]"
   ]
  },
  {
   "cell_type": "code",
   "execution_count": 17,
   "metadata": {
    "collapsed": false
   },
   "outputs": [],
   "source": [
    "for i in range(1, len(ts_1)):\n",
    "    for j in range(1, len(ts_2)):\n",
    "        accumulated_cost[i, j] = min(accumulated_cost[i-1, j-1], accumulated_cost[i-1, j], accumulated_cost[i, j-1]) + distances[i, j]"
   ]
  },
  {
   "cell_type": "code",
   "execution_count": 18,
   "metadata": {
    "collapsed": false
   },
   "outputs": [
    {
     "data": {
      "image/png": "[encoded data removed]",
      "text/plain": [
       "<matplotlib.figure.Figure at 0x7ff44f26a450>"
      ]
     },
     "metadata": {},
     "output_type": "display_data"
    }
   ],
   "source": [
    "distance_cost_plot(accumulated_cost)"
   ]
  },
  {
   "cell_type": "markdown",
   "metadata": {},
   "source": [
    "Backtracking and finding the optimal warp path¶\n",
    "\n",
    "Backtracking procedure is fairly simple and involves trying to move back from the last point (M, N) and finding which place we would reached there from (by minimizing the cost) and do this in a repetitive fashion."
   ]
  },
  {
   "cell_type": "code",
   "execution_count": 19,
   "metadata": {
    "collapsed": true
   },
   "outputs": [],
   "source": [
    "path = [[len(ts_2)-1, len(ts_1)-1]]\n",
    "i = len(ts_1)-1\n",
    "j = len(ts_2)-1\n",
    "while i>0 and j>0:\n",
    "    if i==0:\n",
    "        j = j - 1\n",
    "    elif j==0:\n",
    "        i = i - 1\n",
    "    else:\n",
    "        if accumulated_cost[i-1, j] == min(accumulated_cost[i-1, j-1], accumulated_cost[i-1, j], accumulated_cost[i, j-1]):\n",
    "            i = i - 1\n",
    "        elif accumulated_cost[i, j-1] == min(accumulated_cost[i-1, j-1], accumulated_cost[i-1, j], accumulated_cost[i, j-1]):\n",
    "            j = j-1\n",
    "        else:\n",
    "            i = i - 1\n",
    "            j= j- 1\n",
    "    path.append([j, i])\n",
    "path.append([0,0])"
   ]
  },
  {
   "cell_type": "code",
   "execution_count": 20,
   "metadata": {
    "collapsed": true
   },
   "outputs": [],
   "source": [
    "path_ts_2 = [point[0] for point in path]\n",
    "path_ts_1 = [point[1] for point in path]"
   ]
  },
  {
   "cell_type": "code",
   "execution_count": 21,
   "metadata": {
    "collapsed": false
   },
   "outputs": [
    {
     "data": {
      "image/png": "[encoded data removed]",
      "text/plain": [
       "<matplotlib.figure.Figure at 0x7ff44f0e9ad0>"
      ]
     },
     "metadata": {},
     "output_type": "display_data"
    }
   ],
   "source": [
    "distance_cost_plot(accumulated_cost)\n",
    "plt.plot(path_ts_2, path_ts_1);"
   ]
  },
  {
   "cell_type": "markdown",
   "metadata": {},
   "source": [
    "The above plot shows the optimum warping path which minimizes the sum of distance (DTW distance) along the path. Let us wrap up the function by also incorporating the DTW distance between the two signals as well."
   ]
  },
  {
   "cell_type": "code",
   "execution_count": 22,
   "metadata": {
    "collapsed": true
   },
   "outputs": [],
   "source": [
    "def path_cost(ts_2, ts_1, accumulated_cost, distances):\n",
    "    path = [[len(ts_2)-1, len(ts_1)-1]]\n",
    "    cost = 0\n",
    "    i = len(ts_1)-1\n",
    "    j = len(ts_2)-1\n",
    "    while i>0 and j>0:\n",
    "        if i==0:\n",
    "            j = j - 1\n",
    "        elif j==0:\n",
    "            i = i - 1\n",
    "        else:\n",
    "            if accumulated_cost[i-1, j] == min(accumulated_cost[i-1, j-1], accumulated_cost[i-1, j], accumulated_cost[i, j-1]):\n",
    "                i = i - 1\n",
    "            elif accumulated_cost[i, j-1] == min(accumulated_cost[i-1, j-1], accumulated_cost[i-1, j], accumulated_cost[i, j-1]):\n",
    "                j = j-1\n",
    "            else:\n",
    "                i = i - 1\n",
    "                j= j- 1\n",
    "        path.append([j, i])\n",
    "    path.append([0,0])\n",
    "    for [y, x] in path:\n",
    "        cost = cost +distances[x, y]\n",
    "    return path, cost"
   ]
  },
  {
   "cell_type": "code",
   "execution_count": 23,
   "metadata": {
    "collapsed": false
   },
   "outputs": [
    {
     "name": "stdout",
     "output_type": "stream",
     "text": [
      "[[93, 80], [92, 80], [91, 80], [90, 80], [89, 80], [88, 80], [87, 80], [86, 80], [85, 80], [84, 80], [83, 80], [82, 79], [82, 78], [81, 77], [80, 77], [79, 77], [78, 77], [77, 77], [76, 77], [75, 77], [74, 76], [73, 75], [72, 74], [71, 73], [71, 72], [70, 71], [69, 70], [68, 69], [67, 68], [66, 67], [65, 66], [64, 65], [64, 64], [64, 63], [63, 62], [62, 61], [61, 61], [60, 61], [60, 60], [60, 59], [59, 58], [58, 57], [57, 56], [56, 56], [55, 55], [55, 54], [54, 53], [54, 52], [54, 51], [53, 50], [52, 50], [51, 50], [50, 49], [49, 48], [48, 48], [47, 48], [46, 47], [46, 46], [45, 45], [44, 44], [43, 43], [42, 42], [41, 41], [40, 40], [39, 39], [38, 38], [37, 37], [36, 36], [35, 35], [34, 34], [33, 33], [32, 32], [31, 31], [30, 30], [29, 29], [28, 28], [27, 27], [26, 26], [25, 25], [24, 24], [23, 24], [22, 24], [21, 23], [20, 22], [19, 22], [18, 22], [17, 22], [16, 21], [15, 20], [15, 19], [15, 18], [15, 17], [14, 16], [13, 15], [13, 14], [12, 13], [12, 12], [12, 11], [11, 10], [11, 9], [10, 8], [9, 7], [8, 7], [7, 6], [6, 5], [5, 4], [5, 3], [4, 2], [3, 2], [2, 1], [1, 1], [1, 0], [0, 0]]\n",
      "56.8499116574\n"
     ]
    }
   ],
   "source": [
    "path, cost = path_cost(ts_2, ts_1, accumulated_cost, distances)\n",
    "print path\n",
    "print cost"
   ]
  },
  {
   "cell_type": "code",
   "execution_count": null,
   "metadata": {
    "collapsed": true
   },
   "outputs": [],
   "source": []
  },
  {
   "cell_type": "code",
   "execution_count": null,
   "metadata": {
    "collapsed": true
   },
   "outputs": [],
   "source": []
  },
  {
   "cell_type": "code",
   "execution_count": null,
   "metadata": {
    "collapsed": true
   },
   "outputs": [],
   "source": []
  }
 ],
 "metadata": {
  "kernelspec": {
   "display_name": "Python 2",
   "language": "python",
   "name": "python2"
  },
  "language_info": {
   "codemirror_mode": {
    "name": "ipython",
    "version": 2
   },
   "file_extension": ".py",
   "mimetype": "text/x-python",
   "name": "python",
   "nbconvert_exporter": "python",
   "pygments_lexer": "ipython2",
   "version": "2.7.6"
  }
 },
 "nbformat": 4,
 "nbformat_minor": 0
}
