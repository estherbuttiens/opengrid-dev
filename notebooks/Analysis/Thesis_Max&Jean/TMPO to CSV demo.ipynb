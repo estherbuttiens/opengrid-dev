{
 "cells": [
  {
   "cell_type": "code",
   "execution_count": 0,
   "metadata": {
    "collapsed": true
   },
   "outputs": [],
   "source": [
    "import tmpo"
   ]
  },
  {
   "cell_type": "code",
   "execution_count": 0,
   "metadata": {
    "collapsed": true
   },
   "outputs": [],
   "source": [
    "session = tmpo.Session()"
   ]
  },
  {
   "cell_type": "code",
   "execution_count": 0,
   "metadata": {
    "collapsed": true
   },
   "outputs": [],
   "source": [
    "# OLV water\n",
    "#sensor = '8850d4f91711c9bcd9d548f33b82e3c1'\n",
    "#token = '187688c1a2c19b0eabf6ce75cc26095a'\n",
    "\n",
    "#Paridaens water\n",
    "#sensor = '53df33a9b226f0e4d18fbe57667e5609'\n",
    "#token = 'f701426529773aedd48d3986c582bafd'\n",
    "\n",
    "##----------------------Barboek----------------------##\n",
    "\n",
    "#Barboek elec\n",
    "#sensor = 'c4512734ae0e0a70d0bdc22442a7c12e'\n",
    "#token = 'cc1f798a5f47baf2e19505c8c4191c12'\n",
    "\n",
    "#Barboek gas\n",
    "#sensor = '61dd858bc9e1d9b3f99f00c26f164529'\n",
    "#token = '38f9ae37eed36db2d631a006c238647a'\n",
    "\n",
    "#Barboek water\n",
    "#sensor = 'a339e94438088e3849634e421c4eaa49'\n",
    "#token = 'c4913a4b10e65a14f922219601553419'\n",
    "\n",
    "##----------------------Wereldwinkel----------------------##\n",
    "\n",
    "#wereldwinkel elec1\n",
    "#sensor = 'eadde714f4843ddafecb93627fecfa5c'\n",
    "#token = 'fc0662de694a70a64db7761347006e3b'\n",
    "\n",
    "#wereldwinkel elec2\n",
    "#sensor = 'e35adfc9c6c7af7b34b4dac25d9c8b3b'\n",
    "#token = '37438dfd6d240e564c556d67221fa553'\n",
    "\n",
    "#wereldwinkel elec3\n",
    "#sensor = 'faabd58cb9d44ea9d6768079e078e150'\n",
    "#token = 'd0e0b0e799567762125ddef2f62100c5'\n",
    "\n",
    "##----------------------Elsen----------------------##\n",
    "\n",
    "#Elsen gas\n",
    "#sensor = '20e939df65228ae67756501179cdaa77'\n",
    "#token = '709e072d3b9f61a432398f3d54a54ec4'\n",
    "\n",
    "#Elsen elec1\n",
    "#sensor = 'a51153e69c53f1a4958d5fa64d8313b4'\n",
    "#token = '6615789d5ddadfc053500a1bdc32d3b5'\n",
    "\n",
    "#Elsen elec2\n",
    "#sensor = 'c7173fa55689e8d2f36c038ad05012d4'\n",
    "#token = 'c1b6e9f66b5d04335500d51e03aeed19'\n",
    "\n",
    "#Elsen elec3\n",
    "sensor = 'd80086fc6fae75ea5ff8032a9a1e02a4'\n",
    "token = 'bae6ccf1524d44648a71ff9afcfef14c'\n"
   ]
  },
  {
   "cell_type": "code",
   "execution_count": 0,
   "metadata": {
    "collapsed": false
   },
   "outputs": [],
   "source": [
    "session.add(sid=sensor, token=token)"
   ]
  },
  {
   "cell_type": "code",
   "execution_count": 0,
   "metadata": {
    "collapsed": false
   },
   "outputs": [],
   "source": [
    "session.sync(sensor)"
   ]
  },
  {
   "cell_type": "code",
   "execution_count": 0,
   "metadata": {
    "collapsed": false
   },
   "outputs": [],
   "source": [
    "df = session.dataframe([sensor])"
   ]
  },
  {
   "cell_type": "code",
   "execution_count": 0,
   "metadata": {
    "collapsed": false
   },
   "outputs": [],
   "source": [
    "df = df.tz_convert('Europe/Brussels')"
   ]
  },
  {
   "cell_type": "code",
   "execution_count": 0,
   "metadata": {
    "collapsed": true
   },
   "outputs": [],
   "source": [
    "rule = 'min' # s, min, 15min, h, 2h, d, w, M, MS (month start)"
   ]
  },
  {
   "cell_type": "code",
   "execution_count": 0,
   "metadata": {
    "collapsed": false
   },
   "outputs": [],
   "source": [
    "newindex = df.resample(rule).first().index   "
   ]
  },
  {
   "cell_type": "code",
   "execution_count": 0,
   "metadata": {
    "collapsed": false
   },
   "outputs": [],
   "source": [
    "df = df.reindex(df.index.union(newindex))\n",
    "df = df.interpolate(method='time')\n",
    "df = df.reindex(newindex)"
   ]
  },
  {
   "cell_type": "code",
   "execution_count": 0,
   "metadata": {
    "collapsed": false
   },
   "outputs": [],
   "source": [
    "df = df.diff() # Wh / min"
   ]
  },
  {
   "cell_type": "code",
   "execution_count": 0,
   "metadata": {
    "collapsed": true
   },
   "outputs": [],
   "source": [
    "df = df*60 # W"
   ]
  },
  {
   "cell_type": "code",
   "execution_count": 0,
   "metadata": {
    "collapsed": false
   },
   "outputs": [],
   "source": [
    "df = df.dropna()"
   ]
  },
  {
   "cell_type": "code",
   "execution_count": 0,
   "metadata": {
    "collapsed": true
   },
   "outputs": [],
   "source": [
    "df.columns = ['Watt']"
   ]
  },
  {
   "cell_type": "code",
   "execution_count": 0,
   "metadata": {
    "collapsed": true
   },
   "outputs": [],
   "source": [
    "df.to_csv('Elsen_elec_3.csv')"
   ]
  },
  {
   "cell_type": "code",
   "execution_count": 0,
   "metadata": {
    "collapsed": true
   },
   "outputs": [],
   "source": []
  }
 ],
 "metadata": {
  "kernelspec": {
   "display_name": "Python 2",
   "language": "python",
   "name": "python2"
  },
  "language_info": {
   "codemirror_mode": {
    "name": "ipython",
    "version": 2
   },
   "file_extension": ".py",
   "mimetype": "text/x-python",
   "name": "python",
   "nbconvert_exporter": "python",
   "pygments_lexer": "ipython2",
   "version": "2.7.6"
  }
 },
 "nbformat": 4,
 "nbformat_minor": 1
}