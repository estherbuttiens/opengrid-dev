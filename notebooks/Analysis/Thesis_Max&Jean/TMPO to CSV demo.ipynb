{
 "cells": [
  {
   "cell_type": "code",
   "execution_count": 0,
   "metadata": {
    "collapsed": true
   },
   "outputs": [],
   "source": [
    "import tmpo"
   ]
  },
  {
   "cell_type": "code",
   "execution_count": 0,
   "metadata": {
    "collapsed": true
   },
   "outputs": [],
   "source": [
    "session = tmpo.Session()"
   ]
  },
  {
   "cell_type": "code",
   "execution_count": 0,
   "metadata": {
    "collapsed": true
   },
   "outputs": [],
   "source": [
    "# OLV water\n",
    "#sensor = '8850d4f91711c9bcd9d548f33b82e3c1'\n",
    "#token = '187688c1a2c19b0eabf6ce75cc26095a'\n",
    "\n",
    "#Paridaens water\n",
    "#sensor = '53df33a9b226f0e4d18fbe57667e5609'\n",
    "#token = 'f701426529773aedd48d3986c582bafd'\n",
    "\n",
    "#Barboek elec\n",
    "#sensor = 'c4512734ae0e0a70d0bdc22442a7c12e'\n",
    "#token = 'cc1f798a5f47baf2e19505c8c4191c12'\n",
    "\n",
    "#wereldwinkel elec1\n",
    "#sensor = 'eadde714f4843ddafecb93627fecfa5c'\n",
    "#token = 'fc0662de694a70a64db7761347006e3b'\n",
    "\n",
    "#wereldwinkel elec2\n",
    "#sensor = 'e35adfc9c6c7af7b34b4dac25d9c8b3b'\n",
    "#token = '37438dfd6d240e564c556d67221fa553'\n",
    "\n",
    "#wereldwinkel elec3\n",
    "sensor = 'faabd58cb9d44ea9d6768079e078e150'\n",
    "token = 'd0e0b0e799567762125ddef2f62100c5'\n"
   ]
  },
  {
   "cell_type": "code",
   "execution_count": 0,
   "metadata": {
    "collapsed": true
   },
   "outputs": [],
   "source": [
    "session.add(sid=sensor, token=token)"
   ]
  },
  {
   "cell_type": "code",
   "execution_count": 0,
   "metadata": {
    "collapsed": false
   },
   "outputs": [],
   "source": [
    "session.sync(sensor)"
   ]
  },
  {
   "cell_type": "code",
   "execution_count": 0,
   "metadata": {
    "collapsed": false
   },
   "outputs": [],
   "source": [
    "df = session.dataframe([sensor])"
   ]
  },
  {
   "cell_type": "code",
   "execution_count": 0,
   "metadata": {
    "collapsed": false
   },
   "outputs": [],
   "source": [
    "df = df.tz_convert('Europe/Brussels')"
   ]
  },
  {
   "cell_type": "code",
   "execution_count": 0,
   "metadata": {
    "collapsed": true
   },
   "outputs": [],
   "source": [
    "rule = 'min' # s, min, 15min, h, 2h, d, w, M, MS (month start)"
   ]
  },
  {
   "cell_type": "code",
   "execution_count": 0,
   "metadata": {
    "collapsed": false
   },
   "outputs": [],
   "source": [
    "newindex = df.resample(rule).first().index   "
   ]
  },
  {
   "cell_type": "code",
   "execution_count": 0,
   "metadata": {
    "collapsed": false
   },
   "outputs": [],
   "source": [
    "df = df.reindex(df.index.union(newindex))\n",
    "df = df.interpolate(method='time')\n",
    "df = df.reindex(newindex)"
   ]
  },
  {
   "cell_type": "code",
   "execution_count": 0,
   "metadata": {
    "collapsed": false
   },
   "outputs": [],
   "source": [
    "df = df.diff() # Wh / min"
   ]
  },
  {
   "cell_type": "code",
   "execution_count": 0,
   "metadata": {
    "collapsed": true
   },
   "outputs": [],
   "source": [
    "df = df*60 # W"
   ]
  },
  {
   "cell_type": "code",
   "execution_count": 0,
   "metadata": {
    "collapsed": false
   },
   "outputs": [],
   "source": [
    "df = df.dropna()"
   ]
  },
  {
   "cell_type": "code",
   "execution_count": 0,
   "metadata": {
    "collapsed": true
   },
   "outputs": [],
   "source": [
    "df.columns = ['Watt']"
   ]
  },
  {
   "cell_type": "code",
   "execution_count": 0,
   "metadata": {
    "collapsed": true
   },
   "outputs": [],
   "source": [
    "df.to_csv('Wereldwinkel_electrischiteit_2.csv')"
   ]
  },
  {
   "cell_type": "code",
   "execution_count": 0,
   "metadata": {
    "collapsed": true
   },
   "outputs": [],
   "source": []
  }
 ],
 "metadata": {
  "kernelspec": {
   "display_name": "Python 2",
   "language": "python",
   "name": "python2"
  },
  "language_info": {
   "codemirror_mode": {
    "name": "ipython",
    "version": 2
   },
   "file_extension": ".py",
   "mimetype": "text/x-python",
   "name": "python",
   "nbconvert_exporter": "python",
   "pygments_lexer": "ipython2",
   "version": "2.7.6"
  }
 },
 "nbformat": 4,
 "nbformat_minor": 1
}