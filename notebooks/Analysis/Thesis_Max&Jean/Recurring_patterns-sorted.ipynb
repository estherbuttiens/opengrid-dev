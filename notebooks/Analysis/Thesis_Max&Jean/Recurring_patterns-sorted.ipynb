{
 "cells": [
  {
   "cell_type": "code",
   "execution_count": 2,
   "metadata": {
    "collapsed": false,
    "scrolled": true
   },
   "outputs": [
    {
     "name": "stdout",
     "output_type": "stream",
     "text": [
      "Requirement already satisfied (use --upgrade to upgrade): tsfresh in /usr/local/lib/python2.7/dist-packages\n",
      "Requirement already satisfied (use --upgrade to upgrade): numpy>=1.10.4 in /usr/local/lib/python2.7/dist-packages (from tsfresh)\n",
      "Requirement already satisfied (use --upgrade to upgrade): six>=1.10.0 in /usr/local/lib/python2.7/dist-packages (from tsfresh)\n",
      "Requirement already satisfied (use --upgrade to upgrade): future>=0.16.0 in /usr/local/lib/python2.7/dist-packages (from tsfresh)\n",
      "Requirement already satisfied (use --upgrade to upgrade): statsmodels>=0.6.1 in /usr/local/lib/python2.7/dist-packages (from tsfresh)\n",
      "Requirement already satisfied (use --upgrade to upgrade): pandas>=0.17.1 in /usr/local/lib/python2.7/dist-packages (from tsfresh)\n",
      "Requirement already satisfied (use --upgrade to upgrade): patsy>=0.4.1 in /usr/local/lib/python2.7/dist-packages (from tsfresh)\n",
      "Requirement already satisfied (use --upgrade to upgrade): scikit-learn>=0.17.1 in /usr/local/lib/python2.7/dist-packages (from tsfresh)\n",
      "Requirement already satisfied (use --upgrade to upgrade): requests>=2.9.1 in /usr/local/lib/python2.7/dist-packages (from tsfresh)\n",
      "Requirement already satisfied (use --upgrade to upgrade): tqdm>=4.10.0 in /usr/local/lib/python2.7/dist-packages (from tsfresh)\n",
      "Requirement already satisfied (use --upgrade to upgrade): scipy>=0.17.0 in /usr/local/lib/python2.7/dist-packages (from tsfresh)\n",
      "Requirement already satisfied (use --upgrade to upgrade): pytz>=2011k in /usr/lib/python2.7/dist-packages (from pandas>=0.17.1->tsfresh)\n",
      "Requirement already satisfied (use --upgrade to upgrade): python-dateutil in /usr/lib/python2.7/dist-packages (from pandas>=0.17.1->tsfresh)\n",
      "Requirement already satisfied (use --upgrade to upgrade): ipywidgets in /usr/local/lib/python2.7/dist-packages\n",
      "Requirement already satisfied (use --upgrade to upgrade): ipykernel>=4.2.2 in /usr/local/lib/python2.7/dist-packages (from ipywidgets)\n",
      "Requirement already satisfied (use --upgrade to upgrade): ipython>=4.0.0 in /usr/local/lib/python2.7/dist-packages (from ipywidgets)\n",
      "Requirement already satisfied (use --upgrade to upgrade): widgetsnbextension>=1.2.3 in /usr/local/lib/python2.7/dist-packages (from ipywidgets)\n",
      "Requirement already satisfied (use --upgrade to upgrade): traitlets>=4.2.1 in /usr/local/lib/python2.7/dist-packages (from ipywidgets)\n",
      "Requirement already satisfied (use --upgrade to upgrade): jupyter-client in /usr/local/lib/python2.7/dist-packages (from ipykernel>=4.2.2->ipywidgets)\n",
      "Requirement already satisfied (use --upgrade to upgrade): tornado>=4.0 in /usr/local/lib/python2.7/dist-packages (from ipykernel>=4.2.2->ipywidgets)\n",
      "Requirement already satisfied (use --upgrade to upgrade): setuptools>=18.5 in /usr/local/lib/python2.7/dist-packages (from ipython>=4.0.0->ipywidgets)\n",
      "Requirement already satisfied (use --upgrade to upgrade): decorator in /usr/local/lib/python2.7/dist-packages (from ipython>=4.0.0->ipywidgets)\n",
      "Requirement already satisfied (use --upgrade to upgrade): pickleshare in /usr/local/lib/python2.7/dist-packages (from ipython>=4.0.0->ipywidgets)\n",
      "Requirement already satisfied (use --upgrade to upgrade): pexpect; sys_platform != \"win32\" in /usr/local/lib/python2.7/dist-packages (from ipython>=4.0.0->ipywidgets)\n",
      "Requirement already satisfied (use --upgrade to upgrade): simplegeneric>0.8 in /usr/local/lib/python2.7/dist-packages (from ipython>=4.0.0->ipywidgets)\n",
      "Requirement already satisfied (use --upgrade to upgrade): backports.shutil-get-terminal-size in /usr/local/lib/python2.7/dist-packages (from ipython>=4.0.0->ipywidgets)\n",
      "Requirement already satisfied (use --upgrade to upgrade): notebook>=4.2.0 in /usr/local/lib/python2.7/dist-packages (from widgetsnbextension>=1.2.3->ipywidgets)\n",
      "Requirement already satisfied (use --upgrade to upgrade): ipython-genutils in /usr/local/lib/python2.7/dist-packages (from traitlets>=4.2.1->ipywidgets)\n",
      "Requirement already satisfied (use --upgrade to upgrade): pyzmq>=13 in /usr/local/lib/python2.7/dist-packages (from jupyter-client->ipykernel>=4.2.2->ipywidgets)\n",
      "Requirement already satisfied (use --upgrade to upgrade): jupyter-core in /usr/local/lib/python2.7/dist-packages (from jupyter-client->ipykernel>=4.2.2->ipywidgets)\n",
      "Requirement already satisfied (use --upgrade to upgrade): backports.ssl_match_hostname in /usr/local/lib/python2.7/dist-packages (from tornado>=4.0->ipykernel>=4.2.2->ipywidgets)\n",
      "Requirement already satisfied (use --upgrade to upgrade): singledispatch in /usr/local/lib/python2.7/dist-packages (from tornado>=4.0->ipykernel>=4.2.2->ipywidgets)\n",
      "Requirement already satisfied (use --upgrade to upgrade): certifi in /usr/local/lib/python2.7/dist-packages (from tornado>=4.0->ipykernel>=4.2.2->ipywidgets)\n",
      "Requirement already satisfied (use --upgrade to upgrade): backports_abc>=0.4 in /usr/local/lib/python2.7/dist-packages (from tornado>=4.0->ipykernel>=4.2.2->ipywidgets)\n",
      "Requirement already satisfied (use --upgrade to upgrade): pathlib2; python_version in \"2.6 2.7 3.2 3.3\" in /usr/local/lib/python2.7/dist-packages (from pickleshare->ipython>=4.0.0->ipywidgets)\n",
      "Requirement already satisfied (use --upgrade to upgrade): ptyprocess>=0.5 in /usr/local/lib/python2.7/dist-packages (from pexpect; sys_platform != \"win32\"->ipython>=4.0.0->ipywidgets)\n",
      "Requirement already satisfied (use --upgrade to upgrade): nbconvert in /usr/local/lib/python2.7/dist-packages (from notebook>=4.2.0->widgetsnbextension>=1.2.3->ipywidgets)\n",
      "Requirement already satisfied (use --upgrade to upgrade): nbformat in /usr/local/lib/python2.7/dist-packages (from notebook>=4.2.0->widgetsnbextension>=1.2.3->ipywidgets)\n",
      "Requirement already satisfied (use --upgrade to upgrade): terminado>=0.3.3; sys_platform != \"win32\" in /usr/local/lib/python2.7/dist-packages (from notebook>=4.2.0->widgetsnbextension>=1.2.3->ipywidgets)\n",
      "Requirement already satisfied (use --upgrade to upgrade): jinja2 in /usr/local/lib/python2.7/dist-packages (from notebook>=4.2.0->widgetsnbextension>=1.2.3->ipywidgets)\n",
      "Requirement already satisfied (use --upgrade to upgrade): six in /usr/local/lib/python2.7/dist-packages (from singledispatch->tornado>=4.0->ipykernel>=4.2.2->ipywidgets)\n",
      "Requirement already satisfied (use --upgrade to upgrade): entrypoints in /usr/local/lib/python2.7/dist-packages (from nbconvert->notebook>=4.2.0->widgetsnbextension>=1.2.3->ipywidgets)\n",
      "Requirement already satisfied (use --upgrade to upgrade): pygments in /usr/local/lib/python2.7/dist-packages (from nbconvert->notebook>=4.2.0->widgetsnbextension>=1.2.3->ipywidgets)\n",
      "Requirement already satisfied (use --upgrade to upgrade): mistune!=0.6 in /usr/local/lib/python2.7/dist-packages (from nbconvert->notebook>=4.2.0->widgetsnbextension>=1.2.3->ipywidgets)\n",
      "Requirement already satisfied (use --upgrade to upgrade): jsonschema!=2.5.0,>=2.0 in /usr/local/lib/python2.7/dist-packages (from nbformat->notebook>=4.2.0->widgetsnbextension>=1.2.3->ipywidgets)\n",
      "Requirement already satisfied (use --upgrade to upgrade): MarkupSafe in /usr/local/lib/python2.7/dist-packages (from jinja2->notebook>=4.2.0->widgetsnbextension>=1.2.3->ipywidgets)\n",
      "Requirement already satisfied (use --upgrade to upgrade): configparser>=3.5; python_version == \"2.7\" in /usr/local/lib/python2.7/dist-packages (from entrypoints->nbconvert->notebook>=4.2.0->widgetsnbextension>=1.2.3->ipywidgets)\n",
      "Requirement already satisfied (use --upgrade to upgrade): functools32; python_version == \"2.7\" in /usr/local/lib/python2.7/dist-packages (from jsonschema!=2.5.0,>=2.0->nbformat->notebook>=4.2.0->widgetsnbextension>=1.2.3->ipywidgets)\n"
     ]
    },
    {
     "name": "stderr",
     "output_type": "stream",
     "text": [
      "You are using pip version 8.1.2, however version 9.0.1 is available.\n",
      "You should consider upgrading via the 'pip install --upgrade pip' command.\n",
      "You are using pip version 8.1.2, however version 9.0.1 is available.\n",
      "You should consider upgrading via the 'pip install --upgrade pip' command.\n",
      "Enabling notebook extension jupyter-js-widgets/extension...\n",
      "      - Validating: \u001b[32mOK\u001b[0m\n"
     ]
    }
   ],
   "source": [
    "%%bash\n",
    "pip install tsfresh\n",
    "pip install ipywidgets\n",
    "jupyter nbextension enable --py --sys-prefix widgetsnbextension"
   ]
  },
  {
   "cell_type": "code",
   "execution_count": 3,
   "metadata": {
    "collapsed": false
   },
   "outputs": [
    {
     "name": "stderr",
     "output_type": "stream",
     "text": [
      "Enabling notebook extension jupyter-js-widgets/extension...\n",
      "      - Validating: \u001b[32mOK\u001b[0m\n"
     ]
    }
   ],
   "source": [
    "%%bash\n",
    "jupyter nbextension enable --py --sys-prefix widgetsnbextension"
   ]
  },
  {
   "cell_type": "code",
   "execution_count": 131,
   "metadata": {
    "collapsed": false
   },
   "outputs": [],
   "source": [
    "import os\n",
    "import inspect\n",
    "import sys\n",
    "import pandas as pd\n",
    "import charts\n",
    "import numpy as np\n",
    "import pylab as pl\n",
    "from scipy import spatial\n",
    "from scipy.spatial import distance\n",
    "from sklearn.cluster import MeanShift\n",
    "import time\n",
    "import math\n",
    "from opengrid.library import houseprint"
   ]
  },
  {
   "cell_type": "code",
   "execution_count": 132,
   "metadata": {
    "collapsed": false
   },
   "outputs": [
    {
     "name": "stdout",
     "output_type": "stream",
     "text": [
      "Opening connection to Houseprint sheet\n",
      "Opening spreadsheets\n",
      "Parsing spreadsheets\n",
      "34 Sites created\n",
      "34 Devices created\n",
      "97 sensors created\n",
      "Houseprint parsing complete\n"
     ]
    }
   ],
   "source": [
    "hp = houseprint.Houseprint()"
   ]
  },
  {
   "cell_type": "code",
   "execution_count": 133,
   "metadata": {
    "collapsed": true
   },
   "outputs": [],
   "source": [
    "import matplotlib.pyplot as plt\n",
    "%matplotlib inline\n",
    "plt.rcParams['figure.figsize'] = 16,8"
   ]
  },
  {
   "cell_type": "code",
   "execution_count": 134,
   "metadata": {
    "collapsed": false
   },
   "outputs": [
    {
     "name": "stdout",
     "output_type": "stream",
     "text": [
      "\n",
      "    Fluksosensor\n",
      "    Key: 212ce724e124fbde0fb649396375d099\n",
      "    Type: gas\n",
      "    \n"
     ]
    }
   ],
   "source": [
    "gas = hp.find_sensor('212ce724e124fbde0fb649396375d099')\n",
    "#gas = hp.find_sensor('a6028457292f1866b468b63adcc82ee3') 2\n",
    "#gas = hp.find_sensor('a6028457292f1866b468b63adcc82ee3')\n",
    "print gas"
   ]
  },
  {
   "cell_type": "code",
   "execution_count": 135,
   "metadata": {
    "collapsed": false
   },
   "outputs": [
    {
     "name": "stdout",
     "output_type": "stream",
     "text": [
      "Using tmpo database from /data/.tmpo/tmpo.sqlite3\n"
     ]
    }
   ],
   "source": [
    "head = pd.Timestamp('20151110')\n",
    "tail = pd.Timestamp('20151118')\n",
    "originalGraph = gas.get_data(head=head, tail=tail, diff=True, resample='min', unit='kW')\n",
    "originalGraphDf=pd.DataFrame(originalGraph)\n",
    "originalGraphDfDropNa = originalGraphDf.dropna()"
   ]
  },
  {
   "cell_type": "code",
   "execution_count": null,
   "metadata": {
    "collapsed": false
   },
   "outputs": [],
   "source": []
  },
  {
   "cell_type": "markdown",
   "metadata": {},
   "source": [
    "<h3> Different compare methods </h3>"
   ]
  },
  {
   "cell_type": "code",
   "execution_count": 136,
   "metadata": {
    "collapsed": true
   },
   "outputs": [],
   "source": [
    "def diffArrays(array1,array2):\n",
    "    array=[]\n",
    "    if array1.index.size==array2.index.size:\n",
    "        for i in range(0,array1.index.size):\n",
    "            array.append(array2.iloc[i]-array1.iloc[i])\n",
    "    df=pd.DataFrame(array)\n",
    "    return df"
   ]
  },
  {
   "cell_type": "markdown",
   "metadata": {},
   "source": [
    "<h4> Manhattan Distance: the method we will use </h4>"
   ]
  },
  {
   "cell_type": "code",
   "execution_count": 137,
   "metadata": {
    "collapsed": true
   },
   "outputs": [],
   "source": [
    "def euclideanDistance(s1,s2):\n",
    "    #Verwacht een numpy array\n",
    "    dist = np.linalg.norm(s1-s2)\n",
    "    return dist"
   ]
  },
  {
   "cell_type": "code",
   "execution_count": 138,
   "metadata": {
    "collapsed": true
   },
   "outputs": [],
   "source": [
    "def manhattanDistance(s1,s2):\n",
    "    difference=diffArrays(s1,s2)\n",
    "    absDifference=abs(difference)\n",
    "    sumOfValues=np.sum(absDifference)\n",
    "    maxValues=np.maximum(s1,s2)\n",
    "    maxValues=np.max(maxValues)\n",
    "    manhattan=sumOfValues/maxValues\n",
    "    return manhattan"
   ]
  },
  {
   "cell_type": "code",
   "execution_count": 139,
   "metadata": {
    "collapsed": true
   },
   "outputs": [],
   "source": [
    "def manhattanDistance2(s1,s2):\n",
    "    dist = distance.cityblock(s1,s2)\n",
    "    return dist"
   ]
  },
  {
   "cell_type": "code",
   "execution_count": 140,
   "metadata": {
    "collapsed": true
   },
   "outputs": [],
   "source": [
    "def paa_transform(timeSeries, n_pieces):\n",
    "    splitted = np.array_split(timeSeries, n_pieces) ## along columns as we want\n",
    "    return np.asarray(map(lambda xs: xs.mean(axis = 0), splitted))"
   ]
  },
  {
   "cell_type": "code",
   "execution_count": 141,
   "metadata": {
    "collapsed": true
   },
   "outputs": [],
   "source": [
    "def znormalization(ts):\n",
    "    #Pakt mean, std van kolom.\n",
    "    meanCalc = ts.mean(axis = 0)\n",
    "    stdCalc = ts.std(axis = 0)\n",
    "    return (ts - meanCalc) / stdCalc"
   ]
  },
  {
   "cell_type": "code",
   "execution_count": 142,
   "metadata": {
    "collapsed": true
   },
   "outputs": [],
   "source": [
    "def sax_transform(ts, n_pieces, alphabet):\n",
    "    \"\"\"\n",
    "    ts: columns of which are time serieses represented by np.array\n",
    "    n_pieces: number of segments in paa transformation\n",
    "    alphabet: the letters to be translated to, e.g. \"abcd\", \"ab\"\n",
    "    return np.array of ts's sax transformation\n",
    "    Steps:\n",
    "    1. znormalize\n",
    "    2. paa\n",
    "    3. find norm distribution breakpoints by scipy.stats\n",
    "    4. convert paa transformation into strings\n",
    "    \"\"\"\n",
    "    from scipy.stats import norm\n",
    "    alphabet_sz = len(alphabet)\n",
    "    thrholds = norm.ppf(np.linspace(1./alphabet_sz, \n",
    "                                    1-1./alphabet_sz, \n",
    "                                    alphabet_sz-1))\n",
    "    def translate(ts_values):\n",
    "        return np.asarray([(alphabet[0] if ts_value < thrholds[0]\n",
    "                else (alphabet[-1] if ts_value > thrholds[-1]\n",
    "                      else alphabet[np.where(thrholds <= ts_value)[0][-1]+1]))\n",
    "                           for ts_value in ts_values])\n",
    "    paa_ts = paa_transform(znormalization(ts), n_pieces)\n",
    "    return np.apply_along_axis(translate, 0, paa_ts)"
   ]
  },
  {
   "cell_type": "code",
   "execution_count": 143,
   "metadata": {
    "collapsed": true
   },
   "outputs": [],
   "source": [
    "def makeArray(array1):\n",
    "    arrayValues=[]    \n",
    "    for i in range(0, array1.size-1):\n",
    "        if(i<array1.size):\n",
    "             arrayValues.append(ord(array1.iloc[i])-97)\n",
    "    df=pd.DataFrame(arrayValues)\n",
    "    return df"
   ]
  },
  {
   "cell_type": "code",
   "execution_count": 144,
   "metadata": {
    "collapsed": true
   },
   "outputs": [],
   "source": [
    "\n",
    "def makeDiffArray(array): #Excepts a letter array\n",
    "    arrayValues=[]    \n",
    "    for i in range(0, array.size-1):\n",
    "        if(i<array.size):\n",
    "             arrayValues.append(ord(array.iloc[i+1])-ord(array.iloc[i]))\n",
    "    df=pd.DataFrame(arrayValues)\n",
    "    return df          \n"
   ]
  },
  {
   "cell_type": "code",
   "execution_count": 145,
   "metadata": {
    "collapsed": true
   },
   "outputs": [],
   "source": [
    "def differenceNumbers(array): #Expects array of numbers @\n",
    "    arrayValues=[]\n",
    "    for i in range(0, array.index.size):\n",
    "        arrayValues.append(np.diff(array.iloc[i], axis=-1))\n",
    "    df=pd.DataFrame(arrayValues)\n",
    "    return df"
   ]
  },
  {
   "cell_type": "code",
   "execution_count": 146,
   "metadata": {
    "collapsed": true
   },
   "outputs": [],
   "source": [
    "def diffArrays(array1,array2):\n",
    "    array=[]\n",
    "    if array1.index.size==array2.index.size:\n",
    "        for i in range(0,array1.index.size):\n",
    "            array.append(array2.iloc[i]-array1.iloc[i])\n",
    "    df=pd.DataFrame(array)\n",
    "    return df"
   ]
  },
  {
   "cell_type": "code",
   "execution_count": 147,
   "metadata": {
    "collapsed": true
   },
   "outputs": [],
   "source": [
    "zScores=znormalization(originalGraph)"
   ]
  },
  {
   "cell_type": "code",
   "execution_count": 148,
   "metadata": {
    "collapsed": true
   },
   "outputs": [],
   "source": [
    " def looping_through_list(df_with_values, array_to_compare):\n",
    "    start=time.time()\n",
    "    #Create list where values on which the different methods will act will be saved temporarily\n",
    "    #This list will be cleared every time\n",
    "    values_list=[]\n",
    "    #Create list with results of the methods\n",
    "    result_list=[]\n",
    "    compare_to_array=np.array(array_to_compare)\n",
    "    i=0 #Loops through list arrayToCompare.size times\n",
    "    j=0 #Amount of values considered, and calculated.\n",
    "    array_with_values=np.array(df_with_values)\n",
    "    #start and stop timestamp\n",
    "    starting_time_stamp=df_with_values.index[0]\n",
    "    stop_time_stamp=df_with_values.index[array_to_compare.size-1]\n",
    "    \n",
    "    #Threshold\n",
    "    threshold_value=array_to_compare.size/10\n",
    "    #LOOPING THROUGH LIST\n",
    "    while i < array_to_compare.size+j: #i is dependent on j, i updates as j updates.\n",
    "        #Save x amount of values where x is the size of the array to compare.\n",
    "        values_list.append(([array_with_values[i][0]]))\n",
    "        i=i+1\n",
    "        if(i==(array_to_compare.size+j)) and (i<(df_with_values.size)):\n",
    "            #j = the minute at this moment. i = starting from the current minute, adding the size of the array to compare.\n",
    "            #Stops running when the limit of values to be considered is reached, being the size the original array.\n",
    "            if(j==0) or (manhattanDistance2(compare_to_array,values_list)!=result_list[len(result_list)-1][0]):\n",
    "                #Create list with unique values. Save them in \"resultList\". Euclidean score, startTimestamp, stopTimestamp\n",
    "                result_list.append([manhattanDistance2(compare_to_array,values_list), starting_time_stamp,stop_time_stamp]) \n",
    "            j=j+1\n",
    "            starting_time_stamp=df_with_values.index[j] #startingTimeStamp: current minute considered\n",
    "            stop_time_stamp=df_with_values.index[i] #stopTimeStamp: current minute considered + size of array to compare.\n",
    "            i=j\n",
    "            values_list=[]\n",
    "    print time.time()-start\n",
    "    return result_list"
   ]
  },
  {
   "cell_type": "code",
   "execution_count": 149,
   "metadata": {
    "collapsed": false
   },
   "outputs": [],
   "source": [
    " def local_minima_ts_correction(result_list):\n",
    "    start=time.time()\n",
    "    loop_index=0 #Loops throu\"gh the resultslist, as long as its size\n",
    "    current_saves=0 #Current amount of variables saved\n",
    "    some_list=[]\n",
    "    df_result=pd.DataFrame(some_list)\n",
    "    ts=(list_view[0][2]-list_view[0][1])/10\n",
    "    threshold_value=(ts / np.timedelta64(1, 'm')).astype(int)\n",
    "    #SAVING ONLY RELEVANT VALUES       \n",
    "    while loop_index < len(result_list):\n",
    "        if(loop_index==0):\n",
    "            [value,start_time_stamp,stop_time_stamp] = [result_list[loop_index][0], result_list[loop_index][1], result_list[loop_index][2]]\n",
    "            df_result=df_result.append(pd.DataFrame([[value, start_time_stamp,stop_time_stamp]], index=[current_saves], columns=['Manhattan','startTimeStamp','stopTimeStamp']))\n",
    "            current_saves=current_saves+1\n",
    "        if(result_list[loop_index-1][0] < result_list[loop_index-2][0]) and (result_list[loop_index-1][0] < result_list[loop_index][0]) and result_list[loop_index-1][0] < df_result.max()['Manhattan']:\n",
    "            #print \"Value\", resultList[loopIndex-1][0],\",Index:\",loopIndex-1,\"has a lower value than value left and right to it.(\",resultList[loopIndex-2][0],\",\",resultList[loopIndex][0],\") nIt will now replace\", dfResult['Euclidean'].max(),\"in the dataset.\"\n",
    "            [value,start_time_stamp,stop_time_stamp] = [result_list[loop_index-1][0], result_list[loop_index-1][1], result_list[loop_index-1][2]]\n",
    "            list_with_values=[]\n",
    "            i=0\n",
    "            max_value=0\n",
    "            #!!!Timestamps are important. If timestamp is within the range of another timestamp already present,\n",
    "            #they will overwrite eachother instead of adding a new unique value\n",
    "            while i < df_result.index.size:\n",
    "                if(start_time_stamp >= df_result['startTimeStamp'][i]) and (start_time_stamp <= df_result['stopTimeStamp'][i]-pd.Timedelta(minutes=threshold_value)):\n",
    "                    #INSIDE BOUNDARIES\n",
    "                    if(df_result.loc[i][0] > max_value) and (df_result.loc[i][0]!=0): #Store the maximum value, of the range between start and stoptimestamp.\n",
    "                        max_value=df_result.loc[i][0]\n",
    "                        ts=df_result.loc[i][1]\n",
    "                    elif(df_result.loc[i][0]==0): #PERFECT MATCH\n",
    "                        max_value=1 #Not 0 because otherwise we assume it is outside of the boundaries\n",
    "                i=i+1\n",
    "            if(max_value==0): \n",
    "                #OUTSIDE BOUNDARIES\n",
    "                    df_result=df_result.append(pd.DataFrame([[value, start_time_stamp,stop_time_stamp]], index=[current_saves], columns=['Manhattan','startTimeStamp','stopTimeStamp']))\n",
    "                    current_saves=current_saves+1\n",
    "                #INSIDE BOUNDARIES - \n",
    "            elif(value < max_value): #Check if the current value is smaller than the Maximum value encountered. Replace if it is.\n",
    "                    df_result.loc[df_result['Manhattan']== max_value] = [value, start_time_stamp, stop_time_stamp]\n",
    "        loop_index=loop_index+1\n",
    "    df_result=df_result.sort_values(['Manhattan'])\n",
    "    print time.time()-start\n",
    "    return df_result\n",
    "        "
   ]
  },
  {
   "cell_type": "code",
   "execution_count": 150,
   "metadata": {
    "collapsed": false
   },
   "outputs": [],
   "source": [
    "def calculate_threshold_value(df_result, nr_of_best_values, factor):\n",
    "    list_of_best_values=[]\n",
    "    i = 0\n",
    "    for i in range(0, nr_of_best_values):\n",
    "        list_of_best_values.append(df_result.iloc[i])\n",
    "    list_of_best_values=pd.DataFrame(list_of_best_values)\n",
    "    mean=list_of_best_values.mean()\n",
    "    threshold=mean*factor\n",
    "    print threshold\n",
    "    return df_result.loc[df_result['Manhattan']<=threshold[0]]\n",
    "    "
   ]
  },
  {
   "cell_type": "code",
   "execution_count": 151,
   "metadata": {
    "collapsed": false,
    "scrolled": true
   },
   "outputs": [],
   "source": [
    "def create_graph_from(df):\n",
    "    listWithGraphs=[]\n",
    "    listWithGraphs=pd.DataFrame(listWithGraphs)\n",
    "    for i in range (0, df.index.size):\n",
    "        listWithGraphs=listWithGraphs.append(originalGraphDfDropNa.ix[pd.Timestamp(df['startTimeStamp'][i]):pd.Timestamp(df['stopTimeStamp'][i])])\n",
    "    return charts.plot(listWithGraphs, stock=True, show='inline')"
   ]
  },
  {
   "cell_type": "code",
   "execution_count": 152,
   "metadata": {
    "collapsed": true
   },
   "outputs": [],
   "source": [
    "head = pd.Timestamp('20151110')\n",
    "tail = pd.Timestamp('20151128')\n",
    "originalGraph = gas.get_data(head=head, tail=tail, diff=True, resample='min', unit='kW')\n",
    "originalGraphDf=pd.DataFrame(originalGraph)\n",
    "originalGraphDfDropNa = originalGraphDf.dropna()"
   ]
  },
  {
   "cell_type": "code",
   "execution_count": 153,
   "metadata": {
    "collapsed": false
   },
   "outputs": [],
   "source": [
    "dfCompareOriginal=originalGraphDf.ix[pd.Timestamp('2015-11-13 16:25:00+00:00'):pd.Timestamp('2015-11-13 17:16:00+00:00')]"
   ]
  },
  {
   "cell_type": "code",
   "execution_count": 104,
   "metadata": {
    "collapsed": false,
    "scrolled": true
   },
   "outputs": [
    {
     "name": "stdout",
     "output_type": "stream",
     "text": [
      "75.8810019493\n",
      "34.3666110039\n",
      "Manhattan    121.656511\n",
      "dtype: float64\n"
     ]
    }
   ],
   "source": [
    "list_view=looping_through_list(originalGraphDfDropNa, dfCompareOriginal)\n",
    "df_result = local_minima_ts_correction(list_view)\n"
   ]
  },
  {
   "cell_type": "code",
   "execution_count": 119,
   "metadata": {
    "collapsed": false
   },
   "outputs": [
    {
     "name": "stdout",
     "output_type": "stream",
     "text": [
      "Manhattan    121.656511\n",
      "dtype: float64\n"
     ]
    }
   ],
   "source": [
    "df_threshold=calculate_threshold_value(df_result, 20,1.5)"
   ]
  },
  {
   "cell_type": "code",
   "execution_count": 120,
   "metadata": {
    "collapsed": false
   },
   "outputs": [
    {
     "data": {
      "text/html": [
       "<style>body{-moz-osx-font-smoothing:grayscale;-webkit-font-smoothing:antialiased;color:#555;font-family:sans-serif}\n",
       "small{font-weight:400;display:block;font-size:14px}\n",
       "code{background-color:#d3d3d3;border-radius:3px;font-family:monospace;padding:0 .5em}\n",
       ".icon.-facebook:before,.icon.-linkedin:before,.icon.-pinterest:before,.icon.-twitter:before{-moz-osx-font-smoothing:grayscale;-webkit-font-smoothing:antialiased;font-family:Post-Creator-Icons;font-style:normal;font-variant:normal;font-weight:400;line-height:1;speak:none;text-transform:none}\n",
       "@font-face{font-family:Post-Creator-Icons;src:url(fonts/Post-Creator-Icons.eot);src:url(fonts/Post-Creator-Icons.eot?#iefix) format('embedded-opentype'),url(fonts/Post-Creator-Icons.woff) format('woff'),url(fonts/Post-Creator-Icons.ttf) format('truetype'),url(fonts/Post-Creator-Icons.svg#Post-Creator-Icons) format('svg');font-weight:400;font-style:normal}\n",
       ".icon.-facebook:before{content:\"\\e001\"}\n",
       ".icon.-linkedin:before{content:\"\\e002\"}\n",
       ".icon.-pinterest:before{content:\"\\e003\"}\n",
       ".icon.-twitter:before{content:\"\\e004\"}\n",
       ".social-icons h4{display:inline-block;margin:20px 10px 0 0}\n",
       ".social-icons .icon{display:inline-block;margin:0 5px}\n",
       "body.modal-open{overflow:hidden}\n",
       ".jsoneditor table,.jsoneditor td,.jsoneditor td.tree,.jsoneditor tr{border:none;margin:0}</style>\n",
       "<link rel=\"stylesheet\" href=\"https://cdnjs.cloudflare.com/ajax/libs/selectize.js/0.12.1/css/selectize.default.min.css\"/>\n",
       "<link rel=\"stylesheet\" href=\"https://cdnjs.cloudflare.com/ajax/libs/jsoneditor/4.2.0/jsoneditor.min.css\"/>\n",
       "\n",
       "<div class=\"container-fluid\">\n",
       "    <div class=\"row\">\n",
       "        <div class=\"col-sm-10\">\n",
       "            <input type=\"text\" id=\"variable-selector\">\n",
       "        </div>\n",
       "        <div class=\"col-sm-2\">\n",
       "            <button class=\"btn btn-default pull-right\" type=\"submit\" id=\"settings-button\">Settings</button>\n",
       "        </div>\n",
       "    </div>\n",
       "\n",
       "    <div class=\"row\">\n",
       "        <div class=\"collapse col-xs-12\" id=\"settings-collapse\">\n",
       "            <div class=\"panel panel-default\" style=\"margin-top: 20px\">\n",
       "                <div class=\"panel-heading\"><h3 class=\"panel-title\">Adjust chart settings</h3></div>\n",
       "                <div class=\"panel-body\">\n",
       "                    <div class=\"row\">\n",
       "                        <div id=\"jsoneditor\" class=\"col-md-12\" style=\"height: 350px\"></div>\n",
       "                    </div>\n",
       "                    <div class=\"row\" style=\"margin-top: 10px\">\n",
       "                        <div class=\"col-sm-4\">\n",
       "                            <button type=\"button\" class=\"btn btn-primary\" id=\"save-settings\">\n",
       "                                Apply changes\n",
       "                            </button>\n",
       "                        </div>\n",
       "                        <div class=\"col-sm-8 text-right \">\n",
       "                            <form class=\"form-inline\">\n",
       "                                <div class=\"form-group\">\n",
       "                                    <div class=\"input-group\">\n",
       "                                        <input type=\"text\" class=\"form-control\" id=\"options-input\"\n",
       "                                               placeholder=\"settings\" style=\"text-align: right\">\n",
       "                                        <div class=\"input-group-addon\"><strong>.json</strong></div>\n",
       "                                    </div>\n",
       "                                </div>\n",
       "                                <button type=\"submit\" class=\"btn btn-primary\" id=\"options-button\">Save</button>\n",
       "                            </form>\n",
       "\n",
       "                        </div>\n",
       "                    </div>\n",
       "                </div>\n",
       "            </div>\n",
       "        </div>\n",
       "    </div>\n",
       "\n",
       "    <div class=\"row\">\n",
       "        <div id=\"chart-container\" style=\"min-width: 310px;\"></div>\n",
       "    </div>\n",
       "</div>\n",
       "\n",
       "\n",
       "<script src=\"https://cdnjs.cloudflare.com/ajax/libs/jquery/2.1.4/jquery.min.js\"></script>\n",
       "<script src=\"https://cdnjs.cloudflare.com/ajax/libs/require.js/2.1.18/require.min.js\"></script>\n",
       "\n",
       "\n",
       "\n",
       "\n",
       "\n",
       "\n",
       "<script>(function e(t,n,r){function s(o,u){if(!n[o]){if(!t[o]){var a=typeof require==\"function\"&&require;if(!u&&a)return a(o,!0);if(i)return i(o,!0);var f=new Error(\"Cannot find module '\"+o+\"'\");throw f.code=\"MODULE_NOT_FOUND\",f}var l=n[o]={exports:{}};t[o][0].call(l.exports,function(e){var n=t[o][1][e];return s(n?n:e)},l,l.exports,e,t,n,r)}return n[o].exports}var i=typeof require==\"function\"&&require;for(var o=0;o<r.length;o++)s(r[o]);return s})({1:[function(require,module,exports){\n",
       "//findIndex polyfill\n",
       "if (!Array.prototype.findIndex) {\n",
       "    Array.prototype.findIndex = function(predicate) {\n",
       "        if (this == null) {\n",
       "            throw new TypeError('Array.prototype.findIndex called on null or undefined');\n",
       "        }\n",
       "        if (typeof predicate !== 'function') {\n",
       "            throw new TypeError('predicate must be a function');\n",
       "        }\n",
       "        var list = Object(this);\n",
       "        var length = list.length >>> 0;\n",
       "        var thisArg = arguments[1];\n",
       "        var value;\n",
       "\n",
       "        for (var i = 0; i < length; i++) {\n",
       "            value = list[i];\n",
       "            if (predicate.call(thisArg, value, i, list)) {\n",
       "                return i;\n",
       "            }\n",
       "        }\n",
       "        return -1;\n",
       "    };\n",
       "}\n",
       "\n",
       "if (!Array.prototype.filter) {\n",
       "    Array.prototype.filter = function(fun/*, thisArg*/) {\n",
       "        'use strict';\n",
       "\n",
       "        if (this === void 0 || this === null) {\n",
       "            throw new TypeError();\n",
       "        }\n",
       "\n",
       "        var t = Object(this);\n",
       "        var len = t.length >>> 0;\n",
       "        if (typeof fun !== 'function') {\n",
       "            throw new TypeError();\n",
       "        }\n",
       "\n",
       "        var res = [];\n",
       "        var thisArg = arguments.length >= 2 ? arguments[1] : void 0;\n",
       "        for (var i = 0; i < len; i++) {\n",
       "            if (i in t) {\n",
       "                var val = t[i];\n",
       "\n",
       "                // NOTE: Technically this should Object.defineProperty at\n",
       "                //       the next index, as push can be affected by\n",
       "                //       properties on Object.prototype and Array.prototype.\n",
       "                //       But that method's new, and collisions should be\n",
       "                //       rare, so use the more-compatible alternative.\n",
       "                if (fun.call(thisArg, val, i, t)) {\n",
       "                    res.push(val);\n",
       "                }\n",
       "            }\n",
       "        }\n",
       "\n",
       "        return res;\n",
       "    };\n",
       "}\n",
       "\n",
       "function guid() {\n",
       "    function s4() {\n",
       "        return Math.floor((1 + Math.random()) * 0x10000)\n",
       "            .toString(16)\n",
       "            .substring(1);\n",
       "    }\n",
       "    return s4() + s4() + '-' + s4() + '-' + s4() + '-' +\n",
       "        s4() + '-' + s4() + s4() + s4();\n",
       "}\n",
       "\n",
       "Array.prototype.equals = function (array) {\n",
       "    // if the other array is a false value, return\n",
       "    if (!array)\n",
       "        return false;\n",
       "\n",
       "    // compare lengths - can save a lot of time\n",
       "    if (this.length != array.length)\n",
       "        return false;\n",
       "\n",
       "    for (var i = 0, l = this.length; i < l; i++) {\n",
       "        // Check if we have nested arrays\n",
       "        if (this[i] instanceof Array && array[i] instanceof Array) {\n",
       "            // recurse into the nested arrays\n",
       "            if (!this[i].equals(array[i]))\n",
       "                return false;\n",
       "        }\n",
       "        else if (this[i] != array[i]) {\n",
       "            // Warning - two different object instances will never be equal: {x:20} != {x:20}\n",
       "            return false;\n",
       "        }\n",
       "    }\n",
       "    return true;\n",
       "};\n",
       "\n",
       "},{}]},{},[1]);\n",
       "</script>\n",
       "<script>(function e(t,n,r){function s(o,u){if(!n[o]){if(!t[o]){var a=typeof require==\"function\"&&require;if(!u&&a)return a(o,!0);if(i)return i(o,!0);var f=new Error(\"Cannot find module '\"+o+\"'\");throw f.code=\"MODULE_NOT_FOUND\",f}var l=n[o]={exports:{}};t[o][0].call(l.exports,function(e){var n=t[o][1][e];return s(n?n:e)},l,l.exports,e,t,n,r)}return n[o].exports}var i=typeof require==\"function\"&&require;for(var o=0;o<r.length;o++)s(r[o]);return s})({1:[function(require,module,exports){\n",
       "\n",
       "\n",
       "requirejs.config({\n",
       "    \"paths\": {\n",
       "        \"highstock\": \"https://cdnjs.cloudflare.com/ajax/libs/highstock/2.1.5/highstock\",\n",
       "        \"export\": \"https://cdnjs.cloudflare.com/ajax/libs/highstock/2.1.5/modules/exporting\",\n",
       "        \"more\": \"https://cdnjs.cloudflare.com/ajax/libs/highstock/2.1.7/highcharts-more\",\n",
       "        \"jsoneditor\": \"https://cdnjs.cloudflare.com/ajax/libs/jsoneditor/4.2.0/jsoneditor.min\",\n",
       "        \"selectize\": \"https://cdnjs.cloudflare.com/ajax/libs/selectize.js/0.12.1/js/standalone/selectize.min\",\n",
       "        \"jquery\": \"https://cdnjs.cloudflare.com/ajax/libs/jquery/2.1.4/jquery.min\"\n",
       "    },\n",
       "    \"shim\": {\n",
       "        \"export\": [\"highstock\"],\n",
       "        \"more\": [\"highstock\"]\n",
       "    }\n",
       "});\n",
       "\n",
       "//Define jquery here to use the pre-loaded version\n",
       "define('jquery', [], function() {\n",
       "    return jQuery;\n",
       "});\n",
       "\n",
       "},{}]},{},[1]);\n",
       "</script>\n",
       "<script>(function e(t,n,r){function s(o,u){if(!n[o]){if(!t[o]){var a=typeof require==\"function\"&&require;if(!u&&a)return a(o,!0);if(i)return i(o,!0);var f=new Error(\"Cannot find module '\"+o+\"'\");throw f.code=\"MODULE_NOT_FOUND\",f}var l=n[o]={exports:{}};t[o][0].call(l.exports,function(e){var n=t[o][1][e];return s(n?n:e)},l,l.exports,e,t,n,r)}return n[o].exports}var i=typeof require==\"function\"&&require;for(var o=0;o<r.length;o++)s(r[o]);return s})({1:[function(require,module,exports){\n",
       "//Count the number of charts on the page\n",
       "if (window.counter == undefined) {\n",
       "    window.counter = 0;\n",
       "} else {\n",
       "    window.counter++;\n",
       "}\n",
       "\n",
       "requirejs([\n",
       "    'jquery',\n",
       "    'selectize',\n",
       "    'jsoneditor',\n",
       "    'highstock',\n",
       "    'export',\n",
       "    'more'\n",
       "], function ($, selectize, JSONEditor) {\n",
       "\n",
       "    function guid() {\n",
       "        function s4() {\n",
       "            return Math.floor((1 + Math.random()) * 0x10000)\n",
       "                .toString(16)\n",
       "                .substring(1);\n",
       "        }\n",
       "\n",
       "        return s4() + s4() + '-' + s4() + '-' + s4() + '-' +\n",
       "            s4() + '-' + s4() + s4() + s4();\n",
       "    }\n",
       "\n",
       "    var id = guid();\n",
       "    plot(id);\n",
       "\n",
       "    function plot(id) {\n",
       "        var series = [\n",
       "            {data: [1, 2, 4, 9], name: \"temperature 1\", display: true, color: '#2b908f'},\n",
       "            {data: [9, 4, 2, 1], name: \"temperature 2\", display: true},\n",
       "            {data: [0, 3, 5, 6], name: \"temperature 3\", display: false}\n",
       "        ];\n",
       "        var series = [{\"data\": [[1447322220000.0, 0.032596885180100794], [1447322280000.0, 0.032596885180100794], [1447322340000.0, 0.0325968851975631], [1447322400000.0, 0.032596885180100794], [1447322460000.0, 0.0325968851975631], [1447322520000.0, 2.71518939913949], [1447322580000.0, 9.1770114942512], [1447322640000.0, 7.693333333334885], [1447322700000.0, 7.725714285706635], [1447322760000.0, 9.682027649780503], [1447322820000.0, 12.186104218347463], [1447322880000.0, 14.346153846167725], [1447322940000.0, 14.739999999990687], [1447323000000.0, 14.760000000003492], [1447323060000.0, 14.520000000006984], [1447323120000.0, 14.729999999993014], [1447323180000.0, 14.549999999999999], [1447323240000.0, 14.639999999996506], [1447323300000.0, 14.559999999997672], [1447323360000.0, 14.461538461537565], [1447323420000.0, 14.07692307693651], [1447323480000.0, 13.905982905981363], [1447323540000.0, 13.55555555555038], [1447323600000.0, 12.999999999994179], [1447323660000.0, 12.20000000000582], [1447323720000.0, 11.76774193549063], [1447323780000.0, 11.395894428138854], [1447323840000.0, 10.909090909094084], [1447323900000.0, 10.294840294844471], [1447323960000.0, 9.663201663200743], [1447324020000.0, 9.230769230774603], [1447324080000.0, 8.824175824178383], [1447324140000.0, 8.48172757474822], [1447324200000.0, 8.23255813953001], [1447324260000.0, 7.826086956518702], [1447324320000.0, 7.673913043487119], [1447324380000.0, 7.5], [1447324440000.0, 7.374999999994179], [1447324500000.0, 7.5], [1447324560000.0, 7.5], [1447324620000.0, 7.5], [1447324680000.0, 7.374999999994179], [1447324740000.0, 7.5], [1447324800000.0, 7.5], [1447324860000.0, 7.403061224502744], [1447324920000.0, 7.346938775503077], [1447324980000.0, 7.374999999994179], [1447325040000.0, 7.441326530609512], [1447325100000.0, 7.4336734694021285], [1447325160000.0, 7.382653061219025], [1447325220000.0, 7.346938775503077], [1447325280000.0, 7.300408163265092], [1447355640000.0, 8.045454545452957], [1447355700000.0, 8.109090909099905], [1447355760000.0, 8.118181818182347], [1447355820000.0, 7.089225589216221], [1447355880000.0, 2.222222222224809], [1447355940000.0, 2.222222222224809], [1447356000000.0, 7.763532763539114], [1447356060000.0, 9.134615384606876], [1447356120000.0, 10.068181818182348], [1447356180000.0, 11.737373737368033], [1447356240000.0, 13.804444444453111], [1447356300000.0, 14.399999999999999], [1447356360000.0, 14.160000000003492], [1447356420000.0, 14.399999999999999], [1447356480000.0, 14.399999999999999], [1447356540000.0, 14.399999999999999], [1447356600000.0, 14.399999999999999], [1447356660000.0, 14.399999999999999], [1447356720000.0, 14.23384615383111], [1447356780000.0, 14.32615384615492], [1447356840000.0, 14.28923076923238], [1447356900000.0, 14.27076923077111], [1447356960000.0, 14.113846153841587], [1447357020000.0, 13.846153846161906], [1447357080000.0, 13.666666666668606], [1447357140000.0, 13.333333333331392], [1447357200000.0, 13.071428571426077], [1447357260000.0, 12.58374384236522], [1447357320000.0, 12.206896551721728], [1447357380000.0, 11.87986651835963], [1447357440000.0, 11.570564516127343], [1447357500000.0, 11.232954545452957], [1447357560000.0, 10.909090909094084], [1447357620000.0, 10.488311688305112], [1447357680000.0, 10.109774436091538], [1447357740000.0, 9.331983805663185], [1447357800000.0, 9.015384615393122], [1447357860000.0, 8.742857142852154], [1447357920000.0, 8.357142857147846], [1447357980000.0, 8.1], [1447358040000.0, 7.878260869573569], [1447358100000.0, 7.52173913042061], [1447358160000.0, 7.400000000005821], [1447358220000.0, 7.061538461531745], [1447358280000.0, 6.923076923080953], [1447358340000.0, 6.923076923080953], [1447358400000.0, 7.038461538468255], [1447358460000.0, 6.947963800892467], [1447358520000.0, 7.05882352940971], [1447358580000.0, 7.127058823528932], [1447358640000.0, 7.10823529412155], [1447358700000.0, 7.1717647058889264], [1447431900000.0, 0.010458427743287757], [1447431960000.0, 0.010458427743287757], [1447432020000.0, 0.010458427760750054], [1447432080000.0, 0.010458427743287757], [1447432140000.0, 0.010458427743287757], [1447432200000.0, 1.00923827784718], [1447432260000.0, 8.488372093025827], [1447432320000.0, 8.372093023255001], [1447432380000.0, 8.972868217056384], [1447432440000.0, 11.028735632181633], [1447432500000.0, 13.387931034481152], [1447432560000.0, 14.510000000009313], [1447432620000.0, 14.489999999996506], [1447432680000.0, 14.549999999999999], [1447432740000.0, 14.639999999996506], [1447432800000.0, 14.399999999999999], [1447432860000.0, 14.160000000003492], [1447432920000.0, 13.77777777776937], [1447432980000.0, 13.222222222230629], [1447433040000.0, 12.857142857147846], [1447433100000.0, 12.342857142852154], [1447433160000.0, 12.0], [1447433220000.0, 11.549999999999999], [1447433280000.0, 11.159090909088263], [1447433340000.0, 11.090909090917558], [1447433400000.0, 11.636363636353053], [1447433460000.0, 10.70649350649328], [1447433520000.0, 10.157142857147846], [1447433580000.0, 9.93243243243196], [1447433640000.0, 9.725462304416578], [1447433700000.0, 9.380566801613895], [1447433760000.0, 9.076923076930688], [1447433820000.0, 9.134615384606876], [1447433880000.0, 9.0], [1447433940000.0, 9.096153846150264], [1447434000000.0, 9.053846153849735], [1447434060000.0, 9.0], [1447434120000.0, 9.023076923080952], [1447434180000.0, 9.230769230757142], [1447434240000.0, 9.131868131883675], [1447434300000.0, 8.665505226468667], [1447434360000.0, 8.620209059229818], [1447434420000.0, 8.571428571443539], [1447434480000.0, 8.571428571426077], [1447434540000.0, 8.571428571426077], [1447434600000.0, 8.571428571426077], [1447434660000.0, 8.571428571426077], [1447434720000.0, 8.478405315609416], [1447434780000.0, 8.105968239647336], [1447434840000.0, 0.3883495145535562], [1447434900000.0, 0.3883495145710185], [1447434960000.0, 0.3883495145535562], [1447481040000.0, 0.012565883615752681], [1447481100000.0, 0.01256588363321498], [1447481160000.0, 0.01256588363321498], [1447481220000.0, 0.012565883615752681], [1447481280000.0, 0.01256588363321498], [1447481340000.0, 2.054878958169138], [1447481400000.0, 7.9119922630547075], [1447481460000.0, 7.781683626270387], [1447481520000.0, 9.437340153451077], [1447481580000.0, 11.609243697492639], [1447481640000.0, 14.01428571427823], [1447481700000.0, 14.879999999993014], [1447481760000.0, 14.64000000001397], [1447481820000.0, 14.679999999987194], [1447481880000.0, 14.60000000000582], [1447481940000.0, 14.639999999996506], [1447482000000.0, 14.298461538471747], [1447482060000.0, 14.076923076919046], [1447482120000.0, 13.598901098890929], [1447482180000.0, 13.071428571443539], [1447482240000.0, 12.576354679791256], [1447482300000.0, 12.337931034481153], [1447482360000.0, 11.735483870969619], [1447482420000.0, 11.377016129036202], [1447482480000.0, 11.040441176475724], [1447482540000.0, 10.588235294114565], [1447482600000.0, 10.14453781513148], [1447482660000.0, 9.725096525094704], [1447482720000.0, 9.610241820767987], [1447482780000.0, 9.378947368415538], [1447482840000.0, 9.0], [1447482900000.0, 8.80975609755842], [1447482960000.0, 8.67595818816335], [1447483020000.0, 8.272425249160733], [1447483080000.0, 8.305496828758622], [1447483140000.0, 8.069696969690266], [1447483200000.0, 7.849275362316984], [1447483260000.0, 7.77058279371704], [1447483320000.0, 7.65957446807879], [1447483380000.0, 7.537234042561613], [1447483440000.0, 7.474489795917179], [1447483500000.0, 7.2955102040839845], [1447483560000.0, 7.199999999999999], [1447483620000.0, 7.199999999999999], [1447483680000.0, 6.964615384605713], [1447483740000.0, 7.056561085983412], [1447483800000.0, 6.983351831295295], [1447483860000.0, 6.844702467333991], [1447483920000.0, 6.923076923080953], [1447483980000.0, 6.835994194488739], [1447484040000.0, 6.894775036285864], [1447484100000.0, 6.923076923080953], [1447510380000.0, 0.22499999999999998], [1447510440000.0, 0.22499999999999998], [1447510500000.0, 0.22499999999999998], [1447510560000.0, 0.22499999999999998], [1447510620000.0, 0.22499999999999998], [1447510680000.0, 4.49107758620521], [1447510740000.0, 8.698650674661621], [1447510800000.0, 7.889855072455248], [1447510860000.0, 9.066666666674427], [1447510920000.0, 11.4], [1447510980000.0, 13.799999999999999], [1447511040000.0, 14.399999999999999], [1447511100000.0, 14.399999999999999], [1447511160000.0, 14.399999999999999], [1447511220000.0, 14.639999999996506], [1447511280000.0, 14.399999999999999], [1447511340000.0, 14.160000000003492], [1447511400000.0, 13.938461538468255], [1447511460000.0, 13.794871794863138], [1447511520000.0, 13.333333333331392], [1447511580000.0, 12.976190476189368], [1447511640000.0, 12.495073891634819], [1447511700000.0, 12.262068965518846], [1447511760000.0, 11.858064516121521], [1447511820000.0, 11.491935483872657], [1447511880000.0, 11.25], [1447511940000.0, 11.000000000005821], [1447512000000.0, 10.685714285715948], [1447512060000.0, 10.285714285704307], [1447512120000.0, 10.028571428573922], [1447512180000.0, 9.75], [1447512240000.0, 9.0], [1447512300000.0, 8.678571428573923], [1447512360000.0, 8.435064935067203], [1447512420000.0, 8.181818181811831], [1447512480000.0, 7.975822050293209], [1447512540000.0, 7.65957446807879], [1447512600000.0, 7.482414242299273], [1447512660000.0, 7.346938775503077], [1447512720000.0, 7.3297959183692], [1447512780000.0, 7.199999999999999], [1447512840000.0, 7.075384615390794], [1447512900000.0, 7.00226244343794], [1447512960000.0, 7.05882352940971], [1447513020000.0, 7.05882352940971], [1447513080000.0, 7.084705882362322], [1447513140000.0, 7.15058823528816], [1447513200000.0, 7.202881152456393], [1447513260000.0, 7.246530612255446], [1447513320000.0, 7.0799999999930145], [1447513380000.0, 7.320000000006985], [1447513440000.0, 7.199999999999999], [1447566420000.0, 0.01238645747071132], [1447566480000.0, 0.01238645747071132], [1447566540000.0, 0.01238645747071132], [1447566600000.0, 0.01238645747071132], [1447566660000.0, 0.01238645747071132], [1447566720000.0, 0.01238645747071132], [1447566780000.0, 7.82835780706373], [1447566840000.0, 7.748381128592882], [1447566900000.0, 7.550531914882594], [1447566960000.0, 9.27500000000582], [1447567020000.0, 11.528571428573922], [1447567080000.0, 14.071428571420256], [1447567140000.0, 14.720000000012805], [1447567200000.0, 14.639999999996506], [1447567260000.0, 14.639999999996506], [1447567320000.0, 14.639999999996506], [1447567380000.0, 14.399999999999999], [1447567440000.0, 14.113846153841587], [1447567500000.0, 13.51282051282469], [1447567560000.0, 12.976190476189368], [1447567620000.0, 12.701970443356549], [1447567680000.0, 12.206896551721728], [1447567740000.0, 11.70634037819691], [1447567800000.0, 11.304435483872657], [1447567860000.0, 10.908088235295144], [1447567920000.0, 10.386554621852701], [1447567980000.0, 10.142857142857974], [1447568040000.0, 9.341463414626196], [1447568100000.0, 8.78048780488316], [1447568160000.0, 8.514412416843697], [1447568220000.0, 8.181818181829295], [1447568280000.0, 7.920948616589885], [1447568340000.0, 7.635869565216126], [1447568400000.0, 7.441326530609512], [1447568460000.0, 7.263673469389323], [1447568520000.0, 7.096470588241936], [1447568580000.0, 7.176470588240773], [1447568640000.0, 7.05882352940971], [1447568700000.0, 7.05882352940971], [1447568760000.0, 6.9909502262366], [1447568820000.0, 2.765327210101532], [1447568880000.0, 0.358208955230657], [1447568940000.0, 0.358208955230657], [1447569000000.0, 0.3582089552131947], [1447569060000.0, 0.358208955230657], [1447569120000.0, 0.358208955230657], [1447569180000.0, 0.3582089552131947], [1447569240000.0, 0.358208955230657], [1447569300000.0, 0.3582089552131947], [1447569360000.0, 0.358208955230657], [1447569420000.0, 0.358208955230657], [1447569480000.0, 0.3582089552131947], [1447570140000.0, 0.7627118643955327], [1447570200000.0, 0.762711864412995], [1447570260000.0, 0.762711864412995], [1447570320000.0, 2.268721109395847], [1447570380000.0, 3.2727272727177477], [1447570440000.0, 9.763636363641126], [1447570500000.0, 8.234042553190374], [1447570560000.0, 7.365957446809625], [1447570620000.0, 7.199999999999999], [1447570680000.0, 7.199999999999999], [1447570740000.0, 7.038461538468255], [1447570800000.0, 7.020361990935634], [1447570860000.0, 7.369747899170033], [1447570920000.0, 9.071428571431897], [1447570980000.0, 11.499999999994179], [1447571040000.0, 12.77777777777519], [1447571100000.0, 13.333333333331392], [1447571160000.0, 13.581196581199764], [1447571220000.0, 13.30769230769947], [1447571280000.0, 12.999999999994179], [1447571340000.0, 12.724137931026052], [1447571400000.0, 12.475862068973948], [1447571460000.0, 12.20000000000582], [1447571520000.0, 11.858064516121521], [1447571580000.0, 11.419354838709113], [1447571640000.0, 11.322580645163542], [1447571700000.0, 11.000000000005821], [1447571760000.0, 10.882352941174759], [1447571820000.0, 10.431932773097651], [1447571880000.0, 10.352380952396198], [1447571940000.0, 10.166666666662787], [1447572000000.0, 9.842342342343182], [1447572060000.0, 9.64011379799922], [1447572120000.0, 9.453441295557422], [1447572180000.0, 9.336032388650347], [1447572240000.0, 8.944736842112615], [1447572300000.0, 8.901219512190437], [1447572360000.0, 8.78048780488316], [1447572420000.0, 8.617129892221419], [1447572480000.0, 8.372093023255001], [1447572540000.0, 8.32452431290294], [1447572600000.0, 8.087878787872613], [1447572660000.0, 7.997101449285401], [1447572720000.0, 7.826086956518702], [1447572780000.0, 7.826086956518702], [1447572840000.0, 7.5923913043574425], [1447572900000.0, 7.624999999988358], [1447572960000.0, 7.553191489371238], [1447573020000.0, 7.5718085106345825], [1447573080000.0, 7.5], [1447573140000.0, 7.62500000000582], [1447573200000.0, 7.558510638296138], [1447603620000.0, 0.014186074014287441], [1447603680000.0, 0.014186073996825144], [1447603740000.0, 0.014186073996825144], [1447603800000.0, 0.014186074014287441], [1447603860000.0, 0.014186073996825144], [1447603920000.0, 0.7191226886759977], [1447603980000.0, 9.579831932787783], [1447604040000.0, 8.23602484470466], [1447604100000.0, 8.178260869573569], [1447604160000.0, 10.10000000000582], [1447604220000.0, 12.584615384606877], [1447604280000.0, 13.846153846161906], [1447604340000.0, 14.28923076923238], [1447604400000.0, 14.095384615380317], [1447604460000.0, 14.076923076919046], [1447604520000.0, 13.6153846153873], [1447604580000.0, 13.335164835158503], [1447604640000.0, 12.805418719217414], [1447604700000.0, 12.151724137924612], [1447604760000.0, 11.948387096787338], [1447604820000.0, 11.5425219941244], [1447604880000.0, 10.909090909094084], [1447604940000.0, 10.588235294114565], [1447605000000.0, 10.245098039216828], [1447605060000.0, 9.7982456140453], [1447605120000.0, 9.473684210510692], [1447605180000.0, 9.03759398497059], [1447605240000.0, 8.402597402594983], [1447605300000.0, 8.054545454552862], [1447605360000.0, 7.524999999994179], [1447605420000.0, 7.5558510638249565], [1447605480000.0, 7.569148936180863], [1447605540000.0, 7.5], [1447605600000.0, 7.526595744676888], [1447605660000.0, 7.539730785920983], [1447605720000.0, 7.524099001317517], [1447605780000.0, 7.534574468072969], [1447605840000.0, 7.656914893625071], [1447605900000.0, 7.65957446807879], [1447605960000.0, 7.6595744680962525], [1447606020000.0, 7.65957446807879], [1447606080000.0, 7.756028368795523], [1447606140000.0, 7.81843971631606], [1447606200000.0, 7.65957446807879], [1447606260000.0, 7.820536540233297], [1447606320000.0, 7.826086956536164], [1447606380000.0, 7.826086956518702], [1447606440000.0, 7.956521739129675], [1447606500000.0, 7.826086956518702], [1447606560000.0, 7.933333333331393], [1447606620000.0, 8.133333333337214], [1447606680000.0, 8.000000000005821], [1447662480000.0, 0.06696428570430725], [1447662540000.0, 0.06696428572176956], [1447662600000.0, 0.06696428570430725], [1447662660000.0, 0.06696428572176956], [1447662720000.0, 0.06696428572176956], [1447662780000.0, 6.32678571427823], [1447662840000.0, 8.569565217389027], [1447662900000.0, 7.726179463468725], [1447662960000.0, 8.947112461994402], [1447663020000.0, 11.314285714295693], [1447663080000.0, 13.542857142852153], [1447663140000.0, 14.399999999999999], [1447663200000.0, 14.399999999999999], [1447663260000.0, 14.639999999996506], [1447663320000.0, 14.390769230778096], [1447663380000.0, 14.169230769225395], [1447663440000.0, 14.160000000003492], [1447663500000.0, 13.884444444434484], [1447663560000.0, 13.333333333331392], [1447663620000.0, 13.222222222230629], [1447663680000.0, 12.857142857147846], [1447663740000.0, 12.342857142852154], [1447663800000.0, 12.0], [1447663860000.0, 11.670967741927598], [1447663920000.0, 11.129032258072401], [1447663980000.0, 10.371428571426076], [1447664040000.0, 9.979922779917251], [1447664100000.0, 10.870870870887302], [1447664160000.0, 14.008547008543973], [1447664220000.0, 12.935897435888181], [1447664280000.0, 9.483333333337214], [1447664340000.0, 8.416666666668606], [1447664400000.0, 7.933333333331393], [1447664460000.0, 7.826086956518702], [1447664520000.0, 7.826086956518702], [1447664580000.0, 7.826086956536164], [1447664640000.0, 4.859576968266628], [1447664700000.0, 2.4324324324319604], [1447664760000.0, 3.229729729722021], [1447664820000.0, 10.384615384612697], [1447664880000.0, 9.299595141713507], [1447664940000.0, 9.46963562752353], [1447665000000.0, 9.146153846156084], [1447665060000.0, 8.985714285710127], [1447665120000.0, 8.571428571426077], [1447665180000.0, 8.571428571443539], [1447665240000.0, 8.344155844155466], [1447665300000.0, 8.181818181811831], [1447665360000.0, 8.464059196610469], [1447665420000.0, 8.438538205978693], [1447665480000.0, 8.4451827242563], [1447665540000.0, 8.511627906979992], [1447780260000.0, 0.009937888209242374], [1447780320000.0, 0.009937888191780075], [1447780380000.0, 0.009937888209242374], [1447780440000.0, 0.009937888191780075], [1447780500000.0, 0.009937888191780075], [1447780560000.0, 0.7783405000925995], [1447780620000.0, 8.69743589743157], [1447780680000.0, 7.7673758865217675], [1447780740000.0, 8.59929078014684], [1447780800000.0, 10.787356321827973], [1447780860000.0, 13.059310344827827], [1447780920000.0, 14.64000000001397], [1447780980000.0, 14.399999999999999], [1447781040000.0, 14.399999999999999], [1447781100000.0, 14.399999999999999], [1447781160000.0, 14.479999999998835], [1447781220000.0, 14.559999999997672], [1447781280000.0, 14.399999999999999], [1447781340000.0, 14.399999999999999], [1447781400000.0, 14.399999999999999], [1447781460000.0, 14.160000000003492], [1447781520000.0, 14.003076923073968], [1447781580000.0, 13.846153846144443], [1447781640000.0, 13.516483516496374], [1447781700000.0, 12.783251231512986], [1447781760000.0, 12.131034482759423], [1447781820000.0, 11.735483870969619], [1447781880000.0, 11.189516129036202], [1447781940000.0, 10.875], [1447782000000.0, 10.588235294114565], [1447782060000.0, 10.07843137254822], [1447782120000.0, 9.964912280713905], [1447782180000.0, 9.473684210510692], [1447782240000.0, 9.279352226725313], [1447782300000.0, 9.005628517828882], [1447782360000.0, 8.726035167323426], [1447782420000.0, 8.372093023255001], [1447782480000.0, 8.372093023255001], [1447782540000.0, 8.232558139547473], [1447782600000.0, 8.270613107818644], [1447782660000.0, 8.334038054966367], [1447782720000.0, 8.4451827242563], [1447782780000.0, 8.438538205978693], [1447782840000.0, 8.327695560251595], [1447782900000.0, 8.276955602533416], [1447782960000.0, 8.359408033825456], [1447783020000.0, 8.181818181811831], [1447783080000.0, 8.295983086695196], [1447783140000.0, 8.34038054968114], [1447783200000.0, 8.264270613103871], [1447783260000.0, 8.372093023255001], [1447783320000.0, 8.23255813953001], [1447821720000.0, 0.015143866738071665], [1447821780000.0, 0.015143866738071665], [1447821840000.0, 0.015143866720609366], [1447821900000.0, 0.015143866738071665], [1447821960000.0, 0.015143866738071665], [1447822020000.0, 0.015143866738071665], [1447822080000.0, 4.20807672892115], [1447822140000.0, 7.560000000003492], [1447822200000.0, 8.039999999996507], [1447822260000.0, 9.847058823524275], [1447822320000.0, 11.939148073032266], [1447822380000.0, 12.827586206886917], [1447822440000.0, 12.657635467982617], [1447822500000.0, 12.79064039408695], [1447822560000.0, 12.073414905450772], [1447822620000.0, 11.377016129036202], [1447822680000.0, 11.040441176475724], [1447822740000.0, 10.313725490192882], [1447822800000.0, 9.927927927923156], [1447822860000.0, 9.405405405408237], [1447822920000.0, 8.926829268294385], [1447822980000.0, 8.78048780488316], [1447823040000.0, 8.201773835916537], [1447823100000.0, 8.003952569165266], [1447823160000.0, 7.703977798344567], [1447823220000.0, 7.38297872339026], [1447823280000.0, 7.400000000005821], [1447823340000.0, 7.273469387751538], [1447823400000.0, 7.346938775520538], [1447823460000.0, 7.339591836731415], [1447823520000.0, 7.199999999999999], [1447823580000.0, 7.256326530600199], [1447823640000.0, 7.4336734694021285], [1447823700000.0, 7.382653061219025], [1447823760000.0, 7.469387755100615], [1447823820000.0, 7.4511506730399555], [1447823880000.0, 7.5718085106345825], [1447823940000.0, 7.619680851063458], [1447824000000.0, 7.7872340425557915], [1447824060000.0, 7.728954671602696], [1447824120000.0, 7.717853839031886], [1447824180000.0, 7.673450508783571], [1447824240000.0, 7.826086956536164], [1447824300000.0, 7.734505087870638], [1447824360000.0, 7.7872340425557915], [1447824420000.0, 6.123809523816453], [1447824480000.0, 0.571428571420256], [1447824540000.0, 0.5714285714377183], [1447824600000.0, 0.571428571420256], [1447824660000.0, 0.5714285714377183], [1447824720000.0, 0.571428571420256], [1447824780000.0, 0.571428571420256], [1447943820000.0, 0.013517572829732672], [1447943880000.0, 0.013517572847194969], [1447943940000.0, 0.013517572847194969], [1447944000000.0, 0.013517572847194969], [1447944060000.0, 0.013517572847194969], [1447944120000.0, 1.6779313107021152], [1447944180000.0, 8.673758865252603], [1447944240000.0, 7.082651391159743], [1447944300000.0, 7.4769230769190465], [1447944360000.0, 9.433333333331392], [1447944420000.0, 11.738095238094683], [1447944480000.0, 14.16857142857043], [1447944540000.0, 14.160000000003492], [1447944600000.0, 14.399999999999999], [1447944660000.0, 14.399999999999999], [1447944720000.0, 14.399999999999999], [1447944780000.0, 14.169230769225395], [1447944840000.0, 14.307692307693651], [1447944900000.0, 13.846153846161906], [1447944960000.0, 13.846153846144443], [1447945020000.0, 13.087912087922449], [1447945080000.0, 12.742857142846333], [1447945140000.0, 12.0], [1447945200000.0, 11.52500000000582], [1447945260000.0, 11.056818181823473], [1447945320000.0, 10.618181818176526], [1447945380000.0, 10.2], [1447945440000.0, 9.631578947376692], [1447945500000.0, 9.368421052617487], [1447945560000.0, 9.20000000000582], [1447945620000.0, 8.897560975601664], [1447945680000.0, 8.60011344300583], [1447945740000.0, 8.372093023255001], [1447945800000.0, 8.248414376325671], [1447945860000.0, 8.015151515143225], [1447945920000.0, 7.858156028366647], [1447945980000.0, 7.6595744680962525], [1447946040000.0, 7.51628310898086], [1447946100000.0, 7.346938775503077], [1447946160000.0, 7.226890756306238], [1447946220000.0, 7.05882352940971], [1447946280000.0, 7.05882352940971], [1447946340000.0, 6.94117647059611], [1447946400000.0, 7.038461538468255], [1447946460000.0, 6.9615384615375655], [1447946520000.0, 7.05882352940971], [1447946580000.0, 7.141176470584469], [1447946640000.0, 7.199999999999999], [1447946700000.0, 7.199999999999999], [1447946760000.0, 7.236734693875769], [1447946820000.0, 7.222088835539761], [1447946880000.0, 7.141176470584469], [1447997280000.0, 0.013609042443567887], [1447997340000.0, 0.013609042461030185], [1447997400000.0, 0.013609042443567887], [1447997460000.0, 0.013609042461030185], [1447997520000.0, 0.013609042443567887], [1447997580000.0, 0.013609042461030185], [1447997640000.0, 6.135197947465349], [1447997700000.0, 7.706299911264796], [1447997760000.0, 7.629931972792837], [1447997820000.0, 8.886274509807118], [1447997880000.0, 11.247058823530097], [1447997940000.0, 13.35999999999767], [1447998000000.0, 14.039999999996507], [1447998060000.0, 14.279999999993015], [1447998120000.0, 14.104615384619683], [1447998180000.0, 13.846153846161906], [1447998240000.0, 13.658119658112991], [1447998300000.0, 13.111111111112404], [1447998360000.0, 12.620689655165188], [1447998420000.0, 11.959955506125697], [1447998480000.0, 11.606854838709113], [1447998540000.0, 10.93014705881942], [1447998600000.0, 10.653781512606656], [1447998660000.0, 10.228571428579743], [1447998720000.0, 9.837837837834376], [1447998780000.0, 9.477951635839418], [1447998840000.0, 9.284210526320384], [1447998900000.0, 8.912195121956756], [1447998960000.0, 8.487804878043244], [1447999020000.0, 8.372093023255001], [1447999080000.0, 8.264270613103871], [1447999140000.0, 7.8853754940675564], [1447999200000.0, 7.7761332100024445], [1447999260000.0, 7.65957446807879], [1447999320000.0, 7.6595744680962525], [1447999380000.0, 7.531914893601788], [1447999440000.0, 7.720629047183319], [1447999500000.0, 7.630434782610973], [1447999560000.0, 7.755319148936541], [1447999620000.0, 7.619680851063458], [1447999680000.0, 7.5], [1447999740000.0, 7.603723404253833], [1447999800000.0, 7.53191489361925], [1447999860000.0, 7.614361702121095], [1447999920000.0, 7.657608695654198], [1447999980000.0, 7.706753006478539], [1448000040000.0, 7.814986123965355], [1448000100000.0, 7.8956521739135495], [1448000160000.0, 7.886956521734827], [1448000220000.0, 7.956521739129675], [1448000280000.0, 7.889855072455248], [1448000340000.0, 7.89275362319313], [1448084220000.0, 0.01316896512871608], [1448084280000.0, 0.01316896514617838], [1448084340000.0, 0.01316896514617838], [1448084400000.0, 0.01316896512871608], [1448084460000.0, 0.01316896514617838], [1448084520000.0, 6.904389655042905], [1448084580000.0, 8.419148936175043], [1448084640000.0, 7.999032882013125], [1448084700000.0, 9.681818181811831], [1448084760000.0, 11.888888888881775], [1448084820000.0, 14.151111111114732], [1448084880000.0, 14.399999999999999], [1448084940000.0, 14.399999999999999], [1448085000000.0, 14.399999999999999], [1448085060000.0, 14.399999999999999], [1448085120000.0, 14.610000000003492], [1448085180000.0, 14.429999999993015], [1448085240000.0, 14.399999999999999], [1448085300000.0, 14.399999999999999], [1448085360000.0, 14.399999999999999], [1448085420000.0, 14.399999999999999], [1448085480000.0, 14.399999999999999], [1448085540000.0, 14.399999999999999], [1448085600000.0, 14.399999999999999], [1448085660000.0, 14.399999999999999], [1448085720000.0, 14.399999999999999], [1448085780000.0, 14.335384615394286], [1448085840000.0, 14.076923076919046], [1448085900000.0, 13.846153846161906], [1448085960000.0, 13.794871794863138], [1448086020000.0, 13.333333333331392], [1448086080000.0, 13.19047619048506], [1448086140000.0, 12.694581280782586], [1448086200000.0, 12.448275862075388], [1448086260000.0, 12.199999999988359], [1448086320000.0, 11.83225806451519], [1448086380000.0, 10.96774193548481], [1448086440000.0, 10.82352941177669], [1448086500000.0, 10.37647058822913], [1448086560000.0, 10.133333333325572], [1448086620000.0, 9.909909909922861], [1448086680000.0, 9.704125177807873], [1448086740000.0, 9.473684210528154], [1448086800000.0, 9.315789473679615], [1448086860000.0, 9.213157894735923], [1448086920000.0, 9.15], [1448086980000.0, 9.0], [1448087040000.0, 8.948780487809563], [1448087100000.0, 8.780487804865697], [1448087160000.0, 8.742160278756637], [1448087220000.0, 8.571428571426077], [1448087280000.0, 8.571428571426077], [1448182320000.0, 0.7860262008500285], [1448182380000.0, 0.7860262008849531], [1448182440000.0, 0.7860262008849531], [1448182500000.0, 0.7860262008500285], [1448182560000.0, 0.7860262008849531], [1448182620000.0, 0.7860262008849531], [1448182680000.0, 9.241167129809037], [1448182740000.0, 7.639146567718125], [1448182800000.0, 8.391156462568324], [1448182860000.0, 10.833333333337213], [1448182920000.0, 13.384615384612697], [1448182980000.0, 14.07692307693651], [1448183040000.0, 14.076923076901585], [1448183100000.0, 14.141538461542222], [1448183160000.0, 14.160000000020954], [1448183220000.0, 14.159999999986029], [1448183280000.0, 14.07692307693651], [1448183340000.0, 14.076923076901585], [1448183400000.0, 14.307692307711113], [1448183460000.0, 14.076923076901585], [1448183520000.0, 14.021538461535238], [1448183580000.0, 14.13230769233778], [1448183640000.0, 14.076923076901585], [1448183700000.0, 14.07692307693651], [1448183760000.0, 14.076923076901585], [1448183820000.0, 13.956923076929524], [1448183880000.0, 13.96615384616889], [1448183940000.0, 14.076923076901585], [1448184000000.0, 14.07692307693651], [1448184060000.0, 14.07692307693651], [1448184120000.0, 13.6153846153873], [1448184180000.0, 13.846153846126981], [1448184240000.0, 13.318681318697054], [1448184300000.0, 12.694581280800048], [1448184360000.0, 12.59113300490426], [1448184420000.0, 12.057142857159487], [1448184480000.0, 11.832258064497728], [1448184540000.0, 11.467741935490631], [1448184600000.0, 11.25], [1448184660000.0, 10.897058823541737], [1448184720000.0, 10.552941176458262], [1448184780000.0, 10.285714285704307], [1448184840000.0, 9.83007518799277], [1448184900000.0, 9.284210526302923], [1448184960000.0, 9.09230769232381], [1448185020000.0, 8.907692307676188], [1448185080000.0, 8.82857142855646], [1448185140000.0, 8.714285714307334], [1448185200000.0, 8.571428571408614], [1448185260000.0, 8.571428571443539], [1448185320000.0, 8.571428571443539], [1448185380000.0, 8.468438538175542], [1448289840000.0, 0.0890868596965447], [1448289900000.0, 0.0890868596965447], [1448289960000.0, 0.0890868596965447], [1448290020000.0, 0.08908685966162011], [1448290080000.0, 0.0890868596965447], [1448290140000.0, 0.0890868596965447], [1448290200000.0, 8.279999999993015], [1448290260000.0, 6.942222222243435], [1448290320000.0, 7.550505050481297], [1448290380000.0, 10.039772727282251], [1448290440000.0, 12.418269230774603], [1448290500000.0, 13.846153846161906], [1448290560000.0, 14.12307692306349], [1448290620000.0, 14.159999999986029], [1448290680000.0, 14.178461538464761], [1448290740000.0, 14.141538461542222], [1448290800000.0, 14.160000000020954], [1448290860000.0, 14.159999999986029], [1448290920000.0, 14.159999999986029], [1448290980000.0, 14.224615384626668], [1448291040000.0, 14.095384615380317], [1448291100000.0, 14.058461538457777], [1448291160000.0, 13.683760683762374], [1448291220000.0, 13.55555555555038], [1448291280000.0, 13.079365079384297], [1448291340000.0, 12.798029556660913], [1448291400000.0, 12.413793103443458], [1448291460000.0, 12.331034482747782], [1448291520000.0, 11.729032258072403], [1448291580000.0, 11.419354838691651], [1448291640000.0, 11.178885630494914], [1448291700000.0, 10.909090909094084], [1448291760000.0, 10.477922077942639], [1448291820000.0, 10.155984555976465], [1448291880000.0, 9.571834992896765], [1448291940000.0, 9.157894736831077], [1448292000000.0, 9.0], [1448292060000.0, 8.571428571443539], [1448292120000.0, 8.451827242516446], [1448292180000.0, 8.340380549663678], [1448292240000.0, 8.10303030302748], [1448292300000.0, 8.000000000023283], [1448292360000.0, 7.837681159400381], [1448292420000.0, 7.759481961163692], [1448292480000.0, 7.6595744680962525], [1448292540000.0, 7.531914893584325], [1448292600000.0, 7.581415544974152], [1448292660000.0, 7.283265306113753], [1448292720000.0, 7.033846153831109], [1448292780000.0, 6.923076923098415], [1448292840000.0, 6.809869375883136], [1448292900000.0, 6.70144284130074], [1448428380000.0, 0.0141027147998102], [1448428440000.0, 0.014102714764885603], [1448428500000.0, 0.014102714764885603], [1448428560000.0, 0.014102714764885603], [1448428620000.0, 0.014102714764885603], [1448428680000.0, 4.256111176405102], [1448428740000.0, 7.622340425534639], [1448428800000.0, 9.384802431624848], [1448428860000.0, 11.22561576354783], [1448428920000.0, 13.597241379297339], [1448428980000.0, 14.150769230781588], [1448429040000.0, 14.076923076901585], [1448429100000.0, 14.012307692330795], [1448429160000.0, 13.920000000006985], [1448429220000.0, 14.399999999999999], [1448429280000.0, 14.206153846147936], [1448429340000.0, 14.353846153838093], [1448429400000.0, 14.399999999999999], [1448429460000.0, 14.64000000001397], [1448429520000.0, 14.399999999999999], [1448429580000.0, 14.159999999986029], [1448429640000.0, 14.399999999999999], [1448429700000.0, 14.399999999999999], [1448429760000.0, 14.169230769225395], [1448429820000.0, 14.307692307711113], [1448429880000.0, 14.243076923070475], [1448429940000.0, 14.159999999986029], [1448430000000.0, 14.058461538457777], [1448430060000.0, 14.07692307693651], [1448430120000.0, 13.6153846153873], [1448430180000.0, 13.6153846153873], [1448430240000.0, 13.264957264938857], [1448430300000.0, 13.111111111112404], [1448430360000.0, 12.536398467456456], [1448430420000.0, 12.441379310342016], [1448430480000.0, 12.199999999988359], [1448430540000.0, 11.800000000011641], [1448430600000.0, 11.487499999988358], [1448430660000.0, 10.841911764722317], [1448430720000.0, 10.527731092425528], [1448430780000.0, 10.276190476189367], [1448430840000.0, 9.882882882887497], [1448430900000.0, 9.729729729727842], [1448430960000.0, 9.580369843519293], [1448431020000.0, 9.473684210528154], [1448431080000.0, 9.153846153861377], [1448431140000.0, 9.230769230739678], [1448431200000.0, 9.215384615398943], [1448431260000.0, 9.0], [1448431320000.0, 8.83902439023368], [1448431380000.0, 8.78048780488316], [1448431440000.0, 8.501418037433178], [1448513580000.0, 0.014764990552794188], [1448513640000.0, 0.014764990552794188], [1448513700000.0, 0.014764990587718784], [1448513760000.0, 0.014764990552794188], [1448513820000.0, 0.014764990587718784], [1448513880000.0, 4.2943271968513725], [1448513940000.0, 7.853820598020683], [1448514000000.0, 8.779384035186377], [1448514060000.0, 10.48108108107699], [1448514120000.0, 12.90769230768783], [1448514180000.0, 14.252307692309842], [1448514240000.0, 14.160000000020954], [1448514300000.0, 14.399999999999999], [1448514360000.0, 14.159999999986029], [1448514420000.0, 14.160000000020954], [1448514480000.0, 14.159999999986029], [1448514540000.0, 14.169230769225395], [1448514600000.0, 14.150769230781588], [1448514660000.0, 14.23384615383111], [1448514720000.0, 14.086153846175876], [1448514780000.0, 14.298461538436822], [1448514840000.0, 14.07692307693651], [1448514900000.0, 14.104615384619683], [1448514960000.0, 14.049230769218411], [1448515020000.0, 14.07692307693651], [1448515080000.0, 14.076923076901585], [1448515140000.0, 14.07692307693651], [1448515200000.0, 14.04000000001397], [1448515260000.0, 13.88307692304952], [1448515320000.0, 13.521367521397769], [1448515380000.0, 13.111111111077479], [1448515440000.0, 12.7892720306525], [1448515500000.0, 12.620689655200112], [1448515560000.0, 12.234482758620288], [1448515620000.0, 11.832258064497728], [1448515680000.0, 11.806451612908859], [1448515740000.0, 11.286290322581772], [1448515800000.0, 11.25], [1448515860000.0, 10.919117647048552], [1448515920000.0, 10.764705882361158], [1448515980000.0, 10.588235294132028], [1448516040000.0, 10.295798319310416], [1448516100000.0, 10.285714285704307], [1448516160000.0, 10.104761904780753], [1448516220000.0, 10.00000000001164], [1448516280000.0, 9.774774774746037], [1448516340000.0, 9.729729729727842], [1448516400000.0, 9.477951635874343], [1448516460000.0, 9.434210526302921], [1448516520000.0, 9.0], [1448516580000.0, 8.821428571420256], [1448516640000.0, 8.498338870424776], [1448631420000.0, 0.021789129625540225], [1448631480000.0, 0.021789129660464823], [1448631540000.0, 0.021789129625540225], [1448631600000.0, 0.021789129660464823], [1448631660000.0, 0.021789129625540225], [1448631720000.0, 0.021789129660464823], [1448631780000.0, 4.054009673511609], [1448631840000.0, 7.250639386195689], [1448631900000.0, 6.984952120401431], [1448631960000.0, 8.887596899201162], [1448632020000.0, 10.708333333348856], [1448632080000.0, 11.479838709672913], [1448632140000.0, 11.612903225817718], [1448632200000.0, 11.594758064509369], [1448632260000.0, 11.4375], [1448632320000.0, 10.909090909094084], [1448632380000.0, 10.690909090905915], [1448632440000.0, 10.021621621632947], [1448632500000.0, 9.729729729727842], [1448632560000.0, 9.136453526699915], [1448632620000.0, 8.655052264791447], [1448632680000.0, 8.457142857159488], [1448632740000.0, 7.999999999988358], [1448632800000.0, 7.6499999999999995], [1448632860000.0, 7.455882352951448], [1448632920000.0, 7.024886877823155], [1448632980000.0, 6.87300435412908], [1448633040000.0, 6.72955974843353], [1448633100000.0, 6.593939393945038], [1448633160000.0, 6.545454545435495], [1448633220000.0, 6.638383838406298], [1448633280000.0, 6.666666666639503], [1448633340000.0, 6.666666666674428], [1448633400000.0, 6.646464646467939], [1448633460000.0, 6.575757575745229], [1448633520000.0, 6.666666666674428], [1448633580000.0, 6.666666666674428], [1448633640000.0, 6.735849056602455], [1448633700000.0, 6.792452830192633], [1448633760000.0, 6.792452830192633], [1448633820000.0, 6.679245283012278], [1448633880000.0, 6.792452830192633], [1448633940000.0, 6.792452830192633], [1448634000000.0, 6.7484276729403065], [1448634060000.0, 6.723270440264605], [1448634120000.0, 6.721174004185014], [1448634180000.0, 6.7505241090198975], [1448634240000.0, 6.693920335429721], [1448634300000.0, 6.77777777777519], [1448634360000.0, 0.34917555770371106], [1448634420000.0, 0.34917555770371106], [1448634480000.0, 0.3491755577386357], [1448647020000.0, 7.999999999988358], [1448647080000.0, 7.999999999988358], [1448647140000.0, 8.009090909105725], [1448647200000.0, 6.345875978318508], [1448647260000.0, 2.3841059602797032], [1448647320000.0, 2.3841059602447783], [1448647380000.0, 9.267518866492901], [1448647440000.0, 9.051407588738948], [1448647500000.0, 11.157894736819435], [1448647560000.0, 13.222222222248092], [1448647620000.0, 13.39316239315085], [1448647680000.0, 13.71794871794991], [1448647740000.0, 13.974358974338974], [1448647800000.0, 13.846153846161906], [1448647860000.0, 13.735042735061143], [1448647920000.0, 13.726495726488064], [1448647980000.0, 13.60683760684915], [1448648040000.0, 13.33333333331393], [1448648100000.0, 13.333333333348856], [1448648160000.0, 13.111111111112404], [1448648220000.0, 12.928571428544819], [1448648280000.0, 12.65763546800008], [1448648340000.0, 12.413793103443458], [1448648400000.0, 12.40000000001164], [1448648460000.0, 12.0], [1448648520000.0, 12.0], [1448648580000.0, 11.793548387079499], [1448648640000.0, 11.612903225817718], [1448648700000.0, 11.612903225817718], [1448648760000.0, 11.419354838691651], [1448648820000.0, 11.098790322581772], [1448648880000.0, 11.153409090894273], [1448648940000.0, 10.909090909094084], [1448649000000.0, 10.88235294119222], [1448649060000.0, 10.431932773115113], [1448649120000.0, 9.92895752893528], [1448649180000.0, 9.704125177825334], [1448649240000.0, 9.360323886643164], [1448649300000.0, 9.230769230774603], [1448649360000.0, 9.111538461525925], [1448649420000.0, 8.95975609755842], [1448649480000.0, 8.78048780488316], [1448649540000.0, 8.609756097570061], [1448649600000.0, 8.409090909082442], [1448649660000.0, 8.311839323455933], [1448649720000.0, 8.324524312920403], [1448649780000.0, 8.181818181811831], [1448649840000.0, 8.039393939380533], [1448649900000.0, 7.950724637671374], [1448649960000.0, 7.826086956518702], [1448650020000.0, 7.826086956553627], [1448650080000.0, 7.755434782581869]], \"display\": true, \"name\": \"212ce724e124fbde0fb649396375d099\"}]\n",
       "        var options = {};\n",
       "        var options = {\"width\": \"auto\", \"scale\": 2, \"type\": \"line\", \"chart\": {\"type\": \"line\"}, \"height\": 400}\n",
       "        var useHighStock = false;\n",
       "        var useHighStock = true\n",
       "        var save = 'app/chart.svg';\n",
       "        var save = false\n",
       "        var url = 'http://127.0.0.1:65079';\n",
       "        var url = \"http://127.0.0.1:41466/\"\n",
       "        var settingsFile = 'settings';\n",
       "        var settingsFile = \"settings\"\n",
       "        var scale = options.scale;\n",
       "\n",
       "        //Create different containers for the charts\n",
       "        var chartContainer = document.getElementById(\"chart-container\");\n",
       "        chartContainer.id = \"chart-container\" + id;\n",
       "        chartContainer.style.height = options.height.toString() + 'px';\n",
       "\n",
       "        if (options.width != 'auto') {\n",
       "            chartContainer.style.width = options.width.toString() + 'px';\n",
       "        }\n",
       "\n",
       "        var selector = $(\"#variable-selector\");\n",
       "        selector.attr('id', \"variable-selector\" + id);\n",
       "\n",
       "        var settings = $(\"#settings-collapse\");\n",
       "        settings.attr('id', \"settings-collapse\" + id);\n",
       "\n",
       "        var button = $(\"#settings-button\");\n",
       "        button.attr('id', \"settings-button\" + id);\n",
       "\n",
       "        var saveButton = $(\"#save-settings\");\n",
       "        saveButton.attr('id', \"save-settings\" + id);\n",
       "\n",
       "        var optionsInput = $(\"#options-input\");\n",
       "        optionsInput.attr('id', \"options-input\" + id);\n",
       "        optionsInput.val(settingsFile);\n",
       "\n",
       "        var optionsButton = $(\"#options-button\");\n",
       "        optionsButton.attr('id', \"options-button\" + id);\n",
       "\n",
       "        // create the editor\n",
       "        var editorContainer = document.getElementById(\"jsoneditor\");\n",
       "        editorContainer.id = \"jsoneditor\" + id;\n",
       "        var editor = new JSONEditor(editorContainer);\n",
       "\n",
       "        button.on('click', showSettings);\n",
       "        saveButton.on('click', applyOptions);\n",
       "        optionsButton.on('click', saveOptions);\n",
       "\n",
       "        function applyOptions() {\n",
       "            var newOptions = editor.get();\n",
       "            setOptions(newOptions);\n",
       "            settings.collapse('hide');\n",
       "        }\n",
       "\n",
       "        function saveOptions(event) {\n",
       "            event.preventDefault();\n",
       "\n",
       "            applyOptions();\n",
       "\n",
       "            var options = chart.options;\n",
       "            delete options.exporting;\n",
       "\n",
       "            var name = optionsInput.val() ? optionsInput.val() + '.json' : 'settings.json';\n",
       "\n",
       "            options['settingsFile'] = name;\n",
       "\n",
       "            $.ajax({\n",
       "                type: \"POST\",\n",
       "                url: url,\n",
       "                data: JSON.stringify({\n",
       "                    options: options,\n",
       "                    name: name\n",
       "                })\n",
       "            });\n",
       "        }\n",
       "\n",
       "        function showSettings() {\n",
       "            settings.collapse('toggle');\n",
       "        }\n",
       "\n",
       "        //Choose a chart type\n",
       "        var ChartType = useHighStock ? Highcharts.StockChart : Highcharts.Chart;\n",
       "\n",
       "        //Default highchart colors\n",
       "        var colors = ['#7cb5ec', '#434348', '#90ed7d', '#f7a35c', '#8085e9',\n",
       "            '#f15c80', '#e4d354', '#2b908f', '#f45b5b', '#91e8e1'];\n",
       "\n",
       "        series.map(function (serie, index) {\n",
       "            if (!serie.color) {\n",
       "                serie['color'] = colors[index % 10];\n",
       "            }\n",
       "\n",
       "            return serie;\n",
       "        });\n",
       "\n",
       "        //Get all the keys\n",
       "        var keys = [];\n",
       "        var initialKeys = [];\n",
       "        $.each(series, function (index, serie) {\n",
       "            keys.push({\n",
       "                display: serie.display,\n",
       "                value: serie.name,\n",
       "                text: serie.name\n",
       "            });\n",
       "\n",
       "            if (serie.display) {\n",
       "                initialKeys.push(serie.name)\n",
       "            }\n",
       "        });\n",
       "\n",
       "        selector.selectize({\n",
       "            plugins: ['remove_button', 'restore_on_backspace'],\n",
       "            delimiter: ',',\n",
       "            options: keys,\n",
       "            items: initialKeys,\n",
       "            onItemAdd: function (key) {\n",
       "                console.log('series added');\n",
       "                addSeries(key);\n",
       "                newChart(chart.options, renderedSeries);\n",
       "            },\n",
       "            onItemRemove: function (key) {\n",
       "                console.log('series removed');\n",
       "                deleteSeries(key);\n",
       "                newChart(chart.options, renderedSeries);\n",
       "            }\n",
       "        });\n",
       "\n",
       "        //Set initial chart options\n",
       "        var chartOptions;\n",
       "        if (typeof options.chart === \"undefined\") {\n",
       "            chartOptions = {renderTo: chartContainer.id};\n",
       "        } else {\n",
       "            chartOptions = $.extend(options[\"chart\"], {renderTo: chartContainer.id});\n",
       "        }\n",
       "\n",
       "        //Initial rendered series\n",
       "        var renderedSeries = [];\n",
       "        options = $.extend(options, {chart: chartOptions}, {series: renderedSeries});\n",
       "        var chart = new ChartType(options);\n",
       "\n",
       "        $.each(initialKeys, function (index, key) {\n",
       "            addSeries(key);\n",
       "        });\n",
       "\n",
       "        newChart(chart.options, renderedSeries);\n",
       "        editor.set(chart.options);\n",
       "\n",
       "        if (save) {\n",
       "            saveSVG(url, save)\n",
       "        }\n",
       "\n",
       "        function setOptions(options) {\n",
       "            //Prevent export from breaking\n",
       "            delete options.exporting;\n",
       "            options['exporting'] = {scale: options.scale};\n",
       "\n",
       "            chartContainer.style.height = options.height.toString() + 'px';\n",
       "\n",
       "            if (options.width != 'auto') {\n",
       "                chartContainer.style.width = options.width.toString() + 'px';\n",
       "            }\n",
       "\n",
       "            newChart(options, renderedSeries);\n",
       "\n",
       "        }\n",
       "\n",
       "        function findSeries(series, key) {\n",
       "            return series.findIndex(function (obj) {\n",
       "                return obj.name == key;\n",
       "            })\n",
       "        }\n",
       "\n",
       "        function newChart(options, series) {\n",
       "            //Disable animation\n",
       "            var newOptions = $.extend(options, {series: series});\n",
       "            newOptions.plotOptions['series'] = {animation: false};\n",
       "\n",
       "            //Get zoom\n",
       "            var xExtremes = chart.xAxis[0].getExtremes();\n",
       "\n",
       "            //Re-plot the chart\n",
       "            chart.destroy();\n",
       "            chart = new ChartType(newOptions);\n",
       "\n",
       "            //Reset the zoom\n",
       "            chart.xAxis[0].setExtremes(xExtremes.min, xExtremes.max, false, false);\n",
       "\n",
       "            //Re-draw chart\n",
       "            chart.redraw();\n",
       "        }\n",
       "\n",
       "        function addSeries(key) {\n",
       "            var index = findSeries(series, key);\n",
       "            var newSeries = series[index];\n",
       "            renderedSeries.push(newSeries)\n",
       "        }\n",
       "\n",
       "        function deleteSeries(key) {\n",
       "            var index = findSeries(renderedSeries, key);\n",
       "            renderedSeries.splice(index, 1)\n",
       "        }\n",
       "\n",
       "        function saveSVG(url, name) {\n",
       "            $.ajax({\n",
       "                type: \"POST\",\n",
       "                url: url,\n",
       "                data: JSON.stringify({\n",
       "                    svg: chart.getSVG(),\n",
       "                    name: name\n",
       "                })\n",
       "            });\n",
       "        }\n",
       "\n",
       "        console.log('loaded!', Date());\n",
       "    }\n",
       "\n",
       "});\n",
       "\n",
       "},{}]},{},[1]);\n",
       "</script>\n",
       "\n"
      ],
      "text/plain": [
       "<IPython.core.display.HTML object>"
      ]
     },
     "execution_count": 120,
     "metadata": {},
     "output_type": "execute_result"
    }
   ],
   "source": [
    "df_threshold=df_threshold.sort_values(['startTimeStamp'])\n",
    "create_graph_from(df_threshold)"
   ]
  },
  {
   "cell_type": "markdown",
   "metadata": {
    "collapsed": true
   },
   "source": [
    "<h2> Pickle use </h2>"
   ]
  },
  {
   "cell_type": "code",
   "execution_count": 116,
   "metadata": {
    "collapsed": true
   },
   "outputs": [],
   "source": [
    "import pickle"
   ]
  },
  {
   "cell_type": "code",
   "execution_count": 127,
   "metadata": {
    "collapsed": false
   },
   "outputs": [],
   "source": [
    "pickle_out = open(\"df_threshold.pickle\", \"wb\")\n",
    "pickle.dump(df_threshold, pickle_out)"
   ]
  },
  {
   "cell_type": "code",
   "execution_count": 128,
   "metadata": {
    "collapsed": false
   },
   "outputs": [],
   "source": [
    "pickle_in = open(\"df_threshold.pickle\", \"rb\")\n",
    "example = pickle.load(pickle_in)"
   ]
  },
  {
   "cell_type": "code",
   "execution_count": 130,
   "metadata": {
    "collapsed": false,
    "scrolled": true
   },
   "outputs": [
    {
     "data": {
      "text/html": [
       "<div>\n",
       "<table border=\"1\" class=\"dataframe\">\n",
       "  <thead>\n",
       "    <tr style=\"text-align: right;\">\n",
       "      <th></th>\n",
       "      <th>Manhattan</th>\n",
       "      <th>startTimeStamp</th>\n",
       "      <th>stopTimeStamp</th>\n",
       "    </tr>\n",
       "  </thead>\n",
       "  <tbody>\n",
       "    <tr>\n",
       "      <th>14</th>\n",
       "      <td>64.541744</td>\n",
       "      <td>2015-11-12 09:57:00+00:00</td>\n",
       "      <td>2015-11-12 10:48:00+00:00</td>\n",
       "    </tr>\n",
       "    <tr>\n",
       "      <th>16</th>\n",
       "      <td>108.904708</td>\n",
       "      <td>2015-11-12 19:14:00+00:00</td>\n",
       "      <td>2015-11-12 20:05:00+00:00</td>\n",
       "    </tr>\n",
       "    <tr>\n",
       "      <th>21</th>\n",
       "      <td>0.000000</td>\n",
       "      <td>2015-11-13 16:25:00+00:00</td>\n",
       "      <td>2015-11-13 17:16:00+00:00</td>\n",
       "    </tr>\n",
       "    <tr>\n",
       "      <th>26</th>\n",
       "      <td>51.040555</td>\n",
       "      <td>2015-11-14 06:04:00+00:00</td>\n",
       "      <td>2015-11-14 06:55:00+00:00</td>\n",
       "    </tr>\n",
       "    <tr>\n",
       "      <th>27</th>\n",
       "      <td>55.597896</td>\n",
       "      <td>2015-11-14 14:13:00+00:00</td>\n",
       "      <td>2015-11-14 15:04:00+00:00</td>\n",
       "    </tr>\n",
       "    <tr>\n",
       "      <th>32</th>\n",
       "      <td>103.841869</td>\n",
       "      <td>2015-11-15 05:47:00+00:00</td>\n",
       "      <td>2015-11-15 06:38:00+00:00</td>\n",
       "    </tr>\n",
       "    <tr>\n",
       "      <th>33</th>\n",
       "      <td>93.254822</td>\n",
       "      <td>2015-11-15 06:49:00+00:00</td>\n",
       "      <td>2015-11-15 07:40:00+00:00</td>\n",
       "    </tr>\n",
       "    <tr>\n",
       "      <th>35</th>\n",
       "      <td>70.112119</td>\n",
       "      <td>2015-11-15 16:07:00+00:00</td>\n",
       "      <td>2015-11-15 16:58:00+00:00</td>\n",
       "    </tr>\n",
       "    <tr>\n",
       "      <th>41</th>\n",
       "      <td>71.200876</td>\n",
       "      <td>2015-11-16 08:28:00+00:00</td>\n",
       "      <td>2015-11-16 09:19:00+00:00</td>\n",
       "    </tr>\n",
       "    <tr>\n",
       "      <th>50</th>\n",
       "      <td>52.612096</td>\n",
       "      <td>2015-11-17 17:11:00+00:00</td>\n",
       "      <td>2015-11-17 18:02:00+00:00</td>\n",
       "    </tr>\n",
       "    <tr>\n",
       "      <th>54</th>\n",
       "      <td>112.733532</td>\n",
       "      <td>2015-11-18 04:42:00+00:00</td>\n",
       "      <td>2015-11-18 05:33:00+00:00</td>\n",
       "    </tr>\n",
       "    <tr>\n",
       "      <th>65</th>\n",
       "      <td>60.481144</td>\n",
       "      <td>2015-11-19 14:37:00+00:00</td>\n",
       "      <td>2015-11-19 15:28:00+00:00</td>\n",
       "    </tr>\n",
       "    <tr>\n",
       "      <th>70</th>\n",
       "      <td>71.506689</td>\n",
       "      <td>2015-11-20 05:28:00+00:00</td>\n",
       "      <td>2015-11-20 06:19:00+00:00</td>\n",
       "    </tr>\n",
       "    <tr>\n",
       "      <th>76</th>\n",
       "      <td>103.609563</td>\n",
       "      <td>2015-11-21 05:37:00+00:00</td>\n",
       "      <td>2015-11-21 06:28:00+00:00</td>\n",
       "    </tr>\n",
       "    <tr>\n",
       "      <th>87</th>\n",
       "      <td>105.495579</td>\n",
       "      <td>2015-11-22 08:52:00+00:00</td>\n",
       "      <td>2015-11-22 09:43:00+00:00</td>\n",
       "    </tr>\n",
       "    <tr>\n",
       "      <th>103</th>\n",
       "      <td>65.961733</td>\n",
       "      <td>2015-11-23 14:44:00+00:00</td>\n",
       "      <td>2015-11-23 15:35:00+00:00</td>\n",
       "    </tr>\n",
       "    <tr>\n",
       "      <th>117</th>\n",
       "      <td>112.239325</td>\n",
       "      <td>2015-11-25 05:13:00+00:00</td>\n",
       "      <td>2015-11-25 06:04:00+00:00</td>\n",
       "    </tr>\n",
       "    <tr>\n",
       "      <th>133</th>\n",
       "      <td>108.281784</td>\n",
       "      <td>2015-11-26 04:53:00+00:00</td>\n",
       "      <td>2015-11-26 05:44:00+00:00</td>\n",
       "    </tr>\n",
       "    <tr>\n",
       "      <th>142</th>\n",
       "      <td>120.164038</td>\n",
       "      <td>2015-11-27 13:37:00+00:00</td>\n",
       "      <td>2015-11-27 14:28:00+00:00</td>\n",
       "    </tr>\n",
       "    <tr>\n",
       "      <th>144</th>\n",
       "      <td>90.506742</td>\n",
       "      <td>2015-11-27 17:57:00+00:00</td>\n",
       "      <td>2015-11-27 18:48:00+00:00</td>\n",
       "    </tr>\n",
       "  </tbody>\n",
       "</table>\n",
       "</div>"
      ],
      "text/plain": [
       "      Manhattan            startTimeStamp             stopTimeStamp\n",
       "14    64.541744 2015-11-12 09:57:00+00:00 2015-11-12 10:48:00+00:00\n",
       "16   108.904708 2015-11-12 19:14:00+00:00 2015-11-12 20:05:00+00:00\n",
       "21     0.000000 2015-11-13 16:25:00+00:00 2015-11-13 17:16:00+00:00\n",
       "26    51.040555 2015-11-14 06:04:00+00:00 2015-11-14 06:55:00+00:00\n",
       "27    55.597896 2015-11-14 14:13:00+00:00 2015-11-14 15:04:00+00:00\n",
       "32   103.841869 2015-11-15 05:47:00+00:00 2015-11-15 06:38:00+00:00\n",
       "33    93.254822 2015-11-15 06:49:00+00:00 2015-11-15 07:40:00+00:00\n",
       "35    70.112119 2015-11-15 16:07:00+00:00 2015-11-15 16:58:00+00:00\n",
       "41    71.200876 2015-11-16 08:28:00+00:00 2015-11-16 09:19:00+00:00\n",
       "50    52.612096 2015-11-17 17:11:00+00:00 2015-11-17 18:02:00+00:00\n",
       "54   112.733532 2015-11-18 04:42:00+00:00 2015-11-18 05:33:00+00:00\n",
       "65    60.481144 2015-11-19 14:37:00+00:00 2015-11-19 15:28:00+00:00\n",
       "70    71.506689 2015-11-20 05:28:00+00:00 2015-11-20 06:19:00+00:00\n",
       "76   103.609563 2015-11-21 05:37:00+00:00 2015-11-21 06:28:00+00:00\n",
       "87   105.495579 2015-11-22 08:52:00+00:00 2015-11-22 09:43:00+00:00\n",
       "103   65.961733 2015-11-23 14:44:00+00:00 2015-11-23 15:35:00+00:00\n",
       "117  112.239325 2015-11-25 05:13:00+00:00 2015-11-25 06:04:00+00:00\n",
       "133  108.281784 2015-11-26 04:53:00+00:00 2015-11-26 05:44:00+00:00\n",
       "142  120.164038 2015-11-27 13:37:00+00:00 2015-11-27 14:28:00+00:00\n",
       "144   90.506742 2015-11-27 17:57:00+00:00 2015-11-27 18:48:00+00:00"
      ]
     },
     "execution_count": 130,
     "metadata": {},
     "output_type": "execute_result"
    }
   ],
   "source": [
    "example"
   ]
  },
  {
   "cell_type": "code",
   "execution_count": null,
   "metadata": {
    "collapsed": true
   },
   "outputs": [],
   "source": []
  }
 ],
 "metadata": {
  "kernelspec": {
   "display_name": "Python 2",
   "language": "python",
   "name": "python2"
  },
  "language_info": {
   "codemirror_mode": {
    "name": "ipython",
    "version": 2
   },
   "file_extension": ".py",
   "mimetype": "text/x-python",
   "name": "python",
   "nbconvert_exporter": "python",
   "pygments_lexer": "ipython2",
   "version": "2.7.6"
  },
  "widgets": {
   "state": {},
   "version": "1.1.2"
  }
 },
 "nbformat": 4,
 "nbformat_minor": 0
}
