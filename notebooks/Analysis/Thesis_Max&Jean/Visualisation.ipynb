{
 "cells": [
  {
   "cell_type": "code",
   "execution_count": 1,
   "metadata": {
    "collapsed": false,
    "scrolled": true
   },
   "outputs": [
    {
     "name": "stdout",
     "output_type": "stream",
     "text": [
      "Requirement already satisfied: ipywidgets in /usr/local/lib/python2.7/dist-packages\n",
      "Requirement already satisfied: ipykernel>=4.2.2 in /usr/local/lib/python2.7/dist-packages (from ipywidgets)\n",
      "Requirement already satisfied: ipython>=4.0.0 in /usr/local/lib/python2.7/dist-packages (from ipywidgets)\n",
      "Requirement already satisfied: widgetsnbextension>=1.2.3 in /usr/local/lib/python2.7/dist-packages (from ipywidgets)\n",
      "Requirement already satisfied: traitlets>=4.2.1 in /usr/local/lib/python2.7/dist-packages (from ipywidgets)\n",
      "Requirement already satisfied: jupyter-client in /usr/local/lib/python2.7/dist-packages (from ipykernel>=4.2.2->ipywidgets)\n",
      "Requirement already satisfied: tornado>=4.0 in /usr/local/lib/python2.7/dist-packages (from ipykernel>=4.2.2->ipywidgets)\n",
      "Requirement already satisfied: setuptools>=18.5 in /usr/local/lib/python2.7/dist-packages (from ipython>=4.0.0->ipywidgets)\n",
      "Requirement already satisfied: decorator in /usr/local/lib/python2.7/dist-packages (from ipython>=4.0.0->ipywidgets)\n",
      "Requirement already satisfied: pickleshare in /usr/local/lib/python2.7/dist-packages (from ipython>=4.0.0->ipywidgets)\n",
      "Requirement already satisfied: pexpect; sys_platform != \"win32\" in /usr/local/lib/python2.7/dist-packages (from ipython>=4.0.0->ipywidgets)\n",
      "Requirement already satisfied: simplegeneric>0.8 in /usr/local/lib/python2.7/dist-packages (from ipython>=4.0.0->ipywidgets)\n",
      "Requirement already satisfied: backports.shutil-get-terminal-size in /usr/local/lib/python2.7/dist-packages (from ipython>=4.0.0->ipywidgets)\n",
      "Requirement already satisfied: notebook>=4.2.0 in /usr/local/lib/python2.7/dist-packages (from widgetsnbextension>=1.2.3->ipywidgets)\n",
      "Requirement already satisfied: ipython-genutils in /usr/local/lib/python2.7/dist-packages (from traitlets>=4.2.1->ipywidgets)\n",
      "Requirement already satisfied: pyzmq>=13 in /usr/local/lib/python2.7/dist-packages (from jupyter-client->ipykernel>=4.2.2->ipywidgets)\n",
      "Requirement already satisfied: jupyter-core in /usr/local/lib/python2.7/dist-packages (from jupyter-client->ipykernel>=4.2.2->ipywidgets)\n",
      "Requirement already satisfied: backports.ssl_match_hostname in /usr/local/lib/python2.7/dist-packages (from tornado>=4.0->ipykernel>=4.2.2->ipywidgets)\n",
      "Requirement already satisfied: singledispatch in /usr/local/lib/python2.7/dist-packages (from tornado>=4.0->ipykernel>=4.2.2->ipywidgets)\n",
      "Requirement already satisfied: certifi in /usr/local/lib/python2.7/dist-packages (from tornado>=4.0->ipykernel>=4.2.2->ipywidgets)\n",
      "Requirement already satisfied: backports_abc>=0.4 in /usr/local/lib/python2.7/dist-packages (from tornado>=4.0->ipykernel>=4.2.2->ipywidgets)\n",
      "Requirement already satisfied: pathlib2; python_version in \"2.6 2.7 3.2 3.3\" in /usr/local/lib/python2.7/dist-packages (from pickleshare->ipython>=4.0.0->ipywidgets)\n",
      "Requirement already satisfied: ptyprocess>=0.5 in /usr/local/lib/python2.7/dist-packages (from pexpect; sys_platform != \"win32\"->ipython>=4.0.0->ipywidgets)\n",
      "Requirement already satisfied: nbconvert in /usr/local/lib/python2.7/dist-packages (from notebook>=4.2.0->widgetsnbextension>=1.2.3->ipywidgets)\n",
      "Requirement already satisfied: nbformat in /usr/local/lib/python2.7/dist-packages (from notebook>=4.2.0->widgetsnbextension>=1.2.3->ipywidgets)\n",
      "Requirement already satisfied: terminado>=0.3.3; sys_platform != \"win32\" in /usr/local/lib/python2.7/dist-packages (from notebook>=4.2.0->widgetsnbextension>=1.2.3->ipywidgets)\n",
      "Requirement already satisfied: jinja2 in /usr/local/lib/python2.7/dist-packages (from notebook>=4.2.0->widgetsnbextension>=1.2.3->ipywidgets)\n",
      "Requirement already satisfied: six in /usr/local/lib/python2.7/dist-packages (from singledispatch->tornado>=4.0->ipykernel>=4.2.2->ipywidgets)\n",
      "Requirement already satisfied: entrypoints in /usr/local/lib/python2.7/dist-packages (from nbconvert->notebook>=4.2.0->widgetsnbextension>=1.2.3->ipywidgets)\n",
      "Requirement already satisfied: pygments in /usr/local/lib/python2.7/dist-packages (from nbconvert->notebook>=4.2.0->widgetsnbextension>=1.2.3->ipywidgets)\n",
      "Requirement already satisfied: mistune!=0.6 in /usr/local/lib/python2.7/dist-packages (from nbconvert->notebook>=4.2.0->widgetsnbextension>=1.2.3->ipywidgets)\n",
      "Requirement already satisfied: jsonschema!=2.5.0,>=2.0 in /usr/local/lib/python2.7/dist-packages (from nbformat->notebook>=4.2.0->widgetsnbextension>=1.2.3->ipywidgets)\n",
      "Requirement already satisfied: MarkupSafe in /usr/local/lib/python2.7/dist-packages (from jinja2->notebook>=4.2.0->widgetsnbextension>=1.2.3->ipywidgets)\n",
      "Requirement already satisfied: configparser>=3.5; python_version == \"2.7\" in /usr/local/lib/python2.7/dist-packages (from entrypoints->nbconvert->notebook>=4.2.0->widgetsnbextension>=1.2.3->ipywidgets)\n",
      "Requirement already satisfied: functools32; python_version == \"2.7\" in /usr/local/lib/python2.7/dist-packages (from jsonschema!=2.5.0,>=2.0->nbformat->notebook>=4.2.0->widgetsnbextension>=1.2.3->ipywidgets)\n"
     ]
    },
    {
     "name": "stderr",
     "output_type": "stream",
     "text": [
      "Enabling notebook extension jupyter-js-widgets/extension...\n",
      "      - Validating: \u001b[32mOK\u001b[0m\n"
     ]
    }
   ],
   "source": [
    "%%bash\n",
    "pip install ipywidgets\n",
    "jupyter nbextension enable --py --sys-prefix widgetsnbextension"
   ]
  },
  {
   "cell_type": "code",
   "execution_count": 4,
   "metadata": {
    "collapsed": false
   },
   "outputs": [],
   "source": [
    "from ipywidgets import widgets\n",
    "from IPython.display import display"
   ]
  },
  {
   "cell_type": "code",
   "execution_count": 11,
   "metadata": {
    "collapsed": false
   },
   "outputs": [
    {
     "name": "stdout",
     "output_type": "stream",
     "text": [
      "test\n"
     ]
    }
   ],
   "source": [
    "text = widgets.Text()\n",
    "display(text)\n",
    "\n",
    "def handle_submit(sender):\n",
    "    print(text.value)\n",
    "\n",
    "text.on_submit(handle_submit)"
   ]
  },
  {
   "cell_type": "code",
   "execution_count": 16,
   "metadata": {
    "collapsed": false
   },
   "outputs": [
    {
     "name": "stdout",
     "output_type": "stream",
     "text": [
      "Button Clicked.\n"
     ]
    }
   ],
   "source": [
    "button = widgets.Button(description=\"Click Me!\")\n",
    "display(button)\n",
    "\n",
    "def on_button_clicked(b):\n",
    "    print(\"Button Clicked.\")\n",
    "    \n",
    "button.on_click(on_button_clicked)"
   ]
  },
  {
   "cell_type": "code",
   "execution_count": null,
   "metadata": {
    "collapsed": true
   },
   "outputs": [],
   "source": []
  }
 ],
 "metadata": {
  "kernelspec": {
   "display_name": "Python 2",
   "language": "python",
   "name": "python2"
  },
  "language_info": {
   "codemirror_mode": {
    "name": "ipython",
    "version": 2
   },
   "file_extension": ".py",
   "mimetype": "text/x-python",
   "name": "python",
   "nbconvert_exporter": "python",
   "pygments_lexer": "ipython2",
   "version": "2.7.6"
  },
  "widgets": {
   "state": {
    "183897bd065f4b6b9861a297d8fa9e5f": {
     "views": []
    },
    "303ef0ada3ce463f92acefcc72818caf": {
     "views": []
    },
    "3c69003583b84de99d4175143e561509": {
     "views": []
    },
    "560978bbe1d344e8a3289ceb8b1dab3a": {
     "views": []
    },
    "5f753318e7084e6f88b66bfef4b8955a": {
     "views": []
    },
    "6f1b3cb2a4714237abc930fd479332b8": {
     "views": []
    },
    "730ebe4093bf4579b76edf59eedc671c": {
     "views": []
    },
    "81fe2053970d4081921e8e8667610711": {
     "views": []
    },
    "9846e59f7d634d1e8a61c51ed3fb329b": {
     "views": [
      {
       "cell_index": 2
      }
     ]
    },
    "c432ec3d28c8419092b9eb89ca8409ac": {
     "views": []
    },
    "ce0f9d795b67488191873b102e89aa7e": {
     "views": []
    },
    "d7ce19b3c34a47399cc797e0c60f5646": {
     "views": [
      {
       "cell_index": 3
      }
     ]
    },
    "e7b398ee974b4ce28334391f75d6e02a": {
     "views": []
    },
    "ef2691bac79b49c4a65e0dab9f0f075a": {
     "views": []
    }
   },
   "version": "1.1.2"
  }
 },
 "nbformat": 4,
 "nbformat_minor": 0
}
