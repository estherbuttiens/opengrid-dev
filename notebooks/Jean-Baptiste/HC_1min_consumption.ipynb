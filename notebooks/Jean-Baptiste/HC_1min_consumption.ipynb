{
 "cells": [
  {
   "cell_type": "markdown",
   "metadata": {},
   "source": [
    "<h1>Hierarchical Clustering of minute data</h1>\n",
    "<p>In this notebook the different consumption datasets are clustered with the hope of distinguishing the different household appliences.</p>"
   ]
  },
  {
   "cell_type": "code",
   "execution_count": 0,
   "metadata": {
    "collapsed": false
   },
   "outputs": [],
   "source": [
    "import numpy as np\n",
    "\n",
    "import os\n",
    "import inspect\n",
    "import sys\n",
    "import pandas as pd\n",
    "import charts\n",
    "import time\n",
    "\n",
    "from opengrid.library import houseprint\n",
    "\n",
    "from sklearn.cluster import MeanShift\n",
    "\n",
    "import matplotlib.pyplot as plt\n",
    "%matplotlib inline\n",
    "plt.rcParams['figure.figsize'] = 16,8"
   ]
  },
  {
   "cell_type": "code",
   "execution_count": 0,
   "metadata": {
    "collapsed": false
   },
   "outputs": [],
   "source": [
    "hp = houseprint.Houseprint()"
   ]
  },
  {
   "cell_type": "code",
   "execution_count": 0,
   "metadata": {
    "collapsed": false
   },
   "outputs": [],
   "source": [
    "device = hp.find_device('FL03001441')\n",
    "device.get_sensors()"
   ]
  },
  {
   "cell_type": "code",
   "execution_count": 0,
   "metadata": {
    "collapsed": false
   },
   "outputs": [],
   "source": [
    "#Get Electricity data\n",
    "head = pd.Timestamp('20151105')\n",
    "tail = pd.Timestamp('20151115')\n",
    "electr = hp.find_sensor('81fb589c911e808daa96a2064bebed41')\n",
    "df_el = electr.get_data(head,tail,diff=True, unit='W')\n",
    "df_el = df_el.dropna()"
   ]
  },
  {
   "cell_type": "code",
   "execution_count": 0,
   "metadata": {
    "collapsed": false
   },
   "outputs": [],
   "source": [
    "#Get Gas data\n",
    "gas = hp.find_sensor('212ce724e124fbde0fb649396375d099')\n",
    "df_ga = gas.get_data(head,tail,diff=True)\n",
    "df_ga = df_ga.dropna()"
   ]
  },
  {
   "cell_type": "code",
   "execution_count": 0,
   "metadata": {
    "collapsed": false
   },
   "outputs": [],
   "source": [
    "#Get Water data\n",
    "water = hp.find_sensor('c57f45b21e2ec21ab427f172478e1ca4')\n",
    "df_wa = water.get_data(head,tail,diff=True)\n",
    "df_wa = df_wa.dropna()"
   ]
  },
  {
   "cell_type": "markdown",
   "metadata": {},
   "source": [
    "<h3>Cluster water and gas data</h3>\n",
    "<p>In order to correctly cluster gas and water consumption the magnitudes must be of the same order.</p>"
   ]
  },
  {
   "cell_type": "code",
   "execution_count": 0,
   "metadata": {
    "collapsed": false
   },
   "outputs": [],
   "source": [
    "#Concatinate the two datasets and drop lines with zero values\n",
    "result = pd.concat([df_wa[df_wa>0.05]/df_wa.max(), df_ga/df_ga.max()], axis=1).dropna()\n",
    "result.columns = ['water', 'gas']"
   ]
  },
  {
   "cell_type": "code",
   "execution_count": 0,
   "metadata": {
    "collapsed": false
   },
   "outputs": [],
   "source": [
    "#convert pandas to np array\n",
    "resultArray = result.as_matrix()"
   ]
  },
  {
   "cell_type": "code",
   "execution_count": 0,
   "metadata": {
    "collapsed": false
   },
   "outputs": [],
   "source": [
    "#Run clustering Algorithm\n",
    "ms = MeanShift()\n",
    "ms.fit(resultArray)\n",
    "labels = ms.labels_\n",
    "cluster_centers = ms.cluster_centers_\n",
    "n_cluster = len(np.unique(labels))\n",
    "colors = 10*['g.', 'r.', 'c.', 'b.', 'k.', 'y.', 'm.']"
   ]
  },
  {
   "cell_type": "code",
   "execution_count": 0,
   "metadata": {
    "collapsed": false,
    "scrolled": false
   },
   "outputs": [],
   "source": [
    "#Plot clusters\n",
    "for i in range(len(resultArray)):\n",
    "    plt.plot(resultArray[i][0], resultArray[i][1], colors[labels[i]], markersize = 10)\n",
    "\n",
    "plt.scatter(cluster_centers[:,0],cluster_centers[:,1], marker = \"x\", s = 150, linewidths = 5, zorder = 10)\n",
    "plt.ylabel('Gas')\n",
    "plt.xlabel('Water')\n",
    "plt.show()"
   ]
  },
  {
   "cell_type": "markdown",
   "metadata": {
    "collapsed": true
   },
   "source": [
    "<h3>Cluster water and electricity data</h3>\n",
    "<p>In order to correctly cluster electricity and water consumption the magnitudes must be of the same order</p>"
   ]
  },
  {
   "cell_type": "code",
   "execution_count": 0,
   "metadata": {
    "collapsed": false
   },
   "outputs": [],
   "source": [
    "#Concatinate the two datasets and drop lines with zero values\n",
    "result = pd.concat([df_wa[df_wa>0.05]/df_wa.max(), df_el/df_el.max()], axis=1).dropna()\n",
    "result.columns = ['water', 'electricity']"
   ]
  },
  {
   "cell_type": "code",
   "execution_count": 0,
   "metadata": {
    "collapsed": true
   },
   "outputs": [],
   "source": [
    "#convert pandas to np array\n",
    "resultArray = result.as_matrix()"
   ]
  },
  {
   "cell_type": "code",
   "execution_count": 0,
   "metadata": {
    "collapsed": true
   },
   "outputs": [],
   "source": [
    "#Run clustering Algorithm\n",
    "ms = MeanShift()\n",
    "ms.fit(resultArray)\n",
    "labels = ms.labels_\n",
    "cluster_centers = ms.cluster_centers_\n",
    "n_cluster = len(np.unique(labels))\n",
    "colors = 10*['g.', 'r.', 'c.', 'b.', 'k.', 'y.', 'm.']"
   ]
  },
  {
   "cell_type": "code",
   "execution_count": 0,
   "metadata": {
    "collapsed": false
   },
   "outputs": [],
   "source": [
    "#Plot clusters\n",
    "for i in range(len(resultArray)):\n",
    "    plt.plot(resultArray[i][0], resultArray[i][1], colors[labels[i]], markersize = 10)\n",
    "\n",
    "plt.scatter(cluster_centers[:,0],cluster_centers[:,1], marker = \"x\", s = 150, linewidths = 5, zorder = 10)\n",
    "plt.ylabel('Electricity')\n",
    "plt.xlabel('Water')\n",
    "plt.show()"
   ]
  },
  {
   "cell_type": "markdown",
   "metadata": {},
   "source": [
    "<h3>Cluster gas and electricity data</h3>\n",
    "<p>In order to correctly cluster electricity and gas consumption the magnitudes must be of the same order</p>"
   ]
  },
  {
   "cell_type": "code",
   "execution_count": 0,
   "metadata": {
    "collapsed": true
   },
   "outputs": [],
   "source": [
    "#Concatinate the two datasets and drop lines with zero values\n",
    "result = pd.concat([df_ga/df_ga.max(), df_el/df_el.max()], axis=1).dropna()\n",
    "result.columns = ['gas', 'electricity']"
   ]
  },
  {
   "cell_type": "code",
   "execution_count": 0,
   "metadata": {
    "collapsed": true
   },
   "outputs": [],
   "source": [
    "#convert pandas to np array\n",
    "resultArray = result.as_matrix()"
   ]
  },
  {
   "cell_type": "code",
   "execution_count": 0,
   "metadata": {
    "collapsed": true
   },
   "outputs": [],
   "source": [
    "#Run clustering Algorithm\n",
    "ms = MeanShift()\n",
    "ms.fit(resultArray)\n",
    "labels = ms.labels_\n",
    "cluster_centers = ms.cluster_centers_\n",
    "n_cluster = len(np.unique(labels))\n",
    "colors = 10*['g.', 'r.', 'c.', 'b.', 'k.', 'y.', 'm.']"
   ]
  },
  {
   "cell_type": "code",
   "execution_count": 0,
   "metadata": {
    "collapsed": false
   },
   "outputs": [],
   "source": [
    "#Plot clusters\n",
    "for i in range(len(resultArray)):\n",
    "    plt.plot(resultArray[i][0], resultArray[i][1], colors[labels[i]], markersize = 10)\n",
    "\n",
    "plt.scatter(cluster_centers[:,0],cluster_centers[:,1], marker = \"x\", s = 150, linewidths = 5, zorder = 10)\n",
    "plt.ylabel('Electricity')\n",
    "plt.xlabel('Gas')\n",
    "plt.show()"
   ]
  },
  {
   "cell_type": "markdown",
   "metadata": {},
   "source": [
    "<h3>Cluster gas, water and electricity data</h3>\n",
    "<p>In order to correctly cluster electricity, water and gas consumption the magnitudes must be of the same order</p>"
   ]
  },
  {
   "cell_type": "code",
   "execution_count": 0,
   "metadata": {
    "collapsed": true
   },
   "outputs": [],
   "source": [
    "#Concatinate the two datasets and drop lines with zero values\n",
    "result = pd.concat([df_ga/df_ga.max(), df_el/df_el.max(), df_wa/df_wa.max()], axis=1).dropna()\n",
    "result.columns = ['gas', 'electricity', 'water']"
   ]
  },
  {
   "cell_type": "code",
   "execution_count": 0,
   "metadata": {
    "collapsed": true
   },
   "outputs": [],
   "source": [
    "#convert pandas to np array\n",
    "resultArray = result.as_matrix()"
   ]
  },
  {
   "cell_type": "code",
   "execution_count": 0,
   "metadata": {
    "collapsed": true
   },
   "outputs": [],
   "source": [
    "#Run clustering Algorithm\n",
    "ms = MeanShift()\n",
    "ms.fit(resultArray)\n",
    "labels = ms.labels_\n",
    "cluster_centers = ms.cluster_centers_\n",
    "n_cluster = len(np.unique(labels))\n",
    "colors = 10*['g', 'r', 'c', 'b', 'k', 'y', 'm']"
   ]
  },
  {
   "cell_type": "code",
   "execution_count": 0,
   "metadata": {
    "collapsed": false
   },
   "outputs": [],
   "source": [
    "from mpl_toolkits.mplot3d import Axes3D\n",
    "\n",
    "fig = plt.figure()\n",
    "ax = fig.add_subplot(111, projection='3d')\n",
    "n = 100\n",
    "for i in range(len(resultArray)):\n",
    "    xs = resultArray[i][1]\n",
    "    ys = resultArray[i][0]\n",
    "    zs = resultArray[i][2]\n",
    "    ax.scatter(xs, ys, zs, c=colors[labels[i]], marker='o')\n",
    "\n",
    "ax.set_xlabel('X Label')\n",
    "ax.set_ylabel('Y Label')\n",
    "ax.set_zlabel('Z Label')\n",
    "\n",
    "plt.show()"
   ]
  },
  {
   "cell_type": "code",
   "execution_count": 0,
   "metadata": {
    "collapsed": true
   },
   "outputs": [],
   "source": []
  }
 ],
 "metadata": {
  "kernelspec": {
   "display_name": "Python 2",
   "language": "python",
   "name": "python2"
  },
  "language_info": {
   "codemirror_mode": {
    "name": "ipython",
    "version": 2
   },
   "file_extension": ".py",
   "mimetype": "text/x-python",
   "name": "python",
   "nbconvert_exporter": "python",
   "pygments_lexer": "ipython2",
   "version": "2.7.6"
  }
 },
 "nbformat": 4,
 "nbformat_minor": 0
}