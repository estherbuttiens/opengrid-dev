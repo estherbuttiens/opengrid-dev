{
 "cells": [
  {
   "cell_type": "markdown",
   "metadata": {},
   "source": [
    "<h1>Hierarchical Clusternig of 30 min data blocks</h1>\n",
    "<p>In order to attempt to make better clusters we combined 30 minutes worth of data. For example a dishwasher wil use both water and electricity but not necessarily at exactly the same moment.</p>"
   ]
  },
  {
   "cell_type": "code",
   "execution_count": 0,
   "metadata": {
    "collapsed": false
   },
   "outputs": [],
   "source": [
    "%%bash\n",
    "pip install -U scikit-learn"
   ]
  },
  {
   "cell_type": "code",
   "execution_count": 0,
   "metadata": {
    "collapsed": false
   },
   "outputs": [],
   "source": [
    "import numpy as np\n",
    "\n",
    "import os\n",
    "import inspect\n",
    "import sys\n",
    "import pandas as pd\n",
    "import charts\n",
    "import time\n",
    "\n",
    "from opengrid.library import houseprint\n",
    "\n",
    "from sklearn.cluster import MeanShift\n",
    "\n",
    "import matplotlib.pyplot as plt\n",
    "%matplotlib inline\n",
    "plt.rcParams['figure.figsize'] = 16,8"
   ]
  },
  {
   "cell_type": "code",
   "execution_count": 0,
   "metadata": {
    "collapsed": false
   },
   "outputs": [],
   "source": [
    "hp = houseprint.Houseprint()"
   ]
  },
  {
   "cell_type": "code",
   "execution_count": 0,
   "metadata": {
    "collapsed": false
   },
   "outputs": [],
   "source": [
    "device = hp.find_device('FL03001441')\n",
    "device.get_sensors()"
   ]
  },
  {
   "cell_type": "code",
   "execution_count": 0,
   "metadata": {
    "collapsed": false
   },
   "outputs": [],
   "source": [
    "#Get Electricity data\n",
    "head = pd.Timestamp('20151114')\n",
    "tail = pd.Timestamp('20151118')\n",
    "electr = hp.find_sensor('81fb589c911e808daa96a2064bebed41')\n",
    "df_el = electr.get_data(head,tail,diff=True, unit='W')\n",
    "df_el = df_el.dropna()"
   ]
  },
  {
   "cell_type": "code",
   "execution_count": 0,
   "metadata": {
    "collapsed": false
   },
   "outputs": [],
   "source": [
    "#Get Gas data\n",
    "gas = hp.find_sensor('212ce724e124fbde0fb649396375d099')\n",
    "df_ga = gas.get_data(head,tail,diff=True)\n",
    "df_ga = df_ga.dropna()"
   ]
  },
  {
   "cell_type": "code",
   "execution_count": 0,
   "metadata": {
    "collapsed": false
   },
   "outputs": [],
   "source": [
    "#Get Water data\n",
    "water = hp.find_sensor('c57f45b21e2ec21ab427f172478e1ca4')\n",
    "df_wa = water.get_data(head,tail,diff=True)\n",
    "df_wa = df_wa.dropna()"
   ]
  },
  {
   "cell_type": "markdown",
   "metadata": {},
   "source": [
    "<h3>Gas vs Water</h3>"
   ]
  },
  {
   "cell_type": "code",
   "execution_count": 0,
   "metadata": {
    "collapsed": false
   },
   "outputs": [],
   "source": [
    "#Concatinate the two datasets and drop lines with zero values\n",
    "result = pd.concat([df_wa, df_ga], axis=1).dropna()\n",
    "result.columns = ['water', 'gas']"
   ]
  },
  {
   "cell_type": "markdown",
   "metadata": {},
   "source": [
    "<p>The duration of a block and the overlap of two blocks can be altered to have better results</p>"
   ]
  },
  {
   "cell_type": "code",
   "execution_count": 0,
   "metadata": {
    "collapsed": false
   },
   "outputs": [],
   "source": [
    "#Create new dataframe for cumulative consumption\n",
    "df_gawa = pd.DataFrame({'gas' : [], 'water':[]})\n",
    "\n",
    "df_loop = result\n",
    "while (df_loop.size > 0):\n",
    "    #Get timestamp of first row and take all rows between this time and 30 minutes later\n",
    "    ts_start = df_loop.index[0]\n",
    "    ts_end = (ts_start + 29)\n",
    "    df_temporary = df_loop.ix[ts_start:ts_end]\n",
    "    \n",
    "    #Remove these first 30 minutes from the list\n",
    "    df_loop = df_loop.ix[30:]\n",
    "    \n",
    "    #Sum these values and store them in the newely created dataframe\n",
    "    df_gawa = df_gawa.append(pd.DataFrame([[df_temporary.sum()['gas'], df_temporary.sum()['water']]],index = [ts_start] , columns=df_gawa.columns))\n",
    "\n",
    "    "
   ]
  },
  {
   "cell_type": "code",
   "execution_count": 0,
   "metadata": {
    "collapsed": false
   },
   "outputs": [],
   "source": [
    "df_gawa = df_gawa[~((df_gawa-df_gawa.mean()).abs()>3*df_gawa.std())]\n",
    "df_gawa = df_gawa.dropna()\n",
    "\n",
    "df_gawa['gas'] = df_gawa['gas']/df_gawa['gas'].max()\n",
    "df_gawa['water'] = df_gawa['water']/df_gawa['water'].max()"
   ]
  },
  {
   "cell_type": "code",
   "execution_count": 0,
   "metadata": {
    "collapsed": false
   },
   "outputs": [],
   "source": [
    "#convert pandas to np array\n",
    "resultArray = df_gawa.as_matrix()"
   ]
  },
  {
   "cell_type": "code",
   "execution_count": 0,
   "metadata": {
    "collapsed": false
   },
   "outputs": [],
   "source": [
    "#Run clustering Algorithm\n",
    "ms = MeanShift()\n",
    "ms.fit(resultArray)\n",
    "labels = ms.labels_\n",
    "cluster_centers = ms.cluster_centers_\n",
    "n_cluster = len(np.unique(labels))\n",
    "colors = 10*['g.', 'r.', 'c.', 'b.', 'k.', 'y.', 'm.']"
   ]
  },
  {
   "cell_type": "code",
   "execution_count": 0,
   "metadata": {
    "collapsed": false
   },
   "outputs": [],
   "source": [
    "#Plot clusters\n",
    "for i in range(len(resultArray)):\n",
    "    plt.plot(resultArray[i][0], resultArray[i][1], colors[labels[i]], markersize = 10)\n",
    "\n",
    "plt.scatter(cluster_centers[:,0],cluster_centers[:,1], marker = \"x\", s = 150, linewidths = 5, zorder = 10)\n",
    "plt.xlabel('Gas')\n",
    "plt.ylabel('Water')\n",
    "plt.show()"
   ]
  },
  {
   "cell_type": "markdown",
   "metadata": {},
   "source": [
    "<h3>Electricity vs Water</h3>"
   ]
  },
  {
   "cell_type": "code",
   "execution_count": 0,
   "metadata": {
    "collapsed": false
   },
   "outputs": [],
   "source": [
    "#Concatinate the two datasets and drop lines with zero values\n",
    "result = pd.concat([df_wa, df_el], axis=1).dropna()\n",
    "result.columns = ['water', 'electricity']"
   ]
  },
  {
   "cell_type": "markdown",
   "metadata": {},
   "source": [
    "<p>The duration of a block and the overlap of two blocks can be altered to have better results</p>"
   ]
  },
  {
   "cell_type": "code",
   "execution_count": 0,
   "metadata": {
    "collapsed": false
   },
   "outputs": [],
   "source": [
    "#Create new dataframe for cumulative consumption\n",
    "df_elwa = pd.DataFrame({'electricity' : [], 'water':[]})\n",
    "\n",
    "df_loop = result\n",
    "while (df_loop.size > 0):\n",
    "    #Get timestamp of first row and take all rows between this time and 30 minutes later\n",
    "    ts_start = df_loop.index[0]\n",
    "    ts_end = (ts_start + 29)\n",
    "    df_temporary = df_loop.ix[ts_start:ts_end]\n",
    "    \n",
    "    #Remove these first 30 minutes from the list\n",
    "    df_loop = df_loop.ix[30:]\n",
    "    \n",
    "    #Sum these values and store them in the newely created dataframe\n",
    "    df_elwa = df_elwa.append(pd.DataFrame([[df_temporary.sum()['electricity'], df_temporary.sum()['water']]],index = [ts_start] , columns=df_elwa.columns))\n",
    "\n",
    "    "
   ]
  },
  {
   "cell_type": "code",
   "execution_count": 0,
   "metadata": {
    "collapsed": false
   },
   "outputs": [],
   "source": [
    "#df_elwa = df_elwa[~((df_elwa-df_elwa.mean()).abs()>3*df_elwa.std())]\n",
    "#df_elwa = df_elwa.dropna()\n",
    "\n",
    "df_elwa['electricity'] = df_elwa['electricity']/df_elwa['electricity'].max()\n",
    "df_elwa['water'] = df_elwa['water']/df_elwa['water'].max()"
   ]
  },
  {
   "cell_type": "code",
   "execution_count": 0,
   "metadata": {
    "collapsed": false
   },
   "outputs": [],
   "source": [
    "#convert pandas to np array\n",
    "resultArray = df_elwa.as_matrix()"
   ]
  },
  {
   "cell_type": "code",
   "execution_count": 0,
   "metadata": {
    "collapsed": false
   },
   "outputs": [],
   "source": [
    "#Run clustering Algorithm\n",
    "ms = MeanShift()\n",
    "ms.fit(resultArray)\n",
    "labels = ms.labels_\n",
    "cluster_centers = ms.cluster_centers_\n",
    "n_cluster = len(np.unique(labels))\n",
    "colors = 10*['g.', 'r.', 'c.', 'b.', 'k.', 'y.', 'm.']"
   ]
  },
  {
   "cell_type": "code",
   "execution_count": 0,
   "metadata": {
    "collapsed": false
   },
   "outputs": [],
   "source": [
    "#Plot clusters\n",
    "for i in range(len(resultArray)):\n",
    "    plt.plot(resultArray[i][0], resultArray[i][1], colors[labels[i]], markersize = 10)\n",
    "\n",
    "plt.scatter(cluster_centers[:,0],cluster_centers[:,1], marker = \"x\", s = 150, linewidths = 5, zorder = 10)\n",
    "plt.xlabel('electricity')\n",
    "plt.ylabel('Water')\n",
    "plt.show()"
   ]
  },
  {
   "cell_type": "code",
   "execution_count": 0,
   "metadata": {
    "collapsed": true
   },
   "outputs": [],
   "source": []
  },
  {
   "cell_type": "markdown",
   "metadata": {},
   "source": [
    "<h3>Electricity vs Gas</h3>"
   ]
  },
  {
   "cell_type": "code",
   "execution_count": 0,
   "metadata": {
    "collapsed": false
   },
   "outputs": [],
   "source": [
    "#Concatinate the two datasets and drop lines with zero values\n",
    "result = pd.concat([df_ga, df_el], axis=1).dropna()\n",
    "result.columns = ['gas', 'electricity']"
   ]
  },
  {
   "cell_type": "markdown",
   "metadata": {},
   "source": [
    "<p>The duration of a block and the overlap of two blocks can be altered to have better results</p>"
   ]
  },
  {
   "cell_type": "code",
   "execution_count": 0,
   "metadata": {
    "collapsed": false
   },
   "outputs": [],
   "source": [
    "#Create new dataframe for cumulative consumption\n",
    "df_elga = pd.DataFrame({'electricity' : [], 'gas':[]})\n",
    "\n",
    "df_loop = result\n",
    "while (df_loop.size > 0):\n",
    "    #Get timestamp of first row and take all rows between this time and 30 minutes later\n",
    "    ts_start = df_loop.index[0]\n",
    "    ts_end = (ts_start + 29)\n",
    "    df_temporary = df_loop.ix[ts_start:ts_end]\n",
    "    \n",
    "    #Remove these first 30 minutes from the list\n",
    "    df_loop = df_loop.ix[30:]\n",
    "    \n",
    "    #Sum these values and store them in the newely created dataframe\n",
    "    df_elga = df_elga.append(pd.DataFrame([[df_temporary.sum()['electricity'], df_temporary.sum()['gas']]],index = [ts_start] , columns=df_elga.columns))\n",
    "\n",
    "    "
   ]
  },
  {
   "cell_type": "code",
   "execution_count": 0,
   "metadata": {
    "collapsed": false
   },
   "outputs": [],
   "source": [
    "#df_elwa = df_elwa[~((df_elwa-df_elwa.mean()).abs()>3*df_elwa.std())]\n",
    "#df_elwa = df_elwa.dropna()\n",
    "\n",
    "df_elga['electricity'] = df_elga['electricity']/df_elga['electricity'].max()\n",
    "df_elga['gas'] = df_elga['gas']/df_elga['gas'].max()"
   ]
  },
  {
   "cell_type": "code",
   "execution_count": 0,
   "metadata": {
    "collapsed": false
   },
   "outputs": [],
   "source": [
    "#convert pandas to np array\n",
    "resultArray = df_elga.as_matrix()"
   ]
  },
  {
   "cell_type": "code",
   "execution_count": 0,
   "metadata": {
    "collapsed": false
   },
   "outputs": [],
   "source": [
    "#Run clustering Algorithm\n",
    "ms = MeanShift()\n",
    "ms.fit(resultArray)\n",
    "labels = ms.labels_\n",
    "cluster_centers = ms.cluster_centers_\n",
    "n_cluster = len(np.unique(labels))\n",
    "colors = 10*['g.', 'r.', 'c.', 'b.', 'k.', 'y.', 'm.']"
   ]
  },
  {
   "cell_type": "code",
   "execution_count": 0,
   "metadata": {
    "collapsed": false
   },
   "outputs": [],
   "source": [
    "#Plot clusters\n",
    "for i in range(len(resultArray)):\n",
    "    plt.plot(resultArray[i][0], resultArray[i][1], colors[labels[i]], markersize = 10)\n",
    "\n",
    "plt.scatter(cluster_centers[:,0],cluster_centers[:,1], marker = \"x\", s = 150, linewidths = 5, zorder = 10)\n",
    "plt.xlabel('electricity')\n",
    "plt.ylabel('gas')\n",
    "plt.show()"
   ]
  },
  {
   "cell_type": "code",
   "execution_count": 0,
   "metadata": {
    "collapsed": true
   },
   "outputs": [],
   "source": []
  }
 ],
 "metadata": {
  "kernelspec": {
   "display_name": "Python 2",
   "language": "python",
   "name": "python2"
  },
  "language_info": {
   "codemirror_mode": {
    "name": "ipython",
    "version": 2
   },
   "file_extension": ".py",
   "mimetype": "text/x-python",
   "name": "python",
   "nbconvert_exporter": "python",
   "pygments_lexer": "ipython2",
   "version": "2.7.6"
  }
 },
 "nbformat": 4,
 "nbformat_minor": 0
}